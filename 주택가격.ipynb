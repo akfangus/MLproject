{
  "nbformat": 4,
  "nbformat_minor": 5,
  "metadata": {
    "kernelspec": {
      "display_name": "Python 3",
      "language": "python",
      "name": "python3"
    },
    "language_info": {
      "codemirror_mode": {
        "name": "ipython",
        "version": 3
      },
      "file_extension": ".py",
      "mimetype": "text/x-python",
      "name": "python",
      "nbconvert_exporter": "python",
      "pygments_lexer": "ipython3",
      "version": "3.9.4"
    },
    "colab": {
      "name": "주택가격.ipynb",
      "provenance": [],
      "include_colab_link": true
    }
  },
  "cells": [
    {
      "cell_type": "markdown",
      "metadata": {
        "id": "view-in-github",
        "colab_type": "text"
      },
      "source": [
        "<a href=\"https://colab.research.google.com/github/akfangus/MLproject/blob/main/%EC%A3%BC%ED%83%9D%EA%B0%80%EA%B2%A9.ipynb\" target=\"_parent\"><img src=\"https://colab.research.google.com/assets/colab-badge.svg\" alt=\"Open In Colab\"/></a>"
      ]
    },
    {
      "cell_type": "code",
      "metadata": {
        "id": "c5fbc2df",
        "outputId": "c2ac0b30-ee4b-4a36-f2eb-8bddc8c35479"
      },
      "source": [
        "!pip install kaggle"
      ],
      "id": "c5fbc2df",
      "execution_count": null,
      "outputs": [
        {
          "name": "stdout",
          "output_type": "stream",
          "text": [
            "Collecting kaggle\n",
            "  Downloading kaggle-1.5.12.tar.gz (58 kB)\n",
            "Requirement already satisfied: six>=1.10 in c:\\users\\sh.lee\\anaconda3\\envs\\test\\lib\\site-packages (from kaggle) (1.15.0)\n",
            "Requirement already satisfied: certifi in c:\\users\\sh.lee\\anaconda3\\envs\\test\\lib\\site-packages (from kaggle) (2020.12.5)\n",
            "Requirement already satisfied: python-dateutil in c:\\users\\sh.lee\\anaconda3\\envs\\test\\lib\\site-packages (from kaggle) (2.8.1)\n",
            "Requirement already satisfied: requests in c:\\users\\sh.lee\\anaconda3\\envs\\test\\lib\\site-packages (from kaggle) (2.25.1)\n",
            "Requirement already satisfied: tqdm in c:\\users\\sh.lee\\anaconda3\\envs\\test\\lib\\site-packages (from kaggle) (4.59.0)\n",
            "Collecting python-slugify\n",
            "  Downloading python_slugify-5.0.2-py2.py3-none-any.whl (6.7 kB)\n",
            "Requirement already satisfied: urllib3 in c:\\users\\sh.lee\\anaconda3\\envs\\test\\lib\\site-packages (from kaggle) (1.26.4)\n",
            "Collecting text-unidecode>=1.3\n",
            "  Downloading text_unidecode-1.3-py2.py3-none-any.whl (78 kB)\n",
            "Requirement already satisfied: chardet<5,>=3.0.2 in c:\\users\\sh.lee\\anaconda3\\envs\\test\\lib\\site-packages (from requests->kaggle) (4.0.0)\n",
            "Requirement already satisfied: idna<3,>=2.5 in c:\\users\\sh.lee\\anaconda3\\envs\\test\\lib\\site-packages (from requests->kaggle) (2.10)\n",
            "Building wheels for collected packages: kaggle\n",
            "  Building wheel for kaggle (setup.py): started\n",
            "  Building wheel for kaggle (setup.py): finished with status 'done'\n",
            "  Created wheel for kaggle: filename=kaggle-1.5.12-py3-none-any.whl size=73053 sha256=c371924b9216aa4a08adb809f81893a7adbb8f65bf75c261f29706bfa40feb7a\n",
            "  Stored in directory: c:\\users\\sh.lee\\appdata\\local\\pip\\cache\\wheels\\ac\\b2\\c3\\fa4706d469b5879105991d1c8be9a3c2ef329ba9fe2ce5085e\n",
            "Successfully built kaggle\n",
            "Installing collected packages: text-unidecode, python-slugify, kaggle\n",
            "Successfully installed kaggle-1.5.12 python-slugify-5.0.2 text-unidecode-1.3\n"
          ]
        }
      ]
    },
    {
      "cell_type": "code",
      "metadata": {
        "id": "d246b27d",
        "outputId": "fae6f1e4-8fbd-4d88-c474-1bb242291171"
      },
      "source": [
        "!kaggle competitions list"
      ],
      "id": "d246b27d",
      "execution_count": null,
      "outputs": [
        {
          "name": "stdout",
          "output_type": "stream",
          "text": [
            "ref                                                  deadline             category            reward  teamCount  userHasEntered  \n",
            "---------------------------------------------------  -------------------  ---------------  ---------  ---------  --------------  \n",
            "contradictory-my-dear-watson                         2030-07-01 23:59:00  Getting Started     Prizes         64           False  \n",
            "gan-getting-started                                  2030-07-01 23:59:00  Getting Started     Prizes        148           False  \n",
            "tpu-getting-started                                  2030-06-03 23:59:00  Getting Started  Knowledge        205           False  \n",
            "digit-recognizer                                     2030-01-01 00:00:00  Getting Started  Knowledge       1574            True  \n",
            "titanic                                              2030-01-01 00:00:00  Getting Started  Knowledge      50183            True  \n",
            "house-prices-advanced-regression-techniques          2030-01-01 00:00:00  Getting Started  Knowledge       4704            True  \n",
            "connectx                                             2030-01-01 00:00:00  Getting Started  Knowledge        301           False  \n",
            "nlp-getting-started                                  2030-01-01 00:00:00  Getting Started  Knowledge        964           False  \n",
            "competitive-data-science-predict-future-sales        2022-12-31 23:59:00  Playground           Kudos      12472            True  \n",
            "lux-ai-2021                                          2021-12-06 23:59:00  Featured           $10,000        350           False  \n",
            "chaii-hindi-and-tamil-question-answering             2021-11-15 23:59:00  Research           $10,000        338           False  \n",
            "nfl-health-and-safety-helmet-assignment              2021-11-02 23:59:00  Featured          $100,000        261           False  \n",
            "rsna-miccai-brain-tumor-radiogenomic-classification  2021-10-15 23:59:00  Featured           $30,000        996           False  \n",
            "landmark-retrieval-2021                              2021-10-01 23:59:00  Research              Swag        131           False  \n",
            "landmark-recognition-2021                            2021-10-01 23:59:00  Research              Swag        196           False  \n",
            "learnplatform-covid19-impact-on-digital-learning     2021-09-30 23:59:00  Analytics          $20,000          0           False  \n",
            "tabular-playground-series-sep-2021                   2021-09-30 23:59:00  Playground            Swag        854           False  \n",
            "g2net-gravitational-wave-detection                   2021-09-29 23:59:00  Research           $15,000        974           False  \n",
            "optiver-realized-volatility-prediction               2021-09-27 23:59:00  Featured          $100,000       3176           False  \n",
            "mlb-player-digital-engagement-forecasting            2021-09-15 23:59:00  Featured           $50,000        852           False  \n"
          ]
        }
      ]
    },
    {
      "cell_type": "code",
      "metadata": {
        "id": "89fc4e0a",
        "outputId": "ce6bfb60-1d58-4f5b-a443-caba23255a4c"
      },
      "source": [
        "!kaggle competitions download -c house-prices-advanced-regression-techniques"
      ],
      "id": "89fc4e0a",
      "execution_count": null,
      "outputs": [
        {
          "name": "stdout",
          "output_type": "stream",
          "text": [
            "Downloading house-prices-advanced-regression-techniques.zip to C:\\prac\\파이썬으로 캐글뽀개기\n",
            "\n"
          ]
        },
        {
          "name": "stderr",
          "output_type": "stream",
          "text": [
            "\n",
            "  0%|          | 0.00/199k [00:00<?, ?B/s]\n",
            "100%|##########| 199k/199k [00:00<00:00, 11.0MB/s]\n"
          ]
        }
      ]
    },
    {
      "cell_type": "code",
      "metadata": {
        "id": "5e4ac44a"
      },
      "source": [
        "import pandas as pd\n",
        "import numpy as np\n",
        "import matplotlib\n",
        "import matplotlib.pyplot as plt\n",
        "from matplotlib import style\n",
        "import seaborn as sns\n",
        "\n",
        "import plotly.express as px\n",
        "import plotly.graph_objects as go\n",
        "from scipy.stats import norm, skew\n",
        "\n",
        "\n",
        "style.use('seaborn-talk')\n",
        "\n",
        "krfont={'family':'Malgun Gothic', 'weight': 'bold', 'size' : 10}\n",
        "matplotlib.rc('font', **krfont)\n",
        "matplotlib.rcParams['axes.unicode_minus'] = False\n",
        "\n",
        "%matplotlib inline\n"
      ],
      "id": "5e4ac44a",
      "execution_count": null,
      "outputs": []
    },
    {
      "cell_type": "code",
      "metadata": {
        "id": "b4ed9f67"
      },
      "source": [
        "train = pd.read_csv('house-price/train.csv')\n",
        "test = pd.read_csv('house-price/test.csv')"
      ],
      "id": "b4ed9f67",
      "execution_count": null,
      "outputs": []
    },
    {
      "cell_type": "code",
      "metadata": {
        "id": "c9fb35a3",
        "outputId": "1565d2ce-69fe-404e-97d2-d70562f16c61"
      },
      "source": [
        "train.shape, test.shape"
      ],
      "id": "c9fb35a3",
      "execution_count": null,
      "outputs": [
        {
          "data": {
            "text/plain": [
              "((1460, 81), (1459, 80))"
            ]
          },
          "execution_count": 9,
          "metadata": {},
          "output_type": "execute_result"
        }
      ]
    },
    {
      "cell_type": "code",
      "metadata": {
        "id": "51e0c8ae"
      },
      "source": [
        "# 편향성을 드러낼 가능성이 있는 데이터를 '삭제'\n",
        "train.drop(train[(train['OverallQual']<4) & (train['SalePrice']>200000)].index, inplace=True)\n",
        "train.drop(train[(train['OverallCond']<4) & (train['SalePrice']>200000)].index, inplace=True)\n",
        "\n",
        "train.reset_index(drop=True, inplace=True)"
      ],
      "id": "51e0c8ae",
      "execution_count": null,
      "outputs": []
    },
    {
      "cell_type": "code",
      "metadata": {
        "id": "fb6ca36f",
        "outputId": "a8c33845-3b0b-4a34-d5cf-d3fcd8645fed"
      },
      "source": [
        "train.shape"
      ],
      "id": "fb6ca36f",
      "execution_count": null,
      "outputs": [
        {
          "data": {
            "text/plain": [
              "(1458, 81)"
            ]
          },
          "execution_count": 11,
          "metadata": {},
          "output_type": "execute_result"
        }
      ]
    },
    {
      "cell_type": "markdown",
      "metadata": {
        "id": "a2a44642"
      },
      "source": [
        "## 타겟변수(종속변수)의 분포 확인 및 변환"
      ],
      "id": "a2a44642"
    },
    {
      "cell_type": "code",
      "metadata": {
        "id": "8546bef7",
        "outputId": "abe6cd58-b26b-4364-ff48-3f1648ca833e"
      },
      "source": [
        "(mu, sigma) = norm.fit(train['SalePrice'])\n",
        "mu,sigma"
      ],
      "id": "8546bef7",
      "execution_count": null,
      "outputs": [
        {
          "data": {
            "text/plain": [
              "(180761.24142661178, 79270.93617295024)"
            ]
          },
          "execution_count": 13,
          "metadata": {},
          "output_type": "execute_result"
        }
      ]
    },
    {
      "cell_type": "code",
      "metadata": {
        "id": "591d0df7",
        "outputId": "191c2745-8811-4496-adbb-d894ba5d607f"
      },
      "source": [
        "fig, ax = plt.subplots(figsize=(10,6))\n",
        "sns.histplot(train['SalePrice'], color='b', stat = 'probability')\n",
        "ax.xaxis.grid(False)\n",
        "ax.set(ylabel='Frequency')\n",
        "ax.set(xlabel='SalePrice')\n",
        "ax.set(title='SalePrice distribution')\n",
        "\n",
        "plt.axvline(mu, color='r', linestyle='--')\n",
        "plt.text(mu+10000, 0.11, 'mean of SalePrice', rotation=0, color='r')\n",
        "fig.show()\n",
        "\n",
        "\n"
      ],
      "id": "591d0df7",
      "execution_count": null,
      "outputs": [
        {
          "name": "stderr",
          "output_type": "stream",
          "text": [
            "<ipython-input-16-13cfc731c610>:10: UserWarning: Matplotlib is currently using module://ipykernel.pylab.backend_inline, which is a non-GUI backend, so cannot show the figure.\n",
            "  fig.show()\n"
          ]
        },
        {
          "data": {
            "image/png": "[encoded data removed]",
            "text/plain": [
              "<Figure size 720x432 with 1 Axes>"
            ]
          },
          "metadata": {
            "needs_background": "light"
          },
          "output_type": "display_data"
        }
      ]
    },
    {
      "cell_type": "markdown",
      "metadata": {
        "id": "6dbce0fa"
      },
      "source": [
        "## 타겟변수가 정규분포를 이루지않음\n",
        "- 선형회귀는 정규분포를 만족해야함\n",
        "- log를 취해서 스케일 진행"
      ],
      "id": "6dbce0fa"
    },
    {
      "cell_type": "code",
      "metadata": {
        "id": "26d1d63e"
      },
      "source": [
        "train['SalePrice'] = np.log1p(train['SalePrice'])"
      ],
      "id": "26d1d63e",
      "execution_count": null,
      "outputs": []
    },
    {
      "cell_type": "code",
      "metadata": {
        "id": "b1cc68ca",
        "outputId": "5cff1fe3-123f-46a1-ce3d-068f0f091aed"
      },
      "source": [
        "(mu, sigma) = norm.fit(train['SalePrice'])\n",
        "mu,sigma"
      ],
      "id": "b1cc68ca",
      "execution_count": null,
      "outputs": [
        {
          "data": {
            "text/plain": [
              "(12.0233397799989, 0.3989191793099824)"
            ]
          },
          "execution_count": 18,
          "metadata": {},
          "output_type": "execute_result"
        }
      ]
    },
    {
      "cell_type": "code",
      "metadata": {
        "id": "49df86ab",
        "outputId": "9058cb95-9523-4b24-843d-a2e071d16c63"
      },
      "source": [
        "fig, ax = plt.subplots(figsize=(10,6))\n",
        "sns.histplot(train['SalePrice'], color='b', stat = 'probability')\n",
        "ax.xaxis.grid(False)\n",
        "ax.set(ylabel='Frequency')\n",
        "ax.set(xlabel='SalePrice')\n",
        "ax.set(title='SalePrice distribution')\n",
        "\n",
        "plt.axvline(mu, color='r', linestyle='--')\n",
        "plt.text(mu+0.05, 0.10, 'mean of SalePrice', rotation=0, color='r')\n",
        "fig.show()\n",
        "\n",
        "\n"
      ],
      "id": "49df86ab",
      "execution_count": null,
      "outputs": [
        {
          "name": "stderr",
          "output_type": "stream",
          "text": [
            "<ipython-input-19-8f6db4cbe5be>:10: UserWarning: Matplotlib is currently using module://ipykernel.pylab.backend_inline, which is a non-GUI backend, so cannot show the figure.\n",
            "  fig.show()\n"
          ]
        },
        {
          "data": {
            "image/png": "[encoded data removed]",
            "text/plain": [
              "<Figure size 720x432 with 1 Axes>"
            ]
          },
          "metadata": {
            "needs_background": "light"
          },
          "output_type": "display_data"
        }
      ]
    },
    {
      "cell_type": "markdown",
      "metadata": {
        "id": "ea920e3a"
      },
      "source": [
        "- 데이터에 log를 취하니까 정규분포 형태로 변화한것을 볼 수 있다."
      ],
      "id": "ea920e3a"
    },
    {
      "cell_type": "markdown",
      "metadata": {
        "id": "82e424a8"
      },
      "source": [
        "# 데이터 합치기"
      ],
      "id": "82e424a8"
    },
    {
      "cell_type": "markdown",
      "metadata": {
        "id": "fa59b727"
      },
      "source": [
        "- 입력변수로 사용할 Id는 별도객체 저장하고 삭제"
      ],
      "id": "fa59b727"
    },
    {
      "cell_type": "code",
      "metadata": {
        "id": "f3990a95",
        "outputId": "a3fe2200-43e6-4b4e-a139-13f741cc711f"
      },
      "source": [
        "train_ID = train['Id']\n",
        "test_ID = test['Id']\n",
        "train.drop(['Id'], axis=1, inplace=True)\n",
        "test.drop(['Id'], axis=1, inplace=True)\n",
        "train.shape, test.shape"
      ],
      "id": "f3990a95",
      "execution_count": null,
      "outputs": [
        {
          "data": {
            "text/plain": [
              "((1458, 80), (1459, 79))"
            ]
          },
          "execution_count": 20,
          "metadata": {},
          "output_type": "execute_result"
        }
      ]
    },
    {
      "cell_type": "markdown",
      "metadata": {
        "id": "ff3a6462"
      },
      "source": [
        "- 훈련데이터에 있는 SalePRice 변수를 별도로 추출해 저장한 후 훈련 데이터에서 삭제"
      ],
      "id": "ff3a6462"
    },
    {
      "cell_type": "code",
      "metadata": {
        "id": "648f2060",
        "outputId": "280a21d4-5eb9-4dc0-c0d8-84d0722a5804"
      },
      "source": [
        "y = train['SalePrice'].reset_index(drop=True)\n",
        "train = train.drop('SalePrice', axis=1)\n",
        "train.shape, test.shape, y.shape"
      ],
      "id": "648f2060",
      "execution_count": null,
      "outputs": [
        {
          "data": {
            "text/plain": [
              "((1458, 79), (1459, 79), (1458,))"
            ]
          },
          "execution_count": 21,
          "metadata": {},
          "output_type": "execute_result"
        }
      ]
    },
    {
      "cell_type": "markdown",
      "metadata": {
        "id": "3a32b131"
      },
      "source": [
        "- 타겟 빼니깐 train과 test가 변수가 동일하므로 합쳐서 전처리하겟음"
      ],
      "id": "3a32b131"
    },
    {
      "cell_type": "code",
      "metadata": {
        "id": "abafe732",
        "outputId": "c7a38614-5451-4afd-eb62-032633292b9c"
      },
      "source": [
        "all_df = pd.concat([train,test]).reset_index(drop=True)\n",
        "all_df.shape"
      ],
      "id": "abafe732",
      "execution_count": null,
      "outputs": [
        {
          "data": {
            "text/plain": [
              "(2917, 79)"
            ]
          },
          "execution_count": 23,
          "metadata": {},
          "output_type": "execute_result"
        }
      ]
    },
    {
      "cell_type": "markdown",
      "metadata": {
        "id": "7545eabf"
      },
      "source": [
        "# 결측치 처리\n",
        "- 결측치를 확인해 비율로 계산한 뒤 내림차순으로 정렬\n",
        "- head_num=6은 결측치가 존재하면 최소 6개 출력"
      ],
      "id": "7545eabf"
    },
    {
      "cell_type": "code",
      "metadata": {
        "id": "36c27882"
      },
      "source": [
        "def check_na(data, head_num=6):\n",
        "    isnull_na = (data.isnull().sum()/len(data))*100\n",
        "    data_na = isnull_na.drop(isnull_na[isnull_na==0].index).sort_values(ascending=False)\n",
        "    \n",
        "    missing_data = pd.DataFrame({\n",
        "        'Missing Ratio' : data_na,\n",
        "        'Data Type' : data.dtypes[data_na.index]\n",
        "    })\n",
        "    print('결측치 데이터 갈럼과 건수 : \\n', missing_data.head(head_num))"
      ],
      "id": "36c27882",
      "execution_count": null,
      "outputs": []
    },
    {
      "cell_type": "code",
      "metadata": {
        "id": "0fb402de",
        "outputId": "1e670863-9fcc-4b9c-99f8-66e7f65c91b2"
      },
      "source": [
        "check_na(all_df, 20)"
      ],
      "id": "0fb402de",
      "execution_count": null,
      "outputs": [
        {
          "name": "stdout",
          "output_type": "stream",
          "text": [
            "결측치 데이터 갈럼과 건수 : \n",
            "               Missing Ratio Data Type\n",
            "PoolQC            99.657182    object\n",
            "MiscFeature       96.400411    object\n",
            "Alley             93.212204    object\n",
            "Fence             80.425094    object\n",
            "FireplaceQu       48.680151    object\n",
            "LotFrontage       16.626671   float64\n",
            "GarageFinish       5.450806    object\n",
            "GarageQual         5.450806    object\n",
            "GarageCond         5.450806    object\n",
            "GarageYrBlt        5.450806   float64\n",
            "GarageType         5.382242    object\n",
            "BsmtExposure       2.811107    object\n",
            "BsmtCond           2.811107    object\n",
            "BsmtQual           2.776826    object\n",
            "BsmtFinType2       2.742544    object\n",
            "BsmtFinType1       2.708262    object\n",
            "MasVnrType         0.788481    object\n",
            "MasVnrArea         0.754200   float64\n",
            "MSZoning           0.137127    object\n",
            "BsmtFullBath       0.068564   float64\n"
          ]
        }
      ]
    },
    {
      "cell_type": "markdown",
      "metadata": {
        "id": "0a1657a6"
      },
      "source": [
        "- 결측치 처리는 처리하는 기준이 데이터마다 매우 다르기때문에 \n",
        "- 분석중에 어려운 부분\n",
        "- 위 데이터에서는 결측치가 전체데이터의 10%가 넘어가는 상위6개를 삭제"
      ],
      "id": "0a1657a6"
    },
    {
      "cell_type": "code",
      "metadata": {
        "collapsed": true,
        "id": "bf22b008",
        "outputId": "5c7ac511-d9bf-4710-bd51-020c4829debd"
      },
      "source": [
        "all_df.drop(['PoolQC','MiscFeature','Alley','Fence','FireplaceQu','LotFrontage'], axis=1, inplace=True)\n"
      ],
      "id": "bf22b008",
      "execution_count": null,
      "outputs": [
        {
          "ename": "KeyError",
          "evalue": "\"['PoolQC' 'MiscFeature' 'Alley' 'Fence' 'FireplaceQu' 'LotFrontage'] not found in axis\"",
          "output_type": "error",
          "traceback": [
            "\u001b[1;31m---------------------------------------------------------------------------\u001b[0m",
            "\u001b[1;31mKeyError\u001b[0m                                  Traceback (most recent call last)",
            "\u001b[1;32m<ipython-input-28-c9f30ce8b56e>\u001b[0m in \u001b[0;36m<module>\u001b[1;34m\u001b[0m\n\u001b[1;32m----> 1\u001b[1;33m \u001b[0mall_df\u001b[0m\u001b[1;33m.\u001b[0m\u001b[0mdrop\u001b[0m\u001b[1;33m(\u001b[0m\u001b[1;33m[\u001b[0m\u001b[1;34m'PoolQC'\u001b[0m\u001b[1;33m,\u001b[0m\u001b[1;34m'MiscFeature'\u001b[0m\u001b[1;33m,\u001b[0m\u001b[1;34m'Alley'\u001b[0m\u001b[1;33m,\u001b[0m\u001b[1;34m'Fence'\u001b[0m\u001b[1;33m,\u001b[0m\u001b[1;34m'FireplaceQu'\u001b[0m\u001b[1;33m,\u001b[0m\u001b[1;34m'LotFrontage'\u001b[0m\u001b[1;33m]\u001b[0m\u001b[1;33m,\u001b[0m \u001b[0maxis\u001b[0m\u001b[1;33m=\u001b[0m\u001b[1;36m1\u001b[0m\u001b[1;33m,\u001b[0m \u001b[0minplace\u001b[0m\u001b[1;33m=\u001b[0m\u001b[1;32mTrue\u001b[0m\u001b[1;33m)\u001b[0m\u001b[1;33m\u001b[0m\u001b[1;33m\u001b[0m\u001b[0m\n\u001b[0m\u001b[0;32m      2\u001b[0m \u001b[0mcheck_na\u001b[0m\u001b[1;33m(\u001b[0m\u001b[0mall_df\u001b[0m\u001b[1;33m,\u001b[0m \u001b[1;36m30\u001b[0m\u001b[1;33m)\u001b[0m\u001b[1;33m\u001b[0m\u001b[1;33m\u001b[0m\u001b[0m\n",
            "\u001b[1;32m~\\anaconda3\\envs\\test\\lib\\site-packages\\pandas\\core\\frame.py\u001b[0m in \u001b[0;36mdrop\u001b[1;34m(self, labels, axis, index, columns, level, inplace, errors)\u001b[0m\n\u001b[0;32m   4306\u001b[0m                 \u001b[0mweight\u001b[0m  \u001b[1;36m1.0\u001b[0m     \u001b[1;36m0.8\u001b[0m\u001b[1;33m\u001b[0m\u001b[1;33m\u001b[0m\u001b[0m\n\u001b[0;32m   4307\u001b[0m         \"\"\"\n\u001b[1;32m-> 4308\u001b[1;33m         return super().drop(\n\u001b[0m\u001b[0;32m   4309\u001b[0m             \u001b[0mlabels\u001b[0m\u001b[1;33m=\u001b[0m\u001b[0mlabels\u001b[0m\u001b[1;33m,\u001b[0m\u001b[1;33m\u001b[0m\u001b[1;33m\u001b[0m\u001b[0m\n\u001b[0;32m   4310\u001b[0m             \u001b[0maxis\u001b[0m\u001b[1;33m=\u001b[0m\u001b[0maxis\u001b[0m\u001b[1;33m,\u001b[0m\u001b[1;33m\u001b[0m\u001b[1;33m\u001b[0m\u001b[0m\n",
            "\u001b[1;32m~\\anaconda3\\envs\\test\\lib\\site-packages\\pandas\\core\\generic.py\u001b[0m in \u001b[0;36mdrop\u001b[1;34m(self, labels, axis, index, columns, level, inplace, errors)\u001b[0m\n\u001b[0;32m   4151\u001b[0m         \u001b[1;32mfor\u001b[0m \u001b[0maxis\u001b[0m\u001b[1;33m,\u001b[0m \u001b[0mlabels\u001b[0m \u001b[1;32min\u001b[0m \u001b[0maxes\u001b[0m\u001b[1;33m.\u001b[0m\u001b[0mitems\u001b[0m\u001b[1;33m(\u001b[0m\u001b[1;33m)\u001b[0m\u001b[1;33m:\u001b[0m\u001b[1;33m\u001b[0m\u001b[1;33m\u001b[0m\u001b[0m\n\u001b[0;32m   4152\u001b[0m             \u001b[1;32mif\u001b[0m \u001b[0mlabels\u001b[0m \u001b[1;32mis\u001b[0m \u001b[1;32mnot\u001b[0m \u001b[1;32mNone\u001b[0m\u001b[1;33m:\u001b[0m\u001b[1;33m\u001b[0m\u001b[1;33m\u001b[0m\u001b[0m\n\u001b[1;32m-> 4153\u001b[1;33m                 \u001b[0mobj\u001b[0m \u001b[1;33m=\u001b[0m \u001b[0mobj\u001b[0m\u001b[1;33m.\u001b[0m\u001b[0m_drop_axis\u001b[0m\u001b[1;33m(\u001b[0m\u001b[0mlabels\u001b[0m\u001b[1;33m,\u001b[0m \u001b[0maxis\u001b[0m\u001b[1;33m,\u001b[0m \u001b[0mlevel\u001b[0m\u001b[1;33m=\u001b[0m\u001b[0mlevel\u001b[0m\u001b[1;33m,\u001b[0m \u001b[0merrors\u001b[0m\u001b[1;33m=\u001b[0m\u001b[0merrors\u001b[0m\u001b[1;33m)\u001b[0m\u001b[1;33m\u001b[0m\u001b[1;33m\u001b[0m\u001b[0m\n\u001b[0m\u001b[0;32m   4154\u001b[0m \u001b[1;33m\u001b[0m\u001b[0m\n\u001b[0;32m   4155\u001b[0m         \u001b[1;32mif\u001b[0m \u001b[0minplace\u001b[0m\u001b[1;33m:\u001b[0m\u001b[1;33m\u001b[0m\u001b[1;33m\u001b[0m\u001b[0m\n",
            "\u001b[1;32m~\\anaconda3\\envs\\test\\lib\\site-packages\\pandas\\core\\generic.py\u001b[0m in \u001b[0;36m_drop_axis\u001b[1;34m(self, labels, axis, level, errors)\u001b[0m\n\u001b[0;32m   4186\u001b[0m                 \u001b[0mnew_axis\u001b[0m \u001b[1;33m=\u001b[0m \u001b[0maxis\u001b[0m\u001b[1;33m.\u001b[0m\u001b[0mdrop\u001b[0m\u001b[1;33m(\u001b[0m\u001b[0mlabels\u001b[0m\u001b[1;33m,\u001b[0m \u001b[0mlevel\u001b[0m\u001b[1;33m=\u001b[0m\u001b[0mlevel\u001b[0m\u001b[1;33m,\u001b[0m \u001b[0merrors\u001b[0m\u001b[1;33m=\u001b[0m\u001b[0merrors\u001b[0m\u001b[1;33m)\u001b[0m\u001b[1;33m\u001b[0m\u001b[1;33m\u001b[0m\u001b[0m\n\u001b[0;32m   4187\u001b[0m             \u001b[1;32melse\u001b[0m\u001b[1;33m:\u001b[0m\u001b[1;33m\u001b[0m\u001b[1;33m\u001b[0m\u001b[0m\n\u001b[1;32m-> 4188\u001b[1;33m                 \u001b[0mnew_axis\u001b[0m \u001b[1;33m=\u001b[0m \u001b[0maxis\u001b[0m\u001b[1;33m.\u001b[0m\u001b[0mdrop\u001b[0m\u001b[1;33m(\u001b[0m\u001b[0mlabels\u001b[0m\u001b[1;33m,\u001b[0m \u001b[0merrors\u001b[0m\u001b[1;33m=\u001b[0m\u001b[0merrors\u001b[0m\u001b[1;33m)\u001b[0m\u001b[1;33m\u001b[0m\u001b[1;33m\u001b[0m\u001b[0m\n\u001b[0m\u001b[0;32m   4189\u001b[0m             \u001b[0mresult\u001b[0m \u001b[1;33m=\u001b[0m \u001b[0mself\u001b[0m\u001b[1;33m.\u001b[0m\u001b[0mreindex\u001b[0m\u001b[1;33m(\u001b[0m\u001b[1;33m**\u001b[0m\u001b[1;33m{\u001b[0m\u001b[0maxis_name\u001b[0m\u001b[1;33m:\u001b[0m \u001b[0mnew_axis\u001b[0m\u001b[1;33m}\u001b[0m\u001b[1;33m)\u001b[0m\u001b[1;33m\u001b[0m\u001b[1;33m\u001b[0m\u001b[0m\n\u001b[0;32m   4190\u001b[0m \u001b[1;33m\u001b[0m\u001b[0m\n",
            "\u001b[1;32m~\\anaconda3\\envs\\test\\lib\\site-packages\\pandas\\core\\indexes\\base.py\u001b[0m in \u001b[0;36mdrop\u001b[1;34m(self, labels, errors)\u001b[0m\n\u001b[0;32m   5589\u001b[0m         \u001b[1;32mif\u001b[0m \u001b[0mmask\u001b[0m\u001b[1;33m.\u001b[0m\u001b[0many\u001b[0m\u001b[1;33m(\u001b[0m\u001b[1;33m)\u001b[0m\u001b[1;33m:\u001b[0m\u001b[1;33m\u001b[0m\u001b[1;33m\u001b[0m\u001b[0m\n\u001b[0;32m   5590\u001b[0m             \u001b[1;32mif\u001b[0m \u001b[0merrors\u001b[0m \u001b[1;33m!=\u001b[0m \u001b[1;34m\"ignore\"\u001b[0m\u001b[1;33m:\u001b[0m\u001b[1;33m\u001b[0m\u001b[1;33m\u001b[0m\u001b[0m\n\u001b[1;32m-> 5591\u001b[1;33m                 \u001b[1;32mraise\u001b[0m \u001b[0mKeyError\u001b[0m\u001b[1;33m(\u001b[0m\u001b[1;34mf\"{labels[mask]} not found in axis\"\u001b[0m\u001b[1;33m)\u001b[0m\u001b[1;33m\u001b[0m\u001b[1;33m\u001b[0m\u001b[0m\n\u001b[0m\u001b[0;32m   5592\u001b[0m             \u001b[0mindexer\u001b[0m \u001b[1;33m=\u001b[0m \u001b[0mindexer\u001b[0m\u001b[1;33m[\u001b[0m\u001b[1;33m~\u001b[0m\u001b[0mmask\u001b[0m\u001b[1;33m]\u001b[0m\u001b[1;33m\u001b[0m\u001b[1;33m\u001b[0m\u001b[0m\n\u001b[0;32m   5593\u001b[0m         \u001b[1;32mreturn\u001b[0m \u001b[0mself\u001b[0m\u001b[1;33m.\u001b[0m\u001b[0mdelete\u001b[0m\u001b[1;33m(\u001b[0m\u001b[0mindexer\u001b[0m\u001b[1;33m)\u001b[0m\u001b[1;33m\u001b[0m\u001b[1;33m\u001b[0m\u001b[0m\n",
            "\u001b[1;31mKeyError\u001b[0m: \"['PoolQC' 'MiscFeature' 'Alley' 'Fence' 'FireplaceQu' 'LotFrontage'] not found in axis\""
          ]
        }
      ]
    },
    {
      "cell_type": "markdown",
      "metadata": {
        "id": "c345cb97"
      },
      "source": [
        "- 남은 데이터의 결측치는 fillna()함수를 통해 특정 값으로 채워넣도록 한다\n",
        "- 여기서는 문자열 데이터는 빈도수중 가장 높은값, 수치데이터는 중앙값(median)으로 채움"
      ],
      "id": "c345cb97"
    },
    {
      "cell_type": "code",
      "metadata": {
        "id": "1288aa88",
        "outputId": "e67e903e-036c-4945-d45e-bb00cbb7cbe5"
      },
      "source": [
        "check_na(all_df, 30)"
      ],
      "id": "1288aa88",
      "execution_count": null,
      "outputs": [
        {
          "name": "stdout",
          "output_type": "stream",
          "text": [
            "결측치 데이터 갈럼과 건수 : \n",
            "               Missing Ratio Data Type\n",
            "GarageCond         5.450806    object\n",
            "GarageQual         5.450806    object\n",
            "GarageYrBlt        5.450806   float64\n",
            "GarageFinish       5.450806    object\n",
            "GarageType         5.382242    object\n",
            "BsmtCond           2.811107    object\n",
            "BsmtExposure       2.811107    object\n",
            "BsmtQual           2.776826    object\n",
            "BsmtFinType2       2.742544    object\n",
            "BsmtFinType1       2.708262    object\n",
            "MasVnrType         0.788481    object\n",
            "MasVnrArea         0.754200   float64\n",
            "MSZoning           0.137127    object\n",
            "Functional         0.068564    object\n",
            "Utilities          0.068564    object\n",
            "BsmtFullBath       0.068564   float64\n",
            "BsmtHalfBath       0.068564   float64\n",
            "GarageArea         0.034282   float64\n",
            "GarageCars         0.034282   float64\n",
            "TotalBsmtSF        0.034282   float64\n",
            "KitchenQual        0.034282    object\n",
            "Electrical         0.034282    object\n",
            "BsmtUnfSF          0.034282   float64\n",
            "BsmtFinSF2         0.034282   float64\n",
            "BsmtFinSF1         0.034282   float64\n",
            "Exterior2nd        0.034282    object\n",
            "Exterior1st        0.034282    object\n",
            "SaleType           0.034282    object\n"
          ]
        }
      ]
    },
    {
      "cell_type": "markdown",
      "metadata": {
        "id": "f75ecf01"
      },
      "source": [
        "### 결측치 - 문자열 데이터"
      ],
      "id": "f75ecf01"
    },
    {
      "cell_type": "code",
      "metadata": {
        "id": "ab1fcdb3"
      },
      "source": [
        "temp = ['PoolQC','MiscFeature','Alley','Fence','FireplaceQu','LotFrontage']"
      ],
      "id": "ab1fcdb3",
      "execution_count": null,
      "outputs": []
    },
    {
      "cell_type": "code",
      "metadata": {
        "id": "252ef72d",
        "outputId": "d257f243-eebe-44e7-911c-47cb663da7c7"
      },
      "source": [
        "cat_all_vars = train.select_dtypes(exclude=[np.number])\n",
        "print('Whole number of all_vars : ',len(list(cat_all_vars)))\n",
        "\n",
        "\n",
        "final_cat_vars=[]\n",
        "\n",
        "for v in cat_all_vars:\n",
        "    if v not in temp:\n",
        "        final_cat_vars.append(v)\n",
        "        \n",
        "print('Whole number of final_cat_vars : ',len(list(final_cat_vars)))\n",
        "\n",
        "\n",
        "for i in final_cat_vars:\n",
        "    all_df[i]=all_df[i].fillna(all_df[i].mode()[0])"
      ],
      "id": "252ef72d",
      "execution_count": null,
      "outputs": [
        {
          "name": "stdout",
          "output_type": "stream",
          "text": [
            "Whole number of all_vars :  43\n",
            "Whole number of final_cat_vars :  38\n"
          ]
        }
      ]
    },
    {
      "cell_type": "code",
      "metadata": {
        "id": "c860f062",
        "outputId": "4c9ea7a4-8633-48df-8b4d-fcc3022431ca"
      },
      "source": [
        "all_df.isna().sum().sort_values(ascending=False)"
      ],
      "id": "c860f062",
      "execution_count": null,
      "outputs": [
        {
          "data": {
            "text/plain": [
              "GarageYrBlt      159\n",
              "MasVnrArea        22\n",
              "BsmtHalfBath       2\n",
              "BsmtFullBath       2\n",
              "TotalBsmtSF        1\n",
              "                ... \n",
              "BsmtExposure       0\n",
              "BsmtFinType1       0\n",
              "BsmtFinType2       0\n",
              "MSZoning           0\n",
              "SaleCondition      0\n",
              "Length: 73, dtype: int64"
            ]
          },
          "execution_count": 43,
          "metadata": {},
          "output_type": "execute_result"
        }
      ]
    },
    {
      "cell_type": "markdown",
      "metadata": {
        "id": "79849577"
      },
      "source": [
        "- 문자열 데이터는 mode()함수를 이용해 최빈값으로 fillna해준모습\n",
        "- 확인해보니 수치형데이터를 제외하고는 결측치가 채워진 모습이다..."
      ],
      "id": "79849577"
    },
    {
      "cell_type": "code",
      "metadata": {
        "id": "c5bc1ac9",
        "outputId": "4f17afbc-7fa1-4212-9e9d-c9326c6db44c"
      },
      "source": [
        "check_na(all_df,20)"
      ],
      "id": "c5bc1ac9",
      "execution_count": null,
      "outputs": [
        {
          "name": "stdout",
          "output_type": "stream",
          "text": [
            "결측치 데이터 갈럼과 건수 : \n",
            "               Missing Ratio Data Type\n",
            "GarageYrBlt        5.450806   float64\n",
            "MasVnrArea         0.754200   float64\n",
            "BsmtFullBath       0.068564   float64\n",
            "BsmtHalfBath       0.068564   float64\n",
            "BsmtFinSF1         0.034282   float64\n",
            "BsmtFinSF2         0.034282   float64\n",
            "BsmtUnfSF          0.034282   float64\n",
            "TotalBsmtSF        0.034282   float64\n",
            "GarageCars         0.034282   float64\n",
            "GarageArea         0.034282   float64\n"
          ]
        }
      ]
    },
    {
      "cell_type": "markdown",
      "metadata": {
        "id": "50032bcc"
      },
      "source": [
        "### 결측치 - 수치형 데이터"
      ],
      "id": "50032bcc"
    },
    {
      "cell_type": "code",
      "metadata": {
        "id": "d9f46d83",
        "outputId": "cbe80e5f-460b-4852-d6e0-74c84367df56"
      },
      "source": [
        "num_all_vars = list(train.select_dtypes(include=[np.number]))\n",
        "print('Whole number of all_vars : ',len(list(num_all_vars)))\n",
        "num_all_vars.remove('LotFrontage')\n",
        "\n",
        "# final_cat_vars=[]\n",
        "\n",
        "# for v in num_all_vars:\n",
        "#     if v not in temp:\n",
        "#         final_cat_vars.append(v)\n",
        "        \n",
        "# print('Whole number of final_cat_vars : ',len(list(final_cat_vars)))\n",
        "\n",
        "\n",
        "for i in num_all_vars:\n",
        "    all_df[i].fillna(value=all_df[i].median(), inplace=True)"
      ],
      "id": "d9f46d83",
      "execution_count": null,
      "outputs": [
        {
          "name": "stdout",
          "output_type": "stream",
          "text": [
            "Whole number of all_vars :  36\n"
          ]
        }
      ]
    },
    {
      "cell_type": "code",
      "metadata": {
        "id": "a7927da8",
        "outputId": "45a1d051-1d77-43d8-f118-c9ea255ab51d"
      },
      "source": [
        "check_na(all_df,20)"
      ],
      "id": "a7927da8",
      "execution_count": null,
      "outputs": [
        {
          "name": "stdout",
          "output_type": "stream",
          "text": [
            "결측치 데이터 갈럼과 건수 : \n",
            " Empty DataFrame\n",
            "Columns: [Missing Ratio, Data Type]\n",
            "Index: []\n"
          ]
        }
      ]
    },
    {
      "cell_type": "markdown",
      "metadata": {
        "id": "2931c6b4"
      },
      "source": [
        "- 결측치가 모두 처리되었당."
      ],
      "id": "2931c6b4"
    },
    {
      "cell_type": "markdown",
      "metadata": {
        "id": "2fc5094d"
      },
      "source": [
        "# 왜도(skewness) 값 처리\n",
        "- 분포의 비대칭도를 나타내는 통계량\n",
        "- 정규분포는 왜도가 0\n",
        "- 수치형 데이터에 적용\n",
        "- 정규분포의 형태를 형성하는것이 중요"
      ],
      "id": "2fc5094d"
    },
    {
      "cell_type": "code",
      "metadata": {
        "id": "993b0611",
        "outputId": "5f95b23b-4a7b-42e0-eee3-8ac66bb5b715"
      },
      "source": [
        "def find_skew(x):\n",
        "    return skew(x)\n",
        "skew_features = all_df[num_all_vars].apply(find_skew).sort_values(ascending = False)\n",
        "skew_features"
      ],
      "id": "993b0611",
      "execution_count": null,
      "outputs": [
        {
          "data": {
            "text/plain": [
              "MiscVal          21.939672\n",
              "PoolArea         16.892477\n",
              "LotArea          12.867139\n",
              "LowQualFinSF     12.084539\n",
              "3SsnPorch        11.372080\n",
              "KitchenAbvGr      4.318923\n",
              "BsmtFinSF2        4.144503\n",
              "EnclosedPorch     4.013741\n",
              "ScreenPorch       3.945101\n",
              "BsmtHalfBath      3.929996\n",
              "MasVnrArea        2.615714\n",
              "OpenPorchSF       2.534326\n",
              "WoodDeckSF        1.841876\n",
              "1stFlrSF          1.469798\n",
              "BsmtFinSF1        1.429239\n",
              "MSSubClass        1.374726\n",
              "GrLivArea         1.271773\n",
              "TotalBsmtSF       1.165468\n",
              "BsmtUnfSF         0.919795\n",
              "2ndFlrSF          0.860643\n",
              "TotRmsAbvGrd      0.760404\n",
              "Fireplaces        0.734449\n",
              "HalfBath          0.695072\n",
              "BsmtFullBath      0.626733\n",
              "OverallCond       0.584601\n",
              "BedroomAbvGr      0.329555\n",
              "GarageArea        0.241611\n",
              "OverallQual       0.196514\n",
              "MoSold            0.195229\n",
              "FullBath          0.164226\n",
              "YrSold            0.132129\n",
              "GarageCars       -0.218309\n",
              "GarageYrBlt      -0.398311\n",
              "YearRemodAdd     -0.451063\n",
              "YearBuilt        -0.600023\n",
              "dtype: float64"
            ]
          },
          "execution_count": 50,
          "metadata": {},
          "output_type": "execute_result"
        }
      ]
    },
    {
      "cell_type": "markdown",
      "metadata": {
        "id": "557e5032"
      },
      "source": [
        "- LotArea 컬럼은 값이 매우커서 수치비교 시각화할때 제외함"
      ],
      "id": "557e5032"
    },
    {
      "cell_type": "code",
      "metadata": {
        "id": "12af5eda"
      },
      "source": [
        "skewnewss_index = list(skew_features.index)\n",
        "skewnewss_index.remove('LotArea')\n",
        "all_numeric_df = all_df.loc[:,skewnewss_index]\n"
      ],
      "id": "12af5eda",
      "execution_count": null,
      "outputs": []
    },
    {
      "cell_type": "code",
      "metadata": {
        "id": "933da366",
        "outputId": "5e230162-0116-409e-f646-0bf9ab16b221"
      },
      "source": [
        "fig, ax = plt.subplots(figsize=(11,10))\n",
        "ax.set_xlim(0, all_numeric_df.max().sort_values(ascending=False)[0])\n",
        "ax = sns.boxplot(data = all_numeric_df[skewnewss_index], orient='h', palette='Set3')\n",
        "ax.xaxis.grid(False)\n",
        "ax.set(ylabel='Feature names')\n",
        "ax.set(xlabel='Numeric values')\n",
        "ax.set(title='Numeric Distribution of Features Before Box-cox Transformation')"
      ],
      "id": "933da366",
      "execution_count": null,
      "outputs": [
        {
          "data": {
            "text/plain": [
              "[Text(0.5, 1.0, 'Numeric Distribution of Features Before Box-cox Transformation')]"
            ]
          },
          "execution_count": 57,
          "metadata": {},
          "output_type": "execute_result"
        },
        {
          "data": {
            "image/png": "[encoded data removed]",
            "text/plain": [
              "<Figure size 792x720 with 1 Axes>"
            ]
          },
          "metadata": {
            "needs_background": "light"
          },
          "output_type": "display_data"
        }
      ]
    },
    {
      "cell_type": "markdown",
      "metadata": {
        "id": "85c7de02"
      },
      "source": [
        "- 왜도가 높을수록 Box가 잘 안나타남. ==> 오른쪽으로 치우친 데이터를 많이 확인할 수 있음.\n",
        "- 이걸 그대로 모델에 돌리면 왜곡된 값이 나올 수 있음\n",
        "- Box-Cox Tranformation 으로 전처리"
      ],
      "id": "85c7de02"
    },
    {
      "cell_type": "code",
      "metadata": {
        "id": "5156491a"
      },
      "source": [
        "from scipy.special import boxcox1p\n",
        "from scipy.stats import boxcox_normmax"
      ],
      "id": "5156491a",
      "execution_count": null,
      "outputs": []
    },
    {
      "cell_type": "code",
      "metadata": {
        "id": "8df80001",
        "outputId": "9611b927-5f32-4b79-f8ba-0cf8df43f505"
      },
      "source": [
        "high_skew = skew_features[skew_features>1]\n",
        "high_skew_index = high_skew.index\n",
        "print('변경전 : \\n', all_df[high_skew_index].head())\n",
        "\n",
        "for num_var in high_skew_index:\n",
        "    all_df[num_var] = boxcox1p(all_df[num_var], boxcox_normmax(all_df[num_var]+1))\n",
        "    \n",
        "print('변경후 : \\n', all_df[high_skew_index].head())"
      ],
      "id": "8df80001",
      "execution_count": null,
      "outputs": [
        {
          "name": "stdout",
          "output_type": "stream",
          "text": [
            "변경전 : \n",
            "    MiscVal  PoolArea  LotArea  LowQualFinSF  3SsnPorch  KitchenAbvGr  \\\n",
            "0        0         0     8450             0          0             1   \n",
            "1        0         0     9600             0          0             1   \n",
            "2        0         0    11250             0          0             1   \n",
            "3        0         0     9550             0          0             1   \n",
            "4        0         0    14260             0          0             1   \n",
            "\n",
            "   BsmtFinSF2  EnclosedPorch  ScreenPorch  BsmtHalfBath  MasVnrArea  \\\n",
            "0         0.0              0            0           0.0       196.0   \n",
            "1         0.0              0            0           1.0         0.0   \n",
            "2         0.0              0            0           0.0       162.0   \n",
            "3         0.0            272            0           0.0         0.0   \n",
            "4         0.0              0            0           0.0       350.0   \n",
            "\n",
            "   OpenPorchSF  WoodDeckSF  1stFlrSF  BsmtFinSF1  MSSubClass  GrLivArea  \\\n",
            "0           61           0       856       706.0          60       1710   \n",
            "1            0         298      1262       978.0          20       1262   \n",
            "2           42           0       920       486.0          60       1786   \n",
            "3           35           0       961       216.0          70       1717   \n",
            "4           84         192      1145       655.0          60       2198   \n",
            "\n",
            "   TotalBsmtSF  \n",
            "0        856.0  \n",
            "1       1262.0  \n",
            "2        920.0  \n",
            "3        756.0  \n",
            "4       1145.0  \n",
            "변경후 : \n",
            "    MiscVal  PoolArea    LotArea  LowQualFinSF  3SsnPorch  KitchenAbvGr  \\\n",
            "0      0.0       0.0  13.454340           0.0        0.0      0.751171   \n",
            "1      0.0       0.0  13.725423           0.0        0.0      0.751171   \n",
            "2      0.0       0.0  14.066405           0.0        0.0      0.751171   \n",
            "3      0.0       0.0  13.714273           0.0        0.0      0.751171   \n",
            "4      0.0       0.0  14.584548           0.0        0.0      0.751171   \n",
            "\n",
            "   BsmtFinSF2  EnclosedPorch  ScreenPorch  BsmtHalfBath  MasVnrArea  \\\n",
            "0         0.0       0.000000          0.0      0.000000   19.354902   \n",
            "1         0.0       0.000000          0.0      0.710895    0.000000   \n",
            "2         0.0       0.000000          0.0      0.000000   17.700377   \n",
            "3         0.0      15.969111          0.0      0.000000    0.000000   \n",
            "4         0.0       0.000000          0.0      0.000000   25.288038   \n",
            "\n",
            "   OpenPorchSF  WoodDeckSF  1stFlrSF  BsmtFinSF1  MSSubClass  GrLivArea  \\\n",
            "0    12.013310    0.000000  5.352551  117.769550    6.505899   7.219259   \n",
            "1     0.000000   56.354929  5.588155  146.691758    4.252612   6.933520   \n",
            "2     9.851937    0.000000  5.396804   91.512842    6.505899   7.260105   \n",
            "3     8.924100    0.000000  5.423454   52.746065    6.869387   7.223097   \n",
            "4    14.185080   42.362001  5.529710  111.959411    6.505899   7.454887   \n",
            "\n",
            "   TotalBsmtSF  \n",
            "0   294.614888  \n",
            "1   404.051500  \n",
            "2   312.423512  \n",
            "3   266.274242  \n",
            "4   373.304504  \n"
          ]
        },
        {
          "name": "stderr",
          "output_type": "stream",
          "text": [
            "C:\\Users\\sh.lee\\anaconda3\\envs\\test\\lib\\site-packages\\scipy\\stats\\stats.py:3913: PearsonRConstantInputWarning: An input array is constant; the correlation coefficent is not defined.\n",
            "  warnings.warn(PearsonRConstantInputWarning())\n",
            "C:\\Users\\sh.lee\\anaconda3\\envs\\test\\lib\\site-packages\\scipy\\stats\\stats.py:3943: PearsonRNearConstantInputWarning: An input array is nearly constant; the computed correlation coefficent may be inaccurate.\n",
            "  warnings.warn(PearsonRNearConstantInputWarning())\n"
          ]
        }
      ]
    },
    {
      "cell_type": "markdown",
      "metadata": {
        "id": "ca15bfdd"
      },
      "source": [
        "# 도출 변수 생성\n",
        "- 주어진 변수내에서 새로운 변수를 도출하는 과정\n",
        "- ex)날짜 데이터 => 연도, 월, 일, 시간 등으로 쪼개기\n",
        "- 여러개의 변수를 조합해 하나의 변수로 줄임(PCA 와 같은 방법)\n"
      ],
      "id": "ca15bfdd"
    },
    {
      "cell_type": "markdown",
      "metadata": {
        "id": "153c41ed"
      },
      "source": [
        "### 주택데이터 도출변수\n",
        "- 주택 각각의 크기인 TotalBsmtSF, 1stFlrSF, 2ndFlrSf를 합쳐 전체주택크기(TotalSF)를 만든다\n"
      ],
      "id": "153c41ed"
    },
    {
      "cell_type": "code",
      "metadata": {
        "id": "e0674b40"
      },
      "source": [
        "all_df['Total_Bathrooms'] = (all_df['FullBath'] + (0.5*all_df['HalfBath']) + all_df['BsmtFullBath'] + (0.5*all_df['BsmtHalfBath']))\n",
        "\n",
        "all_df['Total_porch_sf'] = (all_df['OpenPorchSF']  + all_df['3SsnPorch'] + all_df['EnclosedPorch'] + all_df['ScreenPorch'])\n",
        "\n",
        "all_df = all_df.drop(['FullBath','HalfBath','BsmtFullBath','BsmtHalfBath','OpenPorchSF','EnclosedPorch','ScreenPorch','3SsnPorch'], axis=1)\n",
        "\n"
      ],
      "id": "e0674b40",
      "execution_count": null,
      "outputs": []
    },
    {
      "cell_type": "code",
      "metadata": {
        "id": "e37698dc",
        "outputId": "0a3802dc-3565-42bf-f425-beaa149952e9"
      },
      "source": [
        "all_df.shape"
      ],
      "id": "e37698dc",
      "execution_count": null,
      "outputs": [
        {
          "data": {
            "text/plain": [
              "(2917, 67)"
            ]
          },
          "execution_count": 63,
          "metadata": {},
          "output_type": "execute_result"
        }
      ]
    },
    {
      "cell_type": "markdown",
      "metadata": {
        "id": "ca552721"
      },
      "source": [
        "- 연도와 관련있는 데이터 처리\n",
        "1. 변수 추출"
      ],
      "id": "ca552721"
    },
    {
      "cell_type": "code",
      "metadata": {
        "id": "425af35d",
        "outputId": "c514f45e-455f-466c-8240-91147e5406f6"
      },
      "source": [
        "# 문자열에 해당 단어가 들어가는지 안들어가는지 판단하는 건데 이게되네?\n",
        "num_all_vars = list(train.select_dtypes(include=[np.number]))\n",
        "year_feature=[]\n",
        "\n",
        "for var in num_all_vars:\n",
        "    if 'Yr' in var:\n",
        "        year_feature.append(var)\n",
        "    elif 'Year' in var:\n",
        "        year_feature.append(var)\n",
        "    else:\n",
        "        print(var,' is not related with Year')\n",
        "        \n",
        "print(year_feature)"
      ],
      "id": "425af35d",
      "execution_count": null,
      "outputs": [
        {
          "name": "stdout",
          "output_type": "stream",
          "text": [
            "MSSubClass  is not related with Year\n",
            "LotFrontage  is not related with Year\n",
            "LotArea  is not related with Year\n",
            "OverallQual  is not related with Year\n",
            "OverallCond  is not related with Year\n",
            "MasVnrArea  is not related with Year\n",
            "BsmtFinSF1  is not related with Year\n",
            "BsmtFinSF2  is not related with Year\n",
            "BsmtUnfSF  is not related with Year\n",
            "TotalBsmtSF  is not related with Year\n",
            "1stFlrSF  is not related with Year\n",
            "2ndFlrSF  is not related with Year\n",
            "LowQualFinSF  is not related with Year\n",
            "GrLivArea  is not related with Year\n",
            "BsmtFullBath  is not related with Year\n",
            "BsmtHalfBath  is not related with Year\n",
            "FullBath  is not related with Year\n",
            "HalfBath  is not related with Year\n",
            "BedroomAbvGr  is not related with Year\n",
            "KitchenAbvGr  is not related with Year\n",
            "TotRmsAbvGrd  is not related with Year\n",
            "Fireplaces  is not related with Year\n",
            "GarageCars  is not related with Year\n",
            "GarageArea  is not related with Year\n",
            "WoodDeckSF  is not related with Year\n",
            "OpenPorchSF  is not related with Year\n",
            "EnclosedPorch  is not related with Year\n",
            "3SsnPorch  is not related with Year\n",
            "ScreenPorch  is not related with Year\n",
            "PoolArea  is not related with Year\n",
            "MiscVal  is not related with Year\n",
            "MoSold  is not related with Year\n",
            "['YearBuilt', 'YearRemodAdd', 'GarageYrBlt', 'YrSold']\n"
          ]
        }
      ]
    },
    {
      "cell_type": "markdown",
      "metadata": {
        "id": "2c37176c"
      },
      "source": [
        "- SalePrice와 연관지어서 시각화"
      ],
      "id": "2c37176c"
    },
    {
      "cell_type": "code",
      "metadata": {
        "id": "36f9c537",
        "outputId": "4c26703a-8300-4c4c-ecc9-a5ecbd9e187f"
      },
      "source": [
        "fig, ax = plt.subplots(3,1, figsize=(10,6), sharex=True, sharey=True)\n",
        "for i, var in enumerate(year_feature):\n",
        "    if var != 'YrSold':\n",
        "        ax[i].scatter(train[var], y, alpha=0.3)\n",
        "        ax[i].set_title('{}'.format(var), size=15)\n",
        "        ax[i].set_ylabel('SalePrice', size=15, labelpad=12.5)\n",
        "        \n",
        "        \n",
        "plt.tight_layout()\n",
        "plt.show()"
      ],
      "id": "36f9c537",
      "execution_count": null,
      "outputs": [
        {
          "data": {
            "image/png": "[encoded data removed]",
            "text/plain": [
              "<Figure size 720x432 with 3 Axes>"
            ]
          },
          "metadata": {
            "needs_background": "light"
          },
          "output_type": "display_data"
        }
      ]
    },
    {
      "cell_type": "markdown",
      "metadata": {
        "id": "c5d24301"
      },
      "source": [
        "- 약소하지만 우상향 그래프의 추세를 확인할 수 있음.\n",
        "- 리모델링만 기준삼고 나머지는 삭제"
      ],
      "id": "c5d24301"
    },
    {
      "cell_type": "code",
      "metadata": {
        "id": "e347556b",
        "outputId": "7e327392-8075-4e73-f8fb-f2d6bac6e576"
      },
      "source": [
        "all_df = all_df.drop(['YearBuilt','GarageYrBlt'], axis=1)\n",
        "all_df.shape"
      ],
      "id": "e347556b",
      "execution_count": null,
      "outputs": [
        {
          "data": {
            "text/plain": [
              "(2917, 65)"
            ]
          },
          "execution_count": 71,
          "metadata": {},
          "output_type": "execute_result"
        }
      ]
    },
    {
      "cell_type": "markdown",
      "metadata": {
        "id": "23f0110c"
      },
      "source": [
        "- YrSolr와 YearRemodAdd 연도차이 값에 대한 변수 Years SinceRemodel 을 만들어 SalePrice와 시각화"
      ],
      "id": "23f0110c"
    },
    {
      "cell_type": "code",
      "metadata": {
        "id": "df293dfb",
        "outputId": "478475e7-0a7e-42df-b209-60aadb9617f9"
      },
      "source": [
        "YearsSinceRemodel= train['YrSold'].astype(int) - train['YearRemodAdd'].astype(int)\n",
        "\n",
        "fig, ax = plt.subplots(figsize=(10,6))\n",
        "ax.scatter(YearsSinceRemodel, y, alpha=0.3)\n",
        "fig.show()"
      ],
      "id": "df293dfb",
      "execution_count": null,
      "outputs": [
        {
          "name": "stderr",
          "output_type": "stream",
          "text": [
            "<ipython-input-72-9c5bb38c3e61>:5: UserWarning: Matplotlib is currently using module://ipykernel.pylab.backend_inline, which is a non-GUI backend, so cannot show the figure.\n",
            "  fig.show()\n"
          ]
        },
        {
          "data": {
            "image/png": "[encoded data removed]",
            "text/plain": [
              "<Figure size 720x432 with 1 Axes>"
            ]
          },
          "metadata": {
            "needs_background": "light"
          },
          "output_type": "display_data"
        }
      ]
    },
    {
      "cell_type": "markdown",
      "metadata": {
        "id": "3e98181c"
      },
      "source": [
        "- 이건 하향 그래프를 보이넹\n",
        "- 이제 전체데이터에 차이값을 저장하고 해당 계산했던 두개 변수는 삭제"
      ],
      "id": "3e98181c"
    },
    {
      "cell_type": "code",
      "metadata": {
        "id": "1f8a829e",
        "outputId": "f02033aa-db14-4bef-ebd8-d6cc97128a52"
      },
      "source": [
        "all_df['YearsSinceRemodel'] = all_df['YrSold'].astype(int) - all_df['YearRemodAdd'].astype(int)\n",
        "\n",
        "all_df = all_df.drop(['YrSold','YearRemodAdd'],axis=1)\n",
        "print(all_df.shape)"
      ],
      "id": "1f8a829e",
      "execution_count": null,
      "outputs": [
        {
          "name": "stdout",
          "output_type": "stream",
          "text": [
            "(2917, 64)\n"
          ]
        }
      ]
    },
    {
      "cell_type": "markdown",
      "metadata": {
        "id": "8189360b"
      },
      "source": [
        "# 더미 변수의 응용\n",
        "- 범주형을 수치형으로 바꾸는 방법\n"
      ],
      "id": "8189360b"
    },
    {
      "cell_type": "code",
      "metadata": {
        "id": "e8be370f",
        "outputId": "f8d5b066-fb2f-4756-820c-8460466109e7"
      },
      "source": [
        "all_df['PoolArea'].value_counts()"
      ],
      "id": "e8be370f",
      "execution_count": null,
      "outputs": [
        {
          "data": {
            "text/plain": [
              "0.000000    2904\n",
              "5.786592       1\n",
              "5.854880       1\n",
              "5.913422       1\n",
              "4.721829       1\n",
              "5.718339       1\n",
              "5.130822       1\n",
              "6.231253       1\n",
              "5.843017       1\n",
              "6.048367       1\n",
              "5.922802       1\n",
              "6.161331       1\n",
              "5.945810       1\n",
              "5.553562       1\n",
              "Name: PoolArea, dtype: int64"
            ]
          },
          "execution_count": 75,
          "metadata": {},
          "output_type": "execute_result"
        }
      ]
    },
    {
      "cell_type": "markdown",
      "metadata": {
        "id": "5ad666e1"
      },
      "source": [
        "- Poolarea같은 경우는 0값이 압도적으로 많고 나머지 변수들은 적당히 분포\n",
        "- 그냥 제거하는것도 방법이 될수 있고\n",
        "- 1이상은 1로 처리해서 0,1 두개의 값만 가질수 있게 하는것도 하나의 방법이 될 수 있다( 정답은 없음)\n"
      ],
      "id": "5ad666e1"
    },
    {
      "cell_type": "code",
      "metadata": {
        "id": "f92dc87f",
        "outputId": "2838807e-affd-4da4-f289-25c4cbe4ff65"
      },
      "source": [
        "def count_dummy(x):\n",
        "    if x>0:\n",
        "        return 1\n",
        "    else:\n",
        "        return 0\n",
        "    \n",
        "all_df['PoolArea'] = all_df['PoolArea'].apply(count_dummy)\n",
        "all_df['PoolArea'].value_counts()"
      ],
      "id": "f92dc87f",
      "execution_count": null,
      "outputs": [
        {
          "data": {
            "text/plain": [
              "0    2904\n",
              "1      13\n",
              "Name: PoolArea, dtype: int64"
            ]
          },
          "execution_count": 76,
          "metadata": {},
          "output_type": "execute_result"
        }
      ]
    },
    {
      "cell_type": "markdown",
      "metadata": {
        "id": "346a155c"
      },
      "source": [
        "- GarageArea , Fireplaces 변수도 보고 똑같이 적용해보자\n",
        "- 일단 하라는대로 하자"
      ],
      "id": "346a155c"
    },
    {
      "cell_type": "code",
      "metadata": {
        "id": "3d3f8596",
        "outputId": "cff2aa4f-fb56-4217-bc74-7ff000243f7e"
      },
      "source": [
        "all_df['GarageArea'].value_counts()"
      ],
      "id": "3d3f8596",
      "execution_count": null,
      "outputs": [
        {
          "data": {
            "text/plain": [
              "0.0       157\n",
              "576.0      97\n",
              "440.0      96\n",
              "240.0      69\n",
              "484.0      67\n",
              "         ... \n",
              "1110.0      1\n",
              "766.0       1\n",
              "208.0       1\n",
              "1043.0      1\n",
              "428.0       1\n",
              "Name: GarageArea, Length: 603, dtype: int64"
            ]
          },
          "execution_count": 77,
          "metadata": {},
          "output_type": "execute_result"
        }
      ]
    },
    {
      "cell_type": "code",
      "metadata": {
        "id": "8376e53c",
        "outputId": "f8904b07-4826-4193-c296-17958356df32"
      },
      "source": [
        "all_df['GarageArea'] = all_df['GarageArea'].apply(count_dummy)\n",
        "all_df['GarageArea'].value_counts()"
      ],
      "id": "8376e53c",
      "execution_count": null,
      "outputs": [
        {
          "data": {
            "text/plain": [
              "1    2760\n",
              "0     157\n",
              "Name: GarageArea, dtype: int64"
            ]
          },
          "execution_count": 78,
          "metadata": {},
          "output_type": "execute_result"
        }
      ]
    },
    {
      "cell_type": "code",
      "metadata": {
        "id": "1f7885bb",
        "outputId": "c4c20fae-9b0d-45ba-b263-57ce6fd4f394"
      },
      "source": [
        "all_df['Fireplaces'] = all_df['Fireplaces'].apply(count_dummy)\n",
        "all_df['Fireplaces'].value_counts()"
      ],
      "id": "1f7885bb",
      "execution_count": null,
      "outputs": [
        {
          "data": {
            "text/plain": [
              "1    1497\n",
              "0    1420\n",
              "Name: Fireplaces, dtype: int64"
            ]
          },
          "execution_count": 79,
          "metadata": {},
          "output_type": "execute_result"
        }
      ]
    },
    {
      "cell_type": "markdown",
      "metadata": {
        "id": "3786c781"
      },
      "source": [
        "# 인코딩\n",
        "- 추후 따로 집중 공부\n",
        "- label encoding(단순 레이블 지정), one-hot encoding, ordinal encoding( 나름 순서가 있는 범주형{좋음, 보통 , 나쁨 같은})\n",
        "- onehot은 선형모델에 더 좋은 성능을 나타내고 트리모델에는 썩"
      ],
      "id": "3786c781"
    },
    {
      "cell_type": "code",
      "metadata": {
        "id": "0ff84f03"
      },
      "source": [
        "all_df = pd.get_dummies(all_df).reset_index(drop=True)"
      ],
      "id": "0ff84f03",
      "execution_count": null,
      "outputs": []
    },
    {
      "cell_type": "markdown",
      "metadata": {
        "id": "5546e199"
      },
      "source": [
        "# 전처리 result\n",
        "- 머신러닝 전체 과정중 피처엔지니어링이 가장 어렵다.\n",
        "- 그리고 여기서 성능차이가 가장 많이 난다. (얼마나 잘 피쳐의 특성을 잘 살려서 전처리했는가)\n",
        "- 다양한 시각화를 진행하면서 데이터를 확인하고 전처리를 하며 최적화"
      ],
      "id": "5546e199"
    },
    {
      "cell_type": "markdown",
      "metadata": {
        "id": "6d6076cb"
      },
      "source": [
        "# 모델링\n",
        "- 합친데이터를 다시 분리"
      ],
      "id": "6d6076cb"
    },
    {
      "cell_type": "code",
      "metadata": {
        "id": "506caaf8",
        "outputId": "13a5c6ed-2361-4931-a742-4e98a252f6fe"
      },
      "source": [
        "y.shape, all_df.shape\n",
        "# y길이까지가 train "
      ],
      "id": "506caaf8",
      "execution_count": null,
      "outputs": [
        {
          "data": {
            "text/plain": [
              "((1458,), (2917, 260))"
            ]
          },
          "execution_count": 82,
          "metadata": {},
          "output_type": "execute_result"
        }
      ]
    },
    {
      "cell_type": "code",
      "metadata": {
        "id": "6769639e",
        "outputId": "acef3d1b-c7a2-4c7e-842d-1d9df9e74b2b"
      },
      "source": [
        "X = all_df.iloc[:len(y), :]\n",
        "X_test_model = all_df.iloc[len(y):, :]\n",
        "X.shape, y.shape, X_test.shape"
      ],
      "id": "6769639e",
      "execution_count": null,
      "outputs": [
        {
          "data": {
            "text/plain": [
              "((1458, 260), (1458,), (1459, 260))"
            ]
          },
          "execution_count": 85,
          "metadata": {},
          "output_type": "execute_result"
        }
      ]
    },
    {
      "cell_type": "markdown",
      "metadata": {
        "id": "0cb01100"
      },
      "source": [
        "- 여기서 훈련데이터인 X를 훈련데이터와 검증데이터로 나눔"
      ],
      "id": "0cb01100"
    },
    {
      "cell_type": "code",
      "metadata": {
        "id": "6fe445d5"
      },
      "source": [
        "from sklearn.model_selection import train_test_split"
      ],
      "id": "6fe445d5",
      "execution_count": null,
      "outputs": []
    },
    {
      "cell_type": "code",
      "metadata": {
        "id": "4d7d13e3",
        "outputId": "107598f2-9797-41b5-b771-67d829a001ec"
      },
      "source": [
        "X_train, X_test, y_train, y_test = train_test_split(X,y, test_size=.25, random_state=0)\n",
        "\n",
        "X_train.shape, X_test.shape, y_train.shape, y_test.shape"
      ],
      "id": "4d7d13e3",
      "execution_count": null,
      "outputs": [
        {
          "data": {
            "text/plain": [
              "((1093, 260), (365, 260), (1093,), (365,))"
            ]
          },
          "execution_count": 87,
          "metadata": {},
          "output_type": "execute_result"
        }
      ]
    },
    {
      "cell_type": "markdown",
      "metadata": {
        "id": "c85442d6"
      },
      "source": [
        "# 교차 검증(Cross Validation)"
      ],
      "id": "c85442d6"
    },
    {
      "cell_type": "code",
      "metadata": {
        "id": "ea834f2e"
      },
      "source": [
        "from sklearn.model_selection import KFold\n",
        "'''\n",
        "nplists : fold의 갯수\n",
        "shuffle = 데이터를 섞는다.\n",
        "'''\n",
        "cv= KFold(n_splits=5, random_state=42, shuffle=True)"
      ],
      "id": "ea834f2e",
      "execution_count": null,
      "outputs": []
    },
    {
      "cell_type": "code",
      "metadata": {
        "id": "b69e1513"
      },
      "source": [
        "from sklearn.metrics import mean_squared_error\n",
        "from sklearn.model_selection import KFold, cross_val_score\n",
        "from sklearn.linear_model import LinearRegression\n",
        "\n",
        "\n",
        "def cv_rmse(model, n_folds=5):\n",
        "    cv = KFold(n_splits=n_folds, random_state=42, shuffle=True)\n",
        "    rmse_list = np.sqrt(-cross_val_score(model, X,y, scoring='neg_mean_squared_error', cv=cv))\n",
        "    print('CV RMSE value list : ', np.round(rmse_list, 4))\n",
        "    print('CV RMSE mean value : ', np.round(np.mean(rmse_list), 4))\n",
        "    return (rmse_list)"
      ],
      "id": "b69e1513",
      "execution_count": null,
      "outputs": []
    },
    {
      "cell_type": "code",
      "metadata": {
        "id": "f00b0d4d",
        "outputId": "f1873de3-9c25-46da-f5cc-ca7adc113a83"
      },
      "source": [
        "lr_model = LinearRegression()\n",
        "rmse_scores={}\n",
        "n_folds=5\n",
        "\n",
        "score = cv_rmse(lr_model, n_folds)\n",
        "print('Linear regression-mean : {:.4f} (std : {:.4f})'.format(score.mean(), score.std()))\n",
        "\n",
        "rmse_scores['linear regression'] = (score.mean(), score.std())"
      ],
      "id": "f00b0d4d",
      "execution_count": null,
      "outputs": [
        {
          "name": "stdout",
          "output_type": "stream",
          "text": [
            "CV RMSE value list :  [0.1388 0.1781 0.1509 0.1101 0.1059]\n",
            "CV RMSE mean value :  0.1367\n",
            "Linear regression-mean : 0.1367 (std : 0.0267)\n"
          ]
        }
      ]
    },
    {
      "cell_type": "markdown",
      "metadata": {
        "id": "dd984bd6"
      },
      "source": [
        "# 첫번째 예측값\n",
        "- 결과값은 정규분포를 위해 로그로 변환되어있었다.\n",
        "- 제출에는 원래값으로 변경해줘야함 np.expm1() => 로그를 원래값으로 변환"
      ],
      "id": "dd984bd6"
    },
    {
      "cell_type": "code",
      "metadata": {
        "id": "3fcd13a7",
        "outputId": "cbee31e9-0f9b-4db2-e742-3e975a609372"
      },
      "source": [
        "from sklearn.model_selection import cross_val_predict\n",
        "\n",
        "X = all_df.iloc[:len(y), :]\n",
        "X_test2 = all_df.iloc[len(y):, :]\n",
        "X.shape, y.shape, X_test2.shape\n",
        "\n",
        "lr_model_fit = lr_model.fit(X,y)\n",
        "final_preds = np.floor(np.expm1(lr_model_fit.predict(X_test2)))\n",
        "print(final_preds)"
      ],
      "id": "3fcd13a7",
      "execution_count": null,
      "outputs": [
        {
          "name": "stdout",
          "output_type": "stream",
          "text": [
            "[116852. 157900. 187949. ... 175226. 115936. 217716.]\n"
          ]
        }
      ]
    },
    {
      "cell_type": "code",
      "metadata": {
        "id": "7ad2df44"
      },
      "source": [
        "submission = pd.read_csv('house-price/sample_submission.csv')"
      ],
      "id": "7ad2df44",
      "execution_count": null,
      "outputs": []
    },
    {
      "cell_type": "code",
      "metadata": {
        "id": "b07fa040"
      },
      "source": [
        "submission2 = submission.copy()"
      ],
      "id": "b07fa040",
      "execution_count": null,
      "outputs": []
    },
    {
      "cell_type": "code",
      "metadata": {
        "id": "491609d4"
      },
      "source": [
        "submission.iloc[:,1] = final_preds\n",
        "\n",
        "submission.to_csv('The_first_regression.csv', index=False)"
      ],
      "id": "491609d4",
      "execution_count": null,
      "outputs": []
    },
    {
      "cell_type": "markdown",
      "metadata": {
        "id": "8f1a85ca"
      },
      "source": [
        "# 성능 높이기 ( 모형 알고리즘 추가)\n",
        "- Decision Tree, Random Forest, GBM 을 사용해서 모델 돌려보기 (xgboost)까지"
      ],
      "id": "8f1a85ca"
    },
    {
      "cell_type": "code",
      "metadata": {
        "id": "74b614a7"
      },
      "source": [
        "from sklearn.ensemble import RandomForestRegressor, GradientBoostingRegressor\n",
        "from sklearn.tree import DecisionTreeRegressor"
      ],
      "id": "74b614a7",
      "execution_count": null,
      "outputs": []
    },
    {
      "cell_type": "code",
      "metadata": {
        "id": "d158bdee"
      },
      "source": [
        "# Decision Tree\n",
        "tree_model = DecisionTreeRegressor()\n",
        "\n",
        "# Random Forest\n",
        "rf_model = RandomForestRegressor()\n",
        "\n",
        "# GBM\n",
        "gbr_model = GradientBoostingRegressor()"
      ],
      "id": "d158bdee",
      "execution_count": null,
      "outputs": []
    },
    {
      "cell_type": "code",
      "metadata": {
        "id": "3d5041c1",
        "outputId": "80012a51-8157-4aac-9bf7-799199c6180a"
      },
      "source": [
        "rmse_scores"
      ],
      "id": "3d5041c1",
      "execution_count": null,
      "outputs": [
        {
          "data": {
            "text/plain": [
              "{'linear regression': (0.13673777135687812, 0.026721988404829432)}"
            ]
          },
          "execution_count": 115,
          "metadata": {},
          "output_type": "execute_result"
        }
      ]
    },
    {
      "cell_type": "code",
      "metadata": {
        "id": "2b842afd",
        "outputId": "e808e5ec-8fa0-4350-dab3-d04f18e84d4f"
      },
      "source": [
        "score = cv_rmse(tree_model, n_folds)\n",
        "print('D.T regressor-mean : {:.4f} (std : {:.4f})'.format(score.mean(), score.std()))\n",
        "rmse_scores['Decision Tree Regressor'] = (score.mean(), score.std())"
      ],
      "id": "2b842afd",
      "execution_count": null,
      "outputs": [
        {
          "name": "stdout",
          "output_type": "stream",
          "text": [
            "CV RMSE value list :  [0.2087 0.2227 0.2209 0.2079 0.1809]\n",
            "CV RMSE mean value :  0.2082\n",
            "D.T regressor-mean : 0.2082 (std : 0.0149)\n"
          ]
        }
      ]
    },
    {
      "cell_type": "code",
      "metadata": {
        "id": "e48924f0",
        "outputId": "720d34b8-96e5-4073-e337-c2bd6b6975d2"
      },
      "source": [
        "score = cv_rmse(rf_model, n_folds)\n",
        "print('R.F regressor-mean : {:.4f} (std : {:.4f})'.format(score.mean(), score.std()))\n",
        "rmse_scores['RandomForest Regressor'] = (score.mean(), score.std())"
      ],
      "id": "e48924f0",
      "execution_count": null,
      "outputs": [
        {
          "name": "stdout",
          "output_type": "stream",
          "text": [
            "CV RMSE value list :  [0.151  0.1553 0.1444 0.1374 0.1245]\n",
            "CV RMSE mean value :  0.1425\n",
            "R.F regressor-mean : 0.1425 (std : 0.0108)\n"
          ]
        }
      ]
    },
    {
      "cell_type": "code",
      "metadata": {
        "id": "569f4b3c",
        "outputId": "e551ff2b-a54b-4e4d-af4e-83c9adfc1939"
      },
      "source": [
        "score = cv_rmse(gbr_model, n_folds)\n",
        "print('GBM regressor-mean : {:.4f} (std : {:.4f})'.format(score.mean(), score.std()))\n",
        "rmse_scores['GBM Regressor'] = (score.mean(), score.std())"
      ],
      "id": "569f4b3c",
      "execution_count": null,
      "outputs": [
        {
          "name": "stdout",
          "output_type": "stream",
          "text": [
            "CV RMSE value list :  [0.1406 0.1362 0.1387 0.1205 0.1121]\n",
            "CV RMSE mean value :  0.1296\n",
            "GBM regressor-mean : 0.1296 (std : 0.0113)\n"
          ]
        }
      ]
    },
    {
      "cell_type": "code",
      "metadata": {
        "id": "561d3402"
      },
      "source": [
        "import xgboost"
      ],
      "id": "561d3402",
      "execution_count": null,
      "outputs": []
    },
    {
      "cell_type": "code",
      "metadata": {
        "id": "e41b19c1"
      },
      "source": [
        "xgb_model = xgboost.XGBRegressor()"
      ],
      "id": "e41b19c1",
      "execution_count": null,
      "outputs": []
    },
    {
      "cell_type": "code",
      "metadata": {
        "id": "16d4167d",
        "outputId": "505f792f-ad61-4133-cddf-4ad11f758dc5"
      },
      "source": [
        "score = cv_rmse(xgb_model, n_folds)\n",
        "print('xgboost regressor-mean : {:.4f} (std : {:.4f})'.format(score.mean(), score.std()))\n",
        "rmse_scores['xgboost Regressor'] = (score.mean(), score.std())"
      ],
      "id": "16d4167d",
      "execution_count": null,
      "outputs": [
        {
          "name": "stdout",
          "output_type": "stream",
          "text": [
            "CV RMSE value list :  [0.1496 0.1447 0.1374 0.1301 0.1351]\n",
            "CV RMSE mean value :  0.1394\n",
            "xgboost regressor-mean : 0.1394 (std : 0.0069)\n"
          ]
        }
      ]
    },
    {
      "cell_type": "markdown",
      "metadata": {
        "id": "268cd2d3"
      },
      "source": [
        "## 모델별 rmse값 시각화"
      ],
      "id": "268cd2d3"
    },
    {
      "cell_type": "code",
      "metadata": {
        "id": "0217b340",
        "outputId": "b41faa4c-146a-4c80-bb77-6e9063131dbe"
      },
      "source": [
        "score"
      ],
      "id": "0217b340",
      "execution_count": null,
      "outputs": [
        {
          "data": {
            "text/plain": [
              "(0.13673777135687812, 0.026721988404829432)"
            ]
          },
          "execution_count": 136,
          "metadata": {},
          "output_type": "execute_result"
        }
      ]
    },
    {
      "cell_type": "code",
      "metadata": {
        "id": "5809fbd7",
        "outputId": "76b57373-5b2a-4ff7-f789-21c089ef458d"
      },
      "source": [
        "fig, ax = plt.subplots(figsize=(10,6))\n",
        "\n",
        "ax = sns.pointplot(x=list(rmse_scores.keys()), y=[score for score, _ in rmse_scores.values()],\n",
        "                  markers=['o'], linestyles=['-'], ax=ax)\n",
        "\n",
        "for i, score in enumerate(rmse_scores.values()):\n",
        "    ax.text(i, score[0]+0.007, '{:.3f}'.format(score[0]))\n",
        "    \n",
        "ax.set_ylabel('Score(RMSE)', size=20, labelpad=12.5)\n",
        "ax.set_xlabel('Model', size=20, labelpad=12.5)\n",
        "ax.tick_params(axis='x', labelsize=13.5, rotation=10)\n",
        "ax.tick_params(axis='y', labelsize=13.5)\n",
        "ax.set_ylim(0,0.25)\n",
        "ax.set_title('RMSE scores of Models without Blended_Prodictions', size=20)\n"
      ],
      "id": "5809fbd7",
      "execution_count": null,
      "outputs": [
        {
          "data": {
            "text/plain": [
              "Text(0.5, 1.0, 'RMSE scores of Models without Blended_Prodictions')"
            ]
          },
          "execution_count": 147,
          "metadata": {},
          "output_type": "execute_result"
        },
        {
          "data": {
            "image/png": "[encoded data removed]",
            "text/plain": [
              "<Figure size 720x432 with 1 Axes>"
            ]
          },
          "metadata": {
            "needs_background": "light"
          },
          "output_type": "display_data"
        }
      ]
    },
    {
      "cell_type": "code",
      "metadata": {
        "id": "c069c458",
        "outputId": "d8943c4d-69eb-46fa-dbaa-a16ca731b876"
      },
      "source": [
        "for i, score in enumerate(rmse_scores.values()):\n",
        "#     ax.text(i, score[0]+0.002, '{:.6f}'.format(score[0]),\n",
        "#             horizontalalignment = 'left', size='large',\n",
        "#             color='black', weight = 'wemibold')\n",
        "\n",
        "    print(i)\n",
        "    print(type(score[0]))"
      ],
      "id": "c069c458",
      "execution_count": null,
      "outputs": [
        {
          "name": "stdout",
          "output_type": "stream",
          "text": [
            "0\n",
            "<class 'numpy.float64'>\n",
            "1\n",
            "<class 'numpy.float64'>\n",
            "2\n",
            "<class 'numpy.float64'>\n",
            "3\n",
            "<class 'numpy.float64'>\n",
            "4\n",
            "<class 'numpy.float64'>\n"
          ]
        }
      ]
    },
    {
      "cell_type": "code",
      "metadata": {
        "id": "04bdd665",
        "outputId": "6c5f0504-8b16-49d3-9700-e976b0cb914d"
      },
      "source": [
        "X = all_df.iloc[:len(y), :]\n",
        "X_test2 = all_df.iloc[len(y):, :]\n",
        "X.shape, y.shape, X_test2.shape\n",
        "\n",
        "gbr_model_fit = gbr_model.fit(X,y)\n",
        "final_preds = np.floor(np.expm1(gbr_model_fit.predict(X_test2)))\n",
        "print(final_preds)"
      ],
      "id": "04bdd665",
      "execution_count": null,
      "outputs": [
        {
          "name": "stdout",
          "output_type": "stream",
          "text": [
            "[120123. 152436. 181386. ... 158716. 119718. 246015.]\n"
          ]
        }
      ]
    },
    {
      "cell_type": "code",
      "metadata": {
        "id": "3a48b9e0"
      },
      "source": [
        "submission.iloc[:,1] = final_preds\n",
        "\n",
        "submission.to_csv('The_first_regression.csv', index=False)"
      ],
      "id": "3a48b9e0",
      "execution_count": null,
      "outputs": []
    },
    {
      "cell_type": "code",
      "metadata": {
        "id": "18c8b3de",
        "outputId": "d4bbc4db-48f3-4721-e7fa-1ef5159a6bd0"
      },
      "source": [
        "gbr_model.score(X,y)"
      ],
      "id": "18c8b3de",
      "execution_count": null,
      "outputs": [
        {
          "data": {
            "text/plain": [
              "0.9564624741159721"
            ]
          },
          "execution_count": 152,
          "metadata": {},
          "output_type": "execute_result"
        }
      ]
    },
    {
      "cell_type": "code",
      "metadata": {
        "id": "64b7f581"
      },
      "source": [
        ""
      ],
      "id": "64b7f581",
      "execution_count": null,
      "outputs": []
    }
  ]
}