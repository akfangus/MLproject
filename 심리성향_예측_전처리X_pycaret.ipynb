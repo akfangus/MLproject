{
  "nbformat": 4,
  "nbformat_minor": 5,
  "metadata": {
    "kernelspec": {
      "display_name": "Python 3",
      "language": "python",
      "name": "python3"
    },
    "language_info": {
      "codemirror_mode": {
        "name": "ipython",
        "version": 3
      },
      "file_extension": ".py",
      "mimetype": "text/x-python",
      "name": "python",
      "nbconvert_exporter": "python",
      "pygments_lexer": "ipython3",
      "version": "3.6.13"
    },
    "colab": {
      "name": "심리성향 예측_전처리X_pycaret.ipynb",
      "provenance": [],
      "include_colab_link": true
    }
  },
  "cells": [
    {
      "cell_type": "markdown",
      "metadata": {
        "id": "view-in-github",
        "colab_type": "text"
      },
      "source": [
        "<a href=\"https://colab.research.google.com/github/akfangus/MLproject/blob/main/%EC%8B%AC%EB%A6%AC%EC%84%B1%ED%96%A5_%EC%98%88%EC%B8%A1_%EC%A0%84%EC%B2%98%EB%A6%ACX_pycaret.ipynb\" target=\"_parent\"><img src=\"https://colab.research.google.com/assets/colab-badge.svg\" alt=\"Open In Colab\"/></a>"
      ]
    },
    {
      "cell_type": "code",
      "metadata": {
        "id": "b9397d4c"
      },
      "source": [
        "import pandas as pd\n",
        "import numpy as np\n",
        "import matplotlib\n",
        "import matplotlib.pyplot as plt\n",
        "from matplotlib import style\n",
        "import seaborn as sns\n",
        "\n",
        "import plotly.express as px\n",
        "import plotly.graph_objects as go\n",
        "from scipy.stats import norm, skew\n",
        "\n",
        "\n",
        "style.use('seaborn-talk')\n",
        "\n",
        "krfont={'family':'Malgun Gothic', 'weight': 'bold', 'size' : 10}\n",
        "matplotlib.rc('font', **krfont)\n",
        "matplotlib.rcParams['axes.unicode_minus'] = False\n",
        "\n",
        "%matplotlib inline\n"
      ],
      "id": "b9397d4c",
      "execution_count": null,
      "outputs": []
    },
    {
      "cell_type": "markdown",
      "metadata": {
        "id": "264a7984"
      },
      "source": [
        "- goal : 심사 기준: AUC"
      ],
      "id": "264a7984"
    },
    {
      "cell_type": "markdown",
      "metadata": {
        "id": "60b870b3"
      },
      "source": [
        "## 데이터 변수 설명\n",
        "- Q_A 질문 답\n",
        "    - 1=Disagree, 2=Slightly disagree, 3=Neutral, 4=Slightly agree, 5=Agree.비동의 -> 동의순\n",
        "- Q_E(a~t) : 질문을 답할 때까지의 시간\n",
        "- age_group : 연령\n",
        "- education : 교육 수준\n",
        "    - 1=Less than high school, 2=High school, 3=University degree, 4=Graduate degree, 0=무응답/ 숫자가 클수록 좋ㅇ므\n",
        "- engnat : 모국어가 영어\n",
        "    - 1=yes, 2=no, 0=무응답\n",
        "- familysize : 형제자매 수\n",
        "- gender : 성별\n",
        "    - Male, Female\n",
        "- hand : 필기하는 손\n",
        "    - 1=Right, 2=Left, 3=Both, 0=무응답\n",
        "- married : 혼인 상태\n",
        "    - 1=미혼, 2=현재 기혼, 3=이전 기혼, 0=기타\n",
        "- race : 인종\n",
        "    - Asian, Arab, Black, Indigenous Australian, Native American, White, Other\n",
        "- religion : 종교\n",
        "    - Agnostic, Atheist, Buddhist, Christian_Catholic, Christian_Mormon, Christian_Protestant, Christian_Other, Hindu, Jewish, Muslim, Sikh, Other\n",
        "- tp__ : 순서형 변수 0에 가까울 수록 본인이 생각하는 정도가 강한 것\n",
        "    - 7이 무응답이고 0~6이 정상데이터입니다 \n",
        "- urban : 유년기의 거주 구역\n",
        "    - 1=시골(시골), 2=교외, 3=도시(도시, 도시), 0=무 답변\n",
        "- voted (타겟): 지난 해 국가 선거 투표 여부\n",
        "    - 1= yes, 2= no"
      ],
      "id": "60b870b3"
    },
    {
      "cell_type": "code",
      "metadata": {
        "id": "f9987c95"
      },
      "source": [
        "train = pd.read_csv('open data/train.csv')\n",
        "test = pd.read_csv('open data/test_x.csv')\n",
        "submission = pd.read_csv('open data/sample_submission.csv')"
      ],
      "id": "f9987c95",
      "execution_count": null,
      "outputs": []
    },
    {
      "cell_type": "code",
      "metadata": {
        "id": "a4b7cf15",
        "outputId": "869e0dbb-72a5-45a8-eab6-078938eb9b72"
      },
      "source": [
        "train.columns"
      ],
      "id": "a4b7cf15",
      "execution_count": null,
      "outputs": [
        {
          "data": {
            "text/plain": [
              "Index(['index', 'QaA', 'QaE', 'QbA', 'QbE', 'QcA', 'QcE', 'QdA', 'QdE', 'QeA',\n",
              "       'QeE', 'QfA', 'QfE', 'QgA', 'QgE', 'QhA', 'QhE', 'QiA', 'QiE', 'QjA',\n",
              "       'QjE', 'QkA', 'QkE', 'QlA', 'QlE', 'QmA', 'QmE', 'QnA', 'QnE', 'QoA',\n",
              "       'QoE', 'QpA', 'QpE', 'QqA', 'QqE', 'QrA', 'QrE', 'QsA', 'QsE', 'QtA',\n",
              "       'QtE', 'age_group', 'education', 'engnat', 'familysize', 'gender',\n",
              "       'hand', 'married', 'race', 'religion', 'tp01', 'tp02', 'tp03', 'tp04',\n",
              "       'tp05', 'tp06', 'tp07', 'tp08', 'tp09', 'tp10', 'urban', 'voted',\n",
              "       'wf_01', 'wf_02', 'wf_03', 'wr_01', 'wr_02', 'wr_03', 'wr_04', 'wr_05',\n",
              "       'wr_06', 'wr_07', 'wr_08', 'wr_09', 'wr_10', 'wr_11', 'wr_12', 'wr_13'],\n",
              "      dtype='object')"
            ]
          },
          "execution_count": 3,
          "metadata": {},
          "output_type": "execute_result"
        }
      ]
    },
    {
      "cell_type": "code",
      "metadata": {
        "id": "a31ca2b4",
        "outputId": "c0d7cabc-aabb-4355-967e-f5c77fccf417"
      },
      "source": [
        "train[['tp01', 'tp02', 'tp03', 'tp04',\n",
        "       'tp05', 'tp06', 'tp07', 'tp08', 'tp09', 'tp10']]"
      ],
      "id": "a31ca2b4",
      "execution_count": null,
      "outputs": [
        {
          "data": {
            "text/html": [
              "<div>\n",
              "<style scoped>\n",
              "    .dataframe tbody tr th:only-of-type {\n",
              "        vertical-align: middle;\n",
              "    }\n",
              "\n",
              "    .dataframe tbody tr th {\n",
              "        vertical-align: top;\n",
              "    }\n",
              "\n",
              "    .dataframe thead th {\n",
              "        text-align: right;\n",
              "    }\n",
              "</style>\n",
              "<table border=\"1\" class=\"dataframe\">\n",
              "  <thead>\n",
              "    <tr style=\"text-align: right;\">\n",
              "      <th></th>\n",
              "      <th>tp01</th>\n",
              "      <th>tp02</th>\n",
              "      <th>tp03</th>\n",
              "      <th>tp04</th>\n",
              "      <th>tp05</th>\n",
              "      <th>tp06</th>\n",
              "      <th>tp07</th>\n",
              "      <th>tp08</th>\n",
              "      <th>tp09</th>\n",
              "      <th>tp10</th>\n",
              "    </tr>\n",
              "  </thead>\n",
              "  <tbody>\n",
              "    <tr>\n",
              "      <th>0</th>\n",
              "      <td>2</td>\n",
              "      <td>2</td>\n",
              "      <td>2</td>\n",
              "      <td>1</td>\n",
              "      <td>2</td>\n",
              "      <td>1</td>\n",
              "      <td>7</td>\n",
              "      <td>4</td>\n",
              "      <td>4</td>\n",
              "      <td>3</td>\n",
              "    </tr>\n",
              "    <tr>\n",
              "      <th>1</th>\n",
              "      <td>1</td>\n",
              "      <td>1</td>\n",
              "      <td>0</td>\n",
              "      <td>0</td>\n",
              "      <td>1</td>\n",
              "      <td>2</td>\n",
              "      <td>3</td>\n",
              "      <td>4</td>\n",
              "      <td>0</td>\n",
              "      <td>4</td>\n",
              "    </tr>\n",
              "    <tr>\n",
              "      <th>2</th>\n",
              "      <td>2</td>\n",
              "      <td>3</td>\n",
              "      <td>1</td>\n",
              "      <td>5</td>\n",
              "      <td>3</td>\n",
              "      <td>4</td>\n",
              "      <td>2</td>\n",
              "      <td>6</td>\n",
              "      <td>1</td>\n",
              "      <td>3</td>\n",
              "    </tr>\n",
              "    <tr>\n",
              "      <th>3</th>\n",
              "      <td>2</td>\n",
              "      <td>4</td>\n",
              "      <td>1</td>\n",
              "      <td>1</td>\n",
              "      <td>1</td>\n",
              "      <td>3</td>\n",
              "      <td>1</td>\n",
              "      <td>3</td>\n",
              "      <td>1</td>\n",
              "      <td>3</td>\n",
              "    </tr>\n",
              "    <tr>\n",
              "      <th>4</th>\n",
              "      <td>1</td>\n",
              "      <td>1</td>\n",
              "      <td>1</td>\n",
              "      <td>6</td>\n",
              "      <td>0</td>\n",
              "      <td>2</td>\n",
              "      <td>0</td>\n",
              "      <td>6</td>\n",
              "      <td>2</td>\n",
              "      <td>6</td>\n",
              "    </tr>\n",
              "    <tr>\n",
              "      <th>...</th>\n",
              "      <td>...</td>\n",
              "      <td>...</td>\n",
              "      <td>...</td>\n",
              "      <td>...</td>\n",
              "      <td>...</td>\n",
              "      <td>...</td>\n",
              "      <td>...</td>\n",
              "      <td>...</td>\n",
              "      <td>...</td>\n",
              "      <td>...</td>\n",
              "    </tr>\n",
              "    <tr>\n",
              "      <th>45527</th>\n",
              "      <td>1</td>\n",
              "      <td>2</td>\n",
              "      <td>6</td>\n",
              "      <td>1</td>\n",
              "      <td>2</td>\n",
              "      <td>6</td>\n",
              "      <td>3</td>\n",
              "      <td>0</td>\n",
              "      <td>6</td>\n",
              "      <td>4</td>\n",
              "    </tr>\n",
              "    <tr>\n",
              "      <th>45528</th>\n",
              "      <td>2</td>\n",
              "      <td>2</td>\n",
              "      <td>2</td>\n",
              "      <td>3</td>\n",
              "      <td>1</td>\n",
              "      <td>3</td>\n",
              "      <td>3</td>\n",
              "      <td>4</td>\n",
              "      <td>1</td>\n",
              "      <td>5</td>\n",
              "    </tr>\n",
              "    <tr>\n",
              "      <th>45529</th>\n",
              "      <td>4</td>\n",
              "      <td>4</td>\n",
              "      <td>2</td>\n",
              "      <td>4</td>\n",
              "      <td>0</td>\n",
              "      <td>1</td>\n",
              "      <td>0</td>\n",
              "      <td>2</td>\n",
              "      <td>1</td>\n",
              "      <td>6</td>\n",
              "    </tr>\n",
              "    <tr>\n",
              "      <th>45530</th>\n",
              "      <td>1</td>\n",
              "      <td>2</td>\n",
              "      <td>0</td>\n",
              "      <td>4</td>\n",
              "      <td>0</td>\n",
              "      <td>1</td>\n",
              "      <td>3</td>\n",
              "      <td>2</td>\n",
              "      <td>2</td>\n",
              "      <td>4</td>\n",
              "    </tr>\n",
              "    <tr>\n",
              "      <th>45531</th>\n",
              "      <td>3</td>\n",
              "      <td>2</td>\n",
              "      <td>1</td>\n",
              "      <td>2</td>\n",
              "      <td>3</td>\n",
              "      <td>0</td>\n",
              "      <td>2</td>\n",
              "      <td>3</td>\n",
              "      <td>1</td>\n",
              "      <td>2</td>\n",
              "    </tr>\n",
              "  </tbody>\n",
              "</table>\n",
              "<p>45532 rows × 10 columns</p>\n",
              "</div>"
            ],
            "text/plain": [
              "       tp01  tp02  tp03  tp04  tp05  tp06  tp07  tp08  tp09  tp10\n",
              "0         2     2     2     1     2     1     7     4     4     3\n",
              "1         1     1     0     0     1     2     3     4     0     4\n",
              "2         2     3     1     5     3     4     2     6     1     3\n",
              "3         2     4     1     1     1     3     1     3     1     3\n",
              "4         1     1     1     6     0     2     0     6     2     6\n",
              "...     ...   ...   ...   ...   ...   ...   ...   ...   ...   ...\n",
              "45527     1     2     6     1     2     6     3     0     6     4\n",
              "45528     2     2     2     3     1     3     3     4     1     5\n",
              "45529     4     4     2     4     0     1     0     2     1     6\n",
              "45530     1     2     0     4     0     1     3     2     2     4\n",
              "45531     3     2     1     2     3     0     2     3     1     2\n",
              "\n",
              "[45532 rows x 10 columns]"
            ]
          },
          "execution_count": 15,
          "metadata": {},
          "output_type": "execute_result"
        }
      ]
    },
    {
      "cell_type": "code",
      "metadata": {
        "id": "d834a2a7",
        "outputId": "d1423b50-8c7d-44a2-ba75-6c2b6fae32db"
      },
      "source": [
        "train.info()"
      ],
      "id": "d834a2a7",
      "execution_count": null,
      "outputs": [
        {
          "name": "stdout",
          "output_type": "stream",
          "text": [
            "<class 'pandas.core.frame.DataFrame'>\n",
            "RangeIndex: 45532 entries, 0 to 45531\n",
            "Data columns (total 78 columns):\n",
            " #   Column      Non-Null Count  Dtype  \n",
            "---  ------      --------------  -----  \n",
            " 0   index       45532 non-null  int64  \n",
            " 1   QaA         45532 non-null  float64\n",
            " 2   QaE         45532 non-null  int64  \n",
            " 3   QbA         45532 non-null  float64\n",
            " 4   QbE         45532 non-null  int64  \n",
            " 5   QcA         45532 non-null  float64\n",
            " 6   QcE         45532 non-null  int64  \n",
            " 7   QdA         45532 non-null  float64\n",
            " 8   QdE         45532 non-null  int64  \n",
            " 9   QeA         45532 non-null  float64\n",
            " 10  QeE         45532 non-null  int64  \n",
            " 11  QfA         45532 non-null  float64\n",
            " 12  QfE         45532 non-null  int64  \n",
            " 13  QgA         45532 non-null  float64\n",
            " 14  QgE         45532 non-null  int64  \n",
            " 15  QhA         45532 non-null  float64\n",
            " 16  QhE         45532 non-null  int64  \n",
            " 17  QiA         45532 non-null  float64\n",
            " 18  QiE         45532 non-null  int64  \n",
            " 19  QjA         45532 non-null  float64\n",
            " 20  QjE         45532 non-null  int64  \n",
            " 21  QkA         45532 non-null  float64\n",
            " 22  QkE         45532 non-null  int64  \n",
            " 23  QlA         45532 non-null  float64\n",
            " 24  QlE         45532 non-null  int64  \n",
            " 25  QmA         45532 non-null  float64\n",
            " 26  QmE         45532 non-null  int64  \n",
            " 27  QnA         45532 non-null  float64\n",
            " 28  QnE         45532 non-null  int64  \n",
            " 29  QoA         45532 non-null  float64\n",
            " 30  QoE         45532 non-null  int64  \n",
            " 31  QpA         45532 non-null  float64\n",
            " 32  QpE         45532 non-null  int64  \n",
            " 33  QqA         45532 non-null  float64\n",
            " 34  QqE         45532 non-null  int64  \n",
            " 35  QrA         45532 non-null  float64\n",
            " 36  QrE         45532 non-null  int64  \n",
            " 37  QsA         45532 non-null  float64\n",
            " 38  QsE         45532 non-null  int64  \n",
            " 39  QtA         45532 non-null  float64\n",
            " 40  QtE         45532 non-null  int64  \n",
            " 41  age_group   45532 non-null  object \n",
            " 42  education   45532 non-null  int64  \n",
            " 43  engnat      45532 non-null  int64  \n",
            " 44  familysize  45532 non-null  int64  \n",
            " 45  gender      45532 non-null  object \n",
            " 46  hand        45532 non-null  int64  \n",
            " 47  married     45532 non-null  int64  \n",
            " 48  race        45532 non-null  object \n",
            " 49  religion    45532 non-null  object \n",
            " 50  tp01        45532 non-null  int64  \n",
            " 51  tp02        45532 non-null  int64  \n",
            " 52  tp03        45532 non-null  int64  \n",
            " 53  tp04        45532 non-null  int64  \n",
            " 54  tp05        45532 non-null  int64  \n",
            " 55  tp06        45532 non-null  int64  \n",
            " 56  tp07        45532 non-null  int64  \n",
            " 57  tp08        45532 non-null  int64  \n",
            " 58  tp09        45532 non-null  int64  \n",
            " 59  tp10        45532 non-null  int64  \n",
            " 60  urban       45532 non-null  int64  \n",
            " 61  voted       45532 non-null  int64  \n",
            " 62  wf_01       45532 non-null  int64  \n",
            " 63  wf_02       45532 non-null  int64  \n",
            " 64  wf_03       45532 non-null  int64  \n",
            " 65  wr_01       45532 non-null  int64  \n",
            " 66  wr_02       45532 non-null  int64  \n",
            " 67  wr_03       45532 non-null  int64  \n",
            " 68  wr_04       45532 non-null  int64  \n",
            " 69  wr_05       45532 non-null  int64  \n",
            " 70  wr_06       45532 non-null  int64  \n",
            " 71  wr_07       45532 non-null  int64  \n",
            " 72  wr_08       45532 non-null  int64  \n",
            " 73  wr_09       45532 non-null  int64  \n",
            " 74  wr_10       45532 non-null  int64  \n",
            " 75  wr_11       45532 non-null  int64  \n",
            " 76  wr_12       45532 non-null  int64  \n",
            " 77  wr_13       45532 non-null  int64  \n",
            "dtypes: float64(20), int64(54), object(4)\n",
            "memory usage: 27.1+ MB\n"
          ]
        }
      ]
    },
    {
      "cell_type": "code",
      "metadata": {
        "id": "ad8d694f"
      },
      "source": [
        "train_df = train.copy()\n",
        "test_df = test.copy()"
      ],
      "id": "ad8d694f",
      "execution_count": null,
      "outputs": []
    },
    {
      "cell_type": "code",
      "metadata": {
        "id": "c3990feb"
      },
      "source": [
        "category = train_df.select_dtypes(exclude=['int64','float64'])\n",
        "\n",
        "numeric = train_df.select_dtypes(include=['int64','float64'])"
      ],
      "id": "c3990feb",
      "execution_count": null,
      "outputs": []
    },
    {
      "cell_type": "code",
      "metadata": {
        "id": "7736b8c2"
      },
      "source": [
        "from sklearn.preprocessing import OneHotEncoder"
      ],
      "id": "7736b8c2",
      "execution_count": null,
      "outputs": []
    },
    {
      "cell_type": "code",
      "metadata": {
        "id": "774c4e68"
      },
      "source": [
        "one = OneHotEncoder(sparse=False)"
      ],
      "id": "774c4e68",
      "execution_count": null,
      "outputs": []
    },
    {
      "cell_type": "code",
      "metadata": {
        "id": "1911bdc0",
        "outputId": "cd5cf5e2-db7e-49d0-8a42-0a23f44dbb55"
      },
      "source": [
        "one.fit(category)"
      ],
      "id": "1911bdc0",
      "execution_count": null,
      "outputs": [
        {
          "data": {
            "text/plain": [
              "OneHotEncoder(sparse=False)"
            ]
          },
          "execution_count": 71,
          "metadata": {},
          "output_type": "execute_result"
        }
      ]
    },
    {
      "cell_type": "code",
      "metadata": {
        "id": "9dfcd242",
        "outputId": "3baf4f58-971c-4fb1-a1c2-2ddc8c5e5df7"
      },
      "source": [
        "one.transform(category)"
      ],
      "id": "9dfcd242",
      "execution_count": null,
      "outputs": [
        {
          "data": {
            "text/plain": [
              "array([[0., 0., 0., ..., 0., 1., 0.],\n",
              "       [0., 0., 1., ..., 0., 0., 0.],\n",
              "       [0., 0., 0., ..., 0., 1., 0.],\n",
              "       ...,\n",
              "       [0., 1., 0., ..., 0., 0., 0.],\n",
              "       [0., 0., 0., ..., 0., 0., 0.],\n",
              "       [0., 0., 1., ..., 0., 0., 0.]])"
            ]
          },
          "execution_count": 106,
          "metadata": {},
          "output_type": "execute_result"
        }
      ]
    },
    {
      "cell_type": "code",
      "metadata": {
        "id": "35ea08db"
      },
      "source": [
        "cate_XX = pd.DataFrame(one.transform(category), columns= one.get_feature_names())\n",
        "\n",
        "X = pd.concat([numeric, cate_XX],axis=1, join='inner' )"
      ],
      "id": "35ea08db",
      "execution_count": null,
      "outputs": []
    },
    {
      "cell_type": "code",
      "metadata": {
        "id": "bf8b7426"
      },
      "source": [
        "from sklearn.model_selection import train_test_split\n",
        "from sklearn.linear_model import LogisticRegression\n",
        "from sklearn.ensemble import RandomForestClassifier, GradientBoostingClassifier"
      ],
      "id": "bf8b7426",
      "execution_count": null,
      "outputs": []
    },
    {
      "cell_type": "code",
      "metadata": {
        "id": "aec7de56"
      },
      "source": [
        "yy = X['voted']"
      ],
      "id": "aec7de56",
      "execution_count": null,
      "outputs": []
    },
    {
      "cell_type": "code",
      "metadata": {
        "id": "448a2f96"
      },
      "source": [
        "X.drop(['voted','index'], axis=1, inplace=True)"
      ],
      "id": "448a2f96",
      "execution_count": null,
      "outputs": []
    },
    {
      "cell_type": "code",
      "metadata": {
        "id": "0111f62a"
      },
      "source": [
        "X_train, X_test, y_train, y_test = train_test_split(XX,y, test_size=0.3, random_state=42)"
      ],
      "id": "0111f62a",
      "execution_count": null,
      "outputs": []
    },
    {
      "cell_type": "code",
      "metadata": {
        "id": "eaf0feea"
      },
      "source": [
        "logit = LogisticRegression()"
      ],
      "id": "eaf0feea",
      "execution_count": null,
      "outputs": []
    },
    {
      "cell_type": "code",
      "metadata": {
        "id": "74318c19",
        "outputId": "b9b4f73a-3cd4-432e-fbc0-32777227b7bb"
      },
      "source": [
        "logit.fit(X_train,y_train)"
      ],
      "id": "74318c19",
      "execution_count": null,
      "outputs": [
        {
          "name": "stderr",
          "output_type": "stream",
          "text": [
            "C:\\Users\\sh.lee\\anaconda3\\envs\\test\\lib\\site-packages\\sklearn\\linear_model\\_logistic.py:763: ConvergenceWarning: lbfgs failed to converge (status=1):\n",
            "STOP: TOTAL NO. of ITERATIONS REACHED LIMIT.\n",
            "\n",
            "Increase the number of iterations (max_iter) or scale the data as shown in:\n",
            "    https://scikit-learn.org/stable/modules/preprocessing.html\n",
            "Please also refer to the documentation for alternative solver options:\n",
            "    https://scikit-learn.org/stable/modules/linear_model.html#logistic-regression\n",
            "  n_iter_i = _check_optimize_result(\n"
          ]
        },
        {
          "data": {
            "text/plain": [
              "LogisticRegression()"
            ]
          },
          "execution_count": 82,
          "metadata": {},
          "output_type": "execute_result"
        }
      ]
    },
    {
      "cell_type": "code",
      "metadata": {
        "id": "885497c7",
        "outputId": "20bc6ab3-11ca-4d6f-85fb-d65710b48188"
      },
      "source": [
        "logit.score(X_train,y_train)"
      ],
      "id": "885497c7",
      "execution_count": null,
      "outputs": [
        {
          "data": {
            "text/plain": [
              "0.5482868975903614"
            ]
          },
          "execution_count": 81,
          "metadata": {},
          "output_type": "execute_result"
        }
      ]
    },
    {
      "cell_type": "code",
      "metadata": {
        "id": "e66ab4af"
      },
      "source": [
        "rf = RandomForestClassifier()\n",
        "GBA = GradientBoostingClassifier()"
      ],
      "id": "e66ab4af",
      "execution_count": null,
      "outputs": []
    },
    {
      "cell_type": "code",
      "metadata": {
        "id": "d28ba17d",
        "outputId": "9fc10d5a-f1c1-4495-959e-aeadebd449a3"
      },
      "source": [
        "rf.fit(X_train, y_train)\n",
        "rf.score(X_train, y_train)"
      ],
      "id": "d28ba17d",
      "execution_count": null,
      "outputs": [
        {
          "data": {
            "text/plain": [
              "1.0"
            ]
          },
          "execution_count": 84,
          "metadata": {},
          "output_type": "execute_result"
        }
      ]
    },
    {
      "cell_type": "code",
      "metadata": {
        "id": "152d573b",
        "outputId": "b2ee2844-0207-45b8-e1de-0f398eca2809"
      },
      "source": [
        "GBA.fit(X_train, y_train)\n",
        "GBA.score(X_train, y_train)"
      ],
      "id": "152d573b",
      "execution_count": null,
      "outputs": [
        {
          "data": {
            "text/plain": [
              "0.7078313253012049"
            ]
          },
          "execution_count": 104,
          "metadata": {},
          "output_type": "execute_result"
        }
      ]
    },
    {
      "cell_type": "code",
      "metadata": {
        "id": "503194bd"
      },
      "source": [
        "from sklearn.metrics import confusion_matrix, accuracy_score"
      ],
      "id": "503194bd",
      "execution_count": null,
      "outputs": []
    },
    {
      "cell_type": "code",
      "metadata": {
        "id": "ef3ba04c",
        "outputId": "6774e4d8-750f-40ac-abe1-09fc5ff98375"
      },
      "source": [
        "rf.score(X_test, y_test)"
      ],
      "id": "ef3ba04c",
      "execution_count": null,
      "outputs": [
        {
          "data": {
            "text/plain": [
              "0.6866764275256223"
            ]
          },
          "execution_count": 86,
          "metadata": {},
          "output_type": "execute_result"
        }
      ]
    },
    {
      "cell_type": "code",
      "metadata": {
        "id": "47aac0e1",
        "outputId": "22e1e5cf-1d03-43af-9368-ba5a5d79382e"
      },
      "source": [
        "GBA.score(X_test, y_test)"
      ],
      "id": "47aac0e1",
      "execution_count": null,
      "outputs": [
        {
          "data": {
            "text/plain": [
              "0.6965592972181552"
            ]
          },
          "execution_count": 87,
          "metadata": {},
          "output_type": "execute_result"
        }
      ]
    },
    {
      "cell_type": "code",
      "metadata": {
        "id": "d03e00fd"
      },
      "source": [
        "pred = GBA.predict(X_test)"
      ],
      "id": "d03e00fd",
      "execution_count": null,
      "outputs": []
    },
    {
      "cell_type": "code",
      "metadata": {
        "id": "b458d532",
        "outputId": "0c431d18-d658-4daa-fb47-8e5baf2739aa"
      },
      "source": [
        "accuracy_score(y_test, pred)"
      ],
      "id": "b458d532",
      "execution_count": null,
      "outputs": [
        {
          "data": {
            "text/plain": [
              "0.6965592972181552"
            ]
          },
          "execution_count": 89,
          "metadata": {},
          "output_type": "execute_result"
        }
      ]
    },
    {
      "cell_type": "code",
      "metadata": {
        "id": "4603b917"
      },
      "source": [
        "from xgboost import XGBClassifier"
      ],
      "id": "4603b917",
      "execution_count": null,
      "outputs": []
    },
    {
      "cell_type": "code",
      "metadata": {
        "id": "a6590797"
      },
      "source": [
        "xgb = XGBClassifier()"
      ],
      "id": "a6590797",
      "execution_count": null,
      "outputs": []
    },
    {
      "cell_type": "code",
      "metadata": {
        "id": "3c893cdf",
        "outputId": "1e142e9e-e853-406f-e25f-fec09530dcd2"
      },
      "source": [
        "xgb.fit(X_train,y_train)"
      ],
      "id": "3c893cdf",
      "execution_count": null,
      "outputs": [
        {
          "name": "stderr",
          "output_type": "stream",
          "text": [
            "C:\\Users\\sh.lee\\anaconda3\\envs\\test\\lib\\site-packages\\xgboost\\sklearn.py:1146: UserWarning: The use of label encoder in XGBClassifier is deprecated and will be removed in a future release. To remove this warning, do the following: 1) Pass option use_label_encoder=False when constructing XGBClassifier object; and 2) Encode your labels (y) as integers starting with 0, i.e. 0, 1, 2, ..., [num_class - 1].\n",
            "  warnings.warn(label_encoder_deprecation_msg, UserWarning)\n"
          ]
        },
        {
          "name": "stdout",
          "output_type": "stream",
          "text": [
            "[16:24:19] WARNING: C:/Users/Administrator/workspace/xgboost-win64_release_1.4.0/src/learner.cc:1095: Starting in XGBoost 1.3.0, the default evaluation metric used with the objective 'binary:logistic' was changed from 'error' to 'logloss'. Explicitly set eval_metric if you'd like to restore the old behavior.\n"
          ]
        },
        {
          "data": {
            "text/plain": [
              "XGBClassifier(base_score=0.5, booster='gbtree', colsample_bylevel=1,\n",
              "              colsample_bynode=1, colsample_bytree=1, gamma=0, gpu_id=-1,\n",
              "              importance_type='gain', interaction_constraints='',\n",
              "              learning_rate=0.300000012, max_delta_step=0, max_depth=6,\n",
              "              min_child_weight=1, missing=nan, monotone_constraints='()',\n",
              "              n_estimators=100, n_jobs=16, num_parallel_tree=1, random_state=0,\n",
              "              reg_alpha=0, reg_lambda=1, scale_pos_weight=1, subsample=1,\n",
              "              tree_method='exact', validate_parameters=1, verbosity=None)"
            ]
          },
          "execution_count": 91,
          "metadata": {},
          "output_type": "execute_result"
        }
      ]
    },
    {
      "cell_type": "code",
      "metadata": {
        "id": "cbf4ac00"
      },
      "source": [
        "xgb.score(X_train,y_train)"
      ],
      "id": "cbf4ac00",
      "execution_count": null,
      "outputs": []
    },
    {
      "cell_type": "code",
      "metadata": {
        "id": "39bd7f0b",
        "outputId": "e5dedb83-4217-4a42-8011-8e8c15ff43f7"
      },
      "source": [
        "xgb.score(X_test, y_test)"
      ],
      "id": "39bd7f0b",
      "execution_count": null,
      "outputs": [
        {
          "data": {
            "text/plain": [
              "0.6727672035139092"
            ]
          },
          "execution_count": 58,
          "metadata": {},
          "output_type": "execute_result"
        }
      ]
    },
    {
      "cell_type": "code",
      "metadata": {
        "id": "d931731d"
      },
      "source": [
        "pred = xgb.predict(X_test)"
      ],
      "id": "d931731d",
      "execution_count": null,
      "outputs": []
    },
    {
      "cell_type": "code",
      "metadata": {
        "id": "5b2a6761",
        "outputId": "bf5d5716-7634-490c-d1b0-ff76d0c713ec"
      },
      "source": [
        "accuracy_score(y_test, pred)"
      ],
      "id": "5b2a6761",
      "execution_count": null,
      "outputs": [
        {
          "data": {
            "text/plain": [
              "0.6727672035139092"
            ]
          },
          "execution_count": 60,
          "metadata": {},
          "output_type": "execute_result"
        }
      ]
    },
    {
      "cell_type": "markdown",
      "metadata": {
        "id": "e3d8fb15"
      },
      "source": [
        "## test"
      ],
      "id": "e3d8fb15"
    },
    {
      "cell_type": "code",
      "metadata": {
        "id": "0f41abcc"
      },
      "source": [
        "category = test_df.select_dtypes(exclude=['int64','float64'])\n",
        "\n",
        "numeric = test_df.select_dtypes(include=['int64','float64'])"
      ],
      "id": "0f41abcc",
      "execution_count": null,
      "outputs": []
    },
    {
      "cell_type": "code",
      "metadata": {
        "id": "a4e3c968",
        "outputId": "1d52c66c-bc38-45e8-9820-089b3184e4eb"
      },
      "source": [
        "one.transform(category)"
      ],
      "id": "a4e3c968",
      "execution_count": null,
      "outputs": [
        {
          "data": {
            "text/plain": [
              "array([[0., 1., 0., ..., 0., 0., 0.],\n",
              "       [0., 1., 0., ..., 0., 0., 0.],\n",
              "       [0., 0., 0., ..., 0., 0., 0.],\n",
              "       ...,\n",
              "       [0., 0., 0., ..., 0., 0., 0.],\n",
              "       [0., 0., 0., ..., 0., 0., 0.],\n",
              "       [0., 0., 1., ..., 0., 0., 0.]])"
            ]
          },
          "execution_count": 95,
          "metadata": {},
          "output_type": "execute_result"
        }
      ]
    },
    {
      "cell_type": "code",
      "metadata": {
        "id": "4a16212a"
      },
      "source": [
        "cate_XX = pd.DataFrame(one.transform(category), columns= one.get_feature_names())\n",
        "\n",
        "XX = pd.concat([numeric, cate_XX],axis=1, join='inner' )"
      ],
      "id": "4a16212a",
      "execution_count": null,
      "outputs": []
    },
    {
      "cell_type": "code",
      "metadata": {
        "id": "5693cf1b"
      },
      "source": [
        "XX.drop('index', axis=1, inplace=True)"
      ],
      "id": "5693cf1b",
      "execution_count": null,
      "outputs": []
    },
    {
      "cell_type": "code",
      "metadata": {
        "id": "6526697a",
        "outputId": "4213533c-b02b-44e0-8dbc-957d30e4a31b"
      },
      "source": [
        "X.shape, XX.shape"
      ],
      "id": "6526697a",
      "execution_count": null,
      "outputs": [
        {
          "data": {
            "text/plain": [
              "((45532, 100), (11383, 100))"
            ]
          },
          "execution_count": 110,
          "metadata": {},
          "output_type": "execute_result"
        }
      ]
    },
    {
      "cell_type": "code",
      "metadata": {
        "id": "9c96b2b8",
        "outputId": "cbbc04f6-4ae6-43a0-df6d-304f5bcf4e1b"
      },
      "source": [
        "GBA.fit(X, yy)"
      ],
      "id": "9c96b2b8",
      "execution_count": null,
      "outputs": [
        {
          "data": {
            "text/plain": [
              "GradientBoostingClassifier()"
            ]
          },
          "execution_count": 111,
          "metadata": {},
          "output_type": "execute_result"
        }
      ]
    },
    {
      "cell_type": "code",
      "metadata": {
        "id": "7322fe2a"
      },
      "source": [
        "pred_y = GBA.predict(XX)"
      ],
      "id": "7322fe2a",
      "execution_count": null,
      "outputs": []
    },
    {
      "cell_type": "code",
      "metadata": {
        "id": "dcf034cd"
      },
      "source": [
        "submission['voted']=pred_y"
      ],
      "id": "dcf034cd",
      "execution_count": null,
      "outputs": []
    },
    {
      "cell_type": "code",
      "metadata": {
        "id": "3d3bcab1",
        "outputId": "f566efc2-b3af-453b-d584-911410c64282"
      },
      "source": [
        "submission"
      ],
      "id": "3d3bcab1",
      "execution_count": null,
      "outputs": [
        {
          "data": {
            "text/html": [
              "<div>\n",
              "<style scoped>\n",
              "    .dataframe tbody tr th:only-of-type {\n",
              "        vertical-align: middle;\n",
              "    }\n",
              "\n",
              "    .dataframe tbody tr th {\n",
              "        vertical-align: top;\n",
              "    }\n",
              "\n",
              "    .dataframe thead th {\n",
              "        text-align: right;\n",
              "    }\n",
              "</style>\n",
              "<table border=\"1\" class=\"dataframe\">\n",
              "  <thead>\n",
              "    <tr style=\"text-align: right;\">\n",
              "      <th></th>\n",
              "      <th>index</th>\n",
              "      <th>voted</th>\n",
              "    </tr>\n",
              "  </thead>\n",
              "  <tbody>\n",
              "    <tr>\n",
              "      <th>0</th>\n",
              "      <td>0</td>\n",
              "      <td>2</td>\n",
              "    </tr>\n",
              "    <tr>\n",
              "      <th>1</th>\n",
              "      <td>1</td>\n",
              "      <td>2</td>\n",
              "    </tr>\n",
              "    <tr>\n",
              "      <th>2</th>\n",
              "      <td>2</td>\n",
              "      <td>1</td>\n",
              "    </tr>\n",
              "    <tr>\n",
              "      <th>3</th>\n",
              "      <td>3</td>\n",
              "      <td>1</td>\n",
              "    </tr>\n",
              "    <tr>\n",
              "      <th>4</th>\n",
              "      <td>4</td>\n",
              "      <td>2</td>\n",
              "    </tr>\n",
              "    <tr>\n",
              "      <th>...</th>\n",
              "      <td>...</td>\n",
              "      <td>...</td>\n",
              "    </tr>\n",
              "    <tr>\n",
              "      <th>11378</th>\n",
              "      <td>11378</td>\n",
              "      <td>1</td>\n",
              "    </tr>\n",
              "    <tr>\n",
              "      <th>11379</th>\n",
              "      <td>11379</td>\n",
              "      <td>2</td>\n",
              "    </tr>\n",
              "    <tr>\n",
              "      <th>11380</th>\n",
              "      <td>11380</td>\n",
              "      <td>1</td>\n",
              "    </tr>\n",
              "    <tr>\n",
              "      <th>11381</th>\n",
              "      <td>11381</td>\n",
              "      <td>1</td>\n",
              "    </tr>\n",
              "    <tr>\n",
              "      <th>11382</th>\n",
              "      <td>11382</td>\n",
              "      <td>2</td>\n",
              "    </tr>\n",
              "  </tbody>\n",
              "</table>\n",
              "<p>11383 rows × 2 columns</p>\n",
              "</div>"
            ],
            "text/plain": [
              "       index  voted\n",
              "0          0      2\n",
              "1          1      2\n",
              "2          2      1\n",
              "3          3      1\n",
              "4          4      2\n",
              "...      ...    ...\n",
              "11378  11378      1\n",
              "11379  11379      2\n",
              "11380  11380      1\n",
              "11381  11381      1\n",
              "11382  11382      2\n",
              "\n",
              "[11383 rows x 2 columns]"
            ]
          },
          "execution_count": 115,
          "metadata": {},
          "output_type": "execute_result"
        }
      ]
    },
    {
      "cell_type": "code",
      "metadata": {
        "id": "104ec373"
      },
      "source": [
        "submission.to_csv('sample_submission1.csv', index=False)"
      ],
      "id": "104ec373",
      "execution_count": null,
      "outputs": []
    },
    {
      "cell_type": "code",
      "metadata": {
        "id": "0becec4b",
        "outputId": "9384b148-d2f9-45c5-8ddb-70be0e1f9d7f"
      },
      "source": [
        "!pip install pycaret"
      ],
      "id": "0becec4b",
      "execution_count": null,
      "outputs": [
        {
          "name": "stdout",
          "output_type": "stream",
          "text": [
            "^C\n"
          ]
        }
      ]
    },
    {
      "cell_type": "code",
      "metadata": {
        "id": "94b94184",
        "outputId": "89a740db-f93c-40dd-a171-9350ffd4fba7"
      },
      "source": [
        "train"
      ],
      "id": "94b94184",
      "execution_count": null,
      "outputs": [
        {
          "data": {
            "text/html": [
              "<div>\n",
              "<style scoped>\n",
              "    .dataframe tbody tr th:only-of-type {\n",
              "        vertical-align: middle;\n",
              "    }\n",
              "\n",
              "    .dataframe tbody tr th {\n",
              "        vertical-align: top;\n",
              "    }\n",
              "\n",
              "    .dataframe thead th {\n",
              "        text-align: right;\n",
              "    }\n",
              "</style>\n",
              "<table border=\"1\" class=\"dataframe\">\n",
              "  <thead>\n",
              "    <tr style=\"text-align: right;\">\n",
              "      <th></th>\n",
              "      <th>index</th>\n",
              "      <th>QaA</th>\n",
              "      <th>QaE</th>\n",
              "      <th>QbA</th>\n",
              "      <th>QbE</th>\n",
              "      <th>QcA</th>\n",
              "      <th>QcE</th>\n",
              "      <th>QdA</th>\n",
              "      <th>QdE</th>\n",
              "      <th>QeA</th>\n",
              "      <th>...</th>\n",
              "      <th>wr_04</th>\n",
              "      <th>wr_05</th>\n",
              "      <th>wr_06</th>\n",
              "      <th>wr_07</th>\n",
              "      <th>wr_08</th>\n",
              "      <th>wr_09</th>\n",
              "      <th>wr_10</th>\n",
              "      <th>wr_11</th>\n",
              "      <th>wr_12</th>\n",
              "      <th>wr_13</th>\n",
              "    </tr>\n",
              "  </thead>\n",
              "  <tbody>\n",
              "    <tr>\n",
              "      <th>0</th>\n",
              "      <td>0</td>\n",
              "      <td>3.0</td>\n",
              "      <td>363</td>\n",
              "      <td>4.0</td>\n",
              "      <td>1370</td>\n",
              "      <td>5.0</td>\n",
              "      <td>997</td>\n",
              "      <td>1.0</td>\n",
              "      <td>1024</td>\n",
              "      <td>2.0</td>\n",
              "      <td>...</td>\n",
              "      <td>0</td>\n",
              "      <td>1</td>\n",
              "      <td>0</td>\n",
              "      <td>1</td>\n",
              "      <td>1</td>\n",
              "      <td>0</td>\n",
              "      <td>1</td>\n",
              "      <td>0</td>\n",
              "      <td>1</td>\n",
              "      <td>1</td>\n",
              "    </tr>\n",
              "    <tr>\n",
              "      <th>1</th>\n",
              "      <td>1</td>\n",
              "      <td>5.0</td>\n",
              "      <td>647</td>\n",
              "      <td>5.0</td>\n",
              "      <td>1313</td>\n",
              "      <td>3.0</td>\n",
              "      <td>3387</td>\n",
              "      <td>5.0</td>\n",
              "      <td>2969</td>\n",
              "      <td>1.0</td>\n",
              "      <td>...</td>\n",
              "      <td>1</td>\n",
              "      <td>1</td>\n",
              "      <td>0</td>\n",
              "      <td>1</td>\n",
              "      <td>1</td>\n",
              "      <td>0</td>\n",
              "      <td>1</td>\n",
              "      <td>0</td>\n",
              "      <td>1</td>\n",
              "      <td>1</td>\n",
              "    </tr>\n",
              "    <tr>\n",
              "      <th>2</th>\n",
              "      <td>2</td>\n",
              "      <td>4.0</td>\n",
              "      <td>1623</td>\n",
              "      <td>1.0</td>\n",
              "      <td>1480</td>\n",
              "      <td>1.0</td>\n",
              "      <td>1021</td>\n",
              "      <td>4.0</td>\n",
              "      <td>3374</td>\n",
              "      <td>5.0</td>\n",
              "      <td>...</td>\n",
              "      <td>1</td>\n",
              "      <td>1</td>\n",
              "      <td>0</td>\n",
              "      <td>1</td>\n",
              "      <td>1</td>\n",
              "      <td>1</td>\n",
              "      <td>1</td>\n",
              "      <td>0</td>\n",
              "      <td>1</td>\n",
              "      <td>1</td>\n",
              "    </tr>\n",
              "    <tr>\n",
              "      <th>3</th>\n",
              "      <td>3</td>\n",
              "      <td>3.0</td>\n",
              "      <td>504</td>\n",
              "      <td>3.0</td>\n",
              "      <td>2311</td>\n",
              "      <td>4.0</td>\n",
              "      <td>992</td>\n",
              "      <td>3.0</td>\n",
              "      <td>3245</td>\n",
              "      <td>1.0</td>\n",
              "      <td>...</td>\n",
              "      <td>0</td>\n",
              "      <td>0</td>\n",
              "      <td>0</td>\n",
              "      <td>0</td>\n",
              "      <td>1</td>\n",
              "      <td>0</td>\n",
              "      <td>1</td>\n",
              "      <td>0</td>\n",
              "      <td>1</td>\n",
              "      <td>1</td>\n",
              "    </tr>\n",
              "    <tr>\n",
              "      <th>4</th>\n",
              "      <td>4</td>\n",
              "      <td>1.0</td>\n",
              "      <td>927</td>\n",
              "      <td>1.0</td>\n",
              "      <td>707</td>\n",
              "      <td>5.0</td>\n",
              "      <td>556</td>\n",
              "      <td>2.0</td>\n",
              "      <td>1062</td>\n",
              "      <td>1.0</td>\n",
              "      <td>...</td>\n",
              "      <td>1</td>\n",
              "      <td>1</td>\n",
              "      <td>1</td>\n",
              "      <td>1</td>\n",
              "      <td>1</td>\n",
              "      <td>0</td>\n",
              "      <td>1</td>\n",
              "      <td>1</td>\n",
              "      <td>1</td>\n",
              "      <td>1</td>\n",
              "    </tr>\n",
              "    <tr>\n",
              "      <th>...</th>\n",
              "      <td>...</td>\n",
              "      <td>...</td>\n",
              "      <td>...</td>\n",
              "      <td>...</td>\n",
              "      <td>...</td>\n",
              "      <td>...</td>\n",
              "      <td>...</td>\n",
              "      <td>...</td>\n",
              "      <td>...</td>\n",
              "      <td>...</td>\n",
              "      <td>...</td>\n",
              "      <td>...</td>\n",
              "      <td>...</td>\n",
              "      <td>...</td>\n",
              "      <td>...</td>\n",
              "      <td>...</td>\n",
              "      <td>...</td>\n",
              "      <td>...</td>\n",
              "      <td>...</td>\n",
              "      <td>...</td>\n",
              "      <td>...</td>\n",
              "    </tr>\n",
              "    <tr>\n",
              "      <th>45527</th>\n",
              "      <td>45527</td>\n",
              "      <td>2.0</td>\n",
              "      <td>1050</td>\n",
              "      <td>5.0</td>\n",
              "      <td>619</td>\n",
              "      <td>4.0</td>\n",
              "      <td>328</td>\n",
              "      <td>1.0</td>\n",
              "      <td>285</td>\n",
              "      <td>1.0</td>\n",
              "      <td>...</td>\n",
              "      <td>1</td>\n",
              "      <td>1</td>\n",
              "      <td>0</td>\n",
              "      <td>1</td>\n",
              "      <td>1</td>\n",
              "      <td>1</td>\n",
              "      <td>1</td>\n",
              "      <td>0</td>\n",
              "      <td>1</td>\n",
              "      <td>1</td>\n",
              "    </tr>\n",
              "    <tr>\n",
              "      <th>45528</th>\n",
              "      <td>45528</td>\n",
              "      <td>2.0</td>\n",
              "      <td>581</td>\n",
              "      <td>3.0</td>\n",
              "      <td>1353</td>\n",
              "      <td>4.0</td>\n",
              "      <td>1164</td>\n",
              "      <td>1.0</td>\n",
              "      <td>798</td>\n",
              "      <td>3.0</td>\n",
              "      <td>...</td>\n",
              "      <td>1</td>\n",
              "      <td>1</td>\n",
              "      <td>0</td>\n",
              "      <td>1</td>\n",
              "      <td>1</td>\n",
              "      <td>1</td>\n",
              "      <td>1</td>\n",
              "      <td>0</td>\n",
              "      <td>1</td>\n",
              "      <td>1</td>\n",
              "    </tr>\n",
              "    <tr>\n",
              "      <th>45529</th>\n",
              "      <td>45529</td>\n",
              "      <td>4.0</td>\n",
              "      <td>593</td>\n",
              "      <td>1.0</td>\n",
              "      <td>857</td>\n",
              "      <td>1.0</td>\n",
              "      <td>1047</td>\n",
              "      <td>4.0</td>\n",
              "      <td>1515</td>\n",
              "      <td>5.0</td>\n",
              "      <td>...</td>\n",
              "      <td>1</td>\n",
              "      <td>1</td>\n",
              "      <td>0</td>\n",
              "      <td>1</td>\n",
              "      <td>1</td>\n",
              "      <td>0</td>\n",
              "      <td>1</td>\n",
              "      <td>0</td>\n",
              "      <td>1</td>\n",
              "      <td>1</td>\n",
              "    </tr>\n",
              "    <tr>\n",
              "      <th>45530</th>\n",
              "      <td>45530</td>\n",
              "      <td>1.0</td>\n",
              "      <td>747</td>\n",
              "      <td>3.0</td>\n",
              "      <td>1331</td>\n",
              "      <td>4.0</td>\n",
              "      <td>892</td>\n",
              "      <td>2.0</td>\n",
              "      <td>1281</td>\n",
              "      <td>1.0</td>\n",
              "      <td>...</td>\n",
              "      <td>1</td>\n",
              "      <td>1</td>\n",
              "      <td>0</td>\n",
              "      <td>1</td>\n",
              "      <td>1</td>\n",
              "      <td>1</td>\n",
              "      <td>1</td>\n",
              "      <td>0</td>\n",
              "      <td>1</td>\n",
              "      <td>1</td>\n",
              "    </tr>\n",
              "    <tr>\n",
              "      <th>45531</th>\n",
              "      <td>45531</td>\n",
              "      <td>3.0</td>\n",
              "      <td>496</td>\n",
              "      <td>5.0</td>\n",
              "      <td>1827</td>\n",
              "      <td>5.0</td>\n",
              "      <td>754</td>\n",
              "      <td>3.0</td>\n",
              "      <td>1117</td>\n",
              "      <td>1.0</td>\n",
              "      <td>...</td>\n",
              "      <td>1</td>\n",
              "      <td>1</td>\n",
              "      <td>0</td>\n",
              "      <td>1</td>\n",
              "      <td>1</td>\n",
              "      <td>0</td>\n",
              "      <td>1</td>\n",
              "      <td>0</td>\n",
              "      <td>1</td>\n",
              "      <td>1</td>\n",
              "    </tr>\n",
              "  </tbody>\n",
              "</table>\n",
              "<p>45532 rows × 78 columns</p>\n",
              "</div>"
            ],
            "text/plain": [
              "       index  QaA   QaE  QbA   QbE  QcA   QcE  QdA   QdE  QeA  ...  wr_04  \\\n",
              "0          0  3.0   363  4.0  1370  5.0   997  1.0  1024  2.0  ...      0   \n",
              "1          1  5.0   647  5.0  1313  3.0  3387  5.0  2969  1.0  ...      1   \n",
              "2          2  4.0  1623  1.0  1480  1.0  1021  4.0  3374  5.0  ...      1   \n",
              "3          3  3.0   504  3.0  2311  4.0   992  3.0  3245  1.0  ...      0   \n",
              "4          4  1.0   927  1.0   707  5.0   556  2.0  1062  1.0  ...      1   \n",
              "...      ...  ...   ...  ...   ...  ...   ...  ...   ...  ...  ...    ...   \n",
              "45527  45527  2.0  1050  5.0   619  4.0   328  1.0   285  1.0  ...      1   \n",
              "45528  45528  2.0   581  3.0  1353  4.0  1164  1.0   798  3.0  ...      1   \n",
              "45529  45529  4.0   593  1.0   857  1.0  1047  4.0  1515  5.0  ...      1   \n",
              "45530  45530  1.0   747  3.0  1331  4.0   892  2.0  1281  1.0  ...      1   \n",
              "45531  45531  3.0   496  5.0  1827  5.0   754  3.0  1117  1.0  ...      1   \n",
              "\n",
              "       wr_05  wr_06  wr_07  wr_08  wr_09  wr_10  wr_11  wr_12  wr_13  \n",
              "0          1      0      1      1      0      1      0      1      1  \n",
              "1          1      0      1      1      0      1      0      1      1  \n",
              "2          1      0      1      1      1      1      0      1      1  \n",
              "3          0      0      0      1      0      1      0      1      1  \n",
              "4          1      1      1      1      0      1      1      1      1  \n",
              "...      ...    ...    ...    ...    ...    ...    ...    ...    ...  \n",
              "45527      1      0      1      1      1      1      0      1      1  \n",
              "45528      1      0      1      1      1      1      0      1      1  \n",
              "45529      1      0      1      1      0      1      0      1      1  \n",
              "45530      1      0      1      1      1      1      0      1      1  \n",
              "45531      1      0      1      1      0      1      0      1      1  \n",
              "\n",
              "[45532 rows x 78 columns]"
            ]
          },
          "execution_count": 4,
          "metadata": {},
          "output_type": "execute_result"
        }
      ]
    },
    {
      "cell_type": "code",
      "metadata": {
        "id": "08d322a8"
      },
      "source": [
        "import pycaret\n",
        "from pycaret.classification import *"
      ],
      "id": "08d322a8",
      "execution_count": null,
      "outputs": []
    },
    {
      "cell_type": "code",
      "metadata": {
        "id": "ff00cbec"
      },
      "source": [
        "import xgboost\n",
        "import catboost"
      ],
      "id": "ff00cbec",
      "execution_count": null,
      "outputs": []
    },
    {
      "cell_type": "code",
      "metadata": {
        "id": "21f69abd"
      },
      "source": [
        ""
      ],
      "id": "21f69abd",
      "execution_count": null,
      "outputs": []
    },
    {
      "cell_type": "markdown",
      "metadata": {
        "id": "fd2d5794"
      },
      "source": [
        "## 실험 환경 구축 (Setup the environment)\n",
        "- PyCaret에서는 모델 학습 전 실험 환경을 구축 해주어야 합니다. setup 함수를 통해 환경을 구축할 수 있습니다.\n",
        "- setup 단계에서는 PyCaret이 자동으로 컬럼 형태를 인식합니다. 그 후 사용자에게 제대로 인식되었는지 확인을 받게 됩니다. 그 때 enter를 눌러주시면 됩니다.\n",
        "- 또한 주어진 데이터의 얼마를 사용하여 train / validation을 구축할지 묻게 되는데, 전체 데이터를 사용하고 싶다면 enter 눌러주시면 됩니다."
      ],
      "id": "fd2d5794"
    },
    {
      "cell_type": "code",
      "metadata": {
        "id": "a50f8c3a",
        "outputId": "4d605120-a2b3-4536-b20e-3e18341d419b"
      },
      "source": [
        "clf = setup(data=train, target='voted')"
      ],
      "id": "a50f8c3a",
      "execution_count": null,
      "outputs": [
        {
          "data": {
            "text/html": [
              "<style  type=\"text/css\" >\n",
              "#T_b8c5ad38_1521_11ec_89e7_64bc58911512row44_col1{\n",
              "            background-color:  lightgreen;\n",
              "        }</style><table id=\"T_b8c5ad38_1521_11ec_89e7_64bc58911512\" ><thead>    <tr>        <th class=\"blank level0\" ></th>        <th class=\"col_heading level0 col0\" >Description</th>        <th class=\"col_heading level0 col1\" >Value</th>    </tr></thead><tbody>\n",
              "                <tr>\n",
              "                        <th id=\"T_b8c5ad38_1521_11ec_89e7_64bc58911512level0_row0\" class=\"row_heading level0 row0\" >0</th>\n",
              "                        <td id=\"T_b8c5ad38_1521_11ec_89e7_64bc58911512row0_col0\" class=\"data row0 col0\" >session_id</td>\n",
              "                        <td id=\"T_b8c5ad38_1521_11ec_89e7_64bc58911512row0_col1\" class=\"data row0 col1\" >2414</td>\n",
              "            </tr>\n",
              "            <tr>\n",
              "                        <th id=\"T_b8c5ad38_1521_11ec_89e7_64bc58911512level0_row1\" class=\"row_heading level0 row1\" >1</th>\n",
              "                        <td id=\"T_b8c5ad38_1521_11ec_89e7_64bc58911512row1_col0\" class=\"data row1 col0\" >Target</td>\n",
              "                        <td id=\"T_b8c5ad38_1521_11ec_89e7_64bc58911512row1_col1\" class=\"data row1 col1\" >voted</td>\n",
              "            </tr>\n",
              "            <tr>\n",
              "                        <th id=\"T_b8c5ad38_1521_11ec_89e7_64bc58911512level0_row2\" class=\"row_heading level0 row2\" >2</th>\n",
              "                        <td id=\"T_b8c5ad38_1521_11ec_89e7_64bc58911512row2_col0\" class=\"data row2 col0\" >Target Type</td>\n",
              "                        <td id=\"T_b8c5ad38_1521_11ec_89e7_64bc58911512row2_col1\" class=\"data row2 col1\" >Binary</td>\n",
              "            </tr>\n",
              "            <tr>\n",
              "                        <th id=\"T_b8c5ad38_1521_11ec_89e7_64bc58911512level0_row3\" class=\"row_heading level0 row3\" >3</th>\n",
              "                        <td id=\"T_b8c5ad38_1521_11ec_89e7_64bc58911512row3_col0\" class=\"data row3 col0\" >Label Encoded</td>\n",
              "                        <td id=\"T_b8c5ad38_1521_11ec_89e7_64bc58911512row3_col1\" class=\"data row3 col1\" >1: 0, 2: 1</td>\n",
              "            </tr>\n",
              "            <tr>\n",
              "                        <th id=\"T_b8c5ad38_1521_11ec_89e7_64bc58911512level0_row4\" class=\"row_heading level0 row4\" >4</th>\n",
              "                        <td id=\"T_b8c5ad38_1521_11ec_89e7_64bc58911512row4_col0\" class=\"data row4 col0\" >Original Data</td>\n",
              "                        <td id=\"T_b8c5ad38_1521_11ec_89e7_64bc58911512row4_col1\" class=\"data row4 col1\" >(45532, 78)</td>\n",
              "            </tr>\n",
              "            <tr>\n",
              "                        <th id=\"T_b8c5ad38_1521_11ec_89e7_64bc58911512level0_row5\" class=\"row_heading level0 row5\" >5</th>\n",
              "                        <td id=\"T_b8c5ad38_1521_11ec_89e7_64bc58911512row5_col0\" class=\"data row5 col0\" >Missing Values</td>\n",
              "                        <td id=\"T_b8c5ad38_1521_11ec_89e7_64bc58911512row5_col1\" class=\"data row5 col1\" >False</td>\n",
              "            </tr>\n",
              "            <tr>\n",
              "                        <th id=\"T_b8c5ad38_1521_11ec_89e7_64bc58911512level0_row6\" class=\"row_heading level0 row6\" >6</th>\n",
              "                        <td id=\"T_b8c5ad38_1521_11ec_89e7_64bc58911512row6_col0\" class=\"data row6 col0\" >Numeric Features</td>\n",
              "                        <td id=\"T_b8c5ad38_1521_11ec_89e7_64bc58911512row6_col1\" class=\"data row6 col1\" >42</td>\n",
              "            </tr>\n",
              "            <tr>\n",
              "                        <th id=\"T_b8c5ad38_1521_11ec_89e7_64bc58911512level0_row7\" class=\"row_heading level0 row7\" >7</th>\n",
              "                        <td id=\"T_b8c5ad38_1521_11ec_89e7_64bc58911512row7_col0\" class=\"data row7 col0\" >Categorical Features</td>\n",
              "                        <td id=\"T_b8c5ad38_1521_11ec_89e7_64bc58911512row7_col1\" class=\"data row7 col1\" >35</td>\n",
              "            </tr>\n",
              "            <tr>\n",
              "                        <th id=\"T_b8c5ad38_1521_11ec_89e7_64bc58911512level0_row8\" class=\"row_heading level0 row8\" >8</th>\n",
              "                        <td id=\"T_b8c5ad38_1521_11ec_89e7_64bc58911512row8_col0\" class=\"data row8 col0\" >Ordinal Features</td>\n",
              "                        <td id=\"T_b8c5ad38_1521_11ec_89e7_64bc58911512row8_col1\" class=\"data row8 col1\" >False</td>\n",
              "            </tr>\n",
              "            <tr>\n",
              "                        <th id=\"T_b8c5ad38_1521_11ec_89e7_64bc58911512level0_row9\" class=\"row_heading level0 row9\" >9</th>\n",
              "                        <td id=\"T_b8c5ad38_1521_11ec_89e7_64bc58911512row9_col0\" class=\"data row9 col0\" >High Cardinality Features</td>\n",
              "                        <td id=\"T_b8c5ad38_1521_11ec_89e7_64bc58911512row9_col1\" class=\"data row9 col1\" >False</td>\n",
              "            </tr>\n",
              "            <tr>\n",
              "                        <th id=\"T_b8c5ad38_1521_11ec_89e7_64bc58911512level0_row10\" class=\"row_heading level0 row10\" >10</th>\n",
              "                        <td id=\"T_b8c5ad38_1521_11ec_89e7_64bc58911512row10_col0\" class=\"data row10 col0\" >High Cardinality Method</td>\n",
              "                        <td id=\"T_b8c5ad38_1521_11ec_89e7_64bc58911512row10_col1\" class=\"data row10 col1\" >None</td>\n",
              "            </tr>\n",
              "            <tr>\n",
              "                        <th id=\"T_b8c5ad38_1521_11ec_89e7_64bc58911512level0_row11\" class=\"row_heading level0 row11\" >11</th>\n",
              "                        <td id=\"T_b8c5ad38_1521_11ec_89e7_64bc58911512row11_col0\" class=\"data row11 col0\" >Transformed Train Set</td>\n",
              "                        <td id=\"T_b8c5ad38_1521_11ec_89e7_64bc58911512row11_col1\" class=\"data row11 col1\" >(31872, 183)</td>\n",
              "            </tr>\n",
              "            <tr>\n",
              "                        <th id=\"T_b8c5ad38_1521_11ec_89e7_64bc58911512level0_row12\" class=\"row_heading level0 row12\" >12</th>\n",
              "                        <td id=\"T_b8c5ad38_1521_11ec_89e7_64bc58911512row12_col0\" class=\"data row12 col0\" >Transformed Test Set</td>\n",
              "                        <td id=\"T_b8c5ad38_1521_11ec_89e7_64bc58911512row12_col1\" class=\"data row12 col1\" >(13660, 183)</td>\n",
              "            </tr>\n",
              "            <tr>\n",
              "                        <th id=\"T_b8c5ad38_1521_11ec_89e7_64bc58911512level0_row13\" class=\"row_heading level0 row13\" >13</th>\n",
              "                        <td id=\"T_b8c5ad38_1521_11ec_89e7_64bc58911512row13_col0\" class=\"data row13 col0\" >Shuffle Train-Test</td>\n",
              "                        <td id=\"T_b8c5ad38_1521_11ec_89e7_64bc58911512row13_col1\" class=\"data row13 col1\" >True</td>\n",
              "            </tr>\n",
              "            <tr>\n",
              "                        <th id=\"T_b8c5ad38_1521_11ec_89e7_64bc58911512level0_row14\" class=\"row_heading level0 row14\" >14</th>\n",
              "                        <td id=\"T_b8c5ad38_1521_11ec_89e7_64bc58911512row14_col0\" class=\"data row14 col0\" >Stratify Train-Test</td>\n",
              "                        <td id=\"T_b8c5ad38_1521_11ec_89e7_64bc58911512row14_col1\" class=\"data row14 col1\" >False</td>\n",
              "            </tr>\n",
              "            <tr>\n",
              "                        <th id=\"T_b8c5ad38_1521_11ec_89e7_64bc58911512level0_row15\" class=\"row_heading level0 row15\" >15</th>\n",
              "                        <td id=\"T_b8c5ad38_1521_11ec_89e7_64bc58911512row15_col0\" class=\"data row15 col0\" >Fold Generator</td>\n",
              "                        <td id=\"T_b8c5ad38_1521_11ec_89e7_64bc58911512row15_col1\" class=\"data row15 col1\" >StratifiedKFold</td>\n",
              "            </tr>\n",
              "            <tr>\n",
              "                        <th id=\"T_b8c5ad38_1521_11ec_89e7_64bc58911512level0_row16\" class=\"row_heading level0 row16\" >16</th>\n",
              "                        <td id=\"T_b8c5ad38_1521_11ec_89e7_64bc58911512row16_col0\" class=\"data row16 col0\" >Fold Number</td>\n",
              "                        <td id=\"T_b8c5ad38_1521_11ec_89e7_64bc58911512row16_col1\" class=\"data row16 col1\" >10</td>\n",
              "            </tr>\n",
              "            <tr>\n",
              "                        <th id=\"T_b8c5ad38_1521_11ec_89e7_64bc58911512level0_row17\" class=\"row_heading level0 row17\" >17</th>\n",
              "                        <td id=\"T_b8c5ad38_1521_11ec_89e7_64bc58911512row17_col0\" class=\"data row17 col0\" >CPU Jobs</td>\n",
              "                        <td id=\"T_b8c5ad38_1521_11ec_89e7_64bc58911512row17_col1\" class=\"data row17 col1\" >-1</td>\n",
              "            </tr>\n",
              "            <tr>\n",
              "                        <th id=\"T_b8c5ad38_1521_11ec_89e7_64bc58911512level0_row18\" class=\"row_heading level0 row18\" >18</th>\n",
              "                        <td id=\"T_b8c5ad38_1521_11ec_89e7_64bc58911512row18_col0\" class=\"data row18 col0\" >Use GPU</td>\n",
              "                        <td id=\"T_b8c5ad38_1521_11ec_89e7_64bc58911512row18_col1\" class=\"data row18 col1\" >False</td>\n",
              "            </tr>\n",
              "            <tr>\n",
              "                        <th id=\"T_b8c5ad38_1521_11ec_89e7_64bc58911512level0_row19\" class=\"row_heading level0 row19\" >19</th>\n",
              "                        <td id=\"T_b8c5ad38_1521_11ec_89e7_64bc58911512row19_col0\" class=\"data row19 col0\" >Log Experiment</td>\n",
              "                        <td id=\"T_b8c5ad38_1521_11ec_89e7_64bc58911512row19_col1\" class=\"data row19 col1\" >False</td>\n",
              "            </tr>\n",
              "            <tr>\n",
              "                        <th id=\"T_b8c5ad38_1521_11ec_89e7_64bc58911512level0_row20\" class=\"row_heading level0 row20\" >20</th>\n",
              "                        <td id=\"T_b8c5ad38_1521_11ec_89e7_64bc58911512row20_col0\" class=\"data row20 col0\" >Experiment Name</td>\n",
              "                        <td id=\"T_b8c5ad38_1521_11ec_89e7_64bc58911512row20_col1\" class=\"data row20 col1\" >clf-default-name</td>\n",
              "            </tr>\n",
              "            <tr>\n",
              "                        <th id=\"T_b8c5ad38_1521_11ec_89e7_64bc58911512level0_row21\" class=\"row_heading level0 row21\" >21</th>\n",
              "                        <td id=\"T_b8c5ad38_1521_11ec_89e7_64bc58911512row21_col0\" class=\"data row21 col0\" >USI</td>\n",
              "                        <td id=\"T_b8c5ad38_1521_11ec_89e7_64bc58911512row21_col1\" class=\"data row21 col1\" >cd42</td>\n",
              "            </tr>\n",
              "            <tr>\n",
              "                        <th id=\"T_b8c5ad38_1521_11ec_89e7_64bc58911512level0_row22\" class=\"row_heading level0 row22\" >22</th>\n",
              "                        <td id=\"T_b8c5ad38_1521_11ec_89e7_64bc58911512row22_col0\" class=\"data row22 col0\" >Imputation Type</td>\n",
              "                        <td id=\"T_b8c5ad38_1521_11ec_89e7_64bc58911512row22_col1\" class=\"data row22 col1\" >simple</td>\n",
              "            </tr>\n",
              "            <tr>\n",
              "                        <th id=\"T_b8c5ad38_1521_11ec_89e7_64bc58911512level0_row23\" class=\"row_heading level0 row23\" >23</th>\n",
              "                        <td id=\"T_b8c5ad38_1521_11ec_89e7_64bc58911512row23_col0\" class=\"data row23 col0\" >Iterative Imputation Iteration</td>\n",
              "                        <td id=\"T_b8c5ad38_1521_11ec_89e7_64bc58911512row23_col1\" class=\"data row23 col1\" >None</td>\n",
              "            </tr>\n",
              "            <tr>\n",
              "                        <th id=\"T_b8c5ad38_1521_11ec_89e7_64bc58911512level0_row24\" class=\"row_heading level0 row24\" >24</th>\n",
              "                        <td id=\"T_b8c5ad38_1521_11ec_89e7_64bc58911512row24_col0\" class=\"data row24 col0\" >Numeric Imputer</td>\n",
              "                        <td id=\"T_b8c5ad38_1521_11ec_89e7_64bc58911512row24_col1\" class=\"data row24 col1\" >mean</td>\n",
              "            </tr>\n",
              "            <tr>\n",
              "                        <th id=\"T_b8c5ad38_1521_11ec_89e7_64bc58911512level0_row25\" class=\"row_heading level0 row25\" >25</th>\n",
              "                        <td id=\"T_b8c5ad38_1521_11ec_89e7_64bc58911512row25_col0\" class=\"data row25 col0\" >Iterative Imputation Numeric Model</td>\n",
              "                        <td id=\"T_b8c5ad38_1521_11ec_89e7_64bc58911512row25_col1\" class=\"data row25 col1\" >None</td>\n",
              "            </tr>\n",
              "            <tr>\n",
              "                        <th id=\"T_b8c5ad38_1521_11ec_89e7_64bc58911512level0_row26\" class=\"row_heading level0 row26\" >26</th>\n",
              "                        <td id=\"T_b8c5ad38_1521_11ec_89e7_64bc58911512row26_col0\" class=\"data row26 col0\" >Categorical Imputer</td>\n",
              "                        <td id=\"T_b8c5ad38_1521_11ec_89e7_64bc58911512row26_col1\" class=\"data row26 col1\" >constant</td>\n",
              "            </tr>\n",
              "            <tr>\n",
              "                        <th id=\"T_b8c5ad38_1521_11ec_89e7_64bc58911512level0_row27\" class=\"row_heading level0 row27\" >27</th>\n",
              "                        <td id=\"T_b8c5ad38_1521_11ec_89e7_64bc58911512row27_col0\" class=\"data row27 col0\" >Iterative Imputation Categorical Model</td>\n",
              "                        <td id=\"T_b8c5ad38_1521_11ec_89e7_64bc58911512row27_col1\" class=\"data row27 col1\" >None</td>\n",
              "            </tr>\n",
              "            <tr>\n",
              "                        <th id=\"T_b8c5ad38_1521_11ec_89e7_64bc58911512level0_row28\" class=\"row_heading level0 row28\" >28</th>\n",
              "                        <td id=\"T_b8c5ad38_1521_11ec_89e7_64bc58911512row28_col0\" class=\"data row28 col0\" >Unknown Categoricals Handling</td>\n",
              "                        <td id=\"T_b8c5ad38_1521_11ec_89e7_64bc58911512row28_col1\" class=\"data row28 col1\" >least_frequent</td>\n",
              "            </tr>\n",
              "            <tr>\n",
              "                        <th id=\"T_b8c5ad38_1521_11ec_89e7_64bc58911512level0_row29\" class=\"row_heading level0 row29\" >29</th>\n",
              "                        <td id=\"T_b8c5ad38_1521_11ec_89e7_64bc58911512row29_col0\" class=\"data row29 col0\" >Normalize</td>\n",
              "                        <td id=\"T_b8c5ad38_1521_11ec_89e7_64bc58911512row29_col1\" class=\"data row29 col1\" >False</td>\n",
              "            </tr>\n",
              "            <tr>\n",
              "                        <th id=\"T_b8c5ad38_1521_11ec_89e7_64bc58911512level0_row30\" class=\"row_heading level0 row30\" >30</th>\n",
              "                        <td id=\"T_b8c5ad38_1521_11ec_89e7_64bc58911512row30_col0\" class=\"data row30 col0\" >Normalize Method</td>\n",
              "                        <td id=\"T_b8c5ad38_1521_11ec_89e7_64bc58911512row30_col1\" class=\"data row30 col1\" >None</td>\n",
              "            </tr>\n",
              "            <tr>\n",
              "                        <th id=\"T_b8c5ad38_1521_11ec_89e7_64bc58911512level0_row31\" class=\"row_heading level0 row31\" >31</th>\n",
              "                        <td id=\"T_b8c5ad38_1521_11ec_89e7_64bc58911512row31_col0\" class=\"data row31 col0\" >Transformation</td>\n",
              "                        <td id=\"T_b8c5ad38_1521_11ec_89e7_64bc58911512row31_col1\" class=\"data row31 col1\" >False</td>\n",
              "            </tr>\n",
              "            <tr>\n",
              "                        <th id=\"T_b8c5ad38_1521_11ec_89e7_64bc58911512level0_row32\" class=\"row_heading level0 row32\" >32</th>\n",
              "                        <td id=\"T_b8c5ad38_1521_11ec_89e7_64bc58911512row32_col0\" class=\"data row32 col0\" >Transformation Method</td>\n",
              "                        <td id=\"T_b8c5ad38_1521_11ec_89e7_64bc58911512row32_col1\" class=\"data row32 col1\" >None</td>\n",
              "            </tr>\n",
              "            <tr>\n",
              "                        <th id=\"T_b8c5ad38_1521_11ec_89e7_64bc58911512level0_row33\" class=\"row_heading level0 row33\" >33</th>\n",
              "                        <td id=\"T_b8c5ad38_1521_11ec_89e7_64bc58911512row33_col0\" class=\"data row33 col0\" >PCA</td>\n",
              "                        <td id=\"T_b8c5ad38_1521_11ec_89e7_64bc58911512row33_col1\" class=\"data row33 col1\" >False</td>\n",
              "            </tr>\n",
              "            <tr>\n",
              "                        <th id=\"T_b8c5ad38_1521_11ec_89e7_64bc58911512level0_row34\" class=\"row_heading level0 row34\" >34</th>\n",
              "                        <td id=\"T_b8c5ad38_1521_11ec_89e7_64bc58911512row34_col0\" class=\"data row34 col0\" >PCA Method</td>\n",
              "                        <td id=\"T_b8c5ad38_1521_11ec_89e7_64bc58911512row34_col1\" class=\"data row34 col1\" >None</td>\n",
              "            </tr>\n",
              "            <tr>\n",
              "                        <th id=\"T_b8c5ad38_1521_11ec_89e7_64bc58911512level0_row35\" class=\"row_heading level0 row35\" >35</th>\n",
              "                        <td id=\"T_b8c5ad38_1521_11ec_89e7_64bc58911512row35_col0\" class=\"data row35 col0\" >PCA Components</td>\n",
              "                        <td id=\"T_b8c5ad38_1521_11ec_89e7_64bc58911512row35_col1\" class=\"data row35 col1\" >None</td>\n",
              "            </tr>\n",
              "            <tr>\n",
              "                        <th id=\"T_b8c5ad38_1521_11ec_89e7_64bc58911512level0_row36\" class=\"row_heading level0 row36\" >36</th>\n",
              "                        <td id=\"T_b8c5ad38_1521_11ec_89e7_64bc58911512row36_col0\" class=\"data row36 col0\" >Ignore Low Variance</td>\n",
              "                        <td id=\"T_b8c5ad38_1521_11ec_89e7_64bc58911512row36_col1\" class=\"data row36 col1\" >False</td>\n",
              "            </tr>\n",
              "            <tr>\n",
              "                        <th id=\"T_b8c5ad38_1521_11ec_89e7_64bc58911512level0_row37\" class=\"row_heading level0 row37\" >37</th>\n",
              "                        <td id=\"T_b8c5ad38_1521_11ec_89e7_64bc58911512row37_col0\" class=\"data row37 col0\" >Combine Rare Levels</td>\n",
              "                        <td id=\"T_b8c5ad38_1521_11ec_89e7_64bc58911512row37_col1\" class=\"data row37 col1\" >False</td>\n",
              "            </tr>\n",
              "            <tr>\n",
              "                        <th id=\"T_b8c5ad38_1521_11ec_89e7_64bc58911512level0_row38\" class=\"row_heading level0 row38\" >38</th>\n",
              "                        <td id=\"T_b8c5ad38_1521_11ec_89e7_64bc58911512row38_col0\" class=\"data row38 col0\" >Rare Level Threshold</td>\n",
              "                        <td id=\"T_b8c5ad38_1521_11ec_89e7_64bc58911512row38_col1\" class=\"data row38 col1\" >None</td>\n",
              "            </tr>\n",
              "            <tr>\n",
              "                        <th id=\"T_b8c5ad38_1521_11ec_89e7_64bc58911512level0_row39\" class=\"row_heading level0 row39\" >39</th>\n",
              "                        <td id=\"T_b8c5ad38_1521_11ec_89e7_64bc58911512row39_col0\" class=\"data row39 col0\" >Numeric Binning</td>\n",
              "                        <td id=\"T_b8c5ad38_1521_11ec_89e7_64bc58911512row39_col1\" class=\"data row39 col1\" >False</td>\n",
              "            </tr>\n",
              "            <tr>\n",
              "                        <th id=\"T_b8c5ad38_1521_11ec_89e7_64bc58911512level0_row40\" class=\"row_heading level0 row40\" >40</th>\n",
              "                        <td id=\"T_b8c5ad38_1521_11ec_89e7_64bc58911512row40_col0\" class=\"data row40 col0\" >Remove Outliers</td>\n",
              "                        <td id=\"T_b8c5ad38_1521_11ec_89e7_64bc58911512row40_col1\" class=\"data row40 col1\" >False</td>\n",
              "            </tr>\n",
              "            <tr>\n",
              "                        <th id=\"T_b8c5ad38_1521_11ec_89e7_64bc58911512level0_row41\" class=\"row_heading level0 row41\" >41</th>\n",
              "                        <td id=\"T_b8c5ad38_1521_11ec_89e7_64bc58911512row41_col0\" class=\"data row41 col0\" >Outliers Threshold</td>\n",
              "                        <td id=\"T_b8c5ad38_1521_11ec_89e7_64bc58911512row41_col1\" class=\"data row41 col1\" >None</td>\n",
              "            </tr>\n",
              "            <tr>\n",
              "                        <th id=\"T_b8c5ad38_1521_11ec_89e7_64bc58911512level0_row42\" class=\"row_heading level0 row42\" >42</th>\n",
              "                        <td id=\"T_b8c5ad38_1521_11ec_89e7_64bc58911512row42_col0\" class=\"data row42 col0\" >Remove Multicollinearity</td>\n",
              "                        <td id=\"T_b8c5ad38_1521_11ec_89e7_64bc58911512row42_col1\" class=\"data row42 col1\" >False</td>\n",
              "            </tr>\n",
              "            <tr>\n",
              "                        <th id=\"T_b8c5ad38_1521_11ec_89e7_64bc58911512level0_row43\" class=\"row_heading level0 row43\" >43</th>\n",
              "                        <td id=\"T_b8c5ad38_1521_11ec_89e7_64bc58911512row43_col0\" class=\"data row43 col0\" >Multicollinearity Threshold</td>\n",
              "                        <td id=\"T_b8c5ad38_1521_11ec_89e7_64bc58911512row43_col1\" class=\"data row43 col1\" >None</td>\n",
              "            </tr>\n",
              "            <tr>\n",
              "                        <th id=\"T_b8c5ad38_1521_11ec_89e7_64bc58911512level0_row44\" class=\"row_heading level0 row44\" >44</th>\n",
              "                        <td id=\"T_b8c5ad38_1521_11ec_89e7_64bc58911512row44_col0\" class=\"data row44 col0\" >Remove Perfect Collinearity</td>\n",
              "                        <td id=\"T_b8c5ad38_1521_11ec_89e7_64bc58911512row44_col1\" class=\"data row44 col1\" >True</td>\n",
              "            </tr>\n",
              "            <tr>\n",
              "                        <th id=\"T_b8c5ad38_1521_11ec_89e7_64bc58911512level0_row45\" class=\"row_heading level0 row45\" >45</th>\n",
              "                        <td id=\"T_b8c5ad38_1521_11ec_89e7_64bc58911512row45_col0\" class=\"data row45 col0\" >Clustering</td>\n",
              "                        <td id=\"T_b8c5ad38_1521_11ec_89e7_64bc58911512row45_col1\" class=\"data row45 col1\" >False</td>\n",
              "            </tr>\n",
              "            <tr>\n",
              "                        <th id=\"T_b8c5ad38_1521_11ec_89e7_64bc58911512level0_row46\" class=\"row_heading level0 row46\" >46</th>\n",
              "                        <td id=\"T_b8c5ad38_1521_11ec_89e7_64bc58911512row46_col0\" class=\"data row46 col0\" >Clustering Iteration</td>\n",
              "                        <td id=\"T_b8c5ad38_1521_11ec_89e7_64bc58911512row46_col1\" class=\"data row46 col1\" >None</td>\n",
              "            </tr>\n",
              "            <tr>\n",
              "                        <th id=\"T_b8c5ad38_1521_11ec_89e7_64bc58911512level0_row47\" class=\"row_heading level0 row47\" >47</th>\n",
              "                        <td id=\"T_b8c5ad38_1521_11ec_89e7_64bc58911512row47_col0\" class=\"data row47 col0\" >Polynomial Features</td>\n",
              "                        <td id=\"T_b8c5ad38_1521_11ec_89e7_64bc58911512row47_col1\" class=\"data row47 col1\" >False</td>\n",
              "            </tr>\n",
              "            <tr>\n",
              "                        <th id=\"T_b8c5ad38_1521_11ec_89e7_64bc58911512level0_row48\" class=\"row_heading level0 row48\" >48</th>\n",
              "                        <td id=\"T_b8c5ad38_1521_11ec_89e7_64bc58911512row48_col0\" class=\"data row48 col0\" >Polynomial Degree</td>\n",
              "                        <td id=\"T_b8c5ad38_1521_11ec_89e7_64bc58911512row48_col1\" class=\"data row48 col1\" >None</td>\n",
              "            </tr>\n",
              "            <tr>\n",
              "                        <th id=\"T_b8c5ad38_1521_11ec_89e7_64bc58911512level0_row49\" class=\"row_heading level0 row49\" >49</th>\n",
              "                        <td id=\"T_b8c5ad38_1521_11ec_89e7_64bc58911512row49_col0\" class=\"data row49 col0\" >Trignometry Features</td>\n",
              "                        <td id=\"T_b8c5ad38_1521_11ec_89e7_64bc58911512row49_col1\" class=\"data row49 col1\" >False</td>\n",
              "            </tr>\n",
              "            <tr>\n",
              "                        <th id=\"T_b8c5ad38_1521_11ec_89e7_64bc58911512level0_row50\" class=\"row_heading level0 row50\" >50</th>\n",
              "                        <td id=\"T_b8c5ad38_1521_11ec_89e7_64bc58911512row50_col0\" class=\"data row50 col0\" >Polynomial Threshold</td>\n",
              "                        <td id=\"T_b8c5ad38_1521_11ec_89e7_64bc58911512row50_col1\" class=\"data row50 col1\" >None</td>\n",
              "            </tr>\n",
              "            <tr>\n",
              "                        <th id=\"T_b8c5ad38_1521_11ec_89e7_64bc58911512level0_row51\" class=\"row_heading level0 row51\" >51</th>\n",
              "                        <td id=\"T_b8c5ad38_1521_11ec_89e7_64bc58911512row51_col0\" class=\"data row51 col0\" >Group Features</td>\n",
              "                        <td id=\"T_b8c5ad38_1521_11ec_89e7_64bc58911512row51_col1\" class=\"data row51 col1\" >False</td>\n",
              "            </tr>\n",
              "            <tr>\n",
              "                        <th id=\"T_b8c5ad38_1521_11ec_89e7_64bc58911512level0_row52\" class=\"row_heading level0 row52\" >52</th>\n",
              "                        <td id=\"T_b8c5ad38_1521_11ec_89e7_64bc58911512row52_col0\" class=\"data row52 col0\" >Feature Selection</td>\n",
              "                        <td id=\"T_b8c5ad38_1521_11ec_89e7_64bc58911512row52_col1\" class=\"data row52 col1\" >False</td>\n",
              "            </tr>\n",
              "            <tr>\n",
              "                        <th id=\"T_b8c5ad38_1521_11ec_89e7_64bc58911512level0_row53\" class=\"row_heading level0 row53\" >53</th>\n",
              "                        <td id=\"T_b8c5ad38_1521_11ec_89e7_64bc58911512row53_col0\" class=\"data row53 col0\" >Feature Selection Method</td>\n",
              "                        <td id=\"T_b8c5ad38_1521_11ec_89e7_64bc58911512row53_col1\" class=\"data row53 col1\" >classic</td>\n",
              "            </tr>\n",
              "            <tr>\n",
              "                        <th id=\"T_b8c5ad38_1521_11ec_89e7_64bc58911512level0_row54\" class=\"row_heading level0 row54\" >54</th>\n",
              "                        <td id=\"T_b8c5ad38_1521_11ec_89e7_64bc58911512row54_col0\" class=\"data row54 col0\" >Features Selection Threshold</td>\n",
              "                        <td id=\"T_b8c5ad38_1521_11ec_89e7_64bc58911512row54_col1\" class=\"data row54 col1\" >None</td>\n",
              "            </tr>\n",
              "            <tr>\n",
              "                        <th id=\"T_b8c5ad38_1521_11ec_89e7_64bc58911512level0_row55\" class=\"row_heading level0 row55\" >55</th>\n",
              "                        <td id=\"T_b8c5ad38_1521_11ec_89e7_64bc58911512row55_col0\" class=\"data row55 col0\" >Feature Interaction</td>\n",
              "                        <td id=\"T_b8c5ad38_1521_11ec_89e7_64bc58911512row55_col1\" class=\"data row55 col1\" >False</td>\n",
              "            </tr>\n",
              "            <tr>\n",
              "                        <th id=\"T_b8c5ad38_1521_11ec_89e7_64bc58911512level0_row56\" class=\"row_heading level0 row56\" >56</th>\n",
              "                        <td id=\"T_b8c5ad38_1521_11ec_89e7_64bc58911512row56_col0\" class=\"data row56 col0\" >Feature Ratio</td>\n",
              "                        <td id=\"T_b8c5ad38_1521_11ec_89e7_64bc58911512row56_col1\" class=\"data row56 col1\" >False</td>\n",
              "            </tr>\n",
              "            <tr>\n",
              "                        <th id=\"T_b8c5ad38_1521_11ec_89e7_64bc58911512level0_row57\" class=\"row_heading level0 row57\" >57</th>\n",
              "                        <td id=\"T_b8c5ad38_1521_11ec_89e7_64bc58911512row57_col0\" class=\"data row57 col0\" >Interaction Threshold</td>\n",
              "                        <td id=\"T_b8c5ad38_1521_11ec_89e7_64bc58911512row57_col1\" class=\"data row57 col1\" >None</td>\n",
              "            </tr>\n",
              "            <tr>\n",
              "                        <th id=\"T_b8c5ad38_1521_11ec_89e7_64bc58911512level0_row58\" class=\"row_heading level0 row58\" >58</th>\n",
              "                        <td id=\"T_b8c5ad38_1521_11ec_89e7_64bc58911512row58_col0\" class=\"data row58 col0\" >Fix Imbalance</td>\n",
              "                        <td id=\"T_b8c5ad38_1521_11ec_89e7_64bc58911512row58_col1\" class=\"data row58 col1\" >False</td>\n",
              "            </tr>\n",
              "            <tr>\n",
              "                        <th id=\"T_b8c5ad38_1521_11ec_89e7_64bc58911512level0_row59\" class=\"row_heading level0 row59\" >59</th>\n",
              "                        <td id=\"T_b8c5ad38_1521_11ec_89e7_64bc58911512row59_col0\" class=\"data row59 col0\" >Fix Imbalance Method</td>\n",
              "                        <td id=\"T_b8c5ad38_1521_11ec_89e7_64bc58911512row59_col1\" class=\"data row59 col1\" >SMOTE</td>\n",
              "            </tr>\n",
              "    </tbody></table>"
            ],
            "text/plain": [
              "<pandas.io.formats.style.Styler at 0x1aabd2707f0>"
            ]
          },
          "metadata": {},
          "output_type": "display_data"
        }
      ]
    },
    {
      "cell_type": "markdown",
      "metadata": {
        "id": "3798852b"
      },
      "source": [
        "## 모델 학습 및 비교 (Train models and compare)\n",
        "- 환경 구축을 했으니 PyCaret에서 제공하는 기본 모델에 대해 학습하고 비교해보겠습니다.\n",
        "- compared_models 함수를 통해 15개의 기본 모델을 학습하고 성능을 비교할 수 있습니다.\n",
        "- AUC 기준으로 성능이 가장 좋은 3개의 모델을 추려내어 저장해보겠습니다. 본 대회 평가지표가 AUC이기 때문에 AUC 기준으로 모델을 선정합니다."
      ],
      "id": "3798852b"
    },
    {
      "cell_type": "code",
      "metadata": {
        "id": "8f49d5db",
        "outputId": "149b6184-ed2c-4256-c5f9-031dadbe3e6f"
      },
      "source": [
        "best_3 = compare_models(sort = 'AUC', n_select = 3)"
      ],
      "id": "8f49d5db",
      "execution_count": null,
      "outputs": [
        {
          "data": {
            "text/html": [
              "<style  type=\"text/css\" >\n",
              "    #T_a1b77092_1524_11ec_a1fd_64bc58911512 th {\n",
              "          text-align: left;\n",
              "    }#T_a1b77092_1524_11ec_a1fd_64bc58911512row0_col0,#T_a1b77092_1524_11ec_a1fd_64bc58911512row0_col3,#T_a1b77092_1524_11ec_a1fd_64bc58911512row0_col5,#T_a1b77092_1524_11ec_a1fd_64bc58911512row1_col0,#T_a1b77092_1524_11ec_a1fd_64bc58911512row1_col1,#T_a1b77092_1524_11ec_a1fd_64bc58911512row1_col2,#T_a1b77092_1524_11ec_a1fd_64bc58911512row1_col3,#T_a1b77092_1524_11ec_a1fd_64bc58911512row1_col4,#T_a1b77092_1524_11ec_a1fd_64bc58911512row1_col5,#T_a1b77092_1524_11ec_a1fd_64bc58911512row1_col6,#T_a1b77092_1524_11ec_a1fd_64bc58911512row1_col7,#T_a1b77092_1524_11ec_a1fd_64bc58911512row2_col0,#T_a1b77092_1524_11ec_a1fd_64bc58911512row2_col1,#T_a1b77092_1524_11ec_a1fd_64bc58911512row2_col2,#T_a1b77092_1524_11ec_a1fd_64bc58911512row2_col3,#T_a1b77092_1524_11ec_a1fd_64bc58911512row2_col4,#T_a1b77092_1524_11ec_a1fd_64bc58911512row2_col5,#T_a1b77092_1524_11ec_a1fd_64bc58911512row2_col6,#T_a1b77092_1524_11ec_a1fd_64bc58911512row2_col7,#T_a1b77092_1524_11ec_a1fd_64bc58911512row3_col0,#T_a1b77092_1524_11ec_a1fd_64bc58911512row3_col1,#T_a1b77092_1524_11ec_a1fd_64bc58911512row3_col2,#T_a1b77092_1524_11ec_a1fd_64bc58911512row3_col3,#T_a1b77092_1524_11ec_a1fd_64bc58911512row3_col4,#T_a1b77092_1524_11ec_a1fd_64bc58911512row3_col5,#T_a1b77092_1524_11ec_a1fd_64bc58911512row3_col6,#T_a1b77092_1524_11ec_a1fd_64bc58911512row3_col7,#T_a1b77092_1524_11ec_a1fd_64bc58911512row4_col0,#T_a1b77092_1524_11ec_a1fd_64bc58911512row4_col1,#T_a1b77092_1524_11ec_a1fd_64bc58911512row4_col2,#T_a1b77092_1524_11ec_a1fd_64bc58911512row4_col3,#T_a1b77092_1524_11ec_a1fd_64bc58911512row4_col4,#T_a1b77092_1524_11ec_a1fd_64bc58911512row4_col5,#T_a1b77092_1524_11ec_a1fd_64bc58911512row4_col6,#T_a1b77092_1524_11ec_a1fd_64bc58911512row4_col7,#T_a1b77092_1524_11ec_a1fd_64bc58911512row5_col0,#T_a1b77092_1524_11ec_a1fd_64bc58911512row5_col1,#T_a1b77092_1524_11ec_a1fd_64bc58911512row5_col2,#T_a1b77092_1524_11ec_a1fd_64bc58911512row5_col3,#T_a1b77092_1524_11ec_a1fd_64bc58911512row5_col4,#T_a1b77092_1524_11ec_a1fd_64bc58911512row5_col5,#T_a1b77092_1524_11ec_a1fd_64bc58911512row5_col6,#T_a1b77092_1524_11ec_a1fd_64bc58911512row5_col7,#T_a1b77092_1524_11ec_a1fd_64bc58911512row6_col0,#T_a1b77092_1524_11ec_a1fd_64bc58911512row6_col1,#T_a1b77092_1524_11ec_a1fd_64bc58911512row6_col2,#T_a1b77092_1524_11ec_a1fd_64bc58911512row6_col3,#T_a1b77092_1524_11ec_a1fd_64bc58911512row6_col4,#T_a1b77092_1524_11ec_a1fd_64bc58911512row6_col5,#T_a1b77092_1524_11ec_a1fd_64bc58911512row6_col6,#T_a1b77092_1524_11ec_a1fd_64bc58911512row6_col7,#T_a1b77092_1524_11ec_a1fd_64bc58911512row7_col0,#T_a1b77092_1524_11ec_a1fd_64bc58911512row7_col1,#T_a1b77092_1524_11ec_a1fd_64bc58911512row7_col2,#T_a1b77092_1524_11ec_a1fd_64bc58911512row7_col4,#T_a1b77092_1524_11ec_a1fd_64bc58911512row7_col6,#T_a1b77092_1524_11ec_a1fd_64bc58911512row7_col7,#T_a1b77092_1524_11ec_a1fd_64bc58911512row8_col0,#T_a1b77092_1524_11ec_a1fd_64bc58911512row8_col1,#T_a1b77092_1524_11ec_a1fd_64bc58911512row8_col2,#T_a1b77092_1524_11ec_a1fd_64bc58911512row8_col3,#T_a1b77092_1524_11ec_a1fd_64bc58911512row8_col4,#T_a1b77092_1524_11ec_a1fd_64bc58911512row8_col5,#T_a1b77092_1524_11ec_a1fd_64bc58911512row8_col6,#T_a1b77092_1524_11ec_a1fd_64bc58911512row8_col7,#T_a1b77092_1524_11ec_a1fd_64bc58911512row9_col0,#T_a1b77092_1524_11ec_a1fd_64bc58911512row9_col1,#T_a1b77092_1524_11ec_a1fd_64bc58911512row9_col2,#T_a1b77092_1524_11ec_a1fd_64bc58911512row9_col3,#T_a1b77092_1524_11ec_a1fd_64bc58911512row9_col4,#T_a1b77092_1524_11ec_a1fd_64bc58911512row9_col5,#T_a1b77092_1524_11ec_a1fd_64bc58911512row9_col6,#T_a1b77092_1524_11ec_a1fd_64bc58911512row9_col7,#T_a1b77092_1524_11ec_a1fd_64bc58911512row10_col0,#T_a1b77092_1524_11ec_a1fd_64bc58911512row10_col1,#T_a1b77092_1524_11ec_a1fd_64bc58911512row10_col2,#T_a1b77092_1524_11ec_a1fd_64bc58911512row10_col3,#T_a1b77092_1524_11ec_a1fd_64bc58911512row10_col4,#T_a1b77092_1524_11ec_a1fd_64bc58911512row10_col5,#T_a1b77092_1524_11ec_a1fd_64bc58911512row10_col6,#T_a1b77092_1524_11ec_a1fd_64bc58911512row10_col7,#T_a1b77092_1524_11ec_a1fd_64bc58911512row11_col0,#T_a1b77092_1524_11ec_a1fd_64bc58911512row11_col1,#T_a1b77092_1524_11ec_a1fd_64bc58911512row11_col2,#T_a1b77092_1524_11ec_a1fd_64bc58911512row11_col3,#T_a1b77092_1524_11ec_a1fd_64bc58911512row11_col4,#T_a1b77092_1524_11ec_a1fd_64bc58911512row11_col5,#T_a1b77092_1524_11ec_a1fd_64bc58911512row11_col6,#T_a1b77092_1524_11ec_a1fd_64bc58911512row11_col7,#T_a1b77092_1524_11ec_a1fd_64bc58911512row12_col0,#T_a1b77092_1524_11ec_a1fd_64bc58911512row12_col1,#T_a1b77092_1524_11ec_a1fd_64bc58911512row12_col2,#T_a1b77092_1524_11ec_a1fd_64bc58911512row12_col3,#T_a1b77092_1524_11ec_a1fd_64bc58911512row12_col4,#T_a1b77092_1524_11ec_a1fd_64bc58911512row12_col5,#T_a1b77092_1524_11ec_a1fd_64bc58911512row12_col6,#T_a1b77092_1524_11ec_a1fd_64bc58911512row12_col7{\n",
              "            text-align:  left;\n",
              "            text-align:  left;\n",
              "        }#T_a1b77092_1524_11ec_a1fd_64bc58911512row0_col1,#T_a1b77092_1524_11ec_a1fd_64bc58911512row0_col2,#T_a1b77092_1524_11ec_a1fd_64bc58911512row0_col4,#T_a1b77092_1524_11ec_a1fd_64bc58911512row0_col6,#T_a1b77092_1524_11ec_a1fd_64bc58911512row0_col7,#T_a1b77092_1524_11ec_a1fd_64bc58911512row7_col3,#T_a1b77092_1524_11ec_a1fd_64bc58911512row7_col5{\n",
              "            text-align:  left;\n",
              "            text-align:  left;\n",
              "            background-color:  yellow;\n",
              "        }#T_a1b77092_1524_11ec_a1fd_64bc58911512row0_col8,#T_a1b77092_1524_11ec_a1fd_64bc58911512row1_col8,#T_a1b77092_1524_11ec_a1fd_64bc58911512row2_col8,#T_a1b77092_1524_11ec_a1fd_64bc58911512row3_col8,#T_a1b77092_1524_11ec_a1fd_64bc58911512row4_col8,#T_a1b77092_1524_11ec_a1fd_64bc58911512row5_col8,#T_a1b77092_1524_11ec_a1fd_64bc58911512row6_col8,#T_a1b77092_1524_11ec_a1fd_64bc58911512row7_col8,#T_a1b77092_1524_11ec_a1fd_64bc58911512row8_col8,#T_a1b77092_1524_11ec_a1fd_64bc58911512row9_col8,#T_a1b77092_1524_11ec_a1fd_64bc58911512row10_col8,#T_a1b77092_1524_11ec_a1fd_64bc58911512row11_col8{\n",
              "            text-align:  left;\n",
              "            text-align:  left;\n",
              "            background-color:  lightgrey;\n",
              "        }#T_a1b77092_1524_11ec_a1fd_64bc58911512row12_col8{\n",
              "            text-align:  left;\n",
              "            text-align:  left;\n",
              "            background-color:  yellow;\n",
              "            background-color:  lightgrey;\n",
              "        }</style><table id=\"T_a1b77092_1524_11ec_a1fd_64bc58911512\" ><thead>    <tr>        <th class=\"blank level0\" ></th>        <th class=\"col_heading level0 col0\" >Model</th>        <th class=\"col_heading level0 col1\" >Accuracy</th>        <th class=\"col_heading level0 col2\" >AUC</th>        <th class=\"col_heading level0 col3\" >Recall</th>        <th class=\"col_heading level0 col4\" >Prec.</th>        <th class=\"col_heading level0 col5\" >F1</th>        <th class=\"col_heading level0 col6\" >Kappa</th>        <th class=\"col_heading level0 col7\" >MCC</th>        <th class=\"col_heading level0 col8\" >TT (Sec)</th>    </tr></thead><tbody>\n",
              "                <tr>\n",
              "                        <th id=\"T_a1b77092_1524_11ec_a1fd_64bc58911512level0_row0\" class=\"row_heading level0 row0\" >gbc</th>\n",
              "                        <td id=\"T_a1b77092_1524_11ec_a1fd_64bc58911512row0_col0\" class=\"data row0 col0\" >Gradient Boosting Classifier</td>\n",
              "                        <td id=\"T_a1b77092_1524_11ec_a1fd_64bc58911512row0_col1\" class=\"data row0 col1\" >0.6946</td>\n",
              "                        <td id=\"T_a1b77092_1524_11ec_a1fd_64bc58911512row0_col2\" class=\"data row0 col2\" >0.7670</td>\n",
              "                        <td id=\"T_a1b77092_1524_11ec_a1fd_64bc58911512row0_col3\" class=\"data row0 col3\" >0.6414</td>\n",
              "                        <td id=\"T_a1b77092_1524_11ec_a1fd_64bc58911512row0_col4\" class=\"data row0 col4\" >0.7653</td>\n",
              "                        <td id=\"T_a1b77092_1524_11ec_a1fd_64bc58911512row0_col5\" class=\"data row0 col5\" >0.6979</td>\n",
              "                        <td id=\"T_a1b77092_1524_11ec_a1fd_64bc58911512row0_col6\" class=\"data row0 col6\" >0.3940</td>\n",
              "                        <td id=\"T_a1b77092_1524_11ec_a1fd_64bc58911512row0_col7\" class=\"data row0 col7\" >0.4003</td>\n",
              "                        <td id=\"T_a1b77092_1524_11ec_a1fd_64bc58911512row0_col8\" class=\"data row0 col8\" >4.0590</td>\n",
              "            </tr>\n",
              "            <tr>\n",
              "                        <th id=\"T_a1b77092_1524_11ec_a1fd_64bc58911512level0_row1\" class=\"row_heading level0 row1\" >lightgbm</th>\n",
              "                        <td id=\"T_a1b77092_1524_11ec_a1fd_64bc58911512row1_col0\" class=\"data row1 col0\" >Light Gradient Boosting Machine</td>\n",
              "                        <td id=\"T_a1b77092_1524_11ec_a1fd_64bc58911512row1_col1\" class=\"data row1 col1\" >0.6939</td>\n",
              "                        <td id=\"T_a1b77092_1524_11ec_a1fd_64bc58911512row1_col2\" class=\"data row1 col2\" >0.7654</td>\n",
              "                        <td id=\"T_a1b77092_1524_11ec_a1fd_64bc58911512row1_col3\" class=\"data row1 col3\" >0.6512</td>\n",
              "                        <td id=\"T_a1b77092_1524_11ec_a1fd_64bc58911512row1_col4\" class=\"data row1 col4\" >0.7582</td>\n",
              "                        <td id=\"T_a1b77092_1524_11ec_a1fd_64bc58911512row1_col5\" class=\"data row1 col5\" >0.7006</td>\n",
              "                        <td id=\"T_a1b77092_1524_11ec_a1fd_64bc58911512row1_col6\" class=\"data row1 col6\" >0.3912</td>\n",
              "                        <td id=\"T_a1b77092_1524_11ec_a1fd_64bc58911512row1_col7\" class=\"data row1 col7\" >0.3960</td>\n",
              "                        <td id=\"T_a1b77092_1524_11ec_a1fd_64bc58911512row1_col8\" class=\"data row1 col8\" >0.3040</td>\n",
              "            </tr>\n",
              "            <tr>\n",
              "                        <th id=\"T_a1b77092_1524_11ec_a1fd_64bc58911512level0_row2\" class=\"row_heading level0 row2\" >lda</th>\n",
              "                        <td id=\"T_a1b77092_1524_11ec_a1fd_64bc58911512row2_col0\" class=\"data row2 col0\" >Linear Discriminant Analysis</td>\n",
              "                        <td id=\"T_a1b77092_1524_11ec_a1fd_64bc58911512row2_col1\" class=\"data row2 col1\" >0.6943</td>\n",
              "                        <td id=\"T_a1b77092_1524_11ec_a1fd_64bc58911512row2_col2\" class=\"data row2 col2\" >0.7636</td>\n",
              "                        <td id=\"T_a1b77092_1524_11ec_a1fd_64bc58911512row2_col3\" class=\"data row2 col3\" >0.6667</td>\n",
              "                        <td id=\"T_a1b77092_1524_11ec_a1fd_64bc58911512row2_col4\" class=\"data row2 col4\" >0.7497</td>\n",
              "                        <td id=\"T_a1b77092_1524_11ec_a1fd_64bc58911512row2_col5\" class=\"data row2 col5\" >0.7057</td>\n",
              "                        <td id=\"T_a1b77092_1524_11ec_a1fd_64bc58911512row2_col6\" class=\"data row2 col6\" >0.3899</td>\n",
              "                        <td id=\"T_a1b77092_1524_11ec_a1fd_64bc58911512row2_col7\" class=\"data row2 col7\" >0.3929</td>\n",
              "                        <td id=\"T_a1b77092_1524_11ec_a1fd_64bc58911512row2_col8\" class=\"data row2 col8\" >0.8890</td>\n",
              "            </tr>\n",
              "            <tr>\n",
              "                        <th id=\"T_a1b77092_1524_11ec_a1fd_64bc58911512level0_row3\" class=\"row_heading level0 row3\" >et</th>\n",
              "                        <td id=\"T_a1b77092_1524_11ec_a1fd_64bc58911512row3_col0\" class=\"data row3 col0\" >Extra Trees Classifier</td>\n",
              "                        <td id=\"T_a1b77092_1524_11ec_a1fd_64bc58911512row3_col1\" class=\"data row3 col1\" >0.6928</td>\n",
              "                        <td id=\"T_a1b77092_1524_11ec_a1fd_64bc58911512row3_col2\" class=\"data row3 col2\" >0.7620</td>\n",
              "                        <td id=\"T_a1b77092_1524_11ec_a1fd_64bc58911512row3_col3\" class=\"data row3 col3\" >0.6508</td>\n",
              "                        <td id=\"T_a1b77092_1524_11ec_a1fd_64bc58911512row3_col4\" class=\"data row3 col4\" >0.7566</td>\n",
              "                        <td id=\"T_a1b77092_1524_11ec_a1fd_64bc58911512row3_col5\" class=\"data row3 col5\" >0.6997</td>\n",
              "                        <td id=\"T_a1b77092_1524_11ec_a1fd_64bc58911512row3_col6\" class=\"data row3 col6\" >0.3888</td>\n",
              "                        <td id=\"T_a1b77092_1524_11ec_a1fd_64bc58911512row3_col7\" class=\"data row3 col7\" >0.3935</td>\n",
              "                        <td id=\"T_a1b77092_1524_11ec_a1fd_64bc58911512row3_col8\" class=\"data row3 col8\" >2.3120</td>\n",
              "            </tr>\n",
              "            <tr>\n",
              "                        <th id=\"T_a1b77092_1524_11ec_a1fd_64bc58911512level0_row4\" class=\"row_heading level0 row4\" >ada</th>\n",
              "                        <td id=\"T_a1b77092_1524_11ec_a1fd_64bc58911512row4_col0\" class=\"data row4 col0\" >Ada Boost Classifier</td>\n",
              "                        <td id=\"T_a1b77092_1524_11ec_a1fd_64bc58911512row4_col1\" class=\"data row4 col1\" >0.6931</td>\n",
              "                        <td id=\"T_a1b77092_1524_11ec_a1fd_64bc58911512row4_col2\" class=\"data row4 col2\" >0.7590</td>\n",
              "                        <td id=\"T_a1b77092_1524_11ec_a1fd_64bc58911512row4_col3\" class=\"data row4 col3\" >0.6607</td>\n",
              "                        <td id=\"T_a1b77092_1524_11ec_a1fd_64bc58911512row4_col4\" class=\"data row4 col4\" >0.7513</td>\n",
              "                        <td id=\"T_a1b77092_1524_11ec_a1fd_64bc58911512row4_col5\" class=\"data row4 col5\" >0.7030</td>\n",
              "                        <td id=\"T_a1b77092_1524_11ec_a1fd_64bc58911512row4_col6\" class=\"data row4 col6\" >0.3881</td>\n",
              "                        <td id=\"T_a1b77092_1524_11ec_a1fd_64bc58911512row4_col7\" class=\"data row4 col7\" >0.3916</td>\n",
              "                        <td id=\"T_a1b77092_1524_11ec_a1fd_64bc58911512row4_col8\" class=\"data row4 col8\" >0.8650</td>\n",
              "            </tr>\n",
              "            <tr>\n",
              "                        <th id=\"T_a1b77092_1524_11ec_a1fd_64bc58911512level0_row5\" class=\"row_heading level0 row5\" >rf</th>\n",
              "                        <td id=\"T_a1b77092_1524_11ec_a1fd_64bc58911512row5_col0\" class=\"data row5 col0\" >Random Forest Classifier</td>\n",
              "                        <td id=\"T_a1b77092_1524_11ec_a1fd_64bc58911512row5_col1\" class=\"data row5 col1\" >0.6901</td>\n",
              "                        <td id=\"T_a1b77092_1524_11ec_a1fd_64bc58911512row5_col2\" class=\"data row5 col2\" >0.7564</td>\n",
              "                        <td id=\"T_a1b77092_1524_11ec_a1fd_64bc58911512row5_col3\" class=\"data row5 col3\" >0.6452</td>\n",
              "                        <td id=\"T_a1b77092_1524_11ec_a1fd_64bc58911512row5_col4\" class=\"data row5 col4\" >0.7557</td>\n",
              "                        <td id=\"T_a1b77092_1524_11ec_a1fd_64bc58911512row5_col5\" class=\"data row5 col5\" >0.6960</td>\n",
              "                        <td id=\"T_a1b77092_1524_11ec_a1fd_64bc58911512row5_col6\" class=\"data row5 col6\" >0.3840</td>\n",
              "                        <td id=\"T_a1b77092_1524_11ec_a1fd_64bc58911512row5_col7\" class=\"data row5 col7\" >0.3891</td>\n",
              "                        <td id=\"T_a1b77092_1524_11ec_a1fd_64bc58911512row5_col8\" class=\"data row5 col8\" >1.7120</td>\n",
              "            </tr>\n",
              "            <tr>\n",
              "                        <th id=\"T_a1b77092_1524_11ec_a1fd_64bc58911512level0_row6\" class=\"row_heading level0 row6\" >dt</th>\n",
              "                        <td id=\"T_a1b77092_1524_11ec_a1fd_64bc58911512row6_col0\" class=\"data row6 col0\" >Decision Tree Classifier</td>\n",
              "                        <td id=\"T_a1b77092_1524_11ec_a1fd_64bc58911512row6_col1\" class=\"data row6 col1\" >0.6084</td>\n",
              "                        <td id=\"T_a1b77092_1524_11ec_a1fd_64bc58911512row6_col2\" class=\"data row6 col2\" >0.6046</td>\n",
              "                        <td id=\"T_a1b77092_1524_11ec_a1fd_64bc58911512row6_col3\" class=\"data row6 col3\" >0.6425</td>\n",
              "                        <td id=\"T_a1b77092_1524_11ec_a1fd_64bc58911512row6_col4\" class=\"data row6 col4\" >0.6444</td>\n",
              "                        <td id=\"T_a1b77092_1524_11ec_a1fd_64bc58911512row6_col5\" class=\"data row6 col5\" >0.6434</td>\n",
              "                        <td id=\"T_a1b77092_1524_11ec_a1fd_64bc58911512row6_col6\" class=\"data row6 col6\" >0.2091</td>\n",
              "                        <td id=\"T_a1b77092_1524_11ec_a1fd_64bc58911512row6_col7\" class=\"data row6 col7\" >0.2092</td>\n",
              "                        <td id=\"T_a1b77092_1524_11ec_a1fd_64bc58911512row6_col8\" class=\"data row6 col8\" >0.3990</td>\n",
              "            </tr>\n",
              "            <tr>\n",
              "                        <th id=\"T_a1b77092_1524_11ec_a1fd_64bc58911512level0_row7\" class=\"row_heading level0 row7\" >lr</th>\n",
              "                        <td id=\"T_a1b77092_1524_11ec_a1fd_64bc58911512row7_col0\" class=\"data row7 col0\" >Logistic Regression</td>\n",
              "                        <td id=\"T_a1b77092_1524_11ec_a1fd_64bc58911512row7_col1\" class=\"data row7 col1\" >0.5516</td>\n",
              "                        <td id=\"T_a1b77092_1524_11ec_a1fd_64bc58911512row7_col2\" class=\"data row7 col2\" >0.5869</td>\n",
              "                        <td id=\"T_a1b77092_1524_11ec_a1fd_64bc58911512row7_col3\" class=\"data row7 col3\" >0.9907</td>\n",
              "                        <td id=\"T_a1b77092_1524_11ec_a1fd_64bc58911512row7_col4\" class=\"data row7 col4\" >0.5514</td>\n",
              "                        <td id=\"T_a1b77092_1524_11ec_a1fd_64bc58911512row7_col5\" class=\"data row7 col5\" >0.7085</td>\n",
              "                        <td id=\"T_a1b77092_1524_11ec_a1fd_64bc58911512row7_col6\" class=\"data row7 col6\" >0.0062</td>\n",
              "                        <td id=\"T_a1b77092_1524_11ec_a1fd_64bc58911512row7_col7\" class=\"data row7 col7\" >0.0219</td>\n",
              "                        <td id=\"T_a1b77092_1524_11ec_a1fd_64bc58911512row7_col8\" class=\"data row7 col8\" >2.1460</td>\n",
              "            </tr>\n",
              "            <tr>\n",
              "                        <th id=\"T_a1b77092_1524_11ec_a1fd_64bc58911512level0_row8\" class=\"row_heading level0 row8\" >nb</th>\n",
              "                        <td id=\"T_a1b77092_1524_11ec_a1fd_64bc58911512row8_col0\" class=\"data row8 col0\" >Naive Bayes</td>\n",
              "                        <td id=\"T_a1b77092_1524_11ec_a1fd_64bc58911512row8_col1\" class=\"data row8 col1\" >0.4808</td>\n",
              "                        <td id=\"T_a1b77092_1524_11ec_a1fd_64bc58911512row8_col2\" class=\"data row8 col2\" >0.5275</td>\n",
              "                        <td id=\"T_a1b77092_1524_11ec_a1fd_64bc58911512row8_col3\" class=\"data row8 col3\" >0.3136</td>\n",
              "                        <td id=\"T_a1b77092_1524_11ec_a1fd_64bc58911512row8_col4\" class=\"data row8 col4\" >0.5402</td>\n",
              "                        <td id=\"T_a1b77092_1524_11ec_a1fd_64bc58911512row8_col5\" class=\"data row8 col5\" >0.2526</td>\n",
              "                        <td id=\"T_a1b77092_1524_11ec_a1fd_64bc58911512row8_col6\" class=\"data row8 col6\" >-0.0012</td>\n",
              "                        <td id=\"T_a1b77092_1524_11ec_a1fd_64bc58911512row8_col7\" class=\"data row8 col7\" >-0.0025</td>\n",
              "                        <td id=\"T_a1b77092_1524_11ec_a1fd_64bc58911512row8_col8\" class=\"data row8 col8\" >0.0870</td>\n",
              "            </tr>\n",
              "            <tr>\n",
              "                        <th id=\"T_a1b77092_1524_11ec_a1fd_64bc58911512level0_row9\" class=\"row_heading level0 row9\" >knn</th>\n",
              "                        <td id=\"T_a1b77092_1524_11ec_a1fd_64bc58911512row9_col0\" class=\"data row9 col0\" >K Neighbors Classifier</td>\n",
              "                        <td id=\"T_a1b77092_1524_11ec_a1fd_64bc58911512row9_col1\" class=\"data row9 col1\" >0.5151</td>\n",
              "                        <td id=\"T_a1b77092_1524_11ec_a1fd_64bc58911512row9_col2\" class=\"data row9 col2\" >0.5103</td>\n",
              "                        <td id=\"T_a1b77092_1524_11ec_a1fd_64bc58911512row9_col3\" class=\"data row9 col3\" >0.5642</td>\n",
              "                        <td id=\"T_a1b77092_1524_11ec_a1fd_64bc58911512row9_col4\" class=\"data row9 col4\" >0.5586</td>\n",
              "                        <td id=\"T_a1b77092_1524_11ec_a1fd_64bc58911512row9_col5\" class=\"data row9 col5\" >0.5614</td>\n",
              "                        <td id=\"T_a1b77092_1524_11ec_a1fd_64bc58911512row9_col6\" class=\"data row9 col6\" >0.0194</td>\n",
              "                        <td id=\"T_a1b77092_1524_11ec_a1fd_64bc58911512row9_col7\" class=\"data row9 col7\" >0.0194</td>\n",
              "                        <td id=\"T_a1b77092_1524_11ec_a1fd_64bc58911512row9_col8\" class=\"data row9 col8\" >8.4120</td>\n",
              "            </tr>\n",
              "            <tr>\n",
              "                        <th id=\"T_a1b77092_1524_11ec_a1fd_64bc58911512level0_row10\" class=\"row_heading level0 row10\" >qda</th>\n",
              "                        <td id=\"T_a1b77092_1524_11ec_a1fd_64bc58911512row10_col0\" class=\"data row10 col0\" >Quadratic Discriminant Analysis</td>\n",
              "                        <td id=\"T_a1b77092_1524_11ec_a1fd_64bc58911512row10_col1\" class=\"data row10 col1\" >0.4501</td>\n",
              "                        <td id=\"T_a1b77092_1524_11ec_a1fd_64bc58911512row10_col2\" class=\"data row10 col2\" >0.5000</td>\n",
              "                        <td id=\"T_a1b77092_1524_11ec_a1fd_64bc58911512row10_col3\" class=\"data row10 col3\" >0.0001</td>\n",
              "                        <td id=\"T_a1b77092_1524_11ec_a1fd_64bc58911512row10_col4\" class=\"data row10 col4\" >0.2000</td>\n",
              "                        <td id=\"T_a1b77092_1524_11ec_a1fd_64bc58911512row10_col5\" class=\"data row10 col5\" >0.0002</td>\n",
              "                        <td id=\"T_a1b77092_1524_11ec_a1fd_64bc58911512row10_col6\" class=\"data row10 col6\" >0.0000</td>\n",
              "                        <td id=\"T_a1b77092_1524_11ec_a1fd_64bc58911512row10_col7\" class=\"data row10 col7\" >0.0012</td>\n",
              "                        <td id=\"T_a1b77092_1524_11ec_a1fd_64bc58911512row10_col8\" class=\"data row10 col8\" >0.7020</td>\n",
              "            </tr>\n",
              "            <tr>\n",
              "                        <th id=\"T_a1b77092_1524_11ec_a1fd_64bc58911512level0_row11\" class=\"row_heading level0 row11\" >svm</th>\n",
              "                        <td id=\"T_a1b77092_1524_11ec_a1fd_64bc58911512row11_col0\" class=\"data row11 col0\" >SVM - Linear Kernel</td>\n",
              "                        <td id=\"T_a1b77092_1524_11ec_a1fd_64bc58911512row11_col1\" class=\"data row11 col1\" >0.4988</td>\n",
              "                        <td id=\"T_a1b77092_1524_11ec_a1fd_64bc58911512row11_col2\" class=\"data row11 col2\" >0.0000</td>\n",
              "                        <td id=\"T_a1b77092_1524_11ec_a1fd_64bc58911512row11_col3\" class=\"data row11 col3\" >0.5051</td>\n",
              "                        <td id=\"T_a1b77092_1524_11ec_a1fd_64bc58911512row11_col4\" class=\"data row11 col4\" >0.5483</td>\n",
              "                        <td id=\"T_a1b77092_1524_11ec_a1fd_64bc58911512row11_col5\" class=\"data row11 col5\" >0.5232</td>\n",
              "                        <td id=\"T_a1b77092_1524_11ec_a1fd_64bc58911512row11_col6\" class=\"data row11 col6\" >-0.0039</td>\n",
              "                        <td id=\"T_a1b77092_1524_11ec_a1fd_64bc58911512row11_col7\" class=\"data row11 col7\" >-0.0039</td>\n",
              "                        <td id=\"T_a1b77092_1524_11ec_a1fd_64bc58911512row11_col8\" class=\"data row11 col8\" >0.1020</td>\n",
              "            </tr>\n",
              "            <tr>\n",
              "                        <th id=\"T_a1b77092_1524_11ec_a1fd_64bc58911512level0_row12\" class=\"row_heading level0 row12\" >ridge</th>\n",
              "                        <td id=\"T_a1b77092_1524_11ec_a1fd_64bc58911512row12_col0\" class=\"data row12 col0\" >Ridge Classifier</td>\n",
              "                        <td id=\"T_a1b77092_1524_11ec_a1fd_64bc58911512row12_col1\" class=\"data row12 col1\" >0.6941</td>\n",
              "                        <td id=\"T_a1b77092_1524_11ec_a1fd_64bc58911512row12_col2\" class=\"data row12 col2\" >0.0000</td>\n",
              "                        <td id=\"T_a1b77092_1524_11ec_a1fd_64bc58911512row12_col3\" class=\"data row12 col3\" >0.6667</td>\n",
              "                        <td id=\"T_a1b77092_1524_11ec_a1fd_64bc58911512row12_col4\" class=\"data row12 col4\" >0.7495</td>\n",
              "                        <td id=\"T_a1b77092_1524_11ec_a1fd_64bc58911512row12_col5\" class=\"data row12 col5\" >0.7056</td>\n",
              "                        <td id=\"T_a1b77092_1524_11ec_a1fd_64bc58911512row12_col6\" class=\"data row12 col6\" >0.3896</td>\n",
              "                        <td id=\"T_a1b77092_1524_11ec_a1fd_64bc58911512row12_col7\" class=\"data row12 col7\" >0.3925</td>\n",
              "                        <td id=\"T_a1b77092_1524_11ec_a1fd_64bc58911512row12_col8\" class=\"data row12 col8\" >0.0610</td>\n",
              "            </tr>\n",
              "    </tbody></table>"
            ],
            "text/plain": [
              "<pandas.io.formats.style.Styler at 0x1aabb927d30>"
            ]
          },
          "metadata": {},
          "output_type": "display_data"
        }
      ]
    },
    {
      "cell_type": "markdown",
      "metadata": {
        "id": "63c42bf4"
      },
      "source": [
        "## 모델 앙상블 (Model Ensemble)\n",
        "- 학습된 3개의 모델을 앙상블 시키도록 하겠습니다. 본 대회는 score 최적화를 위해 확률 값을 예측해야 하므로 soft vote ensemble을 진행하겠습니다."
      ],
      "id": "63c42bf4"
    },
    {
      "cell_type": "code",
      "metadata": {
        "id": "fd1a0b8c",
        "outputId": "6ee8344f-c70c-402e-9315-7bfbf5e0d331"
      },
      "source": [
        "blended = blend_models(estimator_list = best_3, fold = 5, method = 'soft')"
      ],
      "id": "fd1a0b8c",
      "execution_count": null,
      "outputs": [
        {
          "data": {
            "text/html": [
              "<style  type=\"text/css\" >\n",
              "#T_e1d2126e_1522_11ec_974c_64bc58911512row5_col0,#T_e1d2126e_1522_11ec_974c_64bc58911512row5_col1,#T_e1d2126e_1522_11ec_974c_64bc58911512row5_col2,#T_e1d2126e_1522_11ec_974c_64bc58911512row5_col3,#T_e1d2126e_1522_11ec_974c_64bc58911512row5_col4,#T_e1d2126e_1522_11ec_974c_64bc58911512row5_col5,#T_e1d2126e_1522_11ec_974c_64bc58911512row5_col6{\n",
              "            background:  yellow;\n",
              "        }</style><table id=\"T_e1d2126e_1522_11ec_974c_64bc58911512\" ><thead>    <tr>        <th class=\"blank level0\" ></th>        <th class=\"col_heading level0 col0\" >Accuracy</th>        <th class=\"col_heading level0 col1\" >AUC</th>        <th class=\"col_heading level0 col2\" >Recall</th>        <th class=\"col_heading level0 col3\" >Prec.</th>        <th class=\"col_heading level0 col4\" >F1</th>        <th class=\"col_heading level0 col5\" >Kappa</th>        <th class=\"col_heading level0 col6\" >MCC</th>    </tr></thead><tbody>\n",
              "                <tr>\n",
              "                        <th id=\"T_e1d2126e_1522_11ec_974c_64bc58911512level0_row0\" class=\"row_heading level0 row0\" >0</th>\n",
              "                        <td id=\"T_e1d2126e_1522_11ec_974c_64bc58911512row0_col0\" class=\"data row0 col0\" >0.6960</td>\n",
              "                        <td id=\"T_e1d2126e_1522_11ec_974c_64bc58911512row0_col1\" class=\"data row0 col1\" >0.7718</td>\n",
              "                        <td id=\"T_e1d2126e_1522_11ec_974c_64bc58911512row0_col2\" class=\"data row0 col2\" >0.6640</td>\n",
              "                        <td id=\"T_e1d2126e_1522_11ec_974c_64bc58911512row0_col3\" class=\"data row0 col3\" >0.7539</td>\n",
              "                        <td id=\"T_e1d2126e_1522_11ec_974c_64bc58911512row0_col4\" class=\"data row0 col4\" >0.7061</td>\n",
              "                        <td id=\"T_e1d2126e_1522_11ec_974c_64bc58911512row0_col5\" class=\"data row0 col5\" >0.3939</td>\n",
              "                        <td id=\"T_e1d2126e_1522_11ec_974c_64bc58911512row0_col6\" class=\"data row0 col6\" >0.3973</td>\n",
              "            </tr>\n",
              "            <tr>\n",
              "                        <th id=\"T_e1d2126e_1522_11ec_974c_64bc58911512level0_row1\" class=\"row_heading level0 row1\" >1</th>\n",
              "                        <td id=\"T_e1d2126e_1522_11ec_974c_64bc58911512row1_col0\" class=\"data row1 col0\" >0.7015</td>\n",
              "                        <td id=\"T_e1d2126e_1522_11ec_974c_64bc58911512row1_col1\" class=\"data row1 col1\" >0.7713</td>\n",
              "                        <td id=\"T_e1d2126e_1522_11ec_974c_64bc58911512row1_col2\" class=\"data row1 col2\" >0.6557</td>\n",
              "                        <td id=\"T_e1d2126e_1522_11ec_974c_64bc58911512row1_col3\" class=\"data row1 col3\" >0.7676</td>\n",
              "                        <td id=\"T_e1d2126e_1522_11ec_974c_64bc58911512row1_col4\" class=\"data row1 col4\" >0.7073</td>\n",
              "                        <td id=\"T_e1d2126e_1522_11ec_974c_64bc58911512row1_col5\" class=\"data row1 col5\" >0.4066</td>\n",
              "                        <td id=\"T_e1d2126e_1522_11ec_974c_64bc58911512row1_col6\" class=\"data row1 col6\" >0.4118</td>\n",
              "            </tr>\n",
              "            <tr>\n",
              "                        <th id=\"T_e1d2126e_1522_11ec_974c_64bc58911512level0_row2\" class=\"row_heading level0 row2\" >2</th>\n",
              "                        <td id=\"T_e1d2126e_1522_11ec_974c_64bc58911512row2_col0\" class=\"data row2 col0\" >0.6992</td>\n",
              "                        <td id=\"T_e1d2126e_1522_11ec_974c_64bc58911512row2_col1\" class=\"data row2 col1\" >0.7661</td>\n",
              "                        <td id=\"T_e1d2126e_1522_11ec_974c_64bc58911512row2_col2\" class=\"data row2 col2\" >0.6571</td>\n",
              "                        <td id=\"T_e1d2126e_1522_11ec_974c_64bc58911512row2_col3\" class=\"data row2 col3\" >0.7631</td>\n",
              "                        <td id=\"T_e1d2126e_1522_11ec_974c_64bc58911512row2_col4\" class=\"data row2 col4\" >0.7061</td>\n",
              "                        <td id=\"T_e1d2126e_1522_11ec_974c_64bc58911512row2_col5\" class=\"data row2 col5\" >0.4017</td>\n",
              "                        <td id=\"T_e1d2126e_1522_11ec_974c_64bc58911512row2_col6\" class=\"data row2 col6\" >0.4064</td>\n",
              "            </tr>\n",
              "            <tr>\n",
              "                        <th id=\"T_e1d2126e_1522_11ec_974c_64bc58911512level0_row3\" class=\"row_heading level0 row3\" >3</th>\n",
              "                        <td id=\"T_e1d2126e_1522_11ec_974c_64bc58911512row3_col0\" class=\"data row3 col0\" >0.6909</td>\n",
              "                        <td id=\"T_e1d2126e_1522_11ec_974c_64bc58911512row3_col1\" class=\"data row3 col1\" >0.7666</td>\n",
              "                        <td id=\"T_e1d2126e_1522_11ec_974c_64bc58911512row3_col2\" class=\"data row3 col2\" >0.6593</td>\n",
              "                        <td id=\"T_e1d2126e_1522_11ec_974c_64bc58911512row3_col3\" class=\"data row3 col3\" >0.7486</td>\n",
              "                        <td id=\"T_e1d2126e_1522_11ec_974c_64bc58911512row3_col4\" class=\"data row3 col4\" >0.7012</td>\n",
              "                        <td id=\"T_e1d2126e_1522_11ec_974c_64bc58911512row3_col5\" class=\"data row3 col5\" >0.3838</td>\n",
              "                        <td id=\"T_e1d2126e_1522_11ec_974c_64bc58911512row3_col6\" class=\"data row3 col6\" >0.3871</td>\n",
              "            </tr>\n",
              "            <tr>\n",
              "                        <th id=\"T_e1d2126e_1522_11ec_974c_64bc58911512level0_row4\" class=\"row_heading level0 row4\" >4</th>\n",
              "                        <td id=\"T_e1d2126e_1522_11ec_974c_64bc58911512row4_col0\" class=\"data row4 col0\" >0.6971</td>\n",
              "                        <td id=\"T_e1d2126e_1522_11ec_974c_64bc58911512row4_col1\" class=\"data row4 col1\" >0.7661</td>\n",
              "                        <td id=\"T_e1d2126e_1522_11ec_974c_64bc58911512row4_col2\" class=\"data row4 col2\" >0.6586</td>\n",
              "                        <td id=\"T_e1d2126e_1522_11ec_974c_64bc58911512row4_col3\" class=\"data row4 col3\" >0.7588</td>\n",
              "                        <td id=\"T_e1d2126e_1522_11ec_974c_64bc58911512row4_col4\" class=\"data row4 col4\" >0.7051</td>\n",
              "                        <td id=\"T_e1d2126e_1522_11ec_974c_64bc58911512row4_col5\" class=\"data row4 col5\" >0.3968</td>\n",
              "                        <td id=\"T_e1d2126e_1522_11ec_974c_64bc58911512row4_col6\" class=\"data row4 col6\" >0.4010</td>\n",
              "            </tr>\n",
              "            <tr>\n",
              "                        <th id=\"T_e1d2126e_1522_11ec_974c_64bc58911512level0_row5\" class=\"row_heading level0 row5\" >Mean</th>\n",
              "                        <td id=\"T_e1d2126e_1522_11ec_974c_64bc58911512row5_col0\" class=\"data row5 col0\" >0.6969</td>\n",
              "                        <td id=\"T_e1d2126e_1522_11ec_974c_64bc58911512row5_col1\" class=\"data row5 col1\" >0.7684</td>\n",
              "                        <td id=\"T_e1d2126e_1522_11ec_974c_64bc58911512row5_col2\" class=\"data row5 col2\" >0.6589</td>\n",
              "                        <td id=\"T_e1d2126e_1522_11ec_974c_64bc58911512row5_col3\" class=\"data row5 col3\" >0.7584</td>\n",
              "                        <td id=\"T_e1d2126e_1522_11ec_974c_64bc58911512row5_col4\" class=\"data row5 col4\" >0.7052</td>\n",
              "                        <td id=\"T_e1d2126e_1522_11ec_974c_64bc58911512row5_col5\" class=\"data row5 col5\" >0.3965</td>\n",
              "                        <td id=\"T_e1d2126e_1522_11ec_974c_64bc58911512row5_col6\" class=\"data row5 col6\" >0.4007</td>\n",
              "            </tr>\n",
              "            <tr>\n",
              "                        <th id=\"T_e1d2126e_1522_11ec_974c_64bc58911512level0_row6\" class=\"row_heading level0 row6\" >SD</th>\n",
              "                        <td id=\"T_e1d2126e_1522_11ec_974c_64bc58911512row6_col0\" class=\"data row6 col0\" >0.0036</td>\n",
              "                        <td id=\"T_e1d2126e_1522_11ec_974c_64bc58911512row6_col1\" class=\"data row6 col1\" >0.0026</td>\n",
              "                        <td id=\"T_e1d2126e_1522_11ec_974c_64bc58911512row6_col2\" class=\"data row6 col2\" >0.0028</td>\n",
              "                        <td id=\"T_e1d2126e_1522_11ec_974c_64bc58911512row6_col3\" class=\"data row6 col3\" >0.0067</td>\n",
              "                        <td id=\"T_e1d2126e_1522_11ec_974c_64bc58911512row6_col4\" class=\"data row6 col4\" >0.0021</td>\n",
              "                        <td id=\"T_e1d2126e_1522_11ec_974c_64bc58911512row6_col5\" class=\"data row6 col5\" >0.0077</td>\n",
              "                        <td id=\"T_e1d2126e_1522_11ec_974c_64bc58911512row6_col6\" class=\"data row6 col6\" >0.0084</td>\n",
              "            </tr>\n",
              "    </tbody></table>"
            ],
            "text/plain": [
              "<pandas.io.formats.style.Styler at 0x1aab9bad048>"
            ]
          },
          "metadata": {},
          "output_type": "display_data"
        }
      ]
    },
    {
      "cell_type": "code",
      "metadata": {
        "id": "6e68cafe",
        "outputId": "822d1a85-8de6-4c21-a5af-6ab111864550"
      },
      "source": [
        "blended"
      ],
      "id": "6e68cafe",
      "execution_count": null,
      "outputs": [
        {
          "data": {
            "text/plain": [
              "VotingClassifier(estimators=[('gbc',\n",
              "                              GradientBoostingClassifier(ccp_alpha=0.0,\n",
              "                                                         criterion='friedman_mse',\n",
              "                                                         init=None,\n",
              "                                                         learning_rate=0.1,\n",
              "                                                         loss='deviance',\n",
              "                                                         max_depth=3,\n",
              "                                                         max_features=None,\n",
              "                                                         max_leaf_nodes=None,\n",
              "                                                         min_impurity_decrease=0.0,\n",
              "                                                         min_impurity_split=None,\n",
              "                                                         min_samples_leaf=1,\n",
              "                                                         min_samples_split=2,\n",
              "                                                         min_weight_fraction_leaf=0.0,\n",
              "                                                         n_estimators=100,\n",
              "                                                         n_iter_no_change=No...\n",
              "                                             n_estimators=100, n_jobs=-1,\n",
              "                                             num_leaves=31, objective=None,\n",
              "                                             random_state=2414, reg_alpha=0.0,\n",
              "                                             reg_lambda=0.0, silent=True,\n",
              "                                             subsample=1.0,\n",
              "                                             subsample_for_bin=200000,\n",
              "                                             subsample_freq=0)),\n",
              "                             ('lda',\n",
              "                              LinearDiscriminantAnalysis(n_components=None,\n",
              "                                                         priors=None,\n",
              "                                                         shrinkage=None,\n",
              "                                                         solver='svd',\n",
              "                                                         store_covariance=False,\n",
              "                                                         tol=0.0001))],\n",
              "                 flatten_transform=True, n_jobs=-1, verbose=False,\n",
              "                 voting='soft', weights=None)"
            ]
          },
          "execution_count": 19,
          "metadata": {},
          "output_type": "execute_result"
        }
      ]
    },
    {
      "cell_type": "markdown",
      "metadata": {
        "id": "47cb342c"
      },
      "source": [
        "## 모델 예측 (Prediction)\n",
        "- 구축된 앙상블 모델을 통해 예측을 해보겠습니다.\n",
        "- setup 환경에 이미 hold-out set이 존재하므로 해당 데이터에 대해 예측을 하여 모델 성능을 확인하겠습니다."
      ],
      "id": "47cb342c"
    },
    {
      "cell_type": "code",
      "metadata": {
        "id": "c122c771",
        "outputId": "2eb1d325-c2ad-4468-b40c-09f0c709fdf9"
      },
      "source": [
        "pred_holdout = predict_model(blended)"
      ],
      "id": "c122c771",
      "execution_count": null,
      "outputs": [
        {
          "data": {
            "text/html": [
              "<style  type=\"text/css\" >\n",
              "</style><table id=\"T_fef9028c_1522_11ec_bd0e_64bc58911512\" ><thead>    <tr>        <th class=\"blank level0\" ></th>        <th class=\"col_heading level0 col0\" >Model</th>        <th class=\"col_heading level0 col1\" >Accuracy</th>        <th class=\"col_heading level0 col2\" >AUC</th>        <th class=\"col_heading level0 col3\" >Recall</th>        <th class=\"col_heading level0 col4\" >Prec.</th>        <th class=\"col_heading level0 col5\" >F1</th>        <th class=\"col_heading level0 col6\" >Kappa</th>        <th class=\"col_heading level0 col7\" >MCC</th>    </tr></thead><tbody>\n",
              "                <tr>\n",
              "                        <th id=\"T_fef9028c_1522_11ec_bd0e_64bc58911512level0_row0\" class=\"row_heading level0 row0\" >0</th>\n",
              "                        <td id=\"T_fef9028c_1522_11ec_bd0e_64bc58911512row0_col0\" class=\"data row0 col0\" >Voting Classifier</td>\n",
              "                        <td id=\"T_fef9028c_1522_11ec_bd0e_64bc58911512row0_col1\" class=\"data row0 col1\" >0.6902</td>\n",
              "                        <td id=\"T_fef9028c_1522_11ec_bd0e_64bc58911512row0_col2\" class=\"data row0 col2\" >0.7610</td>\n",
              "                        <td id=\"T_fef9028c_1522_11ec_bd0e_64bc58911512row0_col3\" class=\"data row0 col3\" >0.6494</td>\n",
              "                        <td id=\"T_fef9028c_1522_11ec_bd0e_64bc58911512row0_col4\" class=\"data row0 col4\" >0.7439</td>\n",
              "                        <td id=\"T_fef9028c_1522_11ec_bd0e_64bc58911512row0_col5\" class=\"data row0 col5\" >0.6934</td>\n",
              "                        <td id=\"T_fef9028c_1522_11ec_bd0e_64bc58911512row0_col6\" class=\"data row0 col6\" >0.3832</td>\n",
              "                        <td id=\"T_fef9028c_1522_11ec_bd0e_64bc58911512row0_col7\" class=\"data row0 col7\" >0.3868</td>\n",
              "            </tr>\n",
              "    </tbody></table>"
            ],
            "text/plain": [
              "<pandas.io.formats.style.Styler at 0x1aab9f65160>"
            ]
          },
          "metadata": {},
          "output_type": "display_data"
        }
      ]
    },
    {
      "cell_type": "markdown",
      "metadata": {
        "id": "c06a6307"
      },
      "source": [
        "## 전체 데이터에 대한 재학습 (Re-training the model on whole data)\n",
        "- 현재까지 실험은 주어진 train 데이터를 다시 한 번 train / validation으로 나눠서 실험을 한 것이므로, 전체 train 데이터에 학습되어 있지 않습니다.\n",
        "- 최적의 성능을 위해 전체 데이터에 학습을 시켜주도록 하겠습니다."
      ],
      "id": "c06a6307"
    },
    {
      "cell_type": "code",
      "metadata": {
        "id": "128eebf5"
      },
      "source": [
        "final_model = finalize_model(blended)"
      ],
      "id": "128eebf5",
      "execution_count": null,
      "outputs": []
    },
    {
      "cell_type": "markdown",
      "metadata": {
        "id": "4d3fedf4"
      },
      "source": [
        "## 대회용 test set에 대한 예측 (Predicting on test set for the competition)\n",
        "- predict_model 함수를 통해 재학습된 모델을 대회용 test set에 대해 예측해보겠습니다.\n",
        "- We will now use the re-trained model on the test set for the competition"
      ],
      "id": "4d3fedf4"
    },
    {
      "cell_type": "code",
      "metadata": {
        "id": "33b060bf"
      },
      "source": [
        "predictions = predict_model(final_model, data = test)"
      ],
      "id": "33b060bf",
      "execution_count": null,
      "outputs": []
    },
    {
      "cell_type": "code",
      "metadata": {
        "id": "c89b7b4b",
        "outputId": "0ab25018-6beb-4ef4-f0ef-88cdc70deef3"
      },
      "source": [
        "predictions"
      ],
      "id": "c89b7b4b",
      "execution_count": null,
      "outputs": [
        {
          "data": {
            "text/html": [
              "<div>\n",
              "<style scoped>\n",
              "    .dataframe tbody tr th:only-of-type {\n",
              "        vertical-align: middle;\n",
              "    }\n",
              "\n",
              "    .dataframe tbody tr th {\n",
              "        vertical-align: top;\n",
              "    }\n",
              "\n",
              "    .dataframe thead th {\n",
              "        text-align: right;\n",
              "    }\n",
              "</style>\n",
              "<table border=\"1\" class=\"dataframe\">\n",
              "  <thead>\n",
              "    <tr style=\"text-align: right;\">\n",
              "      <th></th>\n",
              "      <th>index</th>\n",
              "      <th>QaA</th>\n",
              "      <th>QaE</th>\n",
              "      <th>QbA</th>\n",
              "      <th>QbE</th>\n",
              "      <th>QcA</th>\n",
              "      <th>QcE</th>\n",
              "      <th>QdA</th>\n",
              "      <th>QdE</th>\n",
              "      <th>QeA</th>\n",
              "      <th>...</th>\n",
              "      <th>wr_06</th>\n",
              "      <th>wr_07</th>\n",
              "      <th>wr_08</th>\n",
              "      <th>wr_09</th>\n",
              "      <th>wr_10</th>\n",
              "      <th>wr_11</th>\n",
              "      <th>wr_12</th>\n",
              "      <th>wr_13</th>\n",
              "      <th>Label</th>\n",
              "      <th>Score</th>\n",
              "    </tr>\n",
              "  </thead>\n",
              "  <tbody>\n",
              "    <tr>\n",
              "      <th>0</th>\n",
              "      <td>0</td>\n",
              "      <td>3.0</td>\n",
              "      <td>736</td>\n",
              "      <td>2.0</td>\n",
              "      <td>2941</td>\n",
              "      <td>3.0</td>\n",
              "      <td>4621</td>\n",
              "      <td>1.0</td>\n",
              "      <td>4857</td>\n",
              "      <td>2.0</td>\n",
              "      <td>...</td>\n",
              "      <td>0</td>\n",
              "      <td>0</td>\n",
              "      <td>1</td>\n",
              "      <td>0</td>\n",
              "      <td>1</td>\n",
              "      <td>0</td>\n",
              "      <td>1</td>\n",
              "      <td>1</td>\n",
              "      <td>2</td>\n",
              "      <td>0.6926</td>\n",
              "    </tr>\n",
              "    <tr>\n",
              "      <th>1</th>\n",
              "      <td>1</td>\n",
              "      <td>3.0</td>\n",
              "      <td>514</td>\n",
              "      <td>2.0</td>\n",
              "      <td>1952</td>\n",
              "      <td>3.0</td>\n",
              "      <td>1552</td>\n",
              "      <td>3.0</td>\n",
              "      <td>821</td>\n",
              "      <td>4.0</td>\n",
              "      <td>...</td>\n",
              "      <td>0</td>\n",
              "      <td>0</td>\n",
              "      <td>0</td>\n",
              "      <td>0</td>\n",
              "      <td>0</td>\n",
              "      <td>0</td>\n",
              "      <td>0</td>\n",
              "      <td>0</td>\n",
              "      <td>2</td>\n",
              "      <td>0.8639</td>\n",
              "    </tr>\n",
              "    <tr>\n",
              "      <th>2</th>\n",
              "      <td>2</td>\n",
              "      <td>3.0</td>\n",
              "      <td>500</td>\n",
              "      <td>2.0</td>\n",
              "      <td>2507</td>\n",
              "      <td>4.0</td>\n",
              "      <td>480</td>\n",
              "      <td>2.0</td>\n",
              "      <td>614</td>\n",
              "      <td>2.0</td>\n",
              "      <td>...</td>\n",
              "      <td>0</td>\n",
              "      <td>1</td>\n",
              "      <td>1</td>\n",
              "      <td>0</td>\n",
              "      <td>1</td>\n",
              "      <td>0</td>\n",
              "      <td>1</td>\n",
              "      <td>1</td>\n",
              "      <td>1</td>\n",
              "      <td>0.5670</td>\n",
              "    </tr>\n",
              "    <tr>\n",
              "      <th>3</th>\n",
              "      <td>3</td>\n",
              "      <td>1.0</td>\n",
              "      <td>669</td>\n",
              "      <td>1.0</td>\n",
              "      <td>1050</td>\n",
              "      <td>5.0</td>\n",
              "      <td>1435</td>\n",
              "      <td>2.0</td>\n",
              "      <td>2252</td>\n",
              "      <td>5.0</td>\n",
              "      <td>...</td>\n",
              "      <td>1</td>\n",
              "      <td>1</td>\n",
              "      <td>1</td>\n",
              "      <td>1</td>\n",
              "      <td>1</td>\n",
              "      <td>1</td>\n",
              "      <td>1</td>\n",
              "      <td>1</td>\n",
              "      <td>1</td>\n",
              "      <td>0.8170</td>\n",
              "    </tr>\n",
              "    <tr>\n",
              "      <th>4</th>\n",
              "      <td>4</td>\n",
              "      <td>2.0</td>\n",
              "      <td>499</td>\n",
              "      <td>1.0</td>\n",
              "      <td>1243</td>\n",
              "      <td>5.0</td>\n",
              "      <td>845</td>\n",
              "      <td>2.0</td>\n",
              "      <td>1666</td>\n",
              "      <td>2.0</td>\n",
              "      <td>...</td>\n",
              "      <td>0</td>\n",
              "      <td>1</td>\n",
              "      <td>1</td>\n",
              "      <td>0</td>\n",
              "      <td>1</td>\n",
              "      <td>1</td>\n",
              "      <td>1</td>\n",
              "      <td>1</td>\n",
              "      <td>2</td>\n",
              "      <td>0.7744</td>\n",
              "    </tr>\n",
              "    <tr>\n",
              "      <th>...</th>\n",
              "      <td>...</td>\n",
              "      <td>...</td>\n",
              "      <td>...</td>\n",
              "      <td>...</td>\n",
              "      <td>...</td>\n",
              "      <td>...</td>\n",
              "      <td>...</td>\n",
              "      <td>...</td>\n",
              "      <td>...</td>\n",
              "      <td>...</td>\n",
              "      <td>...</td>\n",
              "      <td>...</td>\n",
              "      <td>...</td>\n",
              "      <td>...</td>\n",
              "      <td>...</td>\n",
              "      <td>...</td>\n",
              "      <td>...</td>\n",
              "      <td>...</td>\n",
              "      <td>...</td>\n",
              "      <td>...</td>\n",
              "      <td>...</td>\n",
              "    </tr>\n",
              "    <tr>\n",
              "      <th>11378</th>\n",
              "      <td>11378</td>\n",
              "      <td>5.0</td>\n",
              "      <td>427</td>\n",
              "      <td>5.0</td>\n",
              "      <td>1066</td>\n",
              "      <td>5.0</td>\n",
              "      <td>588</td>\n",
              "      <td>1.0</td>\n",
              "      <td>560</td>\n",
              "      <td>2.0</td>\n",
              "      <td>...</td>\n",
              "      <td>0</td>\n",
              "      <td>1</td>\n",
              "      <td>1</td>\n",
              "      <td>0</td>\n",
              "      <td>1</td>\n",
              "      <td>0</td>\n",
              "      <td>1</td>\n",
              "      <td>1</td>\n",
              "      <td>1</td>\n",
              "      <td>0.6343</td>\n",
              "    </tr>\n",
              "    <tr>\n",
              "      <th>11379</th>\n",
              "      <td>11379</td>\n",
              "      <td>1.0</td>\n",
              "      <td>314</td>\n",
              "      <td>5.0</td>\n",
              "      <td>554</td>\n",
              "      <td>5.0</td>\n",
              "      <td>230</td>\n",
              "      <td>1.0</td>\n",
              "      <td>956</td>\n",
              "      <td>2.0</td>\n",
              "      <td>...</td>\n",
              "      <td>1</td>\n",
              "      <td>1</td>\n",
              "      <td>1</td>\n",
              "      <td>1</td>\n",
              "      <td>1</td>\n",
              "      <td>1</td>\n",
              "      <td>1</td>\n",
              "      <td>1</td>\n",
              "      <td>2</td>\n",
              "      <td>0.8645</td>\n",
              "    </tr>\n",
              "    <tr>\n",
              "      <th>11380</th>\n",
              "      <td>11380</td>\n",
              "      <td>1.0</td>\n",
              "      <td>627</td>\n",
              "      <td>2.0</td>\n",
              "      <td>799</td>\n",
              "      <td>1.0</td>\n",
              "      <td>739</td>\n",
              "      <td>2.0</td>\n",
              "      <td>1123</td>\n",
              "      <td>1.0</td>\n",
              "      <td>...</td>\n",
              "      <td>0</td>\n",
              "      <td>1</td>\n",
              "      <td>1</td>\n",
              "      <td>0</td>\n",
              "      <td>1</td>\n",
              "      <td>0</td>\n",
              "      <td>1</td>\n",
              "      <td>1</td>\n",
              "      <td>1</td>\n",
              "      <td>0.7807</td>\n",
              "    </tr>\n",
              "    <tr>\n",
              "      <th>11381</th>\n",
              "      <td>11381</td>\n",
              "      <td>2.0</td>\n",
              "      <td>539</td>\n",
              "      <td>1.0</td>\n",
              "      <td>2090</td>\n",
              "      <td>2.0</td>\n",
              "      <td>4642</td>\n",
              "      <td>1.0</td>\n",
              "      <td>673</td>\n",
              "      <td>2.0</td>\n",
              "      <td>...</td>\n",
              "      <td>0</td>\n",
              "      <td>1</td>\n",
              "      <td>1</td>\n",
              "      <td>0</td>\n",
              "      <td>1</td>\n",
              "      <td>1</td>\n",
              "      <td>1</td>\n",
              "      <td>0</td>\n",
              "      <td>1</td>\n",
              "      <td>0.6479</td>\n",
              "    </tr>\n",
              "    <tr>\n",
              "      <th>11382</th>\n",
              "      <td>11382</td>\n",
              "      <td>2.0</td>\n",
              "      <td>541</td>\n",
              "      <td>4.0</td>\n",
              "      <td>900</td>\n",
              "      <td>5.0</td>\n",
              "      <td>691</td>\n",
              "      <td>2.0</td>\n",
              "      <td>1951</td>\n",
              "      <td>1.0</td>\n",
              "      <td>...</td>\n",
              "      <td>1</td>\n",
              "      <td>0</td>\n",
              "      <td>1</td>\n",
              "      <td>0</td>\n",
              "      <td>0</td>\n",
              "      <td>1</td>\n",
              "      <td>0</td>\n",
              "      <td>0</td>\n",
              "      <td>2</td>\n",
              "      <td>0.6406</td>\n",
              "    </tr>\n",
              "  </tbody>\n",
              "</table>\n",
              "<p>11383 rows × 79 columns</p>\n",
              "</div>"
            ],
            "text/plain": [
              "       index  QaA  QaE  QbA   QbE  QcA   QcE  QdA   QdE  QeA  ...  wr_06  \\\n",
              "0          0  3.0  736  2.0  2941  3.0  4621  1.0  4857  2.0  ...      0   \n",
              "1          1  3.0  514  2.0  1952  3.0  1552  3.0   821  4.0  ...      0   \n",
              "2          2  3.0  500  2.0  2507  4.0   480  2.0   614  2.0  ...      0   \n",
              "3          3  1.0  669  1.0  1050  5.0  1435  2.0  2252  5.0  ...      1   \n",
              "4          4  2.0  499  1.0  1243  5.0   845  2.0  1666  2.0  ...      0   \n",
              "...      ...  ...  ...  ...   ...  ...   ...  ...   ...  ...  ...    ...   \n",
              "11378  11378  5.0  427  5.0  1066  5.0   588  1.0   560  2.0  ...      0   \n",
              "11379  11379  1.0  314  5.0   554  5.0   230  1.0   956  2.0  ...      1   \n",
              "11380  11380  1.0  627  2.0   799  1.0   739  2.0  1123  1.0  ...      0   \n",
              "11381  11381  2.0  539  1.0  2090  2.0  4642  1.0   673  2.0  ...      0   \n",
              "11382  11382  2.0  541  4.0   900  5.0   691  2.0  1951  1.0  ...      1   \n",
              "\n",
              "       wr_07  wr_08  wr_09  wr_10  wr_11  wr_12  wr_13  Label   Score  \n",
              "0          0      1      0      1      0      1      1      2  0.6926  \n",
              "1          0      0      0      0      0      0      0      2  0.8639  \n",
              "2          1      1      0      1      0      1      1      1  0.5670  \n",
              "3          1      1      1      1      1      1      1      1  0.8170  \n",
              "4          1      1      0      1      1      1      1      2  0.7744  \n",
              "...      ...    ...    ...    ...    ...    ...    ...    ...     ...  \n",
              "11378      1      1      0      1      0      1      1      1  0.6343  \n",
              "11379      1      1      1      1      1      1      1      2  0.8645  \n",
              "11380      1      1      0      1      0      1      1      1  0.7807  \n",
              "11381      1      1      0      1      1      1      0      1  0.6479  \n",
              "11382      0      1      0      0      1      0      0      2  0.6406  \n",
              "\n",
              "[11383 rows x 79 columns]"
            ]
          },
          "execution_count": 14,
          "metadata": {},
          "output_type": "execute_result"
        }
      ]
    },
    {
      "cell_type": "code",
      "metadata": {
        "id": "06577f58",
        "outputId": "4e196359-c9d2-4e22-c4da-181a187cab7c"
      },
      "source": [
        "final_model"
      ],
      "id": "06577f58",
      "execution_count": null,
      "outputs": [
        {
          "data": {
            "text/plain": [
              "VotingClassifier(estimators=[('gbc',\n",
              "                              GradientBoostingClassifier(ccp_alpha=0.0,\n",
              "                                                         criterion='friedman_mse',\n",
              "                                                         init=None,\n",
              "                                                         learning_rate=0.1,\n",
              "                                                         loss='deviance',\n",
              "                                                         max_depth=3,\n",
              "                                                         max_features=None,\n",
              "                                                         max_leaf_nodes=None,\n",
              "                                                         min_impurity_decrease=0.0,\n",
              "                                                         min_impurity_split=None,\n",
              "                                                         min_samples_leaf=1,\n",
              "                                                         min_samples_split=2,\n",
              "                                                         min_weight_fraction_leaf=0.0,\n",
              "                                                         n_estimators=100,\n",
              "                                                         n_iter_no_change=No...\n",
              "                                             n_estimators=100, n_jobs=-1,\n",
              "                                             num_leaves=31, objective=None,\n",
              "                                             random_state=2414, reg_alpha=0.0,\n",
              "                                             reg_lambda=0.0, silent=True,\n",
              "                                             subsample=1.0,\n",
              "                                             subsample_for_bin=200000,\n",
              "                                             subsample_freq=0)),\n",
              "                             ('lda',\n",
              "                              LinearDiscriminantAnalysis(n_components=None,\n",
              "                                                         priors=None,\n",
              "                                                         shrinkage=None,\n",
              "                                                         solver='svd',\n",
              "                                                         store_covariance=False,\n",
              "                                                         tol=0.0001))],\n",
              "                 flatten_transform=True, n_jobs=-1, verbose=False,\n",
              "                 voting='soft', weights=None)"
            ]
          },
          "execution_count": 15,
          "metadata": {},
          "output_type": "execute_result"
        }
      ]
    },
    {
      "cell_type": "code",
      "metadata": {
        "id": "2cfd75be",
        "outputId": "60a98402-d67b-4c0e-c4b8-36d6ce2b3fff"
      },
      "source": [
        "test"
      ],
      "id": "2cfd75be",
      "execution_count": null,
      "outputs": [
        {
          "data": {
            "text/html": [
              "<div>\n",
              "<style scoped>\n",
              "    .dataframe tbody tr th:only-of-type {\n",
              "        vertical-align: middle;\n",
              "    }\n",
              "\n",
              "    .dataframe tbody tr th {\n",
              "        vertical-align: top;\n",
              "    }\n",
              "\n",
              "    .dataframe thead th {\n",
              "        text-align: right;\n",
              "    }\n",
              "</style>\n",
              "<table border=\"1\" class=\"dataframe\">\n",
              "  <thead>\n",
              "    <tr style=\"text-align: right;\">\n",
              "      <th></th>\n",
              "      <th>index</th>\n",
              "      <th>QaA</th>\n",
              "      <th>QaE</th>\n",
              "      <th>QbA</th>\n",
              "      <th>QbE</th>\n",
              "      <th>QcA</th>\n",
              "      <th>QcE</th>\n",
              "      <th>QdA</th>\n",
              "      <th>QdE</th>\n",
              "      <th>QeA</th>\n",
              "      <th>...</th>\n",
              "      <th>wr_04</th>\n",
              "      <th>wr_05</th>\n",
              "      <th>wr_06</th>\n",
              "      <th>wr_07</th>\n",
              "      <th>wr_08</th>\n",
              "      <th>wr_09</th>\n",
              "      <th>wr_10</th>\n",
              "      <th>wr_11</th>\n",
              "      <th>wr_12</th>\n",
              "      <th>wr_13</th>\n",
              "    </tr>\n",
              "  </thead>\n",
              "  <tbody>\n",
              "    <tr>\n",
              "      <th>0</th>\n",
              "      <td>0</td>\n",
              "      <td>3.0</td>\n",
              "      <td>736</td>\n",
              "      <td>2.0</td>\n",
              "      <td>2941</td>\n",
              "      <td>3.0</td>\n",
              "      <td>4621</td>\n",
              "      <td>1.0</td>\n",
              "      <td>4857</td>\n",
              "      <td>2.0</td>\n",
              "      <td>...</td>\n",
              "      <td>0</td>\n",
              "      <td>1</td>\n",
              "      <td>0</td>\n",
              "      <td>0</td>\n",
              "      <td>1</td>\n",
              "      <td>0</td>\n",
              "      <td>1</td>\n",
              "      <td>0</td>\n",
              "      <td>1</td>\n",
              "      <td>1</td>\n",
              "    </tr>\n",
              "    <tr>\n",
              "      <th>1</th>\n",
              "      <td>1</td>\n",
              "      <td>3.0</td>\n",
              "      <td>514</td>\n",
              "      <td>2.0</td>\n",
              "      <td>1952</td>\n",
              "      <td>3.0</td>\n",
              "      <td>1552</td>\n",
              "      <td>3.0</td>\n",
              "      <td>821</td>\n",
              "      <td>4.0</td>\n",
              "      <td>...</td>\n",
              "      <td>0</td>\n",
              "      <td>0</td>\n",
              "      <td>0</td>\n",
              "      <td>0</td>\n",
              "      <td>0</td>\n",
              "      <td>0</td>\n",
              "      <td>0</td>\n",
              "      <td>0</td>\n",
              "      <td>0</td>\n",
              "      <td>0</td>\n",
              "    </tr>\n",
              "    <tr>\n",
              "      <th>2</th>\n",
              "      <td>2</td>\n",
              "      <td>3.0</td>\n",
              "      <td>500</td>\n",
              "      <td>2.0</td>\n",
              "      <td>2507</td>\n",
              "      <td>4.0</td>\n",
              "      <td>480</td>\n",
              "      <td>2.0</td>\n",
              "      <td>614</td>\n",
              "      <td>2.0</td>\n",
              "      <td>...</td>\n",
              "      <td>0</td>\n",
              "      <td>1</td>\n",
              "      <td>0</td>\n",
              "      <td>1</td>\n",
              "      <td>1</td>\n",
              "      <td>0</td>\n",
              "      <td>1</td>\n",
              "      <td>0</td>\n",
              "      <td>1</td>\n",
              "      <td>1</td>\n",
              "    </tr>\n",
              "    <tr>\n",
              "      <th>3</th>\n",
              "      <td>3</td>\n",
              "      <td>1.0</td>\n",
              "      <td>669</td>\n",
              "      <td>1.0</td>\n",
              "      <td>1050</td>\n",
              "      <td>5.0</td>\n",
              "      <td>1435</td>\n",
              "      <td>2.0</td>\n",
              "      <td>2252</td>\n",
              "      <td>5.0</td>\n",
              "      <td>...</td>\n",
              "      <td>1</td>\n",
              "      <td>1</td>\n",
              "      <td>1</td>\n",
              "      <td>1</td>\n",
              "      <td>1</td>\n",
              "      <td>1</td>\n",
              "      <td>1</td>\n",
              "      <td>1</td>\n",
              "      <td>1</td>\n",
              "      <td>1</td>\n",
              "    </tr>\n",
              "    <tr>\n",
              "      <th>4</th>\n",
              "      <td>4</td>\n",
              "      <td>2.0</td>\n",
              "      <td>499</td>\n",
              "      <td>1.0</td>\n",
              "      <td>1243</td>\n",
              "      <td>5.0</td>\n",
              "      <td>845</td>\n",
              "      <td>2.0</td>\n",
              "      <td>1666</td>\n",
              "      <td>2.0</td>\n",
              "      <td>...</td>\n",
              "      <td>1</td>\n",
              "      <td>1</td>\n",
              "      <td>0</td>\n",
              "      <td>1</td>\n",
              "      <td>1</td>\n",
              "      <td>0</td>\n",
              "      <td>1</td>\n",
              "      <td>1</td>\n",
              "      <td>1</td>\n",
              "      <td>1</td>\n",
              "    </tr>\n",
              "    <tr>\n",
              "      <th>...</th>\n",
              "      <td>...</td>\n",
              "      <td>...</td>\n",
              "      <td>...</td>\n",
              "      <td>...</td>\n",
              "      <td>...</td>\n",
              "      <td>...</td>\n",
              "      <td>...</td>\n",
              "      <td>...</td>\n",
              "      <td>...</td>\n",
              "      <td>...</td>\n",
              "      <td>...</td>\n",
              "      <td>...</td>\n",
              "      <td>...</td>\n",
              "      <td>...</td>\n",
              "      <td>...</td>\n",
              "      <td>...</td>\n",
              "      <td>...</td>\n",
              "      <td>...</td>\n",
              "      <td>...</td>\n",
              "      <td>...</td>\n",
              "      <td>...</td>\n",
              "    </tr>\n",
              "    <tr>\n",
              "      <th>11378</th>\n",
              "      <td>11378</td>\n",
              "      <td>5.0</td>\n",
              "      <td>427</td>\n",
              "      <td>5.0</td>\n",
              "      <td>1066</td>\n",
              "      <td>5.0</td>\n",
              "      <td>588</td>\n",
              "      <td>1.0</td>\n",
              "      <td>560</td>\n",
              "      <td>2.0</td>\n",
              "      <td>...</td>\n",
              "      <td>1</td>\n",
              "      <td>1</td>\n",
              "      <td>0</td>\n",
              "      <td>1</td>\n",
              "      <td>1</td>\n",
              "      <td>0</td>\n",
              "      <td>1</td>\n",
              "      <td>0</td>\n",
              "      <td>1</td>\n",
              "      <td>1</td>\n",
              "    </tr>\n",
              "    <tr>\n",
              "      <th>11379</th>\n",
              "      <td>11379</td>\n",
              "      <td>1.0</td>\n",
              "      <td>314</td>\n",
              "      <td>5.0</td>\n",
              "      <td>554</td>\n",
              "      <td>5.0</td>\n",
              "      <td>230</td>\n",
              "      <td>1.0</td>\n",
              "      <td>956</td>\n",
              "      <td>2.0</td>\n",
              "      <td>...</td>\n",
              "      <td>1</td>\n",
              "      <td>1</td>\n",
              "      <td>1</td>\n",
              "      <td>1</td>\n",
              "      <td>1</td>\n",
              "      <td>1</td>\n",
              "      <td>1</td>\n",
              "      <td>1</td>\n",
              "      <td>1</td>\n",
              "      <td>1</td>\n",
              "    </tr>\n",
              "    <tr>\n",
              "      <th>11380</th>\n",
              "      <td>11380</td>\n",
              "      <td>1.0</td>\n",
              "      <td>627</td>\n",
              "      <td>2.0</td>\n",
              "      <td>799</td>\n",
              "      <td>1.0</td>\n",
              "      <td>739</td>\n",
              "      <td>2.0</td>\n",
              "      <td>1123</td>\n",
              "      <td>1.0</td>\n",
              "      <td>...</td>\n",
              "      <td>1</td>\n",
              "      <td>1</td>\n",
              "      <td>0</td>\n",
              "      <td>1</td>\n",
              "      <td>1</td>\n",
              "      <td>0</td>\n",
              "      <td>1</td>\n",
              "      <td>0</td>\n",
              "      <td>1</td>\n",
              "      <td>1</td>\n",
              "    </tr>\n",
              "    <tr>\n",
              "      <th>11381</th>\n",
              "      <td>11381</td>\n",
              "      <td>2.0</td>\n",
              "      <td>539</td>\n",
              "      <td>1.0</td>\n",
              "      <td>2090</td>\n",
              "      <td>2.0</td>\n",
              "      <td>4642</td>\n",
              "      <td>1.0</td>\n",
              "      <td>673</td>\n",
              "      <td>2.0</td>\n",
              "      <td>...</td>\n",
              "      <td>1</td>\n",
              "      <td>0</td>\n",
              "      <td>0</td>\n",
              "      <td>1</td>\n",
              "      <td>1</td>\n",
              "      <td>0</td>\n",
              "      <td>1</td>\n",
              "      <td>1</td>\n",
              "      <td>1</td>\n",
              "      <td>0</td>\n",
              "    </tr>\n",
              "    <tr>\n",
              "      <th>11382</th>\n",
              "      <td>11382</td>\n",
              "      <td>2.0</td>\n",
              "      <td>541</td>\n",
              "      <td>4.0</td>\n",
              "      <td>900</td>\n",
              "      <td>5.0</td>\n",
              "      <td>691</td>\n",
              "      <td>2.0</td>\n",
              "      <td>1951</td>\n",
              "      <td>1.0</td>\n",
              "      <td>...</td>\n",
              "      <td>0</td>\n",
              "      <td>0</td>\n",
              "      <td>1</td>\n",
              "      <td>0</td>\n",
              "      <td>1</td>\n",
              "      <td>0</td>\n",
              "      <td>0</td>\n",
              "      <td>1</td>\n",
              "      <td>0</td>\n",
              "      <td>0</td>\n",
              "    </tr>\n",
              "  </tbody>\n",
              "</table>\n",
              "<p>11383 rows × 77 columns</p>\n",
              "</div>"
            ],
            "text/plain": [
              "       index  QaA  QaE  QbA   QbE  QcA   QcE  QdA   QdE  QeA  ...  wr_04  \\\n",
              "0          0  3.0  736  2.0  2941  3.0  4621  1.0  4857  2.0  ...      0   \n",
              "1          1  3.0  514  2.0  1952  3.0  1552  3.0   821  4.0  ...      0   \n",
              "2          2  3.0  500  2.0  2507  4.0   480  2.0   614  2.0  ...      0   \n",
              "3          3  1.0  669  1.0  1050  5.0  1435  2.0  2252  5.0  ...      1   \n",
              "4          4  2.0  499  1.0  1243  5.0   845  2.0  1666  2.0  ...      1   \n",
              "...      ...  ...  ...  ...   ...  ...   ...  ...   ...  ...  ...    ...   \n",
              "11378  11378  5.0  427  5.0  1066  5.0   588  1.0   560  2.0  ...      1   \n",
              "11379  11379  1.0  314  5.0   554  5.0   230  1.0   956  2.0  ...      1   \n",
              "11380  11380  1.0  627  2.0   799  1.0   739  2.0  1123  1.0  ...      1   \n",
              "11381  11381  2.0  539  1.0  2090  2.0  4642  1.0   673  2.0  ...      1   \n",
              "11382  11382  2.0  541  4.0   900  5.0   691  2.0  1951  1.0  ...      0   \n",
              "\n",
              "       wr_05  wr_06  wr_07  wr_08  wr_09  wr_10  wr_11  wr_12  wr_13  \n",
              "0          1      0      0      1      0      1      0      1      1  \n",
              "1          0      0      0      0      0      0      0      0      0  \n",
              "2          1      0      1      1      0      1      0      1      1  \n",
              "3          1      1      1      1      1      1      1      1      1  \n",
              "4          1      0      1      1      0      1      1      1      1  \n",
              "...      ...    ...    ...    ...    ...    ...    ...    ...    ...  \n",
              "11378      1      0      1      1      0      1      0      1      1  \n",
              "11379      1      1      1      1      1      1      1      1      1  \n",
              "11380      1      0      1      1      0      1      0      1      1  \n",
              "11381      0      0      1      1      0      1      1      1      0  \n",
              "11382      0      1      0      1      0      0      1      0      0  \n",
              "\n",
              "[11383 rows x 77 columns]"
            ]
          },
          "execution_count": 16,
          "metadata": {},
          "output_type": "execute_result"
        }
      ]
    },
    {
      "cell_type": "code",
      "metadata": {
        "id": "b58c8d9c"
      },
      "source": [
        "submission['voted'] = predictions['Score']"
      ],
      "id": "b58c8d9c",
      "execution_count": null,
      "outputs": []
    },
    {
      "cell_type": "code",
      "metadata": {
        "id": "44d5a2fb"
      },
      "source": [
        "submission.to_csv('result.csv',index=False)"
      ],
      "id": "44d5a2fb",
      "execution_count": null,
      "outputs": []
    },
    {
      "cell_type": "code",
      "metadata": {
        "id": "8c31f230"
      },
      "source": [
        ""
      ],
      "id": "8c31f230",
      "execution_count": null,
      "outputs": []
    }
  ]
}