{
  "nbformat": 4,
  "nbformat_minor": 5,
  "metadata": {
    "kernelspec": {
      "display_name": "Python 3",
      "language": "python",
      "name": "python3"
    },
    "language_info": {
      "codemirror_mode": {
        "name": "ipython",
        "version": 3
      },
      "file_extension": ".py",
      "mimetype": "text/x-python",
      "name": "python",
      "nbconvert_exporter": "python",
      "pygments_lexer": "ipython3",
      "version": "3.9.4"
    },
    "colab": {
      "name": "카드 연체 예측.ipynb",
      "provenance": [],
      "include_colab_link": true
    }
  },
  "cells": [
    {
      "cell_type": "markdown",
      "metadata": {
        "id": "view-in-github",
        "colab_type": "text"
      },
      "source": [
        "<a href=\"https://colab.research.google.com/github/akfangus/MLproject/blob/main/%EC%B9%B4%EB%93%9C_%EC%97%B0%EC%B2%B4_%EC%98%88%EC%B8%A1.ipynb\" target=\"_parent\"><img src=\"https://colab.research.google.com/assets/colab-badge.svg\" alt=\"Open In Colab\"/></a>"
      ]
    },
    {
      "cell_type": "code",
      "metadata": {
        "id": "69806053"
      },
      "source": [
        "import pandas as pd\n",
        "import numpy as np\n",
        "import matplotlib\n",
        "import matplotlib.pyplot as plt\n",
        "from matplotlib import style\n",
        "import seaborn as sns\n",
        "\n",
        "import plotly.express as px\n",
        "import plotly.graph_objects as go\n",
        "from scipy.stats import norm, skew\n",
        "\n",
        "import os\n",
        "from PIL import Image\n",
        "\n",
        "style.use('seaborn-talk')\n",
        "\n",
        "krfont={'family':'Malgun Gothic', 'weight': 'bold', 'size' : 10}\n",
        "matplotlib.rc('font', **krfont)\n",
        "matplotlib.rcParams['axes.unicode_minus'] = False\n",
        "\n",
        "%matplotlib inline\n"
      ],
      "id": "69806053",
      "execution_count": null,
      "outputs": []
    },
    {
      "cell_type": "markdown",
      "metadata": {
        "id": "1b6a7d95"
      },
      "source": [
        "## index\n",
        "- gender: 성별\n",
        "- car: 차량 소유 여부\n",
        "- reality: 부동산 소유 여부\n",
        "- child_num: 자녀 수\n",
        "- income_total: 연간 소득\n",
        "- income_type: 소득 분류\n",
        "\t\t\t\t\t\t['Commercial associate', 'Working', 'State servant', 'Pensioner', 'Student']\n",
        "- edu_type: 교육 수준\n",
        "\t\t\t\t\t\t\t['Higher education' ,'Secondary / secondary special', 'Incomplete higher', 'Lower secondary', 'Academic degree']\n",
        "- family_type: 결혼 여부\n",
        "\t\t\t\t\t\t\t['Married', 'Civil marriage', 'Separated', 'Single / not married', 'Widow']\n",
        "- house_type: 생활 방식\n",
        "\t\t\t\t\t\t\t['Municipal apartment', 'House / apartment', 'With parents',\n",
        "\t\t\t\t\t\t\t 'Co-op apartment', 'Rented apartment', 'Office apartment']\n",
        "- DAYS_BIRTH: 출생일\n",
        "\n",
        "\n",
        "\t\t\t\t\t\t\t데이터 수집 당시 (0)부터 역으로 셈, 즉, -1은 데이터 수집일 하루 전에 태어났음을 의미\n",
        "\n",
        "\n",
        "\n",
        "- DAYS_EMPLOYED: 업무 시작일\n",
        "\n",
        "\n",
        "\t\t\t\t\t\t\t데이터 수집 당시 (0)부터 역으로 셈, 즉, -1은 데이터 수집일 하루 전부터 일을 시작함을 의미\n",
        "\n",
        "\t\t\t\t\t\t\t\t\t\t\t\t\t\n",
        "\n",
        "\t\t\t\t\t\t\t양수 값은 고용되지 않은 상태를 의미함\n",
        "\n",
        "\n",
        "\n",
        "- FLAG_MOBIL: 핸드폰 소유 여부\n",
        "- work_phone: 업무용 전화 소유 여부\n",
        "- phone: 전화 소유 여부\n",
        "- email: 이메일 소유 여부\n",
        "- occyp_type: 직업 유형\t\t\t\t\t\t\t\t\t\t\t\t\t\n",
        "- family_size: 가족 규모\n",
        "- begin_month: 신용카드 발급 월\n",
        "\t\t\n",
        "\t\t\t\t\t\t\t데이터 수집 당시 (0)부터 역으로 셈, 즉, -1은 데이터 수집일 한 달 전에 신용카드를 발급함을 의미\n",
        "\n",
        "- credit: 사용자의 신용카드 대금 연체를 기준으로 한 신용도\n",
        "\n",
        "\n",
        "\t\t\t\t\t\t\t=> 낮을 수록 높은 신용의 신용카드 사용자를 의미함\n",
        "\n",
        "\t"
      ],
      "id": "1b6a7d95"
    },
    {
      "cell_type": "code",
      "metadata": {
        "id": "1b23ad78"
      },
      "source": [
        "train = pd.read_csv('open/train.csv')\n",
        "test = pd.read_csv('open/test.csv')\n",
        "submission = pd.read_csv('open/sample_submission.csv')\n"
      ],
      "id": "1b23ad78",
      "execution_count": null,
      "outputs": []
    },
    {
      "cell_type": "code",
      "metadata": {
        "id": "aca7b012",
        "outputId": "71e463ed-0468-48bb-f75a-c5d35d8a7e16"
      },
      "source": [
        "train.head()"
      ],
      "id": "aca7b012",
      "execution_count": null,
      "outputs": [
        {
          "data": {
            "text/html": [
              "<div>\n",
              "<style scoped>\n",
              "    .dataframe tbody tr th:only-of-type {\n",
              "        vertical-align: middle;\n",
              "    }\n",
              "\n",
              "    .dataframe tbody tr th {\n",
              "        vertical-align: top;\n",
              "    }\n",
              "\n",
              "    .dataframe thead th {\n",
              "        text-align: right;\n",
              "    }\n",
              "</style>\n",
              "<table border=\"1\" class=\"dataframe\">\n",
              "  <thead>\n",
              "    <tr style=\"text-align: right;\">\n",
              "      <th></th>\n",
              "      <th>index</th>\n",
              "      <th>gender</th>\n",
              "      <th>car</th>\n",
              "      <th>reality</th>\n",
              "      <th>child_num</th>\n",
              "      <th>income_total</th>\n",
              "      <th>income_type</th>\n",
              "      <th>edu_type</th>\n",
              "      <th>family_type</th>\n",
              "      <th>house_type</th>\n",
              "      <th>DAYS_BIRTH</th>\n",
              "      <th>DAYS_EMPLOYED</th>\n",
              "      <th>FLAG_MOBIL</th>\n",
              "      <th>work_phone</th>\n",
              "      <th>phone</th>\n",
              "      <th>email</th>\n",
              "      <th>occyp_type</th>\n",
              "      <th>family_size</th>\n",
              "      <th>begin_month</th>\n",
              "      <th>credit</th>\n",
              "    </tr>\n",
              "  </thead>\n",
              "  <tbody>\n",
              "    <tr>\n",
              "      <th>0</th>\n",
              "      <td>0</td>\n",
              "      <td>F</td>\n",
              "      <td>N</td>\n",
              "      <td>N</td>\n",
              "      <td>0</td>\n",
              "      <td>202500.0</td>\n",
              "      <td>Commercial associate</td>\n",
              "      <td>Higher education</td>\n",
              "      <td>Married</td>\n",
              "      <td>Municipal apartment</td>\n",
              "      <td>-13899</td>\n",
              "      <td>-4709</td>\n",
              "      <td>1</td>\n",
              "      <td>0</td>\n",
              "      <td>0</td>\n",
              "      <td>0</td>\n",
              "      <td>NaN</td>\n",
              "      <td>2.0</td>\n",
              "      <td>-6.0</td>\n",
              "      <td>1.0</td>\n",
              "    </tr>\n",
              "    <tr>\n",
              "      <th>1</th>\n",
              "      <td>1</td>\n",
              "      <td>F</td>\n",
              "      <td>N</td>\n",
              "      <td>Y</td>\n",
              "      <td>1</td>\n",
              "      <td>247500.0</td>\n",
              "      <td>Commercial associate</td>\n",
              "      <td>Secondary / secondary special</td>\n",
              "      <td>Civil marriage</td>\n",
              "      <td>House / apartment</td>\n",
              "      <td>-11380</td>\n",
              "      <td>-1540</td>\n",
              "      <td>1</td>\n",
              "      <td>0</td>\n",
              "      <td>0</td>\n",
              "      <td>1</td>\n",
              "      <td>Laborers</td>\n",
              "      <td>3.0</td>\n",
              "      <td>-5.0</td>\n",
              "      <td>1.0</td>\n",
              "    </tr>\n",
              "    <tr>\n",
              "      <th>2</th>\n",
              "      <td>2</td>\n",
              "      <td>M</td>\n",
              "      <td>Y</td>\n",
              "      <td>Y</td>\n",
              "      <td>0</td>\n",
              "      <td>450000.0</td>\n",
              "      <td>Working</td>\n",
              "      <td>Higher education</td>\n",
              "      <td>Married</td>\n",
              "      <td>House / apartment</td>\n",
              "      <td>-19087</td>\n",
              "      <td>-4434</td>\n",
              "      <td>1</td>\n",
              "      <td>0</td>\n",
              "      <td>1</td>\n",
              "      <td>0</td>\n",
              "      <td>Managers</td>\n",
              "      <td>2.0</td>\n",
              "      <td>-22.0</td>\n",
              "      <td>2.0</td>\n",
              "    </tr>\n",
              "    <tr>\n",
              "      <th>3</th>\n",
              "      <td>3</td>\n",
              "      <td>F</td>\n",
              "      <td>N</td>\n",
              "      <td>Y</td>\n",
              "      <td>0</td>\n",
              "      <td>202500.0</td>\n",
              "      <td>Commercial associate</td>\n",
              "      <td>Secondary / secondary special</td>\n",
              "      <td>Married</td>\n",
              "      <td>House / apartment</td>\n",
              "      <td>-15088</td>\n",
              "      <td>-2092</td>\n",
              "      <td>1</td>\n",
              "      <td>0</td>\n",
              "      <td>1</td>\n",
              "      <td>0</td>\n",
              "      <td>Sales staff</td>\n",
              "      <td>2.0</td>\n",
              "      <td>-37.0</td>\n",
              "      <td>0.0</td>\n",
              "    </tr>\n",
              "    <tr>\n",
              "      <th>4</th>\n",
              "      <td>4</td>\n",
              "      <td>F</td>\n",
              "      <td>Y</td>\n",
              "      <td>Y</td>\n",
              "      <td>0</td>\n",
              "      <td>157500.0</td>\n",
              "      <td>State servant</td>\n",
              "      <td>Higher education</td>\n",
              "      <td>Married</td>\n",
              "      <td>House / apartment</td>\n",
              "      <td>-15037</td>\n",
              "      <td>-2105</td>\n",
              "      <td>1</td>\n",
              "      <td>0</td>\n",
              "      <td>0</td>\n",
              "      <td>0</td>\n",
              "      <td>Managers</td>\n",
              "      <td>2.0</td>\n",
              "      <td>-26.0</td>\n",
              "      <td>2.0</td>\n",
              "    </tr>\n",
              "  </tbody>\n",
              "</table>\n",
              "</div>"
            ],
            "text/plain": [
              "   index gender car reality  child_num  income_total           income_type  \\\n",
              "0      0      F   N       N          0      202500.0  Commercial associate   \n",
              "1      1      F   N       Y          1      247500.0  Commercial associate   \n",
              "2      2      M   Y       Y          0      450000.0               Working   \n",
              "3      3      F   N       Y          0      202500.0  Commercial associate   \n",
              "4      4      F   Y       Y          0      157500.0         State servant   \n",
              "\n",
              "                        edu_type     family_type           house_type  \\\n",
              "0               Higher education         Married  Municipal apartment   \n",
              "1  Secondary / secondary special  Civil marriage    House / apartment   \n",
              "2               Higher education         Married    House / apartment   \n",
              "3  Secondary / secondary special         Married    House / apartment   \n",
              "4               Higher education         Married    House / apartment   \n",
              "\n",
              "   DAYS_BIRTH  DAYS_EMPLOYED  FLAG_MOBIL  work_phone  phone  email  \\\n",
              "0      -13899          -4709           1           0      0      0   \n",
              "1      -11380          -1540           1           0      0      1   \n",
              "2      -19087          -4434           1           0      1      0   \n",
              "3      -15088          -2092           1           0      1      0   \n",
              "4      -15037          -2105           1           0      0      0   \n",
              "\n",
              "    occyp_type  family_size  begin_month  credit  \n",
              "0          NaN          2.0         -6.0     1.0  \n",
              "1     Laborers          3.0         -5.0     1.0  \n",
              "2     Managers          2.0        -22.0     2.0  \n",
              "3  Sales staff          2.0        -37.0     0.0  \n",
              "4     Managers          2.0        -26.0     2.0  "
            ]
          },
          "execution_count": 6,
          "metadata": {},
          "output_type": "execute_result"
        }
      ]
    },
    {
      "cell_type": "code",
      "metadata": {
        "id": "6820b147",
        "outputId": "e7230054-5a18-4cc3-8437-6e5cbde0a552"
      },
      "source": [
        "test.head()"
      ],
      "id": "6820b147",
      "execution_count": null,
      "outputs": [
        {
          "data": {
            "text/html": [
              "<div>\n",
              "<style scoped>\n",
              "    .dataframe tbody tr th:only-of-type {\n",
              "        vertical-align: middle;\n",
              "    }\n",
              "\n",
              "    .dataframe tbody tr th {\n",
              "        vertical-align: top;\n",
              "    }\n",
              "\n",
              "    .dataframe thead th {\n",
              "        text-align: right;\n",
              "    }\n",
              "</style>\n",
              "<table border=\"1\" class=\"dataframe\">\n",
              "  <thead>\n",
              "    <tr style=\"text-align: right;\">\n",
              "      <th></th>\n",
              "      <th>index</th>\n",
              "      <th>gender</th>\n",
              "      <th>car</th>\n",
              "      <th>reality</th>\n",
              "      <th>child_num</th>\n",
              "      <th>income_total</th>\n",
              "      <th>income_type</th>\n",
              "      <th>edu_type</th>\n",
              "      <th>family_type</th>\n",
              "      <th>house_type</th>\n",
              "      <th>DAYS_BIRTH</th>\n",
              "      <th>DAYS_EMPLOYED</th>\n",
              "      <th>FLAG_MOBIL</th>\n",
              "      <th>work_phone</th>\n",
              "      <th>phone</th>\n",
              "      <th>email</th>\n",
              "      <th>occyp_type</th>\n",
              "      <th>family_size</th>\n",
              "      <th>begin_month</th>\n",
              "    </tr>\n",
              "  </thead>\n",
              "  <tbody>\n",
              "    <tr>\n",
              "      <th>0</th>\n",
              "      <td>26457</td>\n",
              "      <td>M</td>\n",
              "      <td>Y</td>\n",
              "      <td>N</td>\n",
              "      <td>0</td>\n",
              "      <td>112500.0</td>\n",
              "      <td>Pensioner</td>\n",
              "      <td>Secondary / secondary special</td>\n",
              "      <td>Civil marriage</td>\n",
              "      <td>House / apartment</td>\n",
              "      <td>-21990</td>\n",
              "      <td>365243</td>\n",
              "      <td>1</td>\n",
              "      <td>0</td>\n",
              "      <td>1</td>\n",
              "      <td>0</td>\n",
              "      <td>NaN</td>\n",
              "      <td>2.0</td>\n",
              "      <td>-60.0</td>\n",
              "    </tr>\n",
              "    <tr>\n",
              "      <th>1</th>\n",
              "      <td>26458</td>\n",
              "      <td>F</td>\n",
              "      <td>N</td>\n",
              "      <td>Y</td>\n",
              "      <td>0</td>\n",
              "      <td>135000.0</td>\n",
              "      <td>State servant</td>\n",
              "      <td>Higher education</td>\n",
              "      <td>Married</td>\n",
              "      <td>House / apartment</td>\n",
              "      <td>-18964</td>\n",
              "      <td>-8671</td>\n",
              "      <td>1</td>\n",
              "      <td>0</td>\n",
              "      <td>1</td>\n",
              "      <td>0</td>\n",
              "      <td>Core staff</td>\n",
              "      <td>2.0</td>\n",
              "      <td>-36.0</td>\n",
              "    </tr>\n",
              "    <tr>\n",
              "      <th>2</th>\n",
              "      <td>26459</td>\n",
              "      <td>F</td>\n",
              "      <td>N</td>\n",
              "      <td>Y</td>\n",
              "      <td>0</td>\n",
              "      <td>69372.0</td>\n",
              "      <td>Working</td>\n",
              "      <td>Secondary / secondary special</td>\n",
              "      <td>Married</td>\n",
              "      <td>House / apartment</td>\n",
              "      <td>-15887</td>\n",
              "      <td>-217</td>\n",
              "      <td>1</td>\n",
              "      <td>1</td>\n",
              "      <td>1</td>\n",
              "      <td>0</td>\n",
              "      <td>Laborers</td>\n",
              "      <td>2.0</td>\n",
              "      <td>-40.0</td>\n",
              "    </tr>\n",
              "    <tr>\n",
              "      <th>3</th>\n",
              "      <td>26460</td>\n",
              "      <td>M</td>\n",
              "      <td>Y</td>\n",
              "      <td>N</td>\n",
              "      <td>0</td>\n",
              "      <td>112500.0</td>\n",
              "      <td>Commercial associate</td>\n",
              "      <td>Secondary / secondary special</td>\n",
              "      <td>Married</td>\n",
              "      <td>House / apartment</td>\n",
              "      <td>-19270</td>\n",
              "      <td>-2531</td>\n",
              "      <td>1</td>\n",
              "      <td>1</td>\n",
              "      <td>0</td>\n",
              "      <td>0</td>\n",
              "      <td>Drivers</td>\n",
              "      <td>2.0</td>\n",
              "      <td>-41.0</td>\n",
              "    </tr>\n",
              "    <tr>\n",
              "      <th>4</th>\n",
              "      <td>26461</td>\n",
              "      <td>F</td>\n",
              "      <td>Y</td>\n",
              "      <td>Y</td>\n",
              "      <td>0</td>\n",
              "      <td>225000.0</td>\n",
              "      <td>State servant</td>\n",
              "      <td>Higher education</td>\n",
              "      <td>Married</td>\n",
              "      <td>House / apartment</td>\n",
              "      <td>-17822</td>\n",
              "      <td>-9385</td>\n",
              "      <td>1</td>\n",
              "      <td>1</td>\n",
              "      <td>0</td>\n",
              "      <td>0</td>\n",
              "      <td>Managers</td>\n",
              "      <td>2.0</td>\n",
              "      <td>-8.0</td>\n",
              "    </tr>\n",
              "  </tbody>\n",
              "</table>\n",
              "</div>"
            ],
            "text/plain": [
              "   index gender car reality  child_num  income_total           income_type  \\\n",
              "0  26457      M   Y       N          0      112500.0             Pensioner   \n",
              "1  26458      F   N       Y          0      135000.0         State servant   \n",
              "2  26459      F   N       Y          0       69372.0               Working   \n",
              "3  26460      M   Y       N          0      112500.0  Commercial associate   \n",
              "4  26461      F   Y       Y          0      225000.0         State servant   \n",
              "\n",
              "                        edu_type     family_type         house_type  \\\n",
              "0  Secondary / secondary special  Civil marriage  House / apartment   \n",
              "1               Higher education         Married  House / apartment   \n",
              "2  Secondary / secondary special         Married  House / apartment   \n",
              "3  Secondary / secondary special         Married  House / apartment   \n",
              "4               Higher education         Married  House / apartment   \n",
              "\n",
              "   DAYS_BIRTH  DAYS_EMPLOYED  FLAG_MOBIL  work_phone  phone  email  \\\n",
              "0      -21990         365243           1           0      1      0   \n",
              "1      -18964          -8671           1           0      1      0   \n",
              "2      -15887           -217           1           1      1      0   \n",
              "3      -19270          -2531           1           1      0      0   \n",
              "4      -17822          -9385           1           1      0      0   \n",
              "\n",
              "   occyp_type  family_size  begin_month  \n",
              "0         NaN          2.0        -60.0  \n",
              "1  Core staff          2.0        -36.0  \n",
              "2    Laborers          2.0        -40.0  \n",
              "3     Drivers          2.0        -41.0  \n",
              "4    Managers          2.0         -8.0  "
            ]
          },
          "execution_count": 7,
          "metadata": {},
          "output_type": "execute_result"
        }
      ]
    },
    {
      "cell_type": "code",
      "metadata": {
        "id": "65865c80",
        "outputId": "aa8f6007-b057-47bc-8b5a-89cc06a235a2"
      },
      "source": [
        "submission.head()"
      ],
      "id": "65865c80",
      "execution_count": null,
      "outputs": [
        {
          "data": {
            "text/html": [
              "<div>\n",
              "<style scoped>\n",
              "    .dataframe tbody tr th:only-of-type {\n",
              "        vertical-align: middle;\n",
              "    }\n",
              "\n",
              "    .dataframe tbody tr th {\n",
              "        vertical-align: top;\n",
              "    }\n",
              "\n",
              "    .dataframe thead th {\n",
              "        text-align: right;\n",
              "    }\n",
              "</style>\n",
              "<table border=\"1\" class=\"dataframe\">\n",
              "  <thead>\n",
              "    <tr style=\"text-align: right;\">\n",
              "      <th></th>\n",
              "      <th>index</th>\n",
              "      <th>0</th>\n",
              "      <th>1</th>\n",
              "      <th>2</th>\n",
              "    </tr>\n",
              "  </thead>\n",
              "  <tbody>\n",
              "    <tr>\n",
              "      <th>0</th>\n",
              "      <td>26457</td>\n",
              "      <td>0</td>\n",
              "      <td>0</td>\n",
              "      <td>0</td>\n",
              "    </tr>\n",
              "    <tr>\n",
              "      <th>1</th>\n",
              "      <td>26458</td>\n",
              "      <td>0</td>\n",
              "      <td>0</td>\n",
              "      <td>0</td>\n",
              "    </tr>\n",
              "    <tr>\n",
              "      <th>2</th>\n",
              "      <td>26459</td>\n",
              "      <td>0</td>\n",
              "      <td>0</td>\n",
              "      <td>0</td>\n",
              "    </tr>\n",
              "    <tr>\n",
              "      <th>3</th>\n",
              "      <td>26460</td>\n",
              "      <td>0</td>\n",
              "      <td>0</td>\n",
              "      <td>0</td>\n",
              "    </tr>\n",
              "    <tr>\n",
              "      <th>4</th>\n",
              "      <td>26461</td>\n",
              "      <td>0</td>\n",
              "      <td>0</td>\n",
              "      <td>0</td>\n",
              "    </tr>\n",
              "  </tbody>\n",
              "</table>\n",
              "</div>"
            ],
            "text/plain": [
              "   index  0  1  2\n",
              "0  26457  0  0  0\n",
              "1  26458  0  0  0\n",
              "2  26459  0  0  0\n",
              "3  26460  0  0  0\n",
              "4  26461  0  0  0"
            ]
          },
          "execution_count": 8,
          "metadata": {},
          "output_type": "execute_result"
        }
      ]
    },
    {
      "cell_type": "markdown",
      "metadata": {
        "id": "ee192690"
      },
      "source": [
        "# [데이터 전처리 및 EDA]\n",
        "- (주의) train data에 해준 그대로 test data 전처리"
      ],
      "id": "ee192690"
    },
    {
      "cell_type": "code",
      "metadata": {
        "id": "392eb93c",
        "outputId": "3feba1b2-ee4b-413d-e1f6-8b914330e2ac"
      },
      "source": [
        "train.isna().sum(), train.shape"
      ],
      "id": "392eb93c",
      "execution_count": null,
      "outputs": [
        {
          "data": {
            "text/plain": [
              "(index            0\n",
              " gender           0\n",
              " car              0\n",
              " reality          0\n",
              " child_num        0\n",
              " income_total     0\n",
              " income_type      0\n",
              " edu_type         0\n",
              " family_type      0\n",
              " house_type       0\n",
              " DAYS_BIRTH       0\n",
              " DAYS_EMPLOYED    0\n",
              " FLAG_MOBIL       0\n",
              " work_phone       0\n",
              " phone            0\n",
              " email            0\n",
              " family_size      0\n",
              " begin_month      0\n",
              " credit           0\n",
              " dtype: int64,\n",
              " (26457, 19))"
            ]
          },
          "execution_count": 12,
          "metadata": {},
          "output_type": "execute_result"
        }
      ]
    },
    {
      "cell_type": "markdown",
      "metadata": {
        "id": "fc2591ea"
      },
      "source": [
        "- 'occyp_type'이 26000개 중 8171개가 결측치행으로 판단\n",
        "- 해당 컬럼 삭제"
      ],
      "id": "fc2591ea"
    },
    {
      "cell_type": "code",
      "metadata": {
        "id": "342272a0"
      },
      "source": [
        "train=train.drop('occyp_type', axis=1)\n",
        "test=test.drop('occyp_type', axis=1)"
      ],
      "id": "342272a0",
      "execution_count": null,
      "outputs": []
    },
    {
      "cell_type": "code",
      "metadata": {
        "id": "2e9d93fb",
        "outputId": "41af41da-86ee-4340-ccd4-f9d61d46a9f5"
      },
      "source": [
        "train.info(), test.info()"
      ],
      "id": "2e9d93fb",
      "execution_count": null,
      "outputs": [
        {
          "name": "stdout",
          "output_type": "stream",
          "text": [
            "<class 'pandas.core.frame.DataFrame'>\n",
            "RangeIndex: 26457 entries, 0 to 26456\n",
            "Data columns (total 19 columns):\n",
            " #   Column         Non-Null Count  Dtype  \n",
            "---  ------         --------------  -----  \n",
            " 0   index          26457 non-null  int64  \n",
            " 1   gender         26457 non-null  object \n",
            " 2   car            26457 non-null  object \n",
            " 3   reality        26457 non-null  object \n",
            " 4   child_num      26457 non-null  int64  \n",
            " 5   income_total   26457 non-null  float64\n",
            " 6   income_type    26457 non-null  object \n",
            " 7   edu_type       26457 non-null  object \n",
            " 8   family_type    26457 non-null  object \n",
            " 9   house_type     26457 non-null  object \n",
            " 10  DAYS_BIRTH     26457 non-null  int64  \n",
            " 11  DAYS_EMPLOYED  26457 non-null  int64  \n",
            " 12  FLAG_MOBIL     26457 non-null  int64  \n",
            " 13  work_phone     26457 non-null  int64  \n",
            " 14  phone          26457 non-null  int64  \n",
            " 15  email          26457 non-null  int64  \n",
            " 16  family_size    26457 non-null  float64\n",
            " 17  begin_month    26457 non-null  float64\n",
            " 18  credit         26457 non-null  float64\n",
            "dtypes: float64(4), int64(8), object(7)\n",
            "memory usage: 3.8+ MB\n",
            "<class 'pandas.core.frame.DataFrame'>\n",
            "RangeIndex: 10000 entries, 0 to 9999\n",
            "Data columns (total 18 columns):\n",
            " #   Column         Non-Null Count  Dtype  \n",
            "---  ------         --------------  -----  \n",
            " 0   index          10000 non-null  int64  \n",
            " 1   gender         10000 non-null  object \n",
            " 2   car            10000 non-null  object \n",
            " 3   reality        10000 non-null  object \n",
            " 4   child_num      10000 non-null  int64  \n",
            " 5   income_total   10000 non-null  float64\n",
            " 6   income_type    10000 non-null  object \n",
            " 7   edu_type       10000 non-null  object \n",
            " 8   family_type    10000 non-null  object \n",
            " 9   house_type     10000 non-null  object \n",
            " 10  DAYS_BIRTH     10000 non-null  int64  \n",
            " 11  DAYS_EMPLOYED  10000 non-null  int64  \n",
            " 12  FLAG_MOBIL     10000 non-null  int64  \n",
            " 13  work_phone     10000 non-null  int64  \n",
            " 14  phone          10000 non-null  int64  \n",
            " 15  email          10000 non-null  int64  \n",
            " 16  family_size    10000 non-null  float64\n",
            " 17  begin_month    10000 non-null  float64\n",
            "dtypes: float64(3), int64(8), object(7)\n",
            "memory usage: 1.4+ MB\n"
          ]
        },
        {
          "data": {
            "text/plain": [
              "(None, None)"
            ]
          },
          "execution_count": 13,
          "metadata": {},
          "output_type": "execute_result"
        }
      ]
    },
    {
      "cell_type": "markdown",
      "metadata": {
        "id": "d4041599"
      },
      "source": [
        "- 타겟변수  credit의 분포 확인"
      ],
      "id": "d4041599"
    },
    {
      "cell_type": "code",
      "metadata": {
        "id": "42e69439",
        "outputId": "300dd17c-615b-4d69-a3a1-2e377891d68f"
      },
      "source": [
        "fig, ax = plt.subplots(1,2, figsize=(12,6))\n",
        "\n",
        "train['credit'].value_counts().plot.pie(explode=[0,0.1, 0.1],autopct='%1.1f%%',ax=ax[0],shadow=True)\n",
        "ax[0].set_title('credit')\n",
        "ax[0].set_ylabel('credit')\n",
        "sns.countplot('credit', data = train, ax=ax[1])\n",
        "ax[1].set_title('credit')\n",
        "plt.show()"
      ],
      "id": "42e69439",
      "execution_count": null,
      "outputs": [
        {
          "name": "stderr",
          "output_type": "stream",
          "text": [
            "C:\\Users\\sh.lee\\anaconda3\\envs\\test\\lib\\site-packages\\seaborn\\_decorators.py:36: FutureWarning: Pass the following variable as a keyword arg: x. From version 0.12, the only valid positional argument will be `data`, and passing other arguments without an explicit keyword will result in an error or misinterpretation.\n",
            "  warnings.warn(\n"
          ]
        },
        {
          "data": {
            "image/png": "[encoded data removed]",
            "text/plain": [
              "<Figure size 864x432 with 2 Axes>"
            ]
          },
          "metadata": {
            "needs_background": "light"
          },
          "output_type": "display_data"
        }
      ]
    },
    {
      "cell_type": "code",
      "metadata": {
        "id": "de6a8e15",
        "outputId": "8977cede-c3f5-4cf7-bd11-fd2d4240e736"
      },
      "source": [
        "pd.set_option('display.float_format', '{:.2f}'.format)\n",
        "train.describe()"
      ],
      "id": "de6a8e15",
      "execution_count": null,
      "outputs": [
        {
          "data": {
            "text/html": [
              "<div>\n",
              "<style scoped>\n",
              "    .dataframe tbody tr th:only-of-type {\n",
              "        vertical-align: middle;\n",
              "    }\n",
              "\n",
              "    .dataframe tbody tr th {\n",
              "        vertical-align: top;\n",
              "    }\n",
              "\n",
              "    .dataframe thead th {\n",
              "        text-align: right;\n",
              "    }\n",
              "</style>\n",
              "<table border=\"1\" class=\"dataframe\">\n",
              "  <thead>\n",
              "    <tr style=\"text-align: right;\">\n",
              "      <th></th>\n",
              "      <th>index</th>\n",
              "      <th>child_num</th>\n",
              "      <th>income_total</th>\n",
              "      <th>DAYS_BIRTH</th>\n",
              "      <th>DAYS_EMPLOYED</th>\n",
              "      <th>FLAG_MOBIL</th>\n",
              "      <th>work_phone</th>\n",
              "      <th>phone</th>\n",
              "      <th>email</th>\n",
              "      <th>family_size</th>\n",
              "      <th>begin_month</th>\n",
              "      <th>credit</th>\n",
              "    </tr>\n",
              "  </thead>\n",
              "  <tbody>\n",
              "    <tr>\n",
              "      <th>count</th>\n",
              "      <td>26457.00</td>\n",
              "      <td>26457.00</td>\n",
              "      <td>26457.00</td>\n",
              "      <td>26457.00</td>\n",
              "      <td>26457.00</td>\n",
              "      <td>26457.00</td>\n",
              "      <td>26457.00</td>\n",
              "      <td>26457.00</td>\n",
              "      <td>26457.00</td>\n",
              "      <td>26457.00</td>\n",
              "      <td>26457.00</td>\n",
              "      <td>26457.00</td>\n",
              "    </tr>\n",
              "    <tr>\n",
              "      <th>mean</th>\n",
              "      <td>13228.00</td>\n",
              "      <td>0.43</td>\n",
              "      <td>187306.52</td>\n",
              "      <td>-15958.05</td>\n",
              "      <td>59068.75</td>\n",
              "      <td>1.00</td>\n",
              "      <td>0.22</td>\n",
              "      <td>0.29</td>\n",
              "      <td>0.09</td>\n",
              "      <td>2.20</td>\n",
              "      <td>-26.12</td>\n",
              "      <td>1.52</td>\n",
              "    </tr>\n",
              "    <tr>\n",
              "      <th>std</th>\n",
              "      <td>7637.62</td>\n",
              "      <td>0.75</td>\n",
              "      <td>101878.37</td>\n",
              "      <td>4201.59</td>\n",
              "      <td>137475.43</td>\n",
              "      <td>0.00</td>\n",
              "      <td>0.42</td>\n",
              "      <td>0.46</td>\n",
              "      <td>0.29</td>\n",
              "      <td>0.92</td>\n",
              "      <td>16.56</td>\n",
              "      <td>0.70</td>\n",
              "    </tr>\n",
              "    <tr>\n",
              "      <th>min</th>\n",
              "      <td>0.00</td>\n",
              "      <td>0.00</td>\n",
              "      <td>27000.00</td>\n",
              "      <td>-25152.00</td>\n",
              "      <td>-15713.00</td>\n",
              "      <td>1.00</td>\n",
              "      <td>0.00</td>\n",
              "      <td>0.00</td>\n",
              "      <td>0.00</td>\n",
              "      <td>1.00</td>\n",
              "      <td>-60.00</td>\n",
              "      <td>0.00</td>\n",
              "    </tr>\n",
              "    <tr>\n",
              "      <th>25%</th>\n",
              "      <td>6614.00</td>\n",
              "      <td>0.00</td>\n",
              "      <td>121500.00</td>\n",
              "      <td>-19431.00</td>\n",
              "      <td>-3153.00</td>\n",
              "      <td>1.00</td>\n",
              "      <td>0.00</td>\n",
              "      <td>0.00</td>\n",
              "      <td>0.00</td>\n",
              "      <td>2.00</td>\n",
              "      <td>-39.00</td>\n",
              "      <td>1.00</td>\n",
              "    </tr>\n",
              "    <tr>\n",
              "      <th>50%</th>\n",
              "      <td>13228.00</td>\n",
              "      <td>0.00</td>\n",
              "      <td>157500.00</td>\n",
              "      <td>-15547.00</td>\n",
              "      <td>-1539.00</td>\n",
              "      <td>1.00</td>\n",
              "      <td>0.00</td>\n",
              "      <td>0.00</td>\n",
              "      <td>0.00</td>\n",
              "      <td>2.00</td>\n",
              "      <td>-24.00</td>\n",
              "      <td>2.00</td>\n",
              "    </tr>\n",
              "    <tr>\n",
              "      <th>75%</th>\n",
              "      <td>19842.00</td>\n",
              "      <td>1.00</td>\n",
              "      <td>225000.00</td>\n",
              "      <td>-12446.00</td>\n",
              "      <td>-407.00</td>\n",
              "      <td>1.00</td>\n",
              "      <td>0.00</td>\n",
              "      <td>1.00</td>\n",
              "      <td>0.00</td>\n",
              "      <td>3.00</td>\n",
              "      <td>-12.00</td>\n",
              "      <td>2.00</td>\n",
              "    </tr>\n",
              "    <tr>\n",
              "      <th>max</th>\n",
              "      <td>26456.00</td>\n",
              "      <td>19.00</td>\n",
              "      <td>1575000.00</td>\n",
              "      <td>-7705.00</td>\n",
              "      <td>365243.00</td>\n",
              "      <td>1.00</td>\n",
              "      <td>1.00</td>\n",
              "      <td>1.00</td>\n",
              "      <td>1.00</td>\n",
              "      <td>20.00</td>\n",
              "      <td>0.00</td>\n",
              "      <td>2.00</td>\n",
              "    </tr>\n",
              "  </tbody>\n",
              "</table>\n",
              "</div>"
            ],
            "text/plain": [
              "         index  child_num  income_total  DAYS_BIRTH  DAYS_EMPLOYED  \\\n",
              "count 26457.00   26457.00      26457.00    26457.00       26457.00   \n",
              "mean  13228.00       0.43     187306.52   -15958.05       59068.75   \n",
              "std    7637.62       0.75     101878.37     4201.59      137475.43   \n",
              "min       0.00       0.00      27000.00   -25152.00      -15713.00   \n",
              "25%    6614.00       0.00     121500.00   -19431.00       -3153.00   \n",
              "50%   13228.00       0.00     157500.00   -15547.00       -1539.00   \n",
              "75%   19842.00       1.00     225000.00   -12446.00        -407.00   \n",
              "max   26456.00      19.00    1575000.00    -7705.00      365243.00   \n",
              "\n",
              "       FLAG_MOBIL  work_phone    phone    email  family_size  begin_month  \\\n",
              "count    26457.00    26457.00 26457.00 26457.00     26457.00     26457.00   \n",
              "mean         1.00        0.22     0.29     0.09         2.20       -26.12   \n",
              "std          0.00        0.42     0.46     0.29         0.92        16.56   \n",
              "min          1.00        0.00     0.00     0.00         1.00       -60.00   \n",
              "25%          1.00        0.00     0.00     0.00         2.00       -39.00   \n",
              "50%          1.00        0.00     0.00     0.00         2.00       -24.00   \n",
              "75%          1.00        0.00     1.00     0.00         3.00       -12.00   \n",
              "max          1.00        1.00     1.00     1.00        20.00         0.00   \n",
              "\n",
              "        credit  \n",
              "count 26457.00  \n",
              "mean      1.52  \n",
              "std       0.70  \n",
              "min       0.00  \n",
              "25%       1.00  \n",
              "50%       2.00  \n",
              "75%       2.00  \n",
              "max       2.00  "
            ]
          },
          "execution_count": 6,
          "metadata": {},
          "output_type": "execute_result"
        }
      ]
    },
    {
      "cell_type": "code",
      "metadata": {
        "scrolled": false,
        "id": "6cc85071",
        "outputId": "b92e471a-9e2e-45be-85bf-831c48f2bce6"
      },
      "source": [
        "fig, ax = plt.subplots(2,2, figsize=(15,10))\n",
        "sns.countplot(train['FLAG_MOBIL'], ax = ax[0][0])\n",
        "ax[0][0].grid(axis='y')\n",
        "sns.countplot(train['work_phone'], ax = ax[0][1])\n",
        "ax[0][1].grid(axis='y')\n",
        "\n",
        "sns.countplot(train['phone'], ax = ax[1][0])\n",
        "ax[1][0].grid(axis='y')\n",
        "\n",
        "sns.countplot(train['email'], ax = ax[1][1])\n",
        "ax[1][1].grid(axis='y')\n",
        "\n",
        "fig.show()"
      ],
      "id": "6cc85071",
      "execution_count": null,
      "outputs": [
        {
          "name": "stderr",
          "output_type": "stream",
          "text": [
            "C:\\Users\\sh.lee\\anaconda3\\envs\\test\\lib\\site-packages\\seaborn\\_decorators.py:36: FutureWarning: Pass the following variable as a keyword arg: x. From version 0.12, the only valid positional argument will be `data`, and passing other arguments without an explicit keyword will result in an error or misinterpretation.\n",
            "  warnings.warn(\n",
            "C:\\Users\\sh.lee\\anaconda3\\envs\\test\\lib\\site-packages\\seaborn\\_decorators.py:36: FutureWarning: Pass the following variable as a keyword arg: x. From version 0.12, the only valid positional argument will be `data`, and passing other arguments without an explicit keyword will result in an error or misinterpretation.\n",
            "  warnings.warn(\n",
            "C:\\Users\\sh.lee\\anaconda3\\envs\\test\\lib\\site-packages\\seaborn\\_decorators.py:36: FutureWarning: Pass the following variable as a keyword arg: x. From version 0.12, the only valid positional argument will be `data`, and passing other arguments without an explicit keyword will result in an error or misinterpretation.\n",
            "  warnings.warn(\n",
            "C:\\Users\\sh.lee\\anaconda3\\envs\\test\\lib\\site-packages\\seaborn\\_decorators.py:36: FutureWarning: Pass the following variable as a keyword arg: x. From version 0.12, the only valid positional argument will be `data`, and passing other arguments without an explicit keyword will result in an error or misinterpretation.\n",
            "  warnings.warn(\n",
            "<ipython-input-75-12971907651d>:13: UserWarning: Matplotlib is currently using module://ipykernel.pylab.backend_inline, which is a non-GUI backend, so cannot show the figure.\n",
            "  fig.show()\n"
          ]
        },
        {
          "data": {
            "image/png": "[encoded data removed]",
            "text/plain": [
              "<Figure size 1080x720 with 4 Axes>"
            ]
          },
          "metadata": {
            "needs_background": "light"
          },
          "output_type": "display_data"
        }
      ]
    },
    {
      "cell_type": "markdown",
      "metadata": {
        "id": "26838909"
      },
      "source": [
        ""
      ],
      "id": "26838909"
    },
    {
      "cell_type": "code",
      "metadata": {
        "id": "223e373e",
        "outputId": "a3775403-78eb-4224-f918-ce5029cbfc01"
      },
      "source": [
        "fig, ax = plt.subplots(2,2, figsize=(15,10))\n",
        "sns.countplot(test['FLAG_MOBIL'], ax = ax[0][0])\n",
        "ax[0][0].grid(axis='y')\n",
        "sns.countplot(test['work_phone'], ax = ax[0][1])\n",
        "ax[0][1].grid(axis='y')\n",
        "\n",
        "sns.countplot(test['phone'], ax = ax[1][0])\n",
        "ax[1][0].grid(axis='y')\n",
        "\n",
        "sns.countplot(test['email'], ax = ax[1][1])\n",
        "ax[1][1].grid(axis='y')\n",
        "\n",
        "fig.show()"
      ],
      "id": "223e373e",
      "execution_count": null,
      "outputs": [
        {
          "name": "stderr",
          "output_type": "stream",
          "text": [
            "C:\\Users\\sh.lee\\anaconda3\\envs\\test\\lib\\site-packages\\seaborn\\_decorators.py:36: FutureWarning: Pass the following variable as a keyword arg: x. From version 0.12, the only valid positional argument will be `data`, and passing other arguments without an explicit keyword will result in an error or misinterpretation.\n",
            "  warnings.warn(\n",
            "C:\\Users\\sh.lee\\anaconda3\\envs\\test\\lib\\site-packages\\seaborn\\_decorators.py:36: FutureWarning: Pass the following variable as a keyword arg: x. From version 0.12, the only valid positional argument will be `data`, and passing other arguments without an explicit keyword will result in an error or misinterpretation.\n",
            "  warnings.warn(\n",
            "C:\\Users\\sh.lee\\anaconda3\\envs\\test\\lib\\site-packages\\seaborn\\_decorators.py:36: FutureWarning: Pass the following variable as a keyword arg: x. From version 0.12, the only valid positional argument will be `data`, and passing other arguments without an explicit keyword will result in an error or misinterpretation.\n",
            "  warnings.warn(\n",
            "C:\\Users\\sh.lee\\anaconda3\\envs\\test\\lib\\site-packages\\seaborn\\_decorators.py:36: FutureWarning: Pass the following variable as a keyword arg: x. From version 0.12, the only valid positional argument will be `data`, and passing other arguments without an explicit keyword will result in an error or misinterpretation.\n",
            "  warnings.warn(\n",
            "<ipython-input-76-e1c73699b754>:13: UserWarning: Matplotlib is currently using module://ipykernel.pylab.backend_inline, which is a non-GUI backend, so cannot show the figure.\n",
            "  fig.show()\n"
          ]
        },
        {
          "data": {
            "image/png": "[encoded data removed]",
            "text/plain": [
              "<Figure size 1080x720 with 4 Axes>"
            ]
          },
          "metadata": {
            "needs_background": "light"
          },
          "output_type": "display_data"
        }
      ]
    },
    {
      "cell_type": "markdown",
      "metadata": {
        "id": "13f422c1"
      },
      "source": [
        "- 이상치 확인"
      ],
      "id": "13f422c1"
    },
    {
      "cell_type": "code",
      "metadata": {
        "id": "0377c790",
        "outputId": "3e883ea9-8b30-480f-d452-9ff0757ca7cf"
      },
      "source": [
        "train.info()"
      ],
      "id": "0377c790",
      "execution_count": null,
      "outputs": [
        {
          "name": "stdout",
          "output_type": "stream",
          "text": [
            "<class 'pandas.core.frame.DataFrame'>\n",
            "RangeIndex: 26457 entries, 0 to 26456\n",
            "Data columns (total 19 columns):\n",
            " #   Column         Non-Null Count  Dtype  \n",
            "---  ------         --------------  -----  \n",
            " 0   index          26457 non-null  int64  \n",
            " 1   gender         26457 non-null  object \n",
            " 2   car            26457 non-null  object \n",
            " 3   reality        26457 non-null  object \n",
            " 4   child_num      26457 non-null  int64  \n",
            " 5   income_total   26457 non-null  float64\n",
            " 6   income_type    26457 non-null  object \n",
            " 7   edu_type       26457 non-null  object \n",
            " 8   family_type    26457 non-null  object \n",
            " 9   house_type     26457 non-null  object \n",
            " 10  DAYS_BIRTH     26457 non-null  int64  \n",
            " 11  DAYS_EMPLOYED  26457 non-null  int64  \n",
            " 12  FLAG_MOBIL     26457 non-null  int64  \n",
            " 13  work_phone     26457 non-null  int64  \n",
            " 14  phone          26457 non-null  int64  \n",
            " 15  email          26457 non-null  int64  \n",
            " 16  family_size    26457 non-null  float64\n",
            " 17  begin_month    26457 non-null  float64\n",
            " 18  credit         26457 non-null  float64\n",
            "dtypes: float64(4), int64(8), object(7)\n",
            "memory usage: 3.8+ MB\n"
          ]
        }
      ]
    },
    {
      "cell_type": "markdown",
      "metadata": {
        "id": "1cf4364a"
      },
      "source": [
        "- 기본 데이터 시각화\n",
        "- 피쳐와 타겟간의 관계 시각화 및 피쳐 특징 식가화"
      ],
      "id": "1cf4364a"
    },
    {
      "cell_type": "code",
      "metadata": {
        "id": "c48248d5",
        "outputId": "b132e224-2451-452c-c743-35b3613d5024"
      },
      "source": [
        "print(train.groupby('gender')['credit'].count())\n",
        "print('='*50)\n",
        "print(train.groupby('car')['credit'].count())\n",
        "print('='*50)\n",
        "print(train.groupby('reality')['credit'].count())\n",
        "print('='*50)\n",
        "print(train.groupby('edu_type')['credit'].count())\n",
        "print('='*50)\n",
        "print(train.groupby('family_type')['credit'].count())\n",
        "print('='*50)\n",
        "print(train.groupby('house_type')['credit'].count())"
      ],
      "id": "c48248d5",
      "execution_count": null,
      "outputs": [
        {
          "name": "stdout",
          "output_type": "stream",
          "text": [
            "gender\n",
            "F    17697\n",
            "M     8760\n",
            "Name: credit, dtype: int64\n",
            "==================================================\n",
            "car\n",
            "N    16410\n",
            "Y    10047\n",
            "Name: credit, dtype: int64\n",
            "==================================================\n",
            "reality\n",
            "N     8627\n",
            "Y    17830\n",
            "Name: credit, dtype: int64\n",
            "==================================================\n",
            "edu_type\n",
            "Academic degree                     23\n",
            "Higher education                  7162\n",
            "Incomplete higher                 1020\n",
            "Lower secondary                    257\n",
            "Secondary / secondary special    17995\n",
            "Name: credit, dtype: int64\n",
            "==================================================\n",
            "family_type\n",
            "Civil marriage           2123\n",
            "Married                 18196\n",
            "Separated                1539\n",
            "Single / not married     3496\n",
            "Widow                    1103\n",
            "Name: credit, dtype: int64\n",
            "==================================================\n",
            "house_type\n",
            "Co-op apartment          110\n",
            "House / apartment      23653\n",
            "Municipal apartment      818\n",
            "Office apartment         190\n",
            "Rented apartment         429\n",
            "With parents            1257\n",
            "Name: credit, dtype: int64\n"
          ]
        }
      ]
    },
    {
      "cell_type": "code",
      "metadata": {
        "id": "b2d7cddc",
        "outputId": "42b66e06-32dc-4e57-e597-ba0e250f5622"
      },
      "source": [
        "fig, ax = plt.subplots(1,2,figsize=(15,6))\n",
        "sns.countplot('credit',data=train, hue='gender',ax=ax[0])\n",
        "sns.countplot('gender',data=train, hue='credit',ax=ax[1])"
      ],
      "id": "b2d7cddc",
      "execution_count": null,
      "outputs": [
        {
          "name": "stderr",
          "output_type": "stream",
          "text": [
            "C:\\Users\\sh.lee\\anaconda3\\envs\\test\\lib\\site-packages\\seaborn\\_decorators.py:36: FutureWarning: Pass the following variable as a keyword arg: x. From version 0.12, the only valid positional argument will be `data`, and passing other arguments without an explicit keyword will result in an error or misinterpretation.\n",
            "  warnings.warn(\n",
            "C:\\Users\\sh.lee\\anaconda3\\envs\\test\\lib\\site-packages\\seaborn\\_decorators.py:36: FutureWarning: Pass the following variable as a keyword arg: x. From version 0.12, the only valid positional argument will be `data`, and passing other arguments without an explicit keyword will result in an error or misinterpretation.\n",
            "  warnings.warn(\n"
          ]
        },
        {
          "data": {
            "text/plain": [
              "<AxesSubplot:xlabel='gender', ylabel='count'>"
            ]
          },
          "execution_count": 51,
          "metadata": {},
          "output_type": "execute_result"
        },
        {
          "data": {
            "image/png": "[encoded data removed]",
            "text/plain": [
              "<Figure size 1080x432 with 2 Axes>"
            ]
          },
          "metadata": {
            "needs_background": "light"
          },
          "output_type": "display_data"
        }
      ]
    },
    {
      "cell_type": "markdown",
      "metadata": {
        "id": "d6b97697"
      },
      "source": [
        "- 성별로 보면 여성의 표본수가 2배 많아서 절대적인 수치는 높게 나온것\n",
        "- 하지만 credit의 비율을 보면 남 녀 모두 비슷한 형태를 띔"
      ],
      "id": "d6b97697"
    },
    {
      "cell_type": "code",
      "metadata": {
        "id": "1e2e3f01",
        "outputId": "7a0ec447-d3de-46c2-9c48-5802276437c4"
      },
      "source": [
        "plt.figure(figsize=(15,6))\n",
        "sns.countplot('family_type',data=train, hue='credit')"
      ],
      "id": "1e2e3f01",
      "execution_count": null,
      "outputs": [
        {
          "name": "stderr",
          "output_type": "stream",
          "text": [
            "C:\\Users\\sh.lee\\anaconda3\\envs\\test\\lib\\site-packages\\seaborn\\_decorators.py:36: FutureWarning: Pass the following variable as a keyword arg: x. From version 0.12, the only valid positional argument will be `data`, and passing other arguments without an explicit keyword will result in an error or misinterpretation.\n",
            "  warnings.warn(\n"
          ]
        },
        {
          "data": {
            "text/plain": [
              "<AxesSubplot:xlabel='family_type', ylabel='count'>"
            ]
          },
          "execution_count": 56,
          "metadata": {},
          "output_type": "execute_result"
        },
        {
          "data": {
            "image/png": "[encoded data removed]",
            "text/plain": [
              "<Figure size 1080x432 with 1 Axes>"
            ]
          },
          "metadata": {
            "needs_background": "light"
          },
          "output_type": "display_data"
        }
      ]
    },
    {
      "cell_type": "code",
      "metadata": {
        "id": "3f7d0d6d",
        "outputId": "8d01fa8b-37ea-43ac-8512-03e015f1d4b4"
      },
      "source": [
        "train.info()"
      ],
      "id": "3f7d0d6d",
      "execution_count": null,
      "outputs": [
        {
          "name": "stdout",
          "output_type": "stream",
          "text": [
            "<class 'pandas.core.frame.DataFrame'>\n",
            "RangeIndex: 26457 entries, 0 to 26456\n",
            "Data columns (total 19 columns):\n",
            " #   Column         Non-Null Count  Dtype  \n",
            "---  ------         --------------  -----  \n",
            " 0   index          26457 non-null  int64  \n",
            " 1   gender         26457 non-null  object \n",
            " 2   car            26457 non-null  object \n",
            " 3   reality        26457 non-null  object \n",
            " 4   child_num      26457 non-null  int64  \n",
            " 5   income_total   26457 non-null  float64\n",
            " 6   income_type    26457 non-null  object \n",
            " 7   edu_type       26457 non-null  object \n",
            " 8   family_type    26457 non-null  object \n",
            " 9   house_type     26457 non-null  object \n",
            " 10  DAYS_BIRTH     26457 non-null  int64  \n",
            " 11  DAYS_EMPLOYED  26457 non-null  int64  \n",
            " 12  FLAG_MOBIL     26457 non-null  int64  \n",
            " 13  work_phone     26457 non-null  int64  \n",
            " 14  phone          26457 non-null  int64  \n",
            " 15  email          26457 non-null  int64  \n",
            " 16  family_size    26457 non-null  float64\n",
            " 17  begin_month    26457 non-null  float64\n",
            " 18  credit         26457 non-null  float64\n",
            "dtypes: float64(4), int64(8), object(7)\n",
            "memory usage: 3.8+ MB\n"
          ]
        }
      ]
    },
    {
      "cell_type": "code",
      "metadata": {
        "id": "ebe76422",
        "outputId": "967d09ef-de68-4f35-f85f-afd658637161"
      },
      "source": [
        "train.head()"
      ],
      "id": "ebe76422",
      "execution_count": null,
      "outputs": [
        {
          "data": {
            "text/html": [
              "<div>\n",
              "<style scoped>\n",
              "    .dataframe tbody tr th:only-of-type {\n",
              "        vertical-align: middle;\n",
              "    }\n",
              "\n",
              "    .dataframe tbody tr th {\n",
              "        vertical-align: top;\n",
              "    }\n",
              "\n",
              "    .dataframe thead th {\n",
              "        text-align: right;\n",
              "    }\n",
              "</style>\n",
              "<table border=\"1\" class=\"dataframe\">\n",
              "  <thead>\n",
              "    <tr style=\"text-align: right;\">\n",
              "      <th></th>\n",
              "      <th>gender</th>\n",
              "      <th>car</th>\n",
              "      <th>reality</th>\n",
              "      <th>child_num</th>\n",
              "      <th>income_total</th>\n",
              "      <th>income_type</th>\n",
              "      <th>edu_type</th>\n",
              "      <th>family_type</th>\n",
              "      <th>house_type</th>\n",
              "      <th>DAYS_BIRTH</th>\n",
              "      <th>DAYS_EMPLOYED</th>\n",
              "      <th>work_phone</th>\n",
              "      <th>phone</th>\n",
              "      <th>email</th>\n",
              "      <th>family_size</th>\n",
              "      <th>begin_month</th>\n",
              "      <th>credit</th>\n",
              "    </tr>\n",
              "  </thead>\n",
              "  <tbody>\n",
              "    <tr>\n",
              "      <th>0</th>\n",
              "      <td>F</td>\n",
              "      <td>N</td>\n",
              "      <td>N</td>\n",
              "      <td>0</td>\n",
              "      <td>202500.00</td>\n",
              "      <td>Commercial associate</td>\n",
              "      <td>Higher education</td>\n",
              "      <td>Married</td>\n",
              "      <td>Municipal apartment</td>\n",
              "      <td>-13899</td>\n",
              "      <td>-4709</td>\n",
              "      <td>0</td>\n",
              "      <td>0</td>\n",
              "      <td>0</td>\n",
              "      <td>2.00</td>\n",
              "      <td>-6.00</td>\n",
              "      <td>1.00</td>\n",
              "    </tr>\n",
              "    <tr>\n",
              "      <th>1</th>\n",
              "      <td>F</td>\n",
              "      <td>N</td>\n",
              "      <td>Y</td>\n",
              "      <td>1</td>\n",
              "      <td>247500.00</td>\n",
              "      <td>Commercial associate</td>\n",
              "      <td>Secondary / secondary special</td>\n",
              "      <td>Civil marriage</td>\n",
              "      <td>House / apartment</td>\n",
              "      <td>-11380</td>\n",
              "      <td>-1540</td>\n",
              "      <td>0</td>\n",
              "      <td>0</td>\n",
              "      <td>1</td>\n",
              "      <td>3.00</td>\n",
              "      <td>-5.00</td>\n",
              "      <td>1.00</td>\n",
              "    </tr>\n",
              "    <tr>\n",
              "      <th>2</th>\n",
              "      <td>M</td>\n",
              "      <td>Y</td>\n",
              "      <td>Y</td>\n",
              "      <td>0</td>\n",
              "      <td>450000.00</td>\n",
              "      <td>Working</td>\n",
              "      <td>Higher education</td>\n",
              "      <td>Married</td>\n",
              "      <td>House / apartment</td>\n",
              "      <td>-19087</td>\n",
              "      <td>-4434</td>\n",
              "      <td>0</td>\n",
              "      <td>1</td>\n",
              "      <td>0</td>\n",
              "      <td>2.00</td>\n",
              "      <td>-22.00</td>\n",
              "      <td>2.00</td>\n",
              "    </tr>\n",
              "    <tr>\n",
              "      <th>3</th>\n",
              "      <td>F</td>\n",
              "      <td>N</td>\n",
              "      <td>Y</td>\n",
              "      <td>0</td>\n",
              "      <td>202500.00</td>\n",
              "      <td>Commercial associate</td>\n",
              "      <td>Secondary / secondary special</td>\n",
              "      <td>Married</td>\n",
              "      <td>House / apartment</td>\n",
              "      <td>-15088</td>\n",
              "      <td>-2092</td>\n",
              "      <td>0</td>\n",
              "      <td>1</td>\n",
              "      <td>0</td>\n",
              "      <td>2.00</td>\n",
              "      <td>-37.00</td>\n",
              "      <td>0.00</td>\n",
              "    </tr>\n",
              "    <tr>\n",
              "      <th>4</th>\n",
              "      <td>F</td>\n",
              "      <td>Y</td>\n",
              "      <td>Y</td>\n",
              "      <td>0</td>\n",
              "      <td>157500.00</td>\n",
              "      <td>State servant</td>\n",
              "      <td>Higher education</td>\n",
              "      <td>Married</td>\n",
              "      <td>House / apartment</td>\n",
              "      <td>-15037</td>\n",
              "      <td>-2105</td>\n",
              "      <td>0</td>\n",
              "      <td>0</td>\n",
              "      <td>0</td>\n",
              "      <td>2.00</td>\n",
              "      <td>-26.00</td>\n",
              "      <td>2.00</td>\n",
              "    </tr>\n",
              "  </tbody>\n",
              "</table>\n",
              "</div>"
            ],
            "text/plain": [
              "  gender car reality  child_num  income_total           income_type  \\\n",
              "0      F   N       N          0     202500.00  Commercial associate   \n",
              "1      F   N       Y          1     247500.00  Commercial associate   \n",
              "2      M   Y       Y          0     450000.00               Working   \n",
              "3      F   N       Y          0     202500.00  Commercial associate   \n",
              "4      F   Y       Y          0     157500.00         State servant   \n",
              "\n",
              "                        edu_type     family_type           house_type  \\\n",
              "0               Higher education         Married  Municipal apartment   \n",
              "1  Secondary / secondary special  Civil marriage    House / apartment   \n",
              "2               Higher education         Married    House / apartment   \n",
              "3  Secondary / secondary special         Married    House / apartment   \n",
              "4               Higher education         Married    House / apartment   \n",
              "\n",
              "   DAYS_BIRTH  DAYS_EMPLOYED  work_phone  phone  email  family_size  \\\n",
              "0      -13899          -4709           0      0      0         2.00   \n",
              "1      -11380          -1540           0      0      1         3.00   \n",
              "2      -19087          -4434           0      1      0         2.00   \n",
              "3      -15088          -2092           0      1      0         2.00   \n",
              "4      -15037          -2105           0      0      0         2.00   \n",
              "\n",
              "   begin_month  credit  \n",
              "0        -6.00    1.00  \n",
              "1        -5.00    1.00  \n",
              "2       -22.00    2.00  \n",
              "3       -37.00    0.00  \n",
              "4       -26.00    2.00  "
            ]
          },
          "execution_count": 66,
          "metadata": {},
          "output_type": "execute_result"
        }
      ]
    },
    {
      "cell_type": "code",
      "metadata": {
        "id": "3efb2780",
        "outputId": "fd910fae-baf9-4674-ef34-f1f43cf312cb"
      },
      "source": [
        "test.head()"
      ],
      "id": "3efb2780",
      "execution_count": null,
      "outputs": [
        {
          "data": {
            "text/html": [
              "<div>\n",
              "<style scoped>\n",
              "    .dataframe tbody tr th:only-of-type {\n",
              "        vertical-align: middle;\n",
              "    }\n",
              "\n",
              "    .dataframe tbody tr th {\n",
              "        vertical-align: top;\n",
              "    }\n",
              "\n",
              "    .dataframe thead th {\n",
              "        text-align: right;\n",
              "    }\n",
              "</style>\n",
              "<table border=\"1\" class=\"dataframe\">\n",
              "  <thead>\n",
              "    <tr style=\"text-align: right;\">\n",
              "      <th></th>\n",
              "      <th>gender</th>\n",
              "      <th>car</th>\n",
              "      <th>reality</th>\n",
              "      <th>child_num</th>\n",
              "      <th>income_total</th>\n",
              "      <th>income_type</th>\n",
              "      <th>edu_type</th>\n",
              "      <th>family_type</th>\n",
              "      <th>house_type</th>\n",
              "      <th>DAYS_BIRTH</th>\n",
              "      <th>DAYS_EMPLOYED</th>\n",
              "      <th>work_phone</th>\n",
              "      <th>phone</th>\n",
              "      <th>email</th>\n",
              "      <th>family_size</th>\n",
              "      <th>begin_month</th>\n",
              "    </tr>\n",
              "  </thead>\n",
              "  <tbody>\n",
              "    <tr>\n",
              "      <th>0</th>\n",
              "      <td>M</td>\n",
              "      <td>Y</td>\n",
              "      <td>N</td>\n",
              "      <td>0</td>\n",
              "      <td>112500.00</td>\n",
              "      <td>Pensioner</td>\n",
              "      <td>Secondary / secondary special</td>\n",
              "      <td>Civil marriage</td>\n",
              "      <td>House / apartment</td>\n",
              "      <td>-21990</td>\n",
              "      <td>365243</td>\n",
              "      <td>0</td>\n",
              "      <td>1</td>\n",
              "      <td>0</td>\n",
              "      <td>2.00</td>\n",
              "      <td>-60.00</td>\n",
              "    </tr>\n",
              "    <tr>\n",
              "      <th>1</th>\n",
              "      <td>F</td>\n",
              "      <td>N</td>\n",
              "      <td>Y</td>\n",
              "      <td>0</td>\n",
              "      <td>135000.00</td>\n",
              "      <td>State servant</td>\n",
              "      <td>Higher education</td>\n",
              "      <td>Married</td>\n",
              "      <td>House / apartment</td>\n",
              "      <td>-18964</td>\n",
              "      <td>-8671</td>\n",
              "      <td>0</td>\n",
              "      <td>1</td>\n",
              "      <td>0</td>\n",
              "      <td>2.00</td>\n",
              "      <td>-36.00</td>\n",
              "    </tr>\n",
              "    <tr>\n",
              "      <th>2</th>\n",
              "      <td>F</td>\n",
              "      <td>N</td>\n",
              "      <td>Y</td>\n",
              "      <td>0</td>\n",
              "      <td>69372.00</td>\n",
              "      <td>Working</td>\n",
              "      <td>Secondary / secondary special</td>\n",
              "      <td>Married</td>\n",
              "      <td>House / apartment</td>\n",
              "      <td>-15887</td>\n",
              "      <td>-217</td>\n",
              "      <td>1</td>\n",
              "      <td>1</td>\n",
              "      <td>0</td>\n",
              "      <td>2.00</td>\n",
              "      <td>-40.00</td>\n",
              "    </tr>\n",
              "    <tr>\n",
              "      <th>3</th>\n",
              "      <td>M</td>\n",
              "      <td>Y</td>\n",
              "      <td>N</td>\n",
              "      <td>0</td>\n",
              "      <td>112500.00</td>\n",
              "      <td>Commercial associate</td>\n",
              "      <td>Secondary / secondary special</td>\n",
              "      <td>Married</td>\n",
              "      <td>House / apartment</td>\n",
              "      <td>-19270</td>\n",
              "      <td>-2531</td>\n",
              "      <td>1</td>\n",
              "      <td>0</td>\n",
              "      <td>0</td>\n",
              "      <td>2.00</td>\n",
              "      <td>-41.00</td>\n",
              "    </tr>\n",
              "    <tr>\n",
              "      <th>4</th>\n",
              "      <td>F</td>\n",
              "      <td>Y</td>\n",
              "      <td>Y</td>\n",
              "      <td>0</td>\n",
              "      <td>225000.00</td>\n",
              "      <td>State servant</td>\n",
              "      <td>Higher education</td>\n",
              "      <td>Married</td>\n",
              "      <td>House / apartment</td>\n",
              "      <td>-17822</td>\n",
              "      <td>-9385</td>\n",
              "      <td>1</td>\n",
              "      <td>0</td>\n",
              "      <td>0</td>\n",
              "      <td>2.00</td>\n",
              "      <td>-8.00</td>\n",
              "    </tr>\n",
              "  </tbody>\n",
              "</table>\n",
              "</div>"
            ],
            "text/plain": [
              "  gender car reality  child_num  income_total           income_type  \\\n",
              "0      M   Y       N          0     112500.00             Pensioner   \n",
              "1      F   N       Y          0     135000.00         State servant   \n",
              "2      F   N       Y          0      69372.00               Working   \n",
              "3      M   Y       N          0     112500.00  Commercial associate   \n",
              "4      F   Y       Y          0     225000.00         State servant   \n",
              "\n",
              "                        edu_type     family_type         house_type  \\\n",
              "0  Secondary / secondary special  Civil marriage  House / apartment   \n",
              "1               Higher education         Married  House / apartment   \n",
              "2  Secondary / secondary special         Married  House / apartment   \n",
              "3  Secondary / secondary special         Married  House / apartment   \n",
              "4               Higher education         Married  House / apartment   \n",
              "\n",
              "   DAYS_BIRTH  DAYS_EMPLOYED  work_phone  phone  email  family_size  \\\n",
              "0      -21990         365243           0      1      0         2.00   \n",
              "1      -18964          -8671           0      1      0         2.00   \n",
              "2      -15887           -217           1      1      0         2.00   \n",
              "3      -19270          -2531           1      0      0         2.00   \n",
              "4      -17822          -9385           1      0      0         2.00   \n",
              "\n",
              "   begin_month  \n",
              "0       -60.00  \n",
              "1       -36.00  \n",
              "2       -40.00  \n",
              "3       -41.00  \n",
              "4        -8.00  "
            ]
          },
          "execution_count": 65,
          "metadata": {},
          "output_type": "execute_result"
        }
      ]
    },
    {
      "cell_type": "code",
      "metadata": {
        "id": "c08fdeaa"
      },
      "source": [
        "#불필요한 칼럼 삭제\n",
        "train.drop(['FLAG_MOBIL','index'],axis=1,inplace=True)\n",
        "\n",
        "test.drop(['FLAG_MOBIL','index'],axis=1,inplace=True)"
      ],
      "id": "c08fdeaa",
      "execution_count": null,
      "outputs": []
    },
    {
      "cell_type": "code",
      "metadata": {
        "id": "41b54c03",
        "outputId": "4aa23723-84f8-411d-b5e9-5eeb1f07f749"
      },
      "source": [
        "train.shape, test.shape"
      ],
      "id": "41b54c03",
      "execution_count": null,
      "outputs": [
        {
          "data": {
            "text/plain": [
              "((26457, 17), (10000, 16))"
            ]
          },
          "execution_count": 108,
          "metadata": {},
          "output_type": "execute_result"
        }
      ]
    },
    {
      "cell_type": "code",
      "metadata": {
        "id": "77013950",
        "outputId": "f9852d08-2897-414c-bc5b-8d1cc5018987"
      },
      "source": [
        "plt.boxplot(train['child_num'])\n",
        "plt.show()"
      ],
      "id": "77013950",
      "execution_count": null,
      "outputs": [
        {
          "data": {
            "image/png": "[encoded data removed]",
            "text/plain": [
              "<Figure size 432x288 with 1 Axes>"
            ]
          },
          "metadata": {
            "needs_background": "light"
          },
          "output_type": "display_data"
        }
      ]
    },
    {
      "cell_type": "code",
      "metadata": {
        "id": "72468d69"
      },
      "source": [
        "train = train.drop(train[train['child_num']>10].index, axis=0).reset_index(drop=True)\n",
        "test = test.drop(train[train['child_num']>10].index, axis=0).reset_index(drop=True)"
      ],
      "id": "72468d69",
      "execution_count": null,
      "outputs": []
    },
    {
      "cell_type": "code",
      "metadata": {
        "id": "b0b57b84",
        "outputId": "68461461-6ae6-42ca-c1c4-7ee18b4db779"
      },
      "source": [
        "train.shape, test.shape"
      ],
      "id": "b0b57b84",
      "execution_count": null,
      "outputs": [
        {
          "data": {
            "text/plain": [
              "((26453, 17), (10000, 16))"
            ]
          },
          "execution_count": 110,
          "metadata": {},
          "output_type": "execute_result"
        }
      ]
    },
    {
      "cell_type": "code",
      "metadata": {
        "id": "8851e1c7",
        "outputId": "886510d3-0f35-4f0f-cda4-0aaadccde689"
      },
      "source": [
        "train.info()"
      ],
      "id": "8851e1c7",
      "execution_count": null,
      "outputs": [
        {
          "name": "stdout",
          "output_type": "stream",
          "text": [
            "<class 'pandas.core.frame.DataFrame'>\n",
            "RangeIndex: 22015 entries, 0 to 22014\n",
            "Data columns (total 17 columns):\n",
            " #   Column         Non-Null Count  Dtype  \n",
            "---  ------         --------------  -----  \n",
            " 0   gender         22015 non-null  object \n",
            " 1   car            22015 non-null  object \n",
            " 2   reality        22015 non-null  object \n",
            " 3   child_num      22015 non-null  int64  \n",
            " 4   income_total   22015 non-null  float64\n",
            " 5   income_type    22015 non-null  object \n",
            " 6   edu_type       22015 non-null  object \n",
            " 7   family_type    22015 non-null  object \n",
            " 8   house_type     22015 non-null  object \n",
            " 9   DAYS_BIRTH     22015 non-null  int64  \n",
            " 10  DAYS_EMPLOYED  22015 non-null  int64  \n",
            " 11  work_phone     22015 non-null  int64  \n",
            " 12  phone          22015 non-null  int64  \n",
            " 13  email          22015 non-null  int64  \n",
            " 14  family_size    22015 non-null  float64\n",
            " 15  begin_month    22015 non-null  float64\n",
            " 16  credit         22015 non-null  float64\n",
            "dtypes: float64(4), int64(6), object(7)\n",
            "memory usage: 2.9+ MB\n"
          ]
        }
      ]
    },
    {
      "cell_type": "code",
      "metadata": {
        "id": "bab23c65",
        "outputId": "1d055491-0545-4bdb-c190-4c90eb27cbf4"
      },
      "source": [
        "plt.boxplot(train['begin_month'])\n",
        "plt.show()"
      ],
      "id": "bab23c65",
      "execution_count": null,
      "outputs": [
        {
          "data": {
            "image/png": "[encoded data removed]",
            "text/plain": [
              "<Figure size 432x288 with 1 Axes>"
            ]
          },
          "metadata": {
            "needs_background": "light"
          },
          "output_type": "display_data"
        }
      ]
    },
    {
      "cell_type": "markdown",
      "metadata": {
        "id": "851e685f"
      },
      "source": [
        "- DAYS_EMPLOYED 에서 이상하게 양수값이 매우높은 수치가 발견 해당 행 삭제"
      ],
      "id": "851e685f"
    },
    {
      "cell_type": "code",
      "metadata": {
        "id": "72636711"
      },
      "source": [
        "train = train.drop(train[train['DAYS_EMPLOYED']>100000].index, axis=0).reset_index(drop=True)\n",
        "test = test.drop(train[train['DAYS_EMPLOYED']>100000].index, axis=0).reset_index(drop=True)"
      ],
      "id": "72636711",
      "execution_count": null,
      "outputs": []
    },
    {
      "cell_type": "markdown",
      "metadata": {
        "id": "aba816e9"
      },
      "source": [
        "- 범주형 처리"
      ],
      "id": "aba816e9"
    },
    {
      "cell_type": "code",
      "metadata": {
        "id": "11f59cc3"
      },
      "source": [
        "category_df = train.select_dtypes(exclude=['int64','float64'])\n",
        "numeric_df = train.select_dtypes(include=['int64','float64'])"
      ],
      "id": "11f59cc3",
      "execution_count": null,
      "outputs": []
    },
    {
      "cell_type": "code",
      "metadata": {
        "id": "d118d3a2",
        "outputId": "3d952ddf-b174-4d20-bd33-4a4c96059bb5"
      },
      "source": [
        "category_df"
      ],
      "id": "d118d3a2",
      "execution_count": null,
      "outputs": [
        {
          "data": {
            "text/html": [
              "<div>\n",
              "<style scoped>\n",
              "    .dataframe tbody tr th:only-of-type {\n",
              "        vertical-align: middle;\n",
              "    }\n",
              "\n",
              "    .dataframe tbody tr th {\n",
              "        vertical-align: top;\n",
              "    }\n",
              "\n",
              "    .dataframe thead th {\n",
              "        text-align: right;\n",
              "    }\n",
              "</style>\n",
              "<table border=\"1\" class=\"dataframe\">\n",
              "  <thead>\n",
              "    <tr style=\"text-align: right;\">\n",
              "      <th></th>\n",
              "      <th>gender</th>\n",
              "      <th>car</th>\n",
              "      <th>reality</th>\n",
              "      <th>income_type</th>\n",
              "      <th>edu_type</th>\n",
              "      <th>family_type</th>\n",
              "      <th>house_type</th>\n",
              "    </tr>\n",
              "  </thead>\n",
              "  <tbody>\n",
              "    <tr>\n",
              "      <th>0</th>\n",
              "      <td>F</td>\n",
              "      <td>N</td>\n",
              "      <td>N</td>\n",
              "      <td>Commercial associate</td>\n",
              "      <td>Higher education</td>\n",
              "      <td>Married</td>\n",
              "      <td>Municipal apartment</td>\n",
              "    </tr>\n",
              "    <tr>\n",
              "      <th>1</th>\n",
              "      <td>F</td>\n",
              "      <td>N</td>\n",
              "      <td>Y</td>\n",
              "      <td>Commercial associate</td>\n",
              "      <td>Secondary / secondary special</td>\n",
              "      <td>Civil marriage</td>\n",
              "      <td>House / apartment</td>\n",
              "    </tr>\n",
              "    <tr>\n",
              "      <th>2</th>\n",
              "      <td>M</td>\n",
              "      <td>Y</td>\n",
              "      <td>Y</td>\n",
              "      <td>Working</td>\n",
              "      <td>Higher education</td>\n",
              "      <td>Married</td>\n",
              "      <td>House / apartment</td>\n",
              "    </tr>\n",
              "    <tr>\n",
              "      <th>3</th>\n",
              "      <td>F</td>\n",
              "      <td>N</td>\n",
              "      <td>Y</td>\n",
              "      <td>Commercial associate</td>\n",
              "      <td>Secondary / secondary special</td>\n",
              "      <td>Married</td>\n",
              "      <td>House / apartment</td>\n",
              "    </tr>\n",
              "    <tr>\n",
              "      <th>4</th>\n",
              "      <td>F</td>\n",
              "      <td>Y</td>\n",
              "      <td>Y</td>\n",
              "      <td>State servant</td>\n",
              "      <td>Higher education</td>\n",
              "      <td>Married</td>\n",
              "      <td>House / apartment</td>\n",
              "    </tr>\n",
              "    <tr>\n",
              "      <th>...</th>\n",
              "      <td>...</td>\n",
              "      <td>...</td>\n",
              "      <td>...</td>\n",
              "      <td>...</td>\n",
              "      <td>...</td>\n",
              "      <td>...</td>\n",
              "      <td>...</td>\n",
              "    </tr>\n",
              "    <tr>\n",
              "      <th>22010</th>\n",
              "      <td>F</td>\n",
              "      <td>N</td>\n",
              "      <td>N</td>\n",
              "      <td>State servant</td>\n",
              "      <td>Secondary / secondary special</td>\n",
              "      <td>Married</td>\n",
              "      <td>House / apartment</td>\n",
              "    </tr>\n",
              "    <tr>\n",
              "      <th>22011</th>\n",
              "      <td>F</td>\n",
              "      <td>N</td>\n",
              "      <td>Y</td>\n",
              "      <td>Working</td>\n",
              "      <td>Higher education</td>\n",
              "      <td>Separated</td>\n",
              "      <td>House / apartment</td>\n",
              "    </tr>\n",
              "    <tr>\n",
              "      <th>22012</th>\n",
              "      <td>F</td>\n",
              "      <td>Y</td>\n",
              "      <td>N</td>\n",
              "      <td>Working</td>\n",
              "      <td>Secondary / secondary special</td>\n",
              "      <td>Civil marriage</td>\n",
              "      <td>With parents</td>\n",
              "    </tr>\n",
              "    <tr>\n",
              "      <th>22013</th>\n",
              "      <td>M</td>\n",
              "      <td>N</td>\n",
              "      <td>Y</td>\n",
              "      <td>Working</td>\n",
              "      <td>Incomplete higher</td>\n",
              "      <td>Single / not married</td>\n",
              "      <td>House / apartment</td>\n",
              "    </tr>\n",
              "    <tr>\n",
              "      <th>22014</th>\n",
              "      <td>F</td>\n",
              "      <td>N</td>\n",
              "      <td>N</td>\n",
              "      <td>Working</td>\n",
              "      <td>Secondary / secondary special</td>\n",
              "      <td>Civil marriage</td>\n",
              "      <td>House / apartment</td>\n",
              "    </tr>\n",
              "  </tbody>\n",
              "</table>\n",
              "<p>22015 rows × 7 columns</p>\n",
              "</div>"
            ],
            "text/plain": [
              "      gender car reality           income_type                       edu_type  \\\n",
              "0          F   N       N  Commercial associate               Higher education   \n",
              "1          F   N       Y  Commercial associate  Secondary / secondary special   \n",
              "2          M   Y       Y               Working               Higher education   \n",
              "3          F   N       Y  Commercial associate  Secondary / secondary special   \n",
              "4          F   Y       Y         State servant               Higher education   \n",
              "...      ...  ..     ...                   ...                            ...   \n",
              "22010      F   N       N         State servant  Secondary / secondary special   \n",
              "22011      F   N       Y               Working               Higher education   \n",
              "22012      F   Y       N               Working  Secondary / secondary special   \n",
              "22013      M   N       Y               Working              Incomplete higher   \n",
              "22014      F   N       N               Working  Secondary / secondary special   \n",
              "\n",
              "                family_type           house_type  \n",
              "0                   Married  Municipal apartment  \n",
              "1            Civil marriage    House / apartment  \n",
              "2                   Married    House / apartment  \n",
              "3                   Married    House / apartment  \n",
              "4                   Married    House / apartment  \n",
              "...                     ...                  ...  \n",
              "22010               Married    House / apartment  \n",
              "22011             Separated    House / apartment  \n",
              "22012        Civil marriage         With parents  \n",
              "22013  Single / not married    House / apartment  \n",
              "22014        Civil marriage    House / apartment  \n",
              "\n",
              "[22015 rows x 7 columns]"
            ]
          },
          "execution_count": 205,
          "metadata": {},
          "output_type": "execute_result"
        }
      ]
    },
    {
      "cell_type": "code",
      "metadata": {
        "id": "a3a805d2",
        "outputId": "d0b43a24-3a68-42db-d33e-245bc8bd742a"
      },
      "source": [
        "numeric_df"
      ],
      "id": "a3a805d2",
      "execution_count": null,
      "outputs": [
        {
          "data": {
            "text/html": [
              "<div>\n",
              "<style scoped>\n",
              "    .dataframe tbody tr th:only-of-type {\n",
              "        vertical-align: middle;\n",
              "    }\n",
              "\n",
              "    .dataframe tbody tr th {\n",
              "        vertical-align: top;\n",
              "    }\n",
              "\n",
              "    .dataframe thead th {\n",
              "        text-align: right;\n",
              "    }\n",
              "</style>\n",
              "<table border=\"1\" class=\"dataframe\">\n",
              "  <thead>\n",
              "    <tr style=\"text-align: right;\">\n",
              "      <th></th>\n",
              "      <th>child_num</th>\n",
              "      <th>income_total</th>\n",
              "      <th>DAYS_BIRTH</th>\n",
              "      <th>DAYS_EMPLOYED</th>\n",
              "      <th>work_phone</th>\n",
              "      <th>phone</th>\n",
              "      <th>email</th>\n",
              "      <th>family_size</th>\n",
              "      <th>begin_month</th>\n",
              "      <th>credit</th>\n",
              "    </tr>\n",
              "  </thead>\n",
              "  <tbody>\n",
              "    <tr>\n",
              "      <th>0</th>\n",
              "      <td>0</td>\n",
              "      <td>202500.00</td>\n",
              "      <td>-13899</td>\n",
              "      <td>-4709</td>\n",
              "      <td>0</td>\n",
              "      <td>0</td>\n",
              "      <td>0</td>\n",
              "      <td>2.00</td>\n",
              "      <td>-6.00</td>\n",
              "      <td>1.00</td>\n",
              "    </tr>\n",
              "    <tr>\n",
              "      <th>1</th>\n",
              "      <td>1</td>\n",
              "      <td>247500.00</td>\n",
              "      <td>-11380</td>\n",
              "      <td>-1540</td>\n",
              "      <td>0</td>\n",
              "      <td>0</td>\n",
              "      <td>1</td>\n",
              "      <td>3.00</td>\n",
              "      <td>-5.00</td>\n",
              "      <td>1.00</td>\n",
              "    </tr>\n",
              "    <tr>\n",
              "      <th>2</th>\n",
              "      <td>0</td>\n",
              "      <td>450000.00</td>\n",
              "      <td>-19087</td>\n",
              "      <td>-4434</td>\n",
              "      <td>0</td>\n",
              "      <td>1</td>\n",
              "      <td>0</td>\n",
              "      <td>2.00</td>\n",
              "      <td>-22.00</td>\n",
              "      <td>2.00</td>\n",
              "    </tr>\n",
              "    <tr>\n",
              "      <th>3</th>\n",
              "      <td>0</td>\n",
              "      <td>202500.00</td>\n",
              "      <td>-15088</td>\n",
              "      <td>-2092</td>\n",
              "      <td>0</td>\n",
              "      <td>1</td>\n",
              "      <td>0</td>\n",
              "      <td>2.00</td>\n",
              "      <td>-37.00</td>\n",
              "      <td>0.00</td>\n",
              "    </tr>\n",
              "    <tr>\n",
              "      <th>4</th>\n",
              "      <td>0</td>\n",
              "      <td>157500.00</td>\n",
              "      <td>-15037</td>\n",
              "      <td>-2105</td>\n",
              "      <td>0</td>\n",
              "      <td>0</td>\n",
              "      <td>0</td>\n",
              "      <td>2.00</td>\n",
              "      <td>-26.00</td>\n",
              "      <td>2.00</td>\n",
              "    </tr>\n",
              "    <tr>\n",
              "      <th>...</th>\n",
              "      <td>...</td>\n",
              "      <td>...</td>\n",
              "      <td>...</td>\n",
              "      <td>...</td>\n",
              "      <td>...</td>\n",
              "      <td>...</td>\n",
              "      <td>...</td>\n",
              "      <td>...</td>\n",
              "      <td>...</td>\n",
              "      <td>...</td>\n",
              "    </tr>\n",
              "    <tr>\n",
              "      <th>22010</th>\n",
              "      <td>2</td>\n",
              "      <td>225000.00</td>\n",
              "      <td>-12079</td>\n",
              "      <td>-1984</td>\n",
              "      <td>0</td>\n",
              "      <td>0</td>\n",
              "      <td>0</td>\n",
              "      <td>4.00</td>\n",
              "      <td>-2.00</td>\n",
              "      <td>1.00</td>\n",
              "    </tr>\n",
              "    <tr>\n",
              "      <th>22011</th>\n",
              "      <td>1</td>\n",
              "      <td>180000.00</td>\n",
              "      <td>-15291</td>\n",
              "      <td>-2475</td>\n",
              "      <td>0</td>\n",
              "      <td>0</td>\n",
              "      <td>0</td>\n",
              "      <td>2.00</td>\n",
              "      <td>-47.00</td>\n",
              "      <td>2.00</td>\n",
              "    </tr>\n",
              "    <tr>\n",
              "      <th>22012</th>\n",
              "      <td>0</td>\n",
              "      <td>292500.00</td>\n",
              "      <td>-10082</td>\n",
              "      <td>-2015</td>\n",
              "      <td>0</td>\n",
              "      <td>0</td>\n",
              "      <td>0</td>\n",
              "      <td>2.00</td>\n",
              "      <td>-25.00</td>\n",
              "      <td>2.00</td>\n",
              "    </tr>\n",
              "    <tr>\n",
              "      <th>22013</th>\n",
              "      <td>0</td>\n",
              "      <td>171000.00</td>\n",
              "      <td>-10145</td>\n",
              "      <td>-107</td>\n",
              "      <td>0</td>\n",
              "      <td>0</td>\n",
              "      <td>0</td>\n",
              "      <td>1.00</td>\n",
              "      <td>-59.00</td>\n",
              "      <td>2.00</td>\n",
              "    </tr>\n",
              "    <tr>\n",
              "      <th>22014</th>\n",
              "      <td>0</td>\n",
              "      <td>81000.00</td>\n",
              "      <td>-19569</td>\n",
              "      <td>-1013</td>\n",
              "      <td>0</td>\n",
              "      <td>0</td>\n",
              "      <td>0</td>\n",
              "      <td>2.00</td>\n",
              "      <td>-9.00</td>\n",
              "      <td>2.00</td>\n",
              "    </tr>\n",
              "  </tbody>\n",
              "</table>\n",
              "<p>22015 rows × 10 columns</p>\n",
              "</div>"
            ],
            "text/plain": [
              "       child_num  income_total  DAYS_BIRTH  DAYS_EMPLOYED  work_phone  phone  \\\n",
              "0              0     202500.00      -13899          -4709           0      0   \n",
              "1              1     247500.00      -11380          -1540           0      0   \n",
              "2              0     450000.00      -19087          -4434           0      1   \n",
              "3              0     202500.00      -15088          -2092           0      1   \n",
              "4              0     157500.00      -15037          -2105           0      0   \n",
              "...          ...           ...         ...            ...         ...    ...   \n",
              "22010          2     225000.00      -12079          -1984           0      0   \n",
              "22011          1     180000.00      -15291          -2475           0      0   \n",
              "22012          0     292500.00      -10082          -2015           0      0   \n",
              "22013          0     171000.00      -10145           -107           0      0   \n",
              "22014          0      81000.00      -19569          -1013           0      0   \n",
              "\n",
              "       email  family_size  begin_month  credit  \n",
              "0          0         2.00        -6.00    1.00  \n",
              "1          1         3.00        -5.00    1.00  \n",
              "2          0         2.00       -22.00    2.00  \n",
              "3          0         2.00       -37.00    0.00  \n",
              "4          0         2.00       -26.00    2.00  \n",
              "...      ...          ...          ...     ...  \n",
              "22010      0         4.00        -2.00    1.00  \n",
              "22011      0         2.00       -47.00    2.00  \n",
              "22012      0         2.00       -25.00    2.00  \n",
              "22013      0         1.00       -59.00    2.00  \n",
              "22014      0         2.00        -9.00    2.00  \n",
              "\n",
              "[22015 rows x 10 columns]"
            ]
          },
          "execution_count": 206,
          "metadata": {},
          "output_type": "execute_result"
        }
      ]
    },
    {
      "cell_type": "code",
      "metadata": {
        "id": "9eea70a8"
      },
      "source": [
        "from sklearn.preprocessing import LabelEncoder"
      ],
      "id": "9eea70a8",
      "execution_count": null,
      "outputs": []
    },
    {
      "cell_type": "code",
      "metadata": {
        "id": "68f09936"
      },
      "source": [
        "le = LabelEncoder()"
      ],
      "id": "68f09936",
      "execution_count": null,
      "outputs": []
    },
    {
      "cell_type": "code",
      "metadata": {
        "id": "207ee313"
      },
      "source": [
        "le_dict = {} #LabelEncoder를 저장하는 사전\n",
        "for item in category_df:\n",
        "    le.fit(train[item])\n",
        "    train[item] = le.transform(train[item].values)\n",
        "    test[item] = le.transform(test[item].values)\n",
        "    le_dict = le"
      ],
      "id": "207ee313",
      "execution_count": null,
      "outputs": []
    },
    {
      "cell_type": "code",
      "metadata": {
        "id": "a63cdd0a",
        "outputId": "2b8b2320-cba3-458f-b28a-5a9a37eb9557"
      },
      "source": [
        "numeric_df"
      ],
      "id": "a63cdd0a",
      "execution_count": null,
      "outputs": [
        {
          "data": {
            "text/html": [
              "<div>\n",
              "<style scoped>\n",
              "    .dataframe tbody tr th:only-of-type {\n",
              "        vertical-align: middle;\n",
              "    }\n",
              "\n",
              "    .dataframe tbody tr th {\n",
              "        vertical-align: top;\n",
              "    }\n",
              "\n",
              "    .dataframe thead th {\n",
              "        text-align: right;\n",
              "    }\n",
              "</style>\n",
              "<table border=\"1\" class=\"dataframe\">\n",
              "  <thead>\n",
              "    <tr style=\"text-align: right;\">\n",
              "      <th></th>\n",
              "      <th>child_num</th>\n",
              "      <th>income_total</th>\n",
              "      <th>DAYS_BIRTH</th>\n",
              "      <th>DAYS_EMPLOYED</th>\n",
              "      <th>work_phone</th>\n",
              "      <th>phone</th>\n",
              "      <th>email</th>\n",
              "      <th>family_size</th>\n",
              "      <th>begin_month</th>\n",
              "      <th>credit</th>\n",
              "    </tr>\n",
              "  </thead>\n",
              "  <tbody>\n",
              "    <tr>\n",
              "      <th>0</th>\n",
              "      <td>0</td>\n",
              "      <td>202500.00</td>\n",
              "      <td>-13899</td>\n",
              "      <td>-4709</td>\n",
              "      <td>0</td>\n",
              "      <td>0</td>\n",
              "      <td>0</td>\n",
              "      <td>2.00</td>\n",
              "      <td>-6.00</td>\n",
              "      <td>1.00</td>\n",
              "    </tr>\n",
              "    <tr>\n",
              "      <th>1</th>\n",
              "      <td>1</td>\n",
              "      <td>247500.00</td>\n",
              "      <td>-11380</td>\n",
              "      <td>-1540</td>\n",
              "      <td>0</td>\n",
              "      <td>0</td>\n",
              "      <td>1</td>\n",
              "      <td>3.00</td>\n",
              "      <td>-5.00</td>\n",
              "      <td>1.00</td>\n",
              "    </tr>\n",
              "    <tr>\n",
              "      <th>2</th>\n",
              "      <td>0</td>\n",
              "      <td>450000.00</td>\n",
              "      <td>-19087</td>\n",
              "      <td>-4434</td>\n",
              "      <td>0</td>\n",
              "      <td>1</td>\n",
              "      <td>0</td>\n",
              "      <td>2.00</td>\n",
              "      <td>-22.00</td>\n",
              "      <td>2.00</td>\n",
              "    </tr>\n",
              "    <tr>\n",
              "      <th>3</th>\n",
              "      <td>0</td>\n",
              "      <td>202500.00</td>\n",
              "      <td>-15088</td>\n",
              "      <td>-2092</td>\n",
              "      <td>0</td>\n",
              "      <td>1</td>\n",
              "      <td>0</td>\n",
              "      <td>2.00</td>\n",
              "      <td>-37.00</td>\n",
              "      <td>0.00</td>\n",
              "    </tr>\n",
              "    <tr>\n",
              "      <th>4</th>\n",
              "      <td>0</td>\n",
              "      <td>157500.00</td>\n",
              "      <td>-15037</td>\n",
              "      <td>-2105</td>\n",
              "      <td>0</td>\n",
              "      <td>0</td>\n",
              "      <td>0</td>\n",
              "      <td>2.00</td>\n",
              "      <td>-26.00</td>\n",
              "      <td>2.00</td>\n",
              "    </tr>\n",
              "    <tr>\n",
              "      <th>...</th>\n",
              "      <td>...</td>\n",
              "      <td>...</td>\n",
              "      <td>...</td>\n",
              "      <td>...</td>\n",
              "      <td>...</td>\n",
              "      <td>...</td>\n",
              "      <td>...</td>\n",
              "      <td>...</td>\n",
              "      <td>...</td>\n",
              "      <td>...</td>\n",
              "    </tr>\n",
              "    <tr>\n",
              "      <th>22010</th>\n",
              "      <td>2</td>\n",
              "      <td>225000.00</td>\n",
              "      <td>-12079</td>\n",
              "      <td>-1984</td>\n",
              "      <td>0</td>\n",
              "      <td>0</td>\n",
              "      <td>0</td>\n",
              "      <td>4.00</td>\n",
              "      <td>-2.00</td>\n",
              "      <td>1.00</td>\n",
              "    </tr>\n",
              "    <tr>\n",
              "      <th>22011</th>\n",
              "      <td>1</td>\n",
              "      <td>180000.00</td>\n",
              "      <td>-15291</td>\n",
              "      <td>-2475</td>\n",
              "      <td>0</td>\n",
              "      <td>0</td>\n",
              "      <td>0</td>\n",
              "      <td>2.00</td>\n",
              "      <td>-47.00</td>\n",
              "      <td>2.00</td>\n",
              "    </tr>\n",
              "    <tr>\n",
              "      <th>22012</th>\n",
              "      <td>0</td>\n",
              "      <td>292500.00</td>\n",
              "      <td>-10082</td>\n",
              "      <td>-2015</td>\n",
              "      <td>0</td>\n",
              "      <td>0</td>\n",
              "      <td>0</td>\n",
              "      <td>2.00</td>\n",
              "      <td>-25.00</td>\n",
              "      <td>2.00</td>\n",
              "    </tr>\n",
              "    <tr>\n",
              "      <th>22013</th>\n",
              "      <td>0</td>\n",
              "      <td>171000.00</td>\n",
              "      <td>-10145</td>\n",
              "      <td>-107</td>\n",
              "      <td>0</td>\n",
              "      <td>0</td>\n",
              "      <td>0</td>\n",
              "      <td>1.00</td>\n",
              "      <td>-59.00</td>\n",
              "      <td>2.00</td>\n",
              "    </tr>\n",
              "    <tr>\n",
              "      <th>22014</th>\n",
              "      <td>0</td>\n",
              "      <td>81000.00</td>\n",
              "      <td>-19569</td>\n",
              "      <td>-1013</td>\n",
              "      <td>0</td>\n",
              "      <td>0</td>\n",
              "      <td>0</td>\n",
              "      <td>2.00</td>\n",
              "      <td>-9.00</td>\n",
              "      <td>2.00</td>\n",
              "    </tr>\n",
              "  </tbody>\n",
              "</table>\n",
              "<p>22015 rows × 10 columns</p>\n",
              "</div>"
            ],
            "text/plain": [
              "       child_num  income_total  DAYS_BIRTH  DAYS_EMPLOYED  work_phone  phone  \\\n",
              "0              0     202500.00      -13899          -4709           0      0   \n",
              "1              1     247500.00      -11380          -1540           0      0   \n",
              "2              0     450000.00      -19087          -4434           0      1   \n",
              "3              0     202500.00      -15088          -2092           0      1   \n",
              "4              0     157500.00      -15037          -2105           0      0   \n",
              "...          ...           ...         ...            ...         ...    ...   \n",
              "22010          2     225000.00      -12079          -1984           0      0   \n",
              "22011          1     180000.00      -15291          -2475           0      0   \n",
              "22012          0     292500.00      -10082          -2015           0      0   \n",
              "22013          0     171000.00      -10145           -107           0      0   \n",
              "22014          0      81000.00      -19569          -1013           0      0   \n",
              "\n",
              "       email  family_size  begin_month  credit  \n",
              "0          0         2.00        -6.00    1.00  \n",
              "1          1         3.00        -5.00    1.00  \n",
              "2          0         2.00       -22.00    2.00  \n",
              "3          0         2.00       -37.00    0.00  \n",
              "4          0         2.00       -26.00    2.00  \n",
              "...      ...          ...          ...     ...  \n",
              "22010      0         4.00        -2.00    1.00  \n",
              "22011      0         2.00       -47.00    2.00  \n",
              "22012      0         2.00       -25.00    2.00  \n",
              "22013      0         1.00       -59.00    2.00  \n",
              "22014      0         2.00        -9.00    2.00  \n",
              "\n",
              "[22015 rows x 10 columns]"
            ]
          },
          "execution_count": 120,
          "metadata": {},
          "output_type": "execute_result"
        }
      ]
    },
    {
      "cell_type": "code",
      "metadata": {
        "id": "d49cf1b7",
        "outputId": "961c5fac-a26d-4a28-ad66-86767e3645c5"
      },
      "source": [
        "plt.hist(train['income_total'])"
      ],
      "id": "d49cf1b7",
      "execution_count": null,
      "outputs": [
        {
          "data": {
            "text/plain": [
              "(array([1.2837e+04, 7.3810e+03, 1.4340e+03, 1.9100e+02, 1.1400e+02,\n",
              "        4.4000e+01, 3.0000e+00, 2.0000e+00, 4.0000e+00, 5.0000e+00]),\n",
              " array([  27000.,  181800.,  336600.,  491400.,  646200.,  801000.,\n",
              "         955800., 1110600., 1265400., 1420200., 1575000.]),\n",
              " <BarContainer object of 10 artists>)"
            ]
          },
          "execution_count": 151,
          "metadata": {},
          "output_type": "execute_result"
        },
        {
          "data": {
            "image/png": "[encoded data removed]",
            "text/plain": [
              "<Figure size 432x288 with 1 Axes>"
            ]
          },
          "metadata": {
            "needs_background": "light"
          },
          "output_type": "display_data"
        }
      ]
    },
    {
      "cell_type": "code",
      "metadata": {
        "id": "62aaadb6"
      },
      "source": [
        "from sklearn.preprocessing import OneHotEncoder"
      ],
      "id": "62aaadb6",
      "execution_count": null,
      "outputs": []
    },
    {
      "cell_type": "code",
      "metadata": {
        "id": "72bd1053"
      },
      "source": [
        "one = OneHotEncoder(sparse=False)"
      ],
      "id": "72bd1053",
      "execution_count": null,
      "outputs": []
    },
    {
      "cell_type": "code",
      "metadata": {
        "id": "3cd851a6",
        "outputId": "7a02324a-3063-4f5d-e24b-cec2e32a7aee"
      },
      "source": [
        "one.fit(category_df)"
      ],
      "id": "3cd851a6",
      "execution_count": null,
      "outputs": [
        {
          "data": {
            "text/plain": [
              "OneHotEncoder(sparse=False)"
            ]
          },
          "execution_count": 210,
          "metadata": {},
          "output_type": "execute_result"
        }
      ]
    },
    {
      "cell_type": "code",
      "metadata": {
        "id": "294dc0ee",
        "outputId": "2f7418a7-2075-4058-ce20-02126b063ad7"
      },
      "source": [
        "one.transform(category_df)"
      ],
      "id": "294dc0ee",
      "execution_count": null,
      "outputs": [
        {
          "data": {
            "text/plain": [
              "array([[1., 0., 1., ..., 0., 0., 0.],\n",
              "       [1., 0., 1., ..., 0., 0., 0.],\n",
              "       [0., 1., 0., ..., 0., 0., 0.],\n",
              "       ...,\n",
              "       [1., 0., 0., ..., 0., 0., 1.],\n",
              "       [0., 1., 1., ..., 0., 0., 0.],\n",
              "       [1., 0., 1., ..., 0., 0., 0.]])"
            ]
          },
          "execution_count": 211,
          "metadata": {},
          "output_type": "execute_result"
        }
      ]
    },
    {
      "cell_type": "code",
      "metadata": {
        "id": "866c7890",
        "outputId": "98cd9105-4cee-4047-ff52-c0d27696e43a"
      },
      "source": [
        "one.get_feature_names()"
      ],
      "id": "866c7890",
      "execution_count": null,
      "outputs": [
        {
          "data": {
            "text/plain": [
              "array(['x0_F', 'x0_M', 'x1_N', 'x1_Y', 'x2_N', 'x2_Y',\n",
              "       'x3_Commercial associate', 'x3_Pensioner', 'x3_State servant',\n",
              "       'x3_Student', 'x3_Working', 'x4_Academic degree',\n",
              "       'x4_Higher education', 'x4_Incomplete higher',\n",
              "       'x4_Lower secondary', 'x4_Secondary / secondary special',\n",
              "       'x5_Civil marriage', 'x5_Married', 'x5_Separated',\n",
              "       'x5_Single / not married', 'x5_Widow', 'x6_Co-op apartment',\n",
              "       'x6_House / apartment', 'x6_Municipal apartment',\n",
              "       'x6_Office apartment', 'x6_Rented apartment', 'x6_With parents'],\n",
              "      dtype=object)"
            ]
          },
          "execution_count": 214,
          "metadata": {},
          "output_type": "execute_result"
        }
      ]
    },
    {
      "cell_type": "code",
      "metadata": {
        "id": "c5c5d9d4"
      },
      "source": [
        "cate_XX = pd.DataFrame(one.transform(category_df), columns=one.get_feature_names())"
      ],
      "id": "c5c5d9d4",
      "execution_count": null,
      "outputs": []
    },
    {
      "cell_type": "code",
      "metadata": {
        "id": "094e7b6c"
      },
      "source": [
        ""
      ],
      "id": "094e7b6c",
      "execution_count": null,
      "outputs": []
    },
    {
      "cell_type": "code",
      "metadata": {
        "id": "f50eda59",
        "outputId": "d65c9ec6-25e2-4ff5-d2b9-14da6bcf95c7"
      },
      "source": [
        "XX = pd.concat([numeric_df, cate_XX],axis=1, join='inner' )"
      ],
      "id": "f50eda59",
      "execution_count": null,
      "outputs": [
        {
          "data": {
            "text/html": [
              "<div>\n",
              "<style scoped>\n",
              "    .dataframe tbody tr th:only-of-type {\n",
              "        vertical-align: middle;\n",
              "    }\n",
              "\n",
              "    .dataframe tbody tr th {\n",
              "        vertical-align: top;\n",
              "    }\n",
              "\n",
              "    .dataframe thead th {\n",
              "        text-align: right;\n",
              "    }\n",
              "</style>\n",
              "<table border=\"1\" class=\"dataframe\">\n",
              "  <thead>\n",
              "    <tr style=\"text-align: right;\">\n",
              "      <th></th>\n",
              "      <th>gender</th>\n",
              "      <th>car</th>\n",
              "      <th>reality</th>\n",
              "      <th>child_num</th>\n",
              "      <th>income_total</th>\n",
              "      <th>income_type</th>\n",
              "      <th>edu_type</th>\n",
              "      <th>family_type</th>\n",
              "      <th>house_type</th>\n",
              "      <th>DAYS_BIRTH</th>\n",
              "      <th>DAYS_EMPLOYED</th>\n",
              "      <th>work_phone</th>\n",
              "      <th>phone</th>\n",
              "      <th>email</th>\n",
              "      <th>family_size</th>\n",
              "      <th>begin_month</th>\n",
              "      <th>credit</th>\n",
              "    </tr>\n",
              "  </thead>\n",
              "  <tbody>\n",
              "    <tr>\n",
              "      <th>0</th>\n",
              "      <td>0</td>\n",
              "      <td>0</td>\n",
              "      <td>0</td>\n",
              "      <td>0</td>\n",
              "      <td>202500.00</td>\n",
              "      <td>0</td>\n",
              "      <td>1</td>\n",
              "      <td>1</td>\n",
              "      <td>2</td>\n",
              "      <td>-13899</td>\n",
              "      <td>-4709</td>\n",
              "      <td>0</td>\n",
              "      <td>0</td>\n",
              "      <td>0</td>\n",
              "      <td>2.00</td>\n",
              "      <td>-6.00</td>\n",
              "      <td>1.00</td>\n",
              "    </tr>\n",
              "    <tr>\n",
              "      <th>1</th>\n",
              "      <td>0</td>\n",
              "      <td>0</td>\n",
              "      <td>1</td>\n",
              "      <td>1</td>\n",
              "      <td>247500.00</td>\n",
              "      <td>0</td>\n",
              "      <td>4</td>\n",
              "      <td>0</td>\n",
              "      <td>1</td>\n",
              "      <td>-11380</td>\n",
              "      <td>-1540</td>\n",
              "      <td>0</td>\n",
              "      <td>0</td>\n",
              "      <td>1</td>\n",
              "      <td>3.00</td>\n",
              "      <td>-5.00</td>\n",
              "      <td>1.00</td>\n",
              "    </tr>\n",
              "    <tr>\n",
              "      <th>2</th>\n",
              "      <td>1</td>\n",
              "      <td>1</td>\n",
              "      <td>1</td>\n",
              "      <td>0</td>\n",
              "      <td>450000.00</td>\n",
              "      <td>4</td>\n",
              "      <td>1</td>\n",
              "      <td>1</td>\n",
              "      <td>1</td>\n",
              "      <td>-19087</td>\n",
              "      <td>-4434</td>\n",
              "      <td>0</td>\n",
              "      <td>1</td>\n",
              "      <td>0</td>\n",
              "      <td>2.00</td>\n",
              "      <td>-22.00</td>\n",
              "      <td>2.00</td>\n",
              "    </tr>\n",
              "    <tr>\n",
              "      <th>3</th>\n",
              "      <td>0</td>\n",
              "      <td>0</td>\n",
              "      <td>1</td>\n",
              "      <td>0</td>\n",
              "      <td>202500.00</td>\n",
              "      <td>0</td>\n",
              "      <td>4</td>\n",
              "      <td>1</td>\n",
              "      <td>1</td>\n",
              "      <td>-15088</td>\n",
              "      <td>-2092</td>\n",
              "      <td>0</td>\n",
              "      <td>1</td>\n",
              "      <td>0</td>\n",
              "      <td>2.00</td>\n",
              "      <td>-37.00</td>\n",
              "      <td>0.00</td>\n",
              "    </tr>\n",
              "    <tr>\n",
              "      <th>4</th>\n",
              "      <td>0</td>\n",
              "      <td>1</td>\n",
              "      <td>1</td>\n",
              "      <td>0</td>\n",
              "      <td>157500.00</td>\n",
              "      <td>2</td>\n",
              "      <td>1</td>\n",
              "      <td>1</td>\n",
              "      <td>1</td>\n",
              "      <td>-15037</td>\n",
              "      <td>-2105</td>\n",
              "      <td>0</td>\n",
              "      <td>0</td>\n",
              "      <td>0</td>\n",
              "      <td>2.00</td>\n",
              "      <td>-26.00</td>\n",
              "      <td>2.00</td>\n",
              "    </tr>\n",
              "    <tr>\n",
              "      <th>...</th>\n",
              "      <td>...</td>\n",
              "      <td>...</td>\n",
              "      <td>...</td>\n",
              "      <td>...</td>\n",
              "      <td>...</td>\n",
              "      <td>...</td>\n",
              "      <td>...</td>\n",
              "      <td>...</td>\n",
              "      <td>...</td>\n",
              "      <td>...</td>\n",
              "      <td>...</td>\n",
              "      <td>...</td>\n",
              "      <td>...</td>\n",
              "      <td>...</td>\n",
              "      <td>...</td>\n",
              "      <td>...</td>\n",
              "      <td>...</td>\n",
              "    </tr>\n",
              "    <tr>\n",
              "      <th>22010</th>\n",
              "      <td>0</td>\n",
              "      <td>0</td>\n",
              "      <td>0</td>\n",
              "      <td>2</td>\n",
              "      <td>225000.00</td>\n",
              "      <td>2</td>\n",
              "      <td>4</td>\n",
              "      <td>1</td>\n",
              "      <td>1</td>\n",
              "      <td>-12079</td>\n",
              "      <td>-1984</td>\n",
              "      <td>0</td>\n",
              "      <td>0</td>\n",
              "      <td>0</td>\n",
              "      <td>4.00</td>\n",
              "      <td>-2.00</td>\n",
              "      <td>1.00</td>\n",
              "    </tr>\n",
              "    <tr>\n",
              "      <th>22011</th>\n",
              "      <td>0</td>\n",
              "      <td>0</td>\n",
              "      <td>1</td>\n",
              "      <td>1</td>\n",
              "      <td>180000.00</td>\n",
              "      <td>4</td>\n",
              "      <td>1</td>\n",
              "      <td>2</td>\n",
              "      <td>1</td>\n",
              "      <td>-15291</td>\n",
              "      <td>-2475</td>\n",
              "      <td>0</td>\n",
              "      <td>0</td>\n",
              "      <td>0</td>\n",
              "      <td>2.00</td>\n",
              "      <td>-47.00</td>\n",
              "      <td>2.00</td>\n",
              "    </tr>\n",
              "    <tr>\n",
              "      <th>22012</th>\n",
              "      <td>0</td>\n",
              "      <td>1</td>\n",
              "      <td>0</td>\n",
              "      <td>0</td>\n",
              "      <td>292500.00</td>\n",
              "      <td>4</td>\n",
              "      <td>4</td>\n",
              "      <td>0</td>\n",
              "      <td>5</td>\n",
              "      <td>-10082</td>\n",
              "      <td>-2015</td>\n",
              "      <td>0</td>\n",
              "      <td>0</td>\n",
              "      <td>0</td>\n",
              "      <td>2.00</td>\n",
              "      <td>-25.00</td>\n",
              "      <td>2.00</td>\n",
              "    </tr>\n",
              "    <tr>\n",
              "      <th>22013</th>\n",
              "      <td>1</td>\n",
              "      <td>0</td>\n",
              "      <td>1</td>\n",
              "      <td>0</td>\n",
              "      <td>171000.00</td>\n",
              "      <td>4</td>\n",
              "      <td>2</td>\n",
              "      <td>3</td>\n",
              "      <td>1</td>\n",
              "      <td>-10145</td>\n",
              "      <td>-107</td>\n",
              "      <td>0</td>\n",
              "      <td>0</td>\n",
              "      <td>0</td>\n",
              "      <td>1.00</td>\n",
              "      <td>-59.00</td>\n",
              "      <td>2.00</td>\n",
              "    </tr>\n",
              "    <tr>\n",
              "      <th>22014</th>\n",
              "      <td>0</td>\n",
              "      <td>0</td>\n",
              "      <td>0</td>\n",
              "      <td>0</td>\n",
              "      <td>81000.00</td>\n",
              "      <td>4</td>\n",
              "      <td>4</td>\n",
              "      <td>0</td>\n",
              "      <td>1</td>\n",
              "      <td>-19569</td>\n",
              "      <td>-1013</td>\n",
              "      <td>0</td>\n",
              "      <td>0</td>\n",
              "      <td>0</td>\n",
              "      <td>2.00</td>\n",
              "      <td>-9.00</td>\n",
              "      <td>2.00</td>\n",
              "    </tr>\n",
              "  </tbody>\n",
              "</table>\n",
              "<p>22015 rows × 17 columns</p>\n",
              "</div>"
            ],
            "text/plain": [
              "       gender  car  reality  child_num  income_total  income_type  edu_type  \\\n",
              "0           0    0        0          0     202500.00            0         1   \n",
              "1           0    0        1          1     247500.00            0         4   \n",
              "2           1    1        1          0     450000.00            4         1   \n",
              "3           0    0        1          0     202500.00            0         4   \n",
              "4           0    1        1          0     157500.00            2         1   \n",
              "...       ...  ...      ...        ...           ...          ...       ...   \n",
              "22010       0    0        0          2     225000.00            2         4   \n",
              "22011       0    0        1          1     180000.00            4         1   \n",
              "22012       0    1        0          0     292500.00            4         4   \n",
              "22013       1    0        1          0     171000.00            4         2   \n",
              "22014       0    0        0          0      81000.00            4         4   \n",
              "\n",
              "       family_type  house_type  DAYS_BIRTH  DAYS_EMPLOYED  work_phone  phone  \\\n",
              "0                1           2      -13899          -4709           0      0   \n",
              "1                0           1      -11380          -1540           0      0   \n",
              "2                1           1      -19087          -4434           0      1   \n",
              "3                1           1      -15088          -2092           0      1   \n",
              "4                1           1      -15037          -2105           0      0   \n",
              "...            ...         ...         ...            ...         ...    ...   \n",
              "22010            1           1      -12079          -1984           0      0   \n",
              "22011            2           1      -15291          -2475           0      0   \n",
              "22012            0           5      -10082          -2015           0      0   \n",
              "22013            3           1      -10145           -107           0      0   \n",
              "22014            0           1      -19569          -1013           0      0   \n",
              "\n",
              "       email  family_size  begin_month  credit  \n",
              "0          0         2.00        -6.00    1.00  \n",
              "1          1         3.00        -5.00    1.00  \n",
              "2          0         2.00       -22.00    2.00  \n",
              "3          0         2.00       -37.00    0.00  \n",
              "4          0         2.00       -26.00    2.00  \n",
              "...      ...          ...          ...     ...  \n",
              "22010      0         4.00        -2.00    1.00  \n",
              "22011      0         2.00       -47.00    2.00  \n",
              "22012      0         2.00       -25.00    2.00  \n",
              "22013      0         1.00       -59.00    2.00  \n",
              "22014      0         2.00        -9.00    2.00  \n",
              "\n",
              "[22015 rows x 17 columns]"
            ]
          },
          "execution_count": 152,
          "metadata": {},
          "output_type": "execute_result"
        }
      ]
    },
    {
      "cell_type": "markdown",
      "metadata": {
        "id": "91564b67"
      },
      "source": [
        "- income_total, DAYS_EMPLOYED 분포를 정규분포 형태로 하기위해 로그릴?"
      ],
      "id": "91564b67"
    },
    {
      "cell_type": "code",
      "metadata": {
        "id": "f817d752"
      },
      "source": [
        "train['income_total'] = np.log1p(train['income_total'])\n",
        "test['income_total'] = np.log1p(test['income_total'])"
      ],
      "id": "f817d752",
      "execution_count": null,
      "outputs": []
    },
    {
      "cell_type": "code",
      "metadata": {
        "id": "28aa3f7b",
        "outputId": "da5dee19-a655-4c94-aaaf-114af4b1ae99"
      },
      "source": [
        "train"
      ],
      "id": "28aa3f7b",
      "execution_count": null,
      "outputs": [
        {
          "data": {
            "text/html": [
              "<div>\n",
              "<style scoped>\n",
              "    .dataframe tbody tr th:only-of-type {\n",
              "        vertical-align: middle;\n",
              "    }\n",
              "\n",
              "    .dataframe tbody tr th {\n",
              "        vertical-align: top;\n",
              "    }\n",
              "\n",
              "    .dataframe thead th {\n",
              "        text-align: right;\n",
              "    }\n",
              "</style>\n",
              "<table border=\"1\" class=\"dataframe\">\n",
              "  <thead>\n",
              "    <tr style=\"text-align: right;\">\n",
              "      <th></th>\n",
              "      <th>gender</th>\n",
              "      <th>car</th>\n",
              "      <th>reality</th>\n",
              "      <th>child_num</th>\n",
              "      <th>income_total</th>\n",
              "      <th>income_type</th>\n",
              "      <th>edu_type</th>\n",
              "      <th>family_type</th>\n",
              "      <th>house_type</th>\n",
              "      <th>DAYS_BIRTH</th>\n",
              "      <th>DAYS_EMPLOYED</th>\n",
              "      <th>work_phone</th>\n",
              "      <th>phone</th>\n",
              "      <th>email</th>\n",
              "      <th>family_size</th>\n",
              "      <th>begin_month</th>\n",
              "    </tr>\n",
              "  </thead>\n",
              "  <tbody>\n",
              "    <tr>\n",
              "      <th>0</th>\n",
              "      <td>0</td>\n",
              "      <td>0</td>\n",
              "      <td>0</td>\n",
              "      <td>0</td>\n",
              "      <td>12.22</td>\n",
              "      <td>0</td>\n",
              "      <td>1</td>\n",
              "      <td>1</td>\n",
              "      <td>2</td>\n",
              "      <td>-13899</td>\n",
              "      <td>-4709</td>\n",
              "      <td>0</td>\n",
              "      <td>0</td>\n",
              "      <td>0</td>\n",
              "      <td>2.00</td>\n",
              "      <td>-6.00</td>\n",
              "    </tr>\n",
              "    <tr>\n",
              "      <th>1</th>\n",
              "      <td>0</td>\n",
              "      <td>0</td>\n",
              "      <td>1</td>\n",
              "      <td>1</td>\n",
              "      <td>12.42</td>\n",
              "      <td>0</td>\n",
              "      <td>4</td>\n",
              "      <td>0</td>\n",
              "      <td>1</td>\n",
              "      <td>-11380</td>\n",
              "      <td>-1540</td>\n",
              "      <td>0</td>\n",
              "      <td>0</td>\n",
              "      <td>1</td>\n",
              "      <td>3.00</td>\n",
              "      <td>-5.00</td>\n",
              "    </tr>\n",
              "    <tr>\n",
              "      <th>2</th>\n",
              "      <td>1</td>\n",
              "      <td>1</td>\n",
              "      <td>1</td>\n",
              "      <td>0</td>\n",
              "      <td>13.02</td>\n",
              "      <td>4</td>\n",
              "      <td>1</td>\n",
              "      <td>1</td>\n",
              "      <td>1</td>\n",
              "      <td>-19087</td>\n",
              "      <td>-4434</td>\n",
              "      <td>0</td>\n",
              "      <td>1</td>\n",
              "      <td>0</td>\n",
              "      <td>2.00</td>\n",
              "      <td>-22.00</td>\n",
              "    </tr>\n",
              "    <tr>\n",
              "      <th>3</th>\n",
              "      <td>0</td>\n",
              "      <td>0</td>\n",
              "      <td>1</td>\n",
              "      <td>0</td>\n",
              "      <td>12.22</td>\n",
              "      <td>0</td>\n",
              "      <td>4</td>\n",
              "      <td>1</td>\n",
              "      <td>1</td>\n",
              "      <td>-15088</td>\n",
              "      <td>-2092</td>\n",
              "      <td>0</td>\n",
              "      <td>1</td>\n",
              "      <td>0</td>\n",
              "      <td>2.00</td>\n",
              "      <td>-37.00</td>\n",
              "    </tr>\n",
              "    <tr>\n",
              "      <th>4</th>\n",
              "      <td>0</td>\n",
              "      <td>1</td>\n",
              "      <td>1</td>\n",
              "      <td>0</td>\n",
              "      <td>11.97</td>\n",
              "      <td>2</td>\n",
              "      <td>1</td>\n",
              "      <td>1</td>\n",
              "      <td>1</td>\n",
              "      <td>-15037</td>\n",
              "      <td>-2105</td>\n",
              "      <td>0</td>\n",
              "      <td>0</td>\n",
              "      <td>0</td>\n",
              "      <td>2.00</td>\n",
              "      <td>-26.00</td>\n",
              "    </tr>\n",
              "    <tr>\n",
              "      <th>...</th>\n",
              "      <td>...</td>\n",
              "      <td>...</td>\n",
              "      <td>...</td>\n",
              "      <td>...</td>\n",
              "      <td>...</td>\n",
              "      <td>...</td>\n",
              "      <td>...</td>\n",
              "      <td>...</td>\n",
              "      <td>...</td>\n",
              "      <td>...</td>\n",
              "      <td>...</td>\n",
              "      <td>...</td>\n",
              "      <td>...</td>\n",
              "      <td>...</td>\n",
              "      <td>...</td>\n",
              "      <td>...</td>\n",
              "    </tr>\n",
              "    <tr>\n",
              "      <th>22010</th>\n",
              "      <td>0</td>\n",
              "      <td>0</td>\n",
              "      <td>0</td>\n",
              "      <td>2</td>\n",
              "      <td>12.32</td>\n",
              "      <td>2</td>\n",
              "      <td>4</td>\n",
              "      <td>1</td>\n",
              "      <td>1</td>\n",
              "      <td>-12079</td>\n",
              "      <td>-1984</td>\n",
              "      <td>0</td>\n",
              "      <td>0</td>\n",
              "      <td>0</td>\n",
              "      <td>4.00</td>\n",
              "      <td>-2.00</td>\n",
              "    </tr>\n",
              "    <tr>\n",
              "      <th>22011</th>\n",
              "      <td>0</td>\n",
              "      <td>0</td>\n",
              "      <td>1</td>\n",
              "      <td>1</td>\n",
              "      <td>12.10</td>\n",
              "      <td>4</td>\n",
              "      <td>1</td>\n",
              "      <td>2</td>\n",
              "      <td>1</td>\n",
              "      <td>-15291</td>\n",
              "      <td>-2475</td>\n",
              "      <td>0</td>\n",
              "      <td>0</td>\n",
              "      <td>0</td>\n",
              "      <td>2.00</td>\n",
              "      <td>-47.00</td>\n",
              "    </tr>\n",
              "    <tr>\n",
              "      <th>22012</th>\n",
              "      <td>0</td>\n",
              "      <td>1</td>\n",
              "      <td>0</td>\n",
              "      <td>0</td>\n",
              "      <td>12.59</td>\n",
              "      <td>4</td>\n",
              "      <td>4</td>\n",
              "      <td>0</td>\n",
              "      <td>5</td>\n",
              "      <td>-10082</td>\n",
              "      <td>-2015</td>\n",
              "      <td>0</td>\n",
              "      <td>0</td>\n",
              "      <td>0</td>\n",
              "      <td>2.00</td>\n",
              "      <td>-25.00</td>\n",
              "    </tr>\n",
              "    <tr>\n",
              "      <th>22013</th>\n",
              "      <td>1</td>\n",
              "      <td>0</td>\n",
              "      <td>1</td>\n",
              "      <td>0</td>\n",
              "      <td>12.05</td>\n",
              "      <td>4</td>\n",
              "      <td>2</td>\n",
              "      <td>3</td>\n",
              "      <td>1</td>\n",
              "      <td>-10145</td>\n",
              "      <td>-107</td>\n",
              "      <td>0</td>\n",
              "      <td>0</td>\n",
              "      <td>0</td>\n",
              "      <td>1.00</td>\n",
              "      <td>-59.00</td>\n",
              "    </tr>\n",
              "    <tr>\n",
              "      <th>22014</th>\n",
              "      <td>0</td>\n",
              "      <td>0</td>\n",
              "      <td>0</td>\n",
              "      <td>0</td>\n",
              "      <td>11.30</td>\n",
              "      <td>4</td>\n",
              "      <td>4</td>\n",
              "      <td>0</td>\n",
              "      <td>1</td>\n",
              "      <td>-19569</td>\n",
              "      <td>-1013</td>\n",
              "      <td>0</td>\n",
              "      <td>0</td>\n",
              "      <td>0</td>\n",
              "      <td>2.00</td>\n",
              "      <td>-9.00</td>\n",
              "    </tr>\n",
              "  </tbody>\n",
              "</table>\n",
              "<p>22015 rows × 16 columns</p>\n",
              "</div>"
            ],
            "text/plain": [
              "       gender  car  reality  child_num  income_total  income_type  edu_type  \\\n",
              "0           0    0        0          0         12.22            0         1   \n",
              "1           0    0        1          1         12.42            0         4   \n",
              "2           1    1        1          0         13.02            4         1   \n",
              "3           0    0        1          0         12.22            0         4   \n",
              "4           0    1        1          0         11.97            2         1   \n",
              "...       ...  ...      ...        ...           ...          ...       ...   \n",
              "22010       0    0        0          2         12.32            2         4   \n",
              "22011       0    0        1          1         12.10            4         1   \n",
              "22012       0    1        0          0         12.59            4         4   \n",
              "22013       1    0        1          0         12.05            4         2   \n",
              "22014       0    0        0          0         11.30            4         4   \n",
              "\n",
              "       family_type  house_type  DAYS_BIRTH  DAYS_EMPLOYED  work_phone  phone  \\\n",
              "0                1           2      -13899          -4709           0      0   \n",
              "1                0           1      -11380          -1540           0      0   \n",
              "2                1           1      -19087          -4434           0      1   \n",
              "3                1           1      -15088          -2092           0      1   \n",
              "4                1           1      -15037          -2105           0      0   \n",
              "...            ...         ...         ...            ...         ...    ...   \n",
              "22010            1           1      -12079          -1984           0      0   \n",
              "22011            2           1      -15291          -2475           0      0   \n",
              "22012            0           5      -10082          -2015           0      0   \n",
              "22013            3           1      -10145           -107           0      0   \n",
              "22014            0           1      -19569          -1013           0      0   \n",
              "\n",
              "       email  family_size  begin_month  \n",
              "0          0         2.00        -6.00  \n",
              "1          1         3.00        -5.00  \n",
              "2          0         2.00       -22.00  \n",
              "3          0         2.00       -37.00  \n",
              "4          0         2.00       -26.00  \n",
              "...      ...          ...          ...  \n",
              "22010      0         4.00        -2.00  \n",
              "22011      0         2.00       -47.00  \n",
              "22012      0         2.00       -25.00  \n",
              "22013      0         1.00       -59.00  \n",
              "22014      0         2.00        -9.00  \n",
              "\n",
              "[22015 rows x 16 columns]"
            ]
          },
          "execution_count": 160,
          "metadata": {},
          "output_type": "execute_result"
        }
      ]
    },
    {
      "cell_type": "code",
      "metadata": {
        "id": "9cfc9358"
      },
      "source": [
        "y = train['credit']"
      ],
      "id": "9cfc9358",
      "execution_count": null,
      "outputs": []
    },
    {
      "cell_type": "code",
      "metadata": {
        "id": "d5c06221"
      },
      "source": [
        "X = train.drop('credit', axis=1, inplace=True)"
      ],
      "id": "d5c06221",
      "execution_count": null,
      "outputs": []
    },
    {
      "cell_type": "code",
      "metadata": {
        "id": "6d3a887e"
      },
      "source": [
        "X = train"
      ],
      "id": "6d3a887e",
      "execution_count": null,
      "outputs": []
    },
    {
      "cell_type": "code",
      "metadata": {
        "id": "ca3f83d2"
      },
      "source": [
        "yy = XX['credit']\n"
      ],
      "id": "ca3f83d2",
      "execution_count": null,
      "outputs": []
    },
    {
      "cell_type": "code",
      "metadata": {
        "id": "31612af5"
      },
      "source": [
        "XX.drop('credit',axis=1, inplace=True)"
      ],
      "id": "31612af5",
      "execution_count": null,
      "outputs": []
    },
    {
      "cell_type": "code",
      "metadata": {
        "id": "fdc78dd2"
      },
      "source": [
        "from sklearn.ensemble import RandomForestClassifier\n",
        "from sklearn.model_selection import train_test_split,KFold, cross_val_score\n",
        "from sklearn.metrics import accuracy_score, log_loss\n",
        "from sklearn.metrics import f1_score"
      ],
      "id": "fdc78dd2",
      "execution_count": null,
      "outputs": []
    },
    {
      "cell_type": "code",
      "metadata": {
        "id": "079ebf53"
      },
      "source": [
        "X_train, X_test, y_train, y_test = train_test_split(X,y,test_size=0.2, random_state=42)"
      ],
      "id": "079ebf53",
      "execution_count": null,
      "outputs": []
    },
    {
      "cell_type": "code",
      "metadata": {
        "id": "15acf4de"
      },
      "source": [
        "cv= KFold(n_splits=5, random_state=42, shuffle=True)"
      ],
      "id": "15acf4de",
      "execution_count": null,
      "outputs": []
    },
    {
      "cell_type": "code",
      "metadata": {
        "id": "31458e43"
      },
      "source": [
        "rf_model = RandomForestClassifier()"
      ],
      "id": "31458e43",
      "execution_count": null,
      "outputs": []
    },
    {
      "cell_type": "code",
      "metadata": {
        "id": "e14111e4",
        "outputId": "2b8eeb86-5e73-4dbe-d22c-bb59a07e0590"
      },
      "source": [
        "cross_val_score(rf_model, X, y, cv=cv)"
      ],
      "id": "e14111e4",
      "execution_count": null,
      "outputs": [
        {
          "data": {
            "text/plain": [
              "array([0.70247558, 0.70247558, 0.70292982, 0.70724506, 0.70156711])"
            ]
          },
          "execution_count": 171,
          "metadata": {},
          "output_type": "execute_result"
        }
      ]
    },
    {
      "cell_type": "code",
      "metadata": {
        "id": "d0e9cda8",
        "outputId": "7ad8c20a-16d6-417f-98c2-abe0ed353134"
      },
      "source": [
        "cross_val_score(rf_model, XX, yy, cv=cv)"
      ],
      "id": "d0e9cda8",
      "execution_count": null,
      "outputs": [
        {
          "data": {
            "text/plain": [
              "array([0.7027027 , 0.70338406, 0.70429253, 0.70542812, 0.69906882])"
            ]
          },
          "execution_count": 226,
          "metadata": {},
          "output_type": "execute_result"
        }
      ]
    },
    {
      "cell_type": "code",
      "metadata": {
        "id": "c99bb6b8",
        "outputId": "7c28ba6f-941c-4ef6-f510-accc143c6ab0"
      },
      "source": [
        "rf_model.fit(X_train, y_train)\n",
        "y_pred=rf_model.predict_proba(X_test)\n",
        "\n",
        "print(f\"log_loss: {log_loss(y_test, y_pred)}\")"
      ],
      "id": "c99bb6b8",
      "execution_count": null,
      "outputs": [
        {
          "name": "stdout",
          "output_type": "stream",
          "text": [
            "log_loss: 0.9405045967781533\n"
          ]
        }
      ]
    },
    {
      "cell_type": "code",
      "metadata": {
        "scrolled": true,
        "id": "97f170c9",
        "outputId": "fdabd157-4cde-4228-fb0c-a3f1af58336d"
      },
      "source": [
        "rf_model.feature_importances_, train.columns"
      ],
      "id": "97f170c9",
      "execution_count": null,
      "outputs": [
        {
          "data": {
            "text/plain": [
              "(array([0.01917723, 0.01890878, 0.02036341, 0.0197383 , 0.10450026,\n",
              "        0.02354946, 0.0236571 , 0.02514367, 0.01827204, 0.14800206,\n",
              "        0.14906233, 0.01801717, 0.01947553, 0.01209098, 0.02514385,\n",
              "        0.35489782]),\n",
              " Index(['gender', 'car', 'reality', 'child_num', 'income_total', 'income_type',\n",
              "        'edu_type', 'family_type', 'house_type', 'DAYS_BIRTH', 'DAYS_EMPLOYED',\n",
              "        'work_phone', 'phone', 'email', 'family_size', 'begin_month'],\n",
              "       dtype='object'))"
            ]
          },
          "execution_count": 176,
          "metadata": {},
          "output_type": "execute_result"
        }
      ]
    },
    {
      "cell_type": "code",
      "metadata": {
        "id": "a5ead775",
        "outputId": "cc27fc07-ce07-40d5-9ddb-57589cd78b86"
      },
      "source": [
        "plt.figure(figsize=(15,6))\n",
        "n_feature = train.shape[1]\n",
        "\n",
        "index = np.arange(n_feature)\n",
        "plt.barh(index, rf_model.feature_importances_, align='center')\n",
        "\n",
        "plt.yticks(index, train.columns)\n",
        "\n",
        "plt.ylim(-1, n_feature)\n",
        "\n",
        "plt.xlabel('feature importance', size=15)\n",
        "\n",
        "plt.ylabel('feature', size=15)\n",
        "\n",
        "plt.show()"
      ],
      "id": "a5ead775",
      "execution_count": null,
      "outputs": [
        {
          "data": {
            "image/png": "[encoded data removed]",
            "text/plain": [
              "<Figure size 1080x432 with 1 Axes>"
            ]
          },
          "metadata": {
            "needs_background": "light"
          },
          "output_type": "display_data"
        }
      ]
    },
    {
      "cell_type": "code",
      "metadata": {
        "id": "03e95ea0"
      },
      "source": [
        "from sklearn.ensemble import AdaBoostClassifier, GradientBoostingClassifier\n",
        "import xgboost"
      ],
      "id": "03e95ea0",
      "execution_count": null,
      "outputs": []
    },
    {
      "cell_type": "code",
      "metadata": {
        "id": "84cb7c99"
      },
      "source": [
        "ab = AdaBoostClassifier()\n",
        "GBA = GradientBoostingClassifier()\n",
        "xgb = xgboost.XGBClassifier(use_label_encoder=False)"
      ],
      "id": "84cb7c99",
      "execution_count": null,
      "outputs": []
    },
    {
      "cell_type": "code",
      "metadata": {
        "id": "946ea2af",
        "outputId": "00677081-754b-461c-e2d7-781d68903b22"
      },
      "source": [
        "cross_val_score(ab, X, y, cv=cv)"
      ],
      "id": "946ea2af",
      "execution_count": null,
      "outputs": [
        {
          "data": {
            "text/plain": [
              "array([0.68544174, 0.68635022, 0.69407222, 0.69225528, 0.69361799])"
            ]
          },
          "execution_count": 201,
          "metadata": {},
          "output_type": "execute_result"
        }
      ]
    },
    {
      "cell_type": "code",
      "metadata": {
        "id": "a49f68c7",
        "outputId": "48037c3f-b635-44f9-de95-9c2b47d8c86b"
      },
      "source": [
        "cross_val_score(GBA, X, y, cv=cv)"
      ],
      "id": "a49f68c7",
      "execution_count": null,
      "outputs": [
        {
          "data": {
            "text/plain": [
              "array([0.68680445, 0.68816716, 0.69475358, 0.6924824 , 0.69384511])"
            ]
          },
          "execution_count": 202,
          "metadata": {},
          "output_type": "execute_result"
        }
      ]
    },
    {
      "cell_type": "code",
      "metadata": {
        "id": "566e52ec",
        "outputId": "b0626011-9b20-4c5b-d824-87b2262ddc01"
      },
      "source": [
        "cross_val_score(xgb, XX, yy, cv=cv)"
      ],
      "id": "566e52ec",
      "execution_count": null,
      "outputs": [
        {
          "name": "stdout",
          "output_type": "stream",
          "text": [
            "[13:53:41] WARNING: C:/Users/Administrator/workspace/xgboost-win64_release_1.4.0/src/learner.cc:1095: Starting in XGBoost 1.3.0, the default evaluation metric used with the objective 'multi:softprob' was changed from 'merror' to 'mlogloss'. Explicitly set eval_metric if you'd like to restore the old behavior.\n",
            "[13:53:43] WARNING: C:/Users/Administrator/workspace/xgboost-win64_release_1.4.0/src/learner.cc:1095: Starting in XGBoost 1.3.0, the default evaluation metric used with the objective 'multi:softprob' was changed from 'merror' to 'mlogloss'. Explicitly set eval_metric if you'd like to restore the old behavior.\n",
            "[13:53:45] WARNING: C:/Users/Administrator/workspace/xgboost-win64_release_1.4.0/src/learner.cc:1095: Starting in XGBoost 1.3.0, the default evaluation metric used with the objective 'multi:softprob' was changed from 'merror' to 'mlogloss'. Explicitly set eval_metric if you'd like to restore the old behavior.\n",
            "[13:53:47] WARNING: C:/Users/Administrator/workspace/xgboost-win64_release_1.4.0/src/learner.cc:1095: Starting in XGBoost 1.3.0, the default evaluation metric used with the objective 'multi:softprob' was changed from 'merror' to 'mlogloss'. Explicitly set eval_metric if you'd like to restore the old behavior.\n",
            "[13:53:49] WARNING: C:/Users/Administrator/workspace/xgboost-win64_release_1.4.0/src/learner.cc:1095: Starting in XGBoost 1.3.0, the default evaluation metric used with the objective 'multi:softprob' was changed from 'merror' to 'mlogloss'. Explicitly set eval_metric if you'd like to restore the old behavior.\n"
          ]
        },
        {
          "data": {
            "text/plain": [
              "array([0.70156711, 0.70883489, 0.71269589, 0.7115603 , 0.71383148])"
            ]
          },
          "execution_count": 231,
          "metadata": {},
          "output_type": "execute_result"
        }
      ]
    },
    {
      "cell_type": "code",
      "metadata": {
        "id": "523dc0e3",
        "outputId": "3cfca684-9208-410d-be57-c35bbff3634f"
      },
      "source": [
        "cross_val_score(xgb, X, y, cv=cv)"
      ],
      "id": "523dc0e3",
      "execution_count": null,
      "outputs": [
        {
          "name": "stdout",
          "output_type": "stream",
          "text": [
            "[13:54:02] WARNING: C:/Users/Administrator/workspace/xgboost-win64_release_1.4.0/src/learner.cc:1095: Starting in XGBoost 1.3.0, the default evaluation metric used with the objective 'multi:softprob' was changed from 'merror' to 'mlogloss'. Explicitly set eval_metric if you'd like to restore the old behavior.\n",
            "[13:54:04] WARNING: C:/Users/Administrator/workspace/xgboost-win64_release_1.4.0/src/learner.cc:1095: Starting in XGBoost 1.3.0, the default evaluation metric used with the objective 'multi:softprob' was changed from 'merror' to 'mlogloss'. Explicitly set eval_metric if you'd like to restore the old behavior.\n",
            "[13:54:06] WARNING: C:/Users/Administrator/workspace/xgboost-win64_release_1.4.0/src/learner.cc:1095: Starting in XGBoost 1.3.0, the default evaluation metric used with the objective 'multi:softprob' was changed from 'merror' to 'mlogloss'. Explicitly set eval_metric if you'd like to restore the old behavior.\n",
            "[13:54:08] WARNING: C:/Users/Administrator/workspace/xgboost-win64_release_1.4.0/src/learner.cc:1095: Starting in XGBoost 1.3.0, the default evaluation metric used with the objective 'multi:softprob' was changed from 'merror' to 'mlogloss'. Explicitly set eval_metric if you'd like to restore the old behavior.\n",
            "[13:54:10] WARNING: C:/Users/Administrator/workspace/xgboost-win64_release_1.4.0/src/learner.cc:1095: Starting in XGBoost 1.3.0, the default evaluation metric used with the objective 'multi:softprob' was changed from 'merror' to 'mlogloss'. Explicitly set eval_metric if you'd like to restore the old behavior.\n"
          ]
        },
        {
          "data": {
            "text/plain": [
              "array([0.70497388, 0.70928912, 0.71610266, 0.7115603 , 0.71019759])"
            ]
          },
          "execution_count": 232,
          "metadata": {},
          "output_type": "execute_result"
        }
      ]
    },
    {
      "cell_type": "code",
      "metadata": {
        "id": "9da0fdc1"
      },
      "source": [
        "X_train, X_test, y_train, y_test = train_test_split(XX,yy, test_size=0.2, random_state=42)"
      ],
      "id": "9da0fdc1",
      "execution_count": null,
      "outputs": []
    },
    {
      "cell_type": "code",
      "metadata": {
        "id": "a57107e4",
        "outputId": "0d64152a-0f1c-45a5-8dcd-c08279936d65"
      },
      "source": [
        "xgb.fit(X_train, y_train)"
      ],
      "id": "a57107e4",
      "execution_count": null,
      "outputs": [
        {
          "name": "stdout",
          "output_type": "stream",
          "text": [
            "[13:55:56] WARNING: C:/Users/Administrator/workspace/xgboost-win64_release_1.4.0/src/learner.cc:1095: Starting in XGBoost 1.3.0, the default evaluation metric used with the objective 'multi:softprob' was changed from 'merror' to 'mlogloss'. Explicitly set eval_metric if you'd like to restore the old behavior.\n"
          ]
        },
        {
          "data": {
            "text/plain": [
              "XGBClassifier(base_score=0.5, booster='gbtree', colsample_bylevel=1,\n",
              "              colsample_bynode=1, colsample_bytree=1, gamma=0, gpu_id=-1,\n",
              "              importance_type='gain', interaction_constraints='',\n",
              "              learning_rate=0.300000012, max_delta_step=0, max_depth=6,\n",
              "              min_child_weight=1, missing=nan, monotone_constraints='()',\n",
              "              n_estimators=100, n_jobs=16, num_parallel_tree=1,\n",
              "              objective='multi:softprob', random_state=0, reg_alpha=0,\n",
              "              reg_lambda=1, scale_pos_weight=None, subsample=1,\n",
              "              tree_method='exact', use_label_encoder=False,\n",
              "              validate_parameters=1, verbosity=None)"
            ]
          },
          "execution_count": 233,
          "metadata": {},
          "output_type": "execute_result"
        }
      ]
    },
    {
      "cell_type": "code",
      "metadata": {
        "id": "c31ef951",
        "outputId": "0c612092-adc2-4545-e9d4-2dc12c960070"
      },
      "source": [
        "xgb.score(X_train,y_train)"
      ],
      "id": "c31ef951",
      "execution_count": null,
      "outputs": [
        {
          "data": {
            "text/plain": [
              "0.7879286849875086"
            ]
          },
          "execution_count": 234,
          "metadata": {},
          "output_type": "execute_result"
        }
      ]
    },
    {
      "cell_type": "code",
      "metadata": {
        "id": "5e853ef5",
        "outputId": "bf97d867-dc77-4db4-b12d-49c2ec4d88e2"
      },
      "source": [
        "test"
      ],
      "id": "5e853ef5",
      "execution_count": null,
      "outputs": [
        {
          "data": {
            "text/html": [
              "<div>\n",
              "<style scoped>\n",
              "    .dataframe tbody tr th:only-of-type {\n",
              "        vertical-align: middle;\n",
              "    }\n",
              "\n",
              "    .dataframe tbody tr th {\n",
              "        vertical-align: top;\n",
              "    }\n",
              "\n",
              "    .dataframe thead th {\n",
              "        text-align: right;\n",
              "    }\n",
              "</style>\n",
              "<table border=\"1\" class=\"dataframe\">\n",
              "  <thead>\n",
              "    <tr style=\"text-align: right;\">\n",
              "      <th></th>\n",
              "      <th>gender</th>\n",
              "      <th>car</th>\n",
              "      <th>reality</th>\n",
              "      <th>child_num</th>\n",
              "      <th>income_total</th>\n",
              "      <th>income_type</th>\n",
              "      <th>edu_type</th>\n",
              "      <th>family_type</th>\n",
              "      <th>house_type</th>\n",
              "      <th>DAYS_BIRTH</th>\n",
              "      <th>DAYS_EMPLOYED</th>\n",
              "      <th>work_phone</th>\n",
              "      <th>phone</th>\n",
              "      <th>email</th>\n",
              "      <th>family_size</th>\n",
              "      <th>begin_month</th>\n",
              "    </tr>\n",
              "  </thead>\n",
              "  <tbody>\n",
              "    <tr>\n",
              "      <th>0</th>\n",
              "      <td>1</td>\n",
              "      <td>1</td>\n",
              "      <td>0</td>\n",
              "      <td>0</td>\n",
              "      <td>11.63</td>\n",
              "      <td>1</td>\n",
              "      <td>4</td>\n",
              "      <td>0</td>\n",
              "      <td>1</td>\n",
              "      <td>-21990</td>\n",
              "      <td>365243</td>\n",
              "      <td>0</td>\n",
              "      <td>1</td>\n",
              "      <td>0</td>\n",
              "      <td>2.00</td>\n",
              "      <td>-60.00</td>\n",
              "    </tr>\n",
              "    <tr>\n",
              "      <th>1</th>\n",
              "      <td>0</td>\n",
              "      <td>0</td>\n",
              "      <td>1</td>\n",
              "      <td>0</td>\n",
              "      <td>11.81</td>\n",
              "      <td>2</td>\n",
              "      <td>1</td>\n",
              "      <td>1</td>\n",
              "      <td>1</td>\n",
              "      <td>-18964</td>\n",
              "      <td>-8671</td>\n",
              "      <td>0</td>\n",
              "      <td>1</td>\n",
              "      <td>0</td>\n",
              "      <td>2.00</td>\n",
              "      <td>-36.00</td>\n",
              "    </tr>\n",
              "    <tr>\n",
              "      <th>2</th>\n",
              "      <td>0</td>\n",
              "      <td>0</td>\n",
              "      <td>1</td>\n",
              "      <td>0</td>\n",
              "      <td>11.15</td>\n",
              "      <td>4</td>\n",
              "      <td>4</td>\n",
              "      <td>1</td>\n",
              "      <td>1</td>\n",
              "      <td>-15887</td>\n",
              "      <td>-217</td>\n",
              "      <td>1</td>\n",
              "      <td>1</td>\n",
              "      <td>0</td>\n",
              "      <td>2.00</td>\n",
              "      <td>-40.00</td>\n",
              "    </tr>\n",
              "    <tr>\n",
              "      <th>3</th>\n",
              "      <td>1</td>\n",
              "      <td>1</td>\n",
              "      <td>0</td>\n",
              "      <td>0</td>\n",
              "      <td>11.63</td>\n",
              "      <td>0</td>\n",
              "      <td>4</td>\n",
              "      <td>1</td>\n",
              "      <td>1</td>\n",
              "      <td>-19270</td>\n",
              "      <td>-2531</td>\n",
              "      <td>1</td>\n",
              "      <td>0</td>\n",
              "      <td>0</td>\n",
              "      <td>2.00</td>\n",
              "      <td>-41.00</td>\n",
              "    </tr>\n",
              "    <tr>\n",
              "      <th>4</th>\n",
              "      <td>0</td>\n",
              "      <td>1</td>\n",
              "      <td>1</td>\n",
              "      <td>0</td>\n",
              "      <td>12.32</td>\n",
              "      <td>2</td>\n",
              "      <td>1</td>\n",
              "      <td>1</td>\n",
              "      <td>1</td>\n",
              "      <td>-17822</td>\n",
              "      <td>-9385</td>\n",
              "      <td>1</td>\n",
              "      <td>0</td>\n",
              "      <td>0</td>\n",
              "      <td>2.00</td>\n",
              "      <td>-8.00</td>\n",
              "    </tr>\n",
              "    <tr>\n",
              "      <th>...</th>\n",
              "      <td>...</td>\n",
              "      <td>...</td>\n",
              "      <td>...</td>\n",
              "      <td>...</td>\n",
              "      <td>...</td>\n",
              "      <td>...</td>\n",
              "      <td>...</td>\n",
              "      <td>...</td>\n",
              "      <td>...</td>\n",
              "      <td>...</td>\n",
              "      <td>...</td>\n",
              "      <td>...</td>\n",
              "      <td>...</td>\n",
              "      <td>...</td>\n",
              "      <td>...</td>\n",
              "      <td>...</td>\n",
              "    </tr>\n",
              "    <tr>\n",
              "      <th>9995</th>\n",
              "      <td>0</td>\n",
              "      <td>1</td>\n",
              "      <td>1</td>\n",
              "      <td>0</td>\n",
              "      <td>12.22</td>\n",
              "      <td>4</td>\n",
              "      <td>2</td>\n",
              "      <td>1</td>\n",
              "      <td>1</td>\n",
              "      <td>-18593</td>\n",
              "      <td>-5434</td>\n",
              "      <td>1</td>\n",
              "      <td>1</td>\n",
              "      <td>0</td>\n",
              "      <td>2.00</td>\n",
              "      <td>-19.00</td>\n",
              "    </tr>\n",
              "    <tr>\n",
              "      <th>9996</th>\n",
              "      <td>1</td>\n",
              "      <td>1</td>\n",
              "      <td>1</td>\n",
              "      <td>0</td>\n",
              "      <td>12.22</td>\n",
              "      <td>4</td>\n",
              "      <td>4</td>\n",
              "      <td>0</td>\n",
              "      <td>1</td>\n",
              "      <td>-10886</td>\n",
              "      <td>-1315</td>\n",
              "      <td>1</td>\n",
              "      <td>0</td>\n",
              "      <td>0</td>\n",
              "      <td>2.00</td>\n",
              "      <td>-34.00</td>\n",
              "    </tr>\n",
              "    <tr>\n",
              "      <th>9997</th>\n",
              "      <td>0</td>\n",
              "      <td>0</td>\n",
              "      <td>1</td>\n",
              "      <td>0</td>\n",
              "      <td>12.59</td>\n",
              "      <td>4</td>\n",
              "      <td>4</td>\n",
              "      <td>1</td>\n",
              "      <td>1</td>\n",
              "      <td>-21016</td>\n",
              "      <td>-14018</td>\n",
              "      <td>0</td>\n",
              "      <td>0</td>\n",
              "      <td>0</td>\n",
              "      <td>2.00</td>\n",
              "      <td>-55.00</td>\n",
              "    </tr>\n",
              "    <tr>\n",
              "      <th>9998</th>\n",
              "      <td>0</td>\n",
              "      <td>1</td>\n",
              "      <td>0</td>\n",
              "      <td>0</td>\n",
              "      <td>12.10</td>\n",
              "      <td>0</td>\n",
              "      <td>4</td>\n",
              "      <td>1</td>\n",
              "      <td>1</td>\n",
              "      <td>-16541</td>\n",
              "      <td>-1085</td>\n",
              "      <td>0</td>\n",
              "      <td>1</td>\n",
              "      <td>0</td>\n",
              "      <td>2.00</td>\n",
              "      <td>-33.00</td>\n",
              "    </tr>\n",
              "    <tr>\n",
              "      <th>9999</th>\n",
              "      <td>0</td>\n",
              "      <td>0</td>\n",
              "      <td>1</td>\n",
              "      <td>0</td>\n",
              "      <td>12.51</td>\n",
              "      <td>4</td>\n",
              "      <td>1</td>\n",
              "      <td>1</td>\n",
              "      <td>1</td>\n",
              "      <td>-9154</td>\n",
              "      <td>-187</td>\n",
              "      <td>0</td>\n",
              "      <td>0</td>\n",
              "      <td>1</td>\n",
              "      <td>2.00</td>\n",
              "      <td>-11.00</td>\n",
              "    </tr>\n",
              "  </tbody>\n",
              "</table>\n",
              "<p>10000 rows × 16 columns</p>\n",
              "</div>"
            ],
            "text/plain": [
              "      gender  car  reality  child_num  income_total  income_type  edu_type  \\\n",
              "0          1    1        0          0         11.63            1         4   \n",
              "1          0    0        1          0         11.81            2         1   \n",
              "2          0    0        1          0         11.15            4         4   \n",
              "3          1    1        0          0         11.63            0         4   \n",
              "4          0    1        1          0         12.32            2         1   \n",
              "...      ...  ...      ...        ...           ...          ...       ...   \n",
              "9995       0    1        1          0         12.22            4         2   \n",
              "9996       1    1        1          0         12.22            4         4   \n",
              "9997       0    0        1          0         12.59            4         4   \n",
              "9998       0    1        0          0         12.10            0         4   \n",
              "9999       0    0        1          0         12.51            4         1   \n",
              "\n",
              "      family_type  house_type  DAYS_BIRTH  DAYS_EMPLOYED  work_phone  phone  \\\n",
              "0               0           1      -21990         365243           0      1   \n",
              "1               1           1      -18964          -8671           0      1   \n",
              "2               1           1      -15887           -217           1      1   \n",
              "3               1           1      -19270          -2531           1      0   \n",
              "4               1           1      -17822          -9385           1      0   \n",
              "...           ...         ...         ...            ...         ...    ...   \n",
              "9995            1           1      -18593          -5434           1      1   \n",
              "9996            0           1      -10886          -1315           1      0   \n",
              "9997            1           1      -21016         -14018           0      0   \n",
              "9998            1           1      -16541          -1085           0      1   \n",
              "9999            1           1       -9154           -187           0      0   \n",
              "\n",
              "      email  family_size  begin_month  \n",
              "0         0         2.00       -60.00  \n",
              "1         0         2.00       -36.00  \n",
              "2         0         2.00       -40.00  \n",
              "3         0         2.00       -41.00  \n",
              "4         0         2.00        -8.00  \n",
              "...     ...          ...          ...  \n",
              "9995      0         2.00       -19.00  \n",
              "9996      0         2.00       -34.00  \n",
              "9997      0         2.00       -55.00  \n",
              "9998      0         2.00       -33.00  \n",
              "9999      1         2.00       -11.00  \n",
              "\n",
              "[10000 rows x 16 columns]"
            ]
          },
          "execution_count": 242,
          "metadata": {},
          "output_type": "execute_result"
        }
      ]
    },
    {
      "cell_type": "code",
      "metadata": {
        "id": "1ea8c0ea"
      },
      "source": [
        "pred = xgb.predict(X_test)"
      ],
      "id": "1ea8c0ea",
      "execution_count": null,
      "outputs": []
    },
    {
      "cell_type": "code",
      "metadata": {
        "id": "513e4b46"
      },
      "source": [
        "pred_1 = xgb.predict_proba(X_test)"
      ],
      "id": "513e4b46",
      "execution_count": null,
      "outputs": []
    },
    {
      "cell_type": "code",
      "metadata": {
        "id": "a98dede2",
        "outputId": "c5969859-b7bb-4f14-f720-37288842b5e4"
      },
      "source": [
        "pd.DataFrame(pred_1)"
      ],
      "id": "a98dede2",
      "execution_count": null,
      "outputs": [
        {
          "data": {
            "text/html": [
              "<div>\n",
              "<style scoped>\n",
              "    .dataframe tbody tr th:only-of-type {\n",
              "        vertical-align: middle;\n",
              "    }\n",
              "\n",
              "    .dataframe tbody tr th {\n",
              "        vertical-align: top;\n",
              "    }\n",
              "\n",
              "    .dataframe thead th {\n",
              "        text-align: right;\n",
              "    }\n",
              "</style>\n",
              "<table border=\"1\" class=\"dataframe\">\n",
              "  <thead>\n",
              "    <tr style=\"text-align: right;\">\n",
              "      <th></th>\n",
              "      <th>0</th>\n",
              "      <th>1</th>\n",
              "      <th>2</th>\n",
              "    </tr>\n",
              "  </thead>\n",
              "  <tbody>\n",
              "    <tr>\n",
              "      <th>0</th>\n",
              "      <td>0.16</td>\n",
              "      <td>0.84</td>\n",
              "      <td>0.00</td>\n",
              "    </tr>\n",
              "    <tr>\n",
              "      <th>1</th>\n",
              "      <td>0.19</td>\n",
              "      <td>0.81</td>\n",
              "      <td>0.00</td>\n",
              "    </tr>\n",
              "    <tr>\n",
              "      <th>2</th>\n",
              "      <td>0.05</td>\n",
              "      <td>0.15</td>\n",
              "      <td>0.80</td>\n",
              "    </tr>\n",
              "    <tr>\n",
              "      <th>3</th>\n",
              "      <td>0.08</td>\n",
              "      <td>0.22</td>\n",
              "      <td>0.71</td>\n",
              "    </tr>\n",
              "    <tr>\n",
              "      <th>4</th>\n",
              "      <td>0.03</td>\n",
              "      <td>0.17</td>\n",
              "      <td>0.81</td>\n",
              "    </tr>\n",
              "    <tr>\n",
              "      <th>...</th>\n",
              "      <td>...</td>\n",
              "      <td>...</td>\n",
              "      <td>...</td>\n",
              "    </tr>\n",
              "    <tr>\n",
              "      <th>4398</th>\n",
              "      <td>0.17</td>\n",
              "      <td>0.11</td>\n",
              "      <td>0.72</td>\n",
              "    </tr>\n",
              "    <tr>\n",
              "      <th>4399</th>\n",
              "      <td>0.05</td>\n",
              "      <td>0.20</td>\n",
              "      <td>0.75</td>\n",
              "    </tr>\n",
              "    <tr>\n",
              "      <th>4400</th>\n",
              "      <td>0.07</td>\n",
              "      <td>0.22</td>\n",
              "      <td>0.71</td>\n",
              "    </tr>\n",
              "    <tr>\n",
              "      <th>4401</th>\n",
              "      <td>0.13</td>\n",
              "      <td>0.14</td>\n",
              "      <td>0.74</td>\n",
              "    </tr>\n",
              "    <tr>\n",
              "      <th>4402</th>\n",
              "      <td>0.13</td>\n",
              "      <td>0.11</td>\n",
              "      <td>0.77</td>\n",
              "    </tr>\n",
              "  </tbody>\n",
              "</table>\n",
              "<p>4403 rows × 3 columns</p>\n",
              "</div>"
            ],
            "text/plain": [
              "        0    1    2\n",
              "0    0.16 0.84 0.00\n",
              "1    0.19 0.81 0.00\n",
              "2    0.05 0.15 0.80\n",
              "3    0.08 0.22 0.71\n",
              "4    0.03 0.17 0.81\n",
              "...   ...  ...  ...\n",
              "4398 0.17 0.11 0.72\n",
              "4399 0.05 0.20 0.75\n",
              "4400 0.07 0.22 0.71\n",
              "4401 0.13 0.14 0.74\n",
              "4402 0.13 0.11 0.77\n",
              "\n",
              "[4403 rows x 3 columns]"
            ]
          },
          "execution_count": 241,
          "metadata": {},
          "output_type": "execute_result"
        }
      ]
    },
    {
      "cell_type": "code",
      "metadata": {
        "id": "95cbbc3b",
        "outputId": "ca93fe9b-a249-4124-a28d-dd2459f54515"
      },
      "source": [
        "xgb.score(X_test,y_test)"
      ],
      "id": "95cbbc3b",
      "execution_count": null,
      "outputs": [
        {
          "data": {
            "text/plain": [
              "0.7049738814444697"
            ]
          },
          "execution_count": 237,
          "metadata": {},
          "output_type": "execute_result"
        }
      ]
    },
    {
      "cell_type": "code",
      "metadata": {
        "id": "dd70fff0"
      },
      "source": [
        "train"
      ],
      "id": "dd70fff0",
      "execution_count": null,
      "outputs": []
    },
    {
      "cell_type": "code",
      "metadata": {
        "id": "92b3ba9a",
        "outputId": "e12eebb3-7e62-4ba8-f86a-7a450f7c9800"
      },
      "source": [
        "rf_model = RandomForestClassifier()\n",
        "rf_model.fit(X,y)"
      ],
      "id": "92b3ba9a",
      "execution_count": null,
      "outputs": [
        {
          "data": {
            "text/plain": [
              "RandomForestClassifier()"
            ]
          },
          "execution_count": 243,
          "metadata": {},
          "output_type": "execute_result"
        }
      ]
    },
    {
      "cell_type": "code",
      "metadata": {
        "id": "6a7d5b15",
        "outputId": "769149a0-6475-4c04-b38a-6c478b9e6894"
      },
      "source": [
        "rf_model.score(X,y)"
      ],
      "id": "6a7d5b15",
      "execution_count": null,
      "outputs": [
        {
          "data": {
            "text/plain": [
              "0.9720190779014308"
            ]
          },
          "execution_count": 244,
          "metadata": {},
          "output_type": "execute_result"
        }
      ]
    },
    {
      "cell_type": "code",
      "metadata": {
        "id": "f6a444c0"
      },
      "source": [
        "pred = rf_model.predict_proba(test)"
      ],
      "id": "f6a444c0",
      "execution_count": null,
      "outputs": []
    },
    {
      "cell_type": "code",
      "metadata": {
        "id": "f92fb62e",
        "outputId": "7ec3a854-da38-4b2c-d23a-8e067ea89200"
      },
      "source": [
        "pd.DataFrame(pred)"
      ],
      "id": "f92fb62e",
      "execution_count": null,
      "outputs": [
        {
          "data": {
            "text/html": [
              "<div>\n",
              "<style scoped>\n",
              "    .dataframe tbody tr th:only-of-type {\n",
              "        vertical-align: middle;\n",
              "    }\n",
              "\n",
              "    .dataframe tbody tr th {\n",
              "        vertical-align: top;\n",
              "    }\n",
              "\n",
              "    .dataframe thead th {\n",
              "        text-align: right;\n",
              "    }\n",
              "</style>\n",
              "<table border=\"1\" class=\"dataframe\">\n",
              "  <thead>\n",
              "    <tr style=\"text-align: right;\">\n",
              "      <th></th>\n",
              "      <th>0</th>\n",
              "      <th>1</th>\n",
              "      <th>2</th>\n",
              "    </tr>\n",
              "  </thead>\n",
              "  <tbody>\n",
              "    <tr>\n",
              "      <th>0</th>\n",
              "      <td>0.17</td>\n",
              "      <td>0.28</td>\n",
              "      <td>0.55</td>\n",
              "    </tr>\n",
              "    <tr>\n",
              "      <th>1</th>\n",
              "      <td>0.53</td>\n",
              "      <td>0.19</td>\n",
              "      <td>0.28</td>\n",
              "    </tr>\n",
              "    <tr>\n",
              "      <th>2</th>\n",
              "      <td>0.02</td>\n",
              "      <td>0.04</td>\n",
              "      <td>0.94</td>\n",
              "    </tr>\n",
              "    <tr>\n",
              "      <th>3</th>\n",
              "      <td>0.10</td>\n",
              "      <td>0.04</td>\n",
              "      <td>0.86</td>\n",
              "    </tr>\n",
              "    <tr>\n",
              "      <th>4</th>\n",
              "      <td>0.07</td>\n",
              "      <td>0.18</td>\n",
              "      <td>0.75</td>\n",
              "    </tr>\n",
              "    <tr>\n",
              "      <th>...</th>\n",
              "      <td>...</td>\n",
              "      <td>...</td>\n",
              "      <td>...</td>\n",
              "    </tr>\n",
              "    <tr>\n",
              "      <th>9995</th>\n",
              "      <td>0.03</td>\n",
              "      <td>0.24</td>\n",
              "      <td>0.73</td>\n",
              "    </tr>\n",
              "    <tr>\n",
              "      <th>9996</th>\n",
              "      <td>0.18</td>\n",
              "      <td>0.63</td>\n",
              "      <td>0.19</td>\n",
              "    </tr>\n",
              "    <tr>\n",
              "      <th>9997</th>\n",
              "      <td>0.02</td>\n",
              "      <td>0.04</td>\n",
              "      <td>0.94</td>\n",
              "    </tr>\n",
              "    <tr>\n",
              "      <th>9998</th>\n",
              "      <td>0.54</td>\n",
              "      <td>0.32</td>\n",
              "      <td>0.14</td>\n",
              "    </tr>\n",
              "    <tr>\n",
              "      <th>9999</th>\n",
              "      <td>0.05</td>\n",
              "      <td>0.32</td>\n",
              "      <td>0.63</td>\n",
              "    </tr>\n",
              "  </tbody>\n",
              "</table>\n",
              "<p>10000 rows × 3 columns</p>\n",
              "</div>"
            ],
            "text/plain": [
              "        0    1    2\n",
              "0    0.17 0.28 0.55\n",
              "1    0.53 0.19 0.28\n",
              "2    0.02 0.04 0.94\n",
              "3    0.10 0.04 0.86\n",
              "4    0.07 0.18 0.75\n",
              "...   ...  ...  ...\n",
              "9995 0.03 0.24 0.73\n",
              "9996 0.18 0.63 0.19\n",
              "9997 0.02 0.04 0.94\n",
              "9998 0.54 0.32 0.14\n",
              "9999 0.05 0.32 0.63\n",
              "\n",
              "[10000 rows x 3 columns]"
            ]
          },
          "execution_count": 248,
          "metadata": {},
          "output_type": "execute_result"
        }
      ]
    },
    {
      "cell_type": "code",
      "metadata": {
        "id": "c991ab71",
        "outputId": "6b7a5099-1c3b-43a6-f80c-ef9c3064f009"
      },
      "source": [
        "submission"
      ],
      "id": "c991ab71",
      "execution_count": null,
      "outputs": [
        {
          "data": {
            "text/html": [
              "<div>\n",
              "<style scoped>\n",
              "    .dataframe tbody tr th:only-of-type {\n",
              "        vertical-align: middle;\n",
              "    }\n",
              "\n",
              "    .dataframe tbody tr th {\n",
              "        vertical-align: top;\n",
              "    }\n",
              "\n",
              "    .dataframe thead th {\n",
              "        text-align: right;\n",
              "    }\n",
              "</style>\n",
              "<table border=\"1\" class=\"dataframe\">\n",
              "  <thead>\n",
              "    <tr style=\"text-align: right;\">\n",
              "      <th></th>\n",
              "      <th>index</th>\n",
              "      <th>0</th>\n",
              "      <th>1</th>\n",
              "      <th>2</th>\n",
              "    </tr>\n",
              "  </thead>\n",
              "  <tbody>\n",
              "    <tr>\n",
              "      <th>0</th>\n",
              "      <td>26457</td>\n",
              "      <td>0</td>\n",
              "      <td>0</td>\n",
              "      <td>0</td>\n",
              "    </tr>\n",
              "    <tr>\n",
              "      <th>1</th>\n",
              "      <td>26458</td>\n",
              "      <td>0</td>\n",
              "      <td>0</td>\n",
              "      <td>0</td>\n",
              "    </tr>\n",
              "    <tr>\n",
              "      <th>2</th>\n",
              "      <td>26459</td>\n",
              "      <td>0</td>\n",
              "      <td>0</td>\n",
              "      <td>0</td>\n",
              "    </tr>\n",
              "    <tr>\n",
              "      <th>3</th>\n",
              "      <td>26460</td>\n",
              "      <td>0</td>\n",
              "      <td>0</td>\n",
              "      <td>0</td>\n",
              "    </tr>\n",
              "    <tr>\n",
              "      <th>4</th>\n",
              "      <td>26461</td>\n",
              "      <td>0</td>\n",
              "      <td>0</td>\n",
              "      <td>0</td>\n",
              "    </tr>\n",
              "    <tr>\n",
              "      <th>...</th>\n",
              "      <td>...</td>\n",
              "      <td>...</td>\n",
              "      <td>...</td>\n",
              "      <td>...</td>\n",
              "    </tr>\n",
              "    <tr>\n",
              "      <th>9995</th>\n",
              "      <td>36452</td>\n",
              "      <td>0</td>\n",
              "      <td>0</td>\n",
              "      <td>0</td>\n",
              "    </tr>\n",
              "    <tr>\n",
              "      <th>9996</th>\n",
              "      <td>36453</td>\n",
              "      <td>0</td>\n",
              "      <td>0</td>\n",
              "      <td>0</td>\n",
              "    </tr>\n",
              "    <tr>\n",
              "      <th>9997</th>\n",
              "      <td>36454</td>\n",
              "      <td>0</td>\n",
              "      <td>0</td>\n",
              "      <td>0</td>\n",
              "    </tr>\n",
              "    <tr>\n",
              "      <th>9998</th>\n",
              "      <td>36455</td>\n",
              "      <td>0</td>\n",
              "      <td>0</td>\n",
              "      <td>0</td>\n",
              "    </tr>\n",
              "    <tr>\n",
              "      <th>9999</th>\n",
              "      <td>36456</td>\n",
              "      <td>0</td>\n",
              "      <td>0</td>\n",
              "      <td>0</td>\n",
              "    </tr>\n",
              "  </tbody>\n",
              "</table>\n",
              "<p>10000 rows × 4 columns</p>\n",
              "</div>"
            ],
            "text/plain": [
              "      index  0  1  2\n",
              "0     26457  0  0  0\n",
              "1     26458  0  0  0\n",
              "2     26459  0  0  0\n",
              "3     26460  0  0  0\n",
              "4     26461  0  0  0\n",
              "...     ... .. .. ..\n",
              "9995  36452  0  0  0\n",
              "9996  36453  0  0  0\n",
              "9997  36454  0  0  0\n",
              "9998  36455  0  0  0\n",
              "9999  36456  0  0  0\n",
              "\n",
              "[10000 rows x 4 columns]"
            ]
          },
          "execution_count": 249,
          "metadata": {},
          "output_type": "execute_result"
        }
      ]
    },
    {
      "cell_type": "code",
      "metadata": {
        "id": "673acea0",
        "outputId": "832f2103-726a-4c50-ef9d-7f4ce2774c0f"
      },
      "source": [
        "submission.loc[:,1:]=pred"
      ],
      "id": "673acea0",
      "execution_count": null,
      "outputs": [
        {
          "name": "stderr",
          "output_type": "stream",
          "text": [
            "<ipython-input-250-d3d3128d3a5c>:1: FutureWarning: Slicing a positional slice with .loc is not supported, and will raise TypeError in a future version.  Use .loc with labels or .iloc with positions instead.\n",
            "  submission.loc[:,1:]=pred\n"
          ]
        }
      ]
    },
    {
      "cell_type": "code",
      "metadata": {
        "id": "a463f719"
      },
      "source": [
        "submission.to_csv('baseline_submission.csv', index=False)"
      ],
      "id": "a463f719",
      "execution_count": null,
      "outputs": []
    },
    {
      "cell_type": "code",
      "metadata": {
        "id": "feb41360"
      },
      "source": [
        ""
      ],
      "id": "feb41360",
      "execution_count": null,
      "outputs": []
    }
  ]
}