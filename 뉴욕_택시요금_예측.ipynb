{
  "nbformat": 4,
  "nbformat_minor": 5,
  "metadata": {
    "kernelspec": {
      "display_name": "Python 3",
      "language": "python",
      "name": "python3"
    },
    "language_info": {
      "codemirror_mode": {
        "name": "ipython",
        "version": 3
      },
      "file_extension": ".py",
      "mimetype": "text/x-python",
      "name": "python",
      "nbconvert_exporter": "python",
      "pygments_lexer": "ipython3",
      "version": "3.8.8"
    },
    "colab": {
      "name": "뉴욕 택시요금 예측.ipynb",
      "provenance": [],
      "include_colab_link": true
    }
  },
  "cells": [
    {
      "cell_type": "markdown",
      "metadata": {
        "id": "view-in-github",
        "colab_type": "text"
      },
      "source": [
        "<a href=\"https://colab.research.google.com/github/akfangus/MLproject/blob/main/%EB%89%B4%EC%9A%95_%ED%83%9D%EC%8B%9C%EC%9A%94%EA%B8%88_%EC%98%88%EC%B8%A1.ipynb\" target=\"_parent\"><img src=\"https://colab.research.google.com/assets/colab-badge.svg\" alt=\"Open In Colab\"/></a>"
      ]
    },
    {
      "cell_type": "code",
      "metadata": {
        "id": "09acc995",
        "outputId": "fdc901be-8198-4456-b24d-2d9aef662581"
      },
      "source": [
        "!kaggle competitions download -c new-york-city-taxi-fare-prediction"
      ],
      "id": "09acc995",
      "execution_count": null,
      "outputs": [
        {
          "name": "stdout",
          "output_type": "stream",
          "text": [
            "Downloading new-york-city-taxi-fare-prediction.zip to C:\\prac\\파이썬으로 캐글뽀개기\n",
            "\n"
          ]
        },
        {
          "name": "stderr",
          "output_type": "stream",
          "text": [
            "\n",
            "  0%|          | 0.00/1.56G [00:00<?, ?B/s]\n",
            "  0%|          | 5.00M/1.56G [00:00<02:01, 13.8MB/s]\n",
            "  1%|          | 9.00M/1.56G [00:00<01:24, 19.6MB/s]\n",
            "  1%|1         | 17.0M/1.56G [00:00<00:45, 36.1MB/s]\n",
            "  1%|1         | 23.0M/1.56G [00:00<00:38, 43.2MB/s]\n",
            "  2%|2         | 32.0M/1.56G [00:00<00:29, 56.2MB/s]\n",
            "  2%|2         | 39.0M/1.56G [00:01<00:42, 38.9MB/s]\n",
            "  3%|2         | 44.0M/1.56G [00:01<00:40, 40.6MB/s]\n",
            "  3%|3         | 49.0M/1.56G [00:01<00:38, 42.2MB/s]\n",
            "  4%|3         | 57.0M/1.56G [00:01<00:35, 44.9MB/s]\n",
            "  4%|4         | 65.0M/1.56G [00:01<00:38, 42.1MB/s]\n",
            "  5%|4         | 73.0M/1.56G [00:01<00:38, 41.0MB/s]\n",
            "  5%|5         | 81.0M/1.56G [00:02<00:33, 47.7MB/s]\n",
            "  6%|5         | 89.0M/1.56G [00:02<00:32, 48.4MB/s]\n",
            "  6%|6         | 97.0M/1.56G [00:02<00:32, 49.1MB/s]\n",
            "  7%|6         | 105M/1.56G [00:02<00:33, 47.0MB/s] \n",
            "  7%|7         | 113M/1.56G [00:02<00:41, 37.9MB/s]\n",
            "  8%|7         | 121M/1.56G [00:03<00:34, 45.1MB/s]\n",
            "  8%|8         | 128M/1.56G [00:03<00:30, 50.4MB/s]\n",
            "  9%|8         | 137M/1.56G [00:03<00:30, 50.1MB/s]\n",
            "  9%|9         | 145M/1.56G [00:03<00:27, 56.3MB/s]\n",
            " 10%|9         | 153M/1.56G [00:03<00:24, 62.0MB/s]\n",
            " 10%|#         | 161M/1.56G [00:03<00:40, 37.0MB/s]\n",
            " 11%|#         | 169M/1.56G [00:04<00:33, 44.4MB/s]\n",
            " 11%|#1        | 177M/1.56G [00:04<00:28, 51.4MB/s]\n",
            " 12%|#1        | 185M/1.56G [00:04<00:25, 57.5MB/s]\n",
            " 12%|#2        | 193M/1.56G [00:04<00:44, 33.0MB/s]\n",
            " 13%|#2        | 201M/1.56G [00:04<00:36, 39.8MB/s]\n",
            " 13%|#3        | 209M/1.56G [00:05<00:31, 46.8MB/s]\n",
            " 14%|#3        | 216M/1.56G [00:05<00:32, 45.2MB/s]\n",
            " 14%|#3        | 222M/1.56G [00:05<00:31, 45.2MB/s]\n",
            " 14%|#4        | 228M/1.56G [00:05<00:45, 31.9MB/s]\n",
            " 15%|#4        | 236M/1.56G [00:05<00:36, 39.5MB/s]\n",
            " 15%|#5        | 244M/1.56G [00:05<00:30, 47.1MB/s]\n",
            " 16%|#5        | 251M/1.56G [00:05<00:26, 52.3MB/s]\n",
            " 16%|#6        | 258M/1.56G [00:06<00:27, 50.9MB/s]\n",
            " 17%|#6        | 265M/1.56G [00:06<00:26, 53.4MB/s]\n",
            " 17%|#7        | 273M/1.56G [00:06<00:23, 60.0MB/s]\n",
            " 18%|#7        | 281M/1.56G [00:06<00:21, 65.5MB/s]\n",
            " 18%|#8        | 289M/1.56G [00:06<00:25, 54.1MB/s]\n",
            " 19%|#8        | 297M/1.56G [00:06<00:22, 59.5MB/s]\n",
            " 19%|#9        | 305M/1.56G [00:06<00:21, 63.9MB/s]\n",
            " 20%|#9        | 313M/1.56G [00:07<00:30, 44.9MB/s]\n",
            " 20%|##        | 321M/1.56G [00:07<00:33, 39.6MB/s]\n",
            " 21%|##        | 328M/1.56G [00:07<00:29, 45.2MB/s]\n",
            " 21%|##1       | 336M/1.56G [00:07<00:25, 51.7MB/s]\n",
            " 21%|##1       | 342M/1.56G [00:08<00:39, 33.1MB/s]\n",
            " 22%|##1       | 347M/1.56G [00:08<00:40, 32.6MB/s]\n",
            " 22%|##2       | 353M/1.56G [00:08<00:34, 37.6MB/s]\n",
            " 23%|##2       | 361M/1.56G [00:08<00:50, 25.7MB/s]\n",
            " 23%|##3       | 369M/1.56G [00:09<00:38, 33.1MB/s]\n",
            " 24%|##3       | 377M/1.56G [00:09<00:45, 28.2MB/s]\n",
            " 24%|##4       | 384M/1.56G [00:09<00:37, 34.2MB/s]\n",
            " 25%|##4       | 392M/1.56G [00:09<00:30, 42.0MB/s]\n",
            " 25%|##4       | 398M/1.56G [00:09<00:41, 30.1MB/s]\n",
            " 25%|##5       | 406M/1.56G [00:10<00:33, 37.8MB/s]\n",
            " 26%|##5       | 412M/1.56G [00:10<00:40, 30.9MB/s]\n",
            " 26%|##6       | 417M/1.56G [00:10<00:36, 33.6MB/s]\n",
            " 27%|##6       | 425M/1.56G [00:10<00:29, 42.0MB/s]\n",
            " 27%|##7       | 433M/1.56G [00:10<00:33, 35.9MB/s]\n",
            " 28%|##7       | 441M/1.56G [00:11<00:30, 39.6MB/s]\n",
            " 28%|##8       | 449M/1.56G [00:11<00:25, 46.8MB/s]\n",
            " 29%|##8       | 457M/1.56G [00:11<00:27, 43.3MB/s]\n",
            " 29%|##9       | 465M/1.56G [00:11<00:23, 50.8MB/s]\n",
            " 30%|##9       | 473M/1.56G [00:11<00:20, 57.6MB/s]\n",
            " 30%|###       | 481M/1.56G [00:11<00:21, 55.6MB/s]\n",
            " 31%|###       | 489M/1.56G [00:11<00:23, 48.8MB/s]\n",
            " 31%|###1      | 497M/1.56G [00:12<00:20, 55.4MB/s]\n",
            " 32%|###1      | 505M/1.56G [00:12<00:21, 53.7MB/s]\n",
            " 32%|###2      | 513M/1.56G [00:12<00:33, 33.5MB/s]\n",
            " 33%|###2      | 521M/1.56G [00:12<00:27, 40.4MB/s]\n",
            " 33%|###3      | 529M/1.56G [00:12<00:23, 47.5MB/s]\n",
            " 34%|###3      | 537M/1.56G [00:13<00:26, 42.4MB/s]\n",
            " 34%|###4      | 545M/1.56G [00:13<00:28, 38.2MB/s]\n",
            " 35%|###4      | 553M/1.56G [00:13<00:24, 44.9MB/s]\n",
            " 35%|###5      | 561M/1.56G [00:13<00:21, 51.6MB/s]\n",
            " 36%|###5      | 569M/1.56G [00:13<00:18, 57.9MB/s]\n",
            " 36%|###6      | 577M/1.56G [00:13<00:20, 53.3MB/s]\n",
            " 37%|###6      | 586M/1.56G [00:14<00:17, 59.9MB/s]\n",
            " 37%|###7      | 593M/1.56G [00:14<00:19, 54.2MB/s]\n",
            " 38%|###7      | 602M/1.56G [00:14<00:16, 61.8MB/s]\n",
            " 38%|###8      | 609M/1.56G [00:14<00:16, 62.1MB/s]\n",
            " 39%|###8      | 617M/1.56G [00:14<00:15, 66.7MB/s]\n",
            " 39%|###9      | 625M/1.56G [00:14<00:22, 45.5MB/s]\n",
            " 40%|###9      | 633M/1.56G [00:15<00:19, 52.6MB/s]\n",
            " 40%|####      | 642M/1.56G [00:15<00:16, 60.0MB/s]\n",
            " 41%|####      | 650M/1.56G [00:15<00:15, 65.4MB/s]\n",
            " 41%|####1     | 658M/1.56G [00:15<00:14, 69.2MB/s]\n",
            " 42%|####1     | 666M/1.56G [00:15<00:18, 51.8MB/s]\n",
            " 42%|####2     | 673M/1.56G [00:16<00:29, 33.2MB/s]\n",
            " 43%|####2     | 680M/1.56G [00:16<00:24, 39.0MB/s]\n",
            " 43%|####3     | 688M/1.56G [00:16<00:20, 46.6MB/s]\n",
            " 44%|####3     | 696M/1.56G [00:16<00:17, 53.6MB/s]\n",
            " 44%|####4     | 704M/1.56G [00:16<00:15, 60.1MB/s]\n",
            " 45%|####4     | 711M/1.56G [00:16<00:15, 61.4MB/s]\n",
            " 45%|####5     | 719M/1.56G [00:16<00:14, 65.2MB/s]\n",
            " 46%|####5     | 727M/1.56G [00:16<00:13, 69.4MB/s]\n",
            " 46%|####6     | 735M/1.56G [00:16<00:12, 72.7MB/s]\n",
            " 47%|####6     | 743M/1.56G [00:17<00:18, 47.5MB/s]\n",
            " 47%|####7     | 751M/1.56G [00:17<00:16, 54.5MB/s]\n",
            " 48%|####7     | 759M/1.56G [00:17<00:14, 60.3MB/s]\n",
            " 48%|####8     | 767M/1.56G [00:17<00:13, 64.6MB/s]\n",
            " 48%|####8     | 774M/1.56G [00:17<00:17, 50.5MB/s]\n",
            " 49%|####8     | 782M/1.56G [00:17<00:15, 56.5MB/s]\n",
            " 50%|####9     | 791M/1.56G [00:17<00:13, 63.8MB/s]\n",
            " 50%|#####     | 800M/1.56G [00:18<00:12, 68.8MB/s]\n",
            " 51%|#####     | 808M/1.56G [00:18<00:20, 41.0MB/s]\n",
            " 51%|#####1    | 816M/1.56G [00:18<00:17, 47.8MB/s]\n",
            " 52%|#####1    | 824M/1.56G [00:18<00:14, 54.3MB/s]\n",
            " 52%|#####2    | 833M/1.56G [00:18<00:17, 47.0MB/s]\n",
            " 53%|#####2    | 841M/1.56G [00:19<00:14, 53.8MB/s]\n",
            " 53%|#####3    | 849M/1.56G [00:19<00:13, 59.7MB/s]\n",
            " 54%|#####3    | 857M/1.56G [00:19<00:12, 63.9MB/s]\n",
            " 54%|#####4    | 866M/1.56G [00:19<00:10, 70.3MB/s]\n",
            " 55%|#####4    | 874M/1.56G [00:19<00:10, 72.1MB/s]\n",
            " 55%|#####5    | 882M/1.56G [00:19<00:12, 59.6MB/s]\n",
            " 56%|#####5    | 890M/1.56G [00:19<00:11, 63.0MB/s]\n",
            " 56%|#####6    | 899M/1.56G [00:19<00:10, 69.6MB/s]\n",
            " 57%|#####6    | 907M/1.56G [00:20<00:13, 51.7MB/s]\n",
            " 57%|#####7    | 914M/1.56G [00:20<00:12, 56.1MB/s]\n",
            " 58%|#####7    | 923M/1.56G [00:20<00:11, 64.1MB/s]\n",
            " 58%|#####8    | 930M/1.56G [00:20<00:14, 48.6MB/s]\n",
            " 59%|#####8    | 938M/1.56G [00:20<00:12, 54.9MB/s]\n",
            " 59%|#####9    | 946M/1.56G [00:20<00:11, 60.8MB/s]\n",
            " 60%|#####9    | 953M/1.56G [00:21<00:14, 46.9MB/s]\n",
            " 60%|######    | 962M/1.56G [00:21<00:12, 55.3MB/s]\n",
            " 61%|######    | 969M/1.56G [00:21<00:11, 58.3MB/s]\n",
            " 61%|######1   | 977M/1.56G [00:21<00:10, 63.3MB/s]\n",
            " 62%|######1   | 986M/1.56G [00:21<00:09, 69.1MB/s]\n",
            " 62%|######2   | 994M/1.56G [00:21<00:08, 71.5MB/s]\n",
            " 63%|######2   | 0.98G/1.56G [00:21<00:10, 59.6MB/s]\n",
            " 63%|######3   | 0.99G/1.56G [00:21<00:10, 56.4MB/s]\n",
            " 64%|######3   | 0.99G/1.56G [00:22<00:09, 62.0MB/s]\n",
            " 64%|######4   | 1.00G/1.56G [00:22<00:09, 61.3MB/s]\n",
            " 65%|######4   | 1.01G/1.56G [00:22<00:11, 53.3MB/s]\n",
            " 65%|######4   | 1.01G/1.56G [00:22<00:11, 51.9MB/s]\n",
            " 65%|######5   | 1.02G/1.56G [00:22<00:09, 58.7MB/s]\n",
            " 66%|######5   | 1.03G/1.56G [00:22<00:08, 64.2MB/s]\n",
            " 66%|######6   | 1.04G/1.56G [00:22<00:08, 69.0MB/s]\n",
            " 67%|######6   | 1.04G/1.56G [00:23<00:11, 46.8MB/s]\n",
            " 67%|######7   | 1.05G/1.56G [00:23<00:10, 54.1MB/s]\n",
            " 68%|######8   | 1.06G/1.56G [00:23<00:08, 61.6MB/s]\n",
            " 68%|######8   | 1.07G/1.56G [00:23<00:09, 56.1MB/s]\n",
            " 69%|######8   | 1.08G/1.56G [00:23<00:08, 61.4MB/s]\n",
            " 69%|######9   | 1.08G/1.56G [00:23<00:07, 66.2MB/s]\n",
            " 70%|#######   | 1.09G/1.56G [00:23<00:07, 71.4MB/s]\n",
            " 71%|#######   | 1.10G/1.56G [00:23<00:06, 76.0MB/s]\n",
            " 71%|#######1  | 1.11G/1.56G [00:24<00:08, 56.8MB/s]\n",
            " 72%|#######1  | 1.12G/1.56G [00:24<00:07, 62.7MB/s]\n",
            " 72%|#######2  | 1.12G/1.56G [00:24<00:07, 66.7MB/s]\n",
            " 73%|#######2  | 1.13G/1.56G [00:24<00:06, 71.9MB/s]\n",
            " 73%|#######3  | 1.14G/1.56G [00:24<00:06, 70.8MB/s]\n",
            " 74%|#######3  | 1.15G/1.56G [00:24<00:05, 73.8MB/s]\n",
            " 74%|#######4  | 1.16G/1.56G [00:24<00:05, 77.0MB/s]\n",
            " 75%|#######4  | 1.17G/1.56G [00:24<00:05, 78.7MB/s]\n",
            " 75%|#######5  | 1.17G/1.56G [00:25<00:05, 79.2MB/s]\n",
            " 76%|#######5  | 1.18G/1.56G [00:25<00:05, 79.8MB/s]\n",
            " 76%|#######6  | 1.19G/1.56G [00:25<00:07, 55.6MB/s]\n",
            " 77%|#######6  | 1.20G/1.56G [00:25<00:06, 60.8MB/s]\n",
            " 77%|#######7  | 1.20G/1.56G [00:25<00:07, 50.6MB/s]\n",
            " 78%|#######7  | 1.21G/1.56G [00:26<00:12, 30.4MB/s]\n",
            " 78%|#######8  | 1.22G/1.56G [00:26<00:10, 36.3MB/s]\n",
            " 79%|#######8  | 1.23G/1.56G [00:26<00:08, 43.9MB/s]\n",
            " 79%|#######9  | 1.23G/1.56G [00:26<00:06, 50.9MB/s]\n",
            " 80%|#######9  | 1.24G/1.56G [00:26<00:08, 40.6MB/s]\n",
            " 80%|########  | 1.25G/1.56G [00:26<00:06, 47.7MB/s]\n",
            " 81%|########  | 1.26G/1.56G [00:27<00:05, 56.1MB/s]\n",
            " 81%|########1 | 1.27G/1.56G [00:27<00:05, 62.2MB/s]\n",
            " 82%|########1 | 1.27G/1.56G [00:27<00:05, 55.7MB/s]\n",
            " 82%|########2 | 1.28G/1.56G [00:27<00:04, 61.8MB/s]\n",
            " 83%|########2 | 1.29G/1.56G [00:27<00:05, 55.0MB/s]\n",
            " 83%|########2 | 1.29G/1.56G [00:27<00:06, 45.1MB/s]\n",
            " 83%|########3 | 1.30G/1.56G [00:27<00:06, 41.4MB/s]\n",
            " 84%|########3 | 1.31G/1.56G [00:28<00:05, 49.5MB/s]\n",
            " 84%|########4 | 1.31G/1.56G [00:28<00:06, 43.4MB/s]\n",
            " 85%|########4 | 1.32G/1.56G [00:28<00:05, 50.7MB/s]\n",
            " 85%|########5 | 1.33G/1.56G [00:28<00:04, 53.6MB/s]\n",
            " 86%|########5 | 1.34G/1.56G [00:29<00:09, 26.2MB/s]\n",
            " 86%|########6 | 1.35G/1.56G [00:29<00:06, 34.0MB/s]\n",
            " 87%|########6 | 1.35G/1.56G [00:29<00:05, 41.2MB/s]\n",
            " 87%|########7 | 1.36G/1.56G [00:29<00:04, 42.8MB/s]\n",
            " 88%|########7 | 1.37G/1.56G [00:29<00:05, 37.0MB/s]\n",
            " 88%|########8 | 1.38G/1.56G [00:29<00:04, 44.1MB/s]\n",
            " 89%|########8 | 1.38G/1.56G [00:30<00:03, 50.1MB/s]\n",
            " 89%|########9 | 1.39G/1.56G [00:30<00:05, 34.4MB/s]\n",
            " 90%|########9 | 1.40G/1.56G [00:30<00:04, 42.7MB/s]\n",
            " 90%|######### | 1.41G/1.56G [00:30<00:03, 49.4MB/s]\n",
            " 91%|######### | 1.42G/1.56G [00:30<00:02, 54.9MB/s]\n",
            " 91%|#########1| 1.42G/1.56G [00:30<00:02, 60.2MB/s]\n",
            " 92%|#########1| 1.43G/1.56G [00:31<00:02, 65.5MB/s]\n",
            " 92%|#########2| 1.44G/1.56G [00:31<00:01, 69.1MB/s]\n",
            " 93%|#########2| 1.45G/1.56G [00:31<00:02, 60.0MB/s]\n",
            " 93%|#########3| 1.46G/1.56G [00:31<00:01, 64.1MB/s]\n",
            " 94%|#########3| 1.46G/1.56G [00:31<00:01, 69.4MB/s]\n",
            " 94%|#########4| 1.47G/1.56G [00:31<00:01, 71.8MB/s]\n",
            " 95%|#########4| 1.48G/1.56G [00:31<00:01, 53.5MB/s]\n",
            " 95%|#########5| 1.49G/1.56G [00:32<00:01, 60.4MB/s]\n",
            " 96%|#########5| 1.50G/1.56G [00:32<00:01, 65.4MB/s]\n",
            " 96%|#########6| 1.50G/1.56G [00:32<00:00, 69.4MB/s]\n",
            " 97%|#########6| 1.51G/1.56G [00:32<00:01, 48.0MB/s]\n",
            " 97%|#########7| 1.52G/1.56G [00:32<00:00, 49.3MB/s]\n",
            " 98%|#########7| 1.53G/1.56G [00:32<00:00, 52.8MB/s]\n",
            " 98%|#########8| 1.53G/1.56G [00:32<00:00, 46.3MB/s]\n",
            " 99%|#########8| 1.54G/1.56G [00:33<00:00, 51.8MB/s]\n",
            " 99%|#########9| 1.54G/1.56G [00:33<00:00, 56.5MB/s]\n",
            "100%|#########9| 1.55G/1.56G [00:33<00:00, 62.2MB/s]\n",
            "100%|##########| 1.56G/1.56G [00:33<00:00, 50.1MB/s]\n"
          ]
        }
      ]
    },
    {
      "cell_type": "code",
      "metadata": {
        "id": "97510f0c"
      },
      "source": [
        "import pandas as pd\n",
        "import numpy as np\n",
        "import matplotlib\n",
        "import matplotlib.pyplot as plt\n",
        "from matplotlib import style\n",
        "import seaborn as sns\n",
        "\n",
        "import plotly.express as px\n",
        "import plotly.graph_objects as go\n",
        "from scipy.stats import norm, skew\n",
        "\n",
        "import os\n",
        "from PIL import Image\n",
        "\n",
        "style.use('seaborn-talk')\n",
        "\n",
        "krfont={'family':'Malgun Gothic', 'weight': 'bold', 'size' : 10}\n",
        "matplotlib.rc('font', **krfont)\n",
        "matplotlib.rcParams['axes.unicode_minus'] = False\n",
        "\n",
        "%matplotlib inline\n"
      ],
      "id": "97510f0c",
      "execution_count": null,
      "outputs": []
    },
    {
      "cell_type": "markdown",
      "metadata": {
        "id": "ea979e4d"
      },
      "source": [
        "# 데이터 read\n",
        "- 5GB짜리 train데이터를 한번에 읽을수가 없다.\n",
        "- 이때 어떻게 해야하나?\n",
        "- 계통추출을 통해 데이터를 불러오기도 함.\n",
        "- chuck로 읽는 갯수를 나눠서 합치는 방법으로 함여기서는\n",
        "\n",
        "- 이거 데이터처리가 너무 느려서\n",
        "- 일단 실습자체는 데이터 갯수 줄여서\n",
        "- 추후 빅데이터 read 하둡,스파크 공부해서 해봐야할듯"
      ],
      "id": "ea979e4d"
    },
    {
      "cell_type": "code",
      "metadata": {
        "id": "a7fa1217"
      },
      "source": [
        "def skip_logic(index, skip_num):\n",
        "    if index % skip_num == 0:\n",
        "        return False\n",
        "    return True"
      ],
      "id": "a7fa1217",
      "execution_count": null,
      "outputs": []
    },
    {
      "cell_type": "code",
      "metadata": {
        "id": "dfe6b6c6"
      },
      "source": [
        "import pandas as pd \n",
        "import dask.dataframe as dd\n",
        "import os\n",
        "from tqdm import tqdm\n",
        "\n",
        "TRAIN_PATH = 'new-york-city-taxi-fare-prediction/train.csv'"
      ],
      "id": "dfe6b6c6",
      "execution_count": null,
      "outputs": []
    },
    {
      "cell_type": "code",
      "metadata": {
        "id": "7c8cca5a",
        "outputId": "7c662858-dacd-4bcc-de81-f83c090fd37a"
      },
      "source": [
        "%%time\n",
        "# Assume we only know that the csv file is somehow large, but not the exact size\n",
        "# we want to know the exact number of rows\n",
        "\n",
        "# Method 1, using file.readlines. Takes about 20 seconds.\n",
        "with open(TRAIN_PATH) as file:\n",
        "    n_rows = len(file.readlines())\n",
        "\n",
        "print (f'Exact number of rows: {n_rows}')"
      ],
      "id": "7c8cca5a",
      "execution_count": null,
      "outputs": [
        {
          "name": "stdout",
          "output_type": "stream",
          "text": [
            "Exact number of rows: 55423857\n",
            "Wall time: 43.2 s\n"
          ]
        }
      ]
    },
    {
      "cell_type": "code",
      "metadata": {
        "id": "dbb35834"
      },
      "source": [
        "# # Set columns to most suitable type to optimize for memory usage\n",
        "# traintypes = {'fare_amount': 'float32',\n",
        "#               'pickup_datetime': 'str', \n",
        "#               'pickup_longitude': 'float32',\n",
        "#               'pickup_latitude': 'float32',\n",
        "#               'dropoff_longitude': 'float32',\n",
        "#               'dropoff_latitude': 'float32',\n",
        "#               'passenger_count': 'uint8'}\n",
        "\n",
        "# cols = list(traintypes.keys())\n",
        "\n",
        "# chunksize = 5_000_000 # 5 million rows at one go. Or try 10 million\n",
        "\n",
        "# %%time\n",
        "# df_list = [] # list to hold the batch dataframe\n",
        "\n",
        "# for df_chunk in tqdm(pd.read_csv(TRAIN_PATH, usecols=cols, dtype=traintypes, chunksize=chunksize)):\n",
        "     \n",
        "#     # Neat trick from https://www.kaggle.com/btyuhas/bayesian-optimization-with-xgboost\n",
        "#     # Using parse_dates would be much slower!\n",
        "#     df_chunk['pickup_datetime'] = df_chunk['pickup_datetime'].str.slice(0, 16)\n",
        "#     df_chunk['pickup_datetime'] = pd.to_datetime(df_chunk['pickup_datetime'], utc=True, format='%Y-%m-%d %H:%M')\n",
        "    \n",
        "#     # Can process each chunk of dataframe here\n",
        "#     # clean_data(), feature_engineer(),fit()\n",
        "    \n",
        "#     # Alternatively, append the chunk to list and merge all\n",
        "#     df_list.append(df_chunk) \n",
        "\n",
        "# # Merge all dataframes into one dataframe\n",
        "# train_df = pd.concat(df_list)\n",
        "\n",
        "# # Delete the dataframe list to release memory\n",
        "# del df_list\n",
        "\n",
        "# # See what we have loaded\n",
        "# train_df.info()"
      ],
      "id": "dbb35834",
      "execution_count": null,
      "outputs": []
    },
    {
      "cell_type": "code",
      "metadata": {
        "id": "74e3f150"
      },
      "source": [
        "def skip_logic(index, skip_num):\n",
        "    if index % skip_num == 0:\n",
        "        return False\n",
        "    return True"
      ],
      "id": "74e3f150",
      "execution_count": null,
      "outputs": []
    },
    {
      "cell_type": "code",
      "metadata": {
        "id": "67ad0ef2",
        "outputId": "6d3a1cfa-eff7-4226-df2b-aa193f24e934"
      },
      "source": [
        "train = pd.read_csv('new-york-city-taxi-fare-prediction/train.csv', skiprows=lambda x: skip_logic(x, 4), parse_dates=['pickup_datetime'])\n",
        "test = pd.read_csv('new-york-city-taxi-fare-prediction/test.csv')\n",
        "submission=pd.read_csv('new-york-city-taxi-fare-prediction/sample_submission.csv')\n",
        "\n",
        "train.shape, test.shape, submission.shape"
      ],
      "id": "67ad0ef2",
      "execution_count": null,
      "outputs": [
        {
          "data": {
            "text/plain": [
              "((13855964, 8), (9914, 7), (9914, 2))"
            ]
          },
          "execution_count": 72,
          "metadata": {},
          "output_type": "execute_result"
        }
      ]
    },
    {
      "cell_type": "code",
      "metadata": {
        "id": "cca6a402",
        "outputId": "b146329f-eb47-4d8a-c00d-ba9b9f720e6c"
      },
      "source": [
        "train.info()"
      ],
      "id": "cca6a402",
      "execution_count": null,
      "outputs": [
        {
          "name": "stdout",
          "output_type": "stream",
          "text": [
            "<class 'pandas.core.frame.DataFrame'>\n",
            "RangeIndex: 13855964 entries, 0 to 13855963\n",
            "Data columns (total 8 columns):\n",
            " #   Column             Dtype              \n",
            "---  ------             -----              \n",
            " 0   key                object             \n",
            " 1   fare_amount        float64            \n",
            " 2   pickup_datetime    datetime64[ns, UTC]\n",
            " 3   pickup_longitude   float64            \n",
            " 4   pickup_latitude    float64            \n",
            " 5   dropoff_longitude  float64            \n",
            " 6   dropoff_latitude   float64            \n",
            " 7   passenger_count    int64              \n",
            "dtypes: datetime64[ns, UTC](1), float64(5), int64(1), object(1)\n",
            "memory usage: 845.7+ MB\n"
          ]
        }
      ]
    },
    {
      "cell_type": "code",
      "metadata": {
        "id": "542fc844",
        "outputId": "e7e846a1-2d55-474d-fa97-2680cfe77f47"
      },
      "source": [
        "test.info()"
      ],
      "id": "542fc844",
      "execution_count": null,
      "outputs": [
        {
          "name": "stdout",
          "output_type": "stream",
          "text": [
            "<class 'pandas.core.frame.DataFrame'>\n",
            "RangeIndex: 9914 entries, 0 to 9913\n",
            "Data columns (total 7 columns):\n",
            " #   Column             Non-Null Count  Dtype  \n",
            "---  ------             --------------  -----  \n",
            " 0   key                9914 non-null   object \n",
            " 1   pickup_datetime    9914 non-null   object \n",
            " 2   pickup_longitude   9914 non-null   float64\n",
            " 3   pickup_latitude    9914 non-null   float64\n",
            " 4   dropoff_longitude  9914 non-null   float64\n",
            " 5   dropoff_latitude   9914 non-null   float64\n",
            " 6   passenger_count    9914 non-null   int64  \n",
            "dtypes: float64(4), int64(1), object(2)\n",
            "memory usage: 542.3+ KB\n"
          ]
        }
      ]
    },
    {
      "cell_type": "code",
      "metadata": {
        "id": "b4caa05a",
        "outputId": "6821c5c4-4c28-435d-c68c-f2bc4ecac53d"
      },
      "source": [
        "train['fare_amount'].describe()"
      ],
      "id": "b4caa05a",
      "execution_count": null,
      "outputs": [
        {
          "data": {
            "text/plain": [
              "count    1.385596e+07\n",
              "mean     1.134635e+01\n",
              "std      2.717693e+01\n",
              "min     -3.000000e+02\n",
              "25%      6.000000e+00\n",
              "50%      8.500000e+00\n",
              "75%      1.250000e+01\n",
              "max      9.396336e+04\n",
              "Name: fare_amount, dtype: float64"
            ]
          },
          "execution_count": 75,
          "metadata": {},
          "output_type": "execute_result"
        }
      ]
    },
    {
      "cell_type": "markdown",
      "metadata": {
        "id": "0af6fa04"
      },
      "source": [
        "- 가격인데 최소값에 음수값이? \n",
        "- 이해하기 어려운 데이터로 판단하여 삭제"
      ],
      "id": "0af6fa04"
    },
    {
      "cell_type": "code",
      "metadata": {
        "id": "956172c4",
        "outputId": "40788134-6141-49f8-b9a4-2da2610460ad"
      },
      "source": [
        "sum(train['fare_amount']<0)\n",
        "#음수의 갯수"
      ],
      "id": "956172c4",
      "execution_count": null,
      "outputs": [
        {
          "data": {
            "text/plain": [
              "610"
            ]
          },
          "execution_count": 77,
          "metadata": {},
          "output_type": "execute_result"
        }
      ]
    },
    {
      "cell_type": "code",
      "metadata": {
        "id": "7e2ce4bf",
        "outputId": "f420cfe8-9674-4b84-8eca-c1ff736e74a7"
      },
      "source": [
        "from collections import Counter\n",
        "Counter(train['fare_amount']<0)"
      ],
      "id": "7e2ce4bf",
      "execution_count": null,
      "outputs": [
        {
          "data": {
            "text/plain": [
              "Counter({False: 13855354, True: 610})"
            ]
          },
          "execution_count": 78,
          "metadata": {},
          "output_type": "execute_result"
        }
      ]
    },
    {
      "cell_type": "code",
      "metadata": {
        "id": "251c583c",
        "outputId": "b6056d24-1b6b-43f1-cfb5-f9b1173c3b26"
      },
      "source": [
        "# 음수 삭제\n",
        "train = train.drop(train[train['fare_amount']<0].index, axis=0).reset_index(drop=True)\n",
        "Counter(train['fare_amount']<0)"
      ],
      "id": "251c583c",
      "execution_count": null,
      "outputs": [
        {
          "data": {
            "text/plain": [
              "Counter({False: 13855354})"
            ]
          },
          "execution_count": 79,
          "metadata": {},
          "output_type": "execute_result"
        }
      ]
    },
    {
      "cell_type": "code",
      "metadata": {
        "id": "7dd1605f",
        "outputId": "16f46b3f-3524-433d-8cae-bdbfd3d14c98"
      },
      "source": [
        "# 이상치 제거\n",
        "Counter(train['fare_amount']>500)"
      ],
      "id": "7dd1605f",
      "execution_count": null,
      "outputs": [
        {
          "data": {
            "text/plain": [
              "Counter({False: 13855348, True: 6})"
            ]
          },
          "execution_count": 81,
          "metadata": {},
          "output_type": "execute_result"
        }
      ]
    },
    {
      "cell_type": "markdown",
      "metadata": {
        "id": "0d463ced"
      },
      "source": [
        "- 500달러 이상 데이터가 6개인데 극단적인 데이터라 판단 삭제"
      ],
      "id": "0d463ced"
    },
    {
      "cell_type": "code",
      "metadata": {
        "id": "12558d2f",
        "outputId": "b0f9f5e2-48fc-4fe6-fb91-677558156521"
      },
      "source": [
        "train[train['fare_amount']>500]"
      ],
      "id": "12558d2f",
      "execution_count": null,
      "outputs": [
        {
          "data": {
            "text/html": [
              "<div>\n",
              "<style scoped>\n",
              "    .dataframe tbody tr th:only-of-type {\n",
              "        vertical-align: middle;\n",
              "    }\n",
              "\n",
              "    .dataframe tbody tr th {\n",
              "        vertical-align: top;\n",
              "    }\n",
              "\n",
              "    .dataframe thead th {\n",
              "        text-align: right;\n",
              "    }\n",
              "</style>\n",
              "<table border=\"1\" class=\"dataframe\">\n",
              "  <thead>\n",
              "    <tr style=\"text-align: right;\">\n",
              "      <th></th>\n",
              "      <th>key</th>\n",
              "      <th>fare_amount</th>\n",
              "      <th>pickup_datetime</th>\n",
              "      <th>pickup_longitude</th>\n",
              "      <th>pickup_latitude</th>\n",
              "      <th>dropoff_longitude</th>\n",
              "      <th>dropoff_latitude</th>\n",
              "      <th>passenger_count</th>\n",
              "    </tr>\n",
              "  </thead>\n",
              "  <tbody>\n",
              "    <tr>\n",
              "      <th>930910</th>\n",
              "      <td>2015-03-10 09:48:00.0000002</td>\n",
              "      <td>698.16</td>\n",
              "      <td>2015-03-10 09:48:00+00:00</td>\n",
              "      <td>0.000000</td>\n",
              "      <td>0.000000</td>\n",
              "      <td>0.000000</td>\n",
              "      <td>0.000000</td>\n",
              "      <td>1</td>\n",
              "    </tr>\n",
              "    <tr>\n",
              "      <th>6166733</th>\n",
              "      <td>2015-02-09 15:09:11.0000007</td>\n",
              "      <td>900.00</td>\n",
              "      <td>2015-02-09 15:09:11+00:00</td>\n",
              "      <td>-73.921494</td>\n",
              "      <td>40.775574</td>\n",
              "      <td>-73.921494</td>\n",
              "      <td>40.775574</td>\n",
              "      <td>1</td>\n",
              "    </tr>\n",
              "    <tr>\n",
              "      <th>7170601</th>\n",
              "      <td>2015-01-12 01:41:43.0000001</td>\n",
              "      <td>978.00</td>\n",
              "      <td>2015-01-12 01:41:43+00:00</td>\n",
              "      <td>-73.591759</td>\n",
              "      <td>40.685711</td>\n",
              "      <td>-73.591759</td>\n",
              "      <td>40.685711</td>\n",
              "      <td>4</td>\n",
              "    </tr>\n",
              "    <tr>\n",
              "      <th>9843190</th>\n",
              "      <td>2010-02-19 17:10:00.000000117</td>\n",
              "      <td>9000.41</td>\n",
              "      <td>2010-02-19 17:10:00+00:00</td>\n",
              "      <td>-73.993745</td>\n",
              "      <td>40.746105</td>\n",
              "      <td>-73.989807</td>\n",
              "      <td>40.738977</td>\n",
              "      <td>1</td>\n",
              "    </tr>\n",
              "    <tr>\n",
              "      <th>10257612</th>\n",
              "      <td>2015-02-24 08:57:37.0000004</td>\n",
              "      <td>93963.36</td>\n",
              "      <td>2015-02-24 08:57:37+00:00</td>\n",
              "      <td>-73.994461</td>\n",
              "      <td>40.712353</td>\n",
              "      <td>-74.012543</td>\n",
              "      <td>40.702904</td>\n",
              "      <td>2</td>\n",
              "    </tr>\n",
              "    <tr>\n",
              "      <th>12578625</th>\n",
              "      <td>2015-02-18 16:35:00.0000002</td>\n",
              "      <td>658.89</td>\n",
              "      <td>2015-02-18 16:35:00+00:00</td>\n",
              "      <td>0.000000</td>\n",
              "      <td>0.000000</td>\n",
              "      <td>0.000000</td>\n",
              "      <td>0.000000</td>\n",
              "      <td>1</td>\n",
              "    </tr>\n",
              "  </tbody>\n",
              "</table>\n",
              "</div>"
            ],
            "text/plain": [
              "                                    key  fare_amount  \\\n",
              "930910      2015-03-10 09:48:00.0000002       698.16   \n",
              "6166733     2015-02-09 15:09:11.0000007       900.00   \n",
              "7170601     2015-01-12 01:41:43.0000001       978.00   \n",
              "9843190   2010-02-19 17:10:00.000000117      9000.41   \n",
              "10257612    2015-02-24 08:57:37.0000004     93963.36   \n",
              "12578625    2015-02-18 16:35:00.0000002       658.89   \n",
              "\n",
              "                   pickup_datetime  pickup_longitude  pickup_latitude  \\\n",
              "930910   2015-03-10 09:48:00+00:00          0.000000         0.000000   \n",
              "6166733  2015-02-09 15:09:11+00:00        -73.921494        40.775574   \n",
              "7170601  2015-01-12 01:41:43+00:00        -73.591759        40.685711   \n",
              "9843190  2010-02-19 17:10:00+00:00        -73.993745        40.746105   \n",
              "10257612 2015-02-24 08:57:37+00:00        -73.994461        40.712353   \n",
              "12578625 2015-02-18 16:35:00+00:00          0.000000         0.000000   \n",
              "\n",
              "          dropoff_longitude  dropoff_latitude  passenger_count  \n",
              "930910             0.000000          0.000000                1  \n",
              "6166733          -73.921494         40.775574                1  \n",
              "7170601          -73.591759         40.685711                4  \n",
              "9843190          -73.989807         40.738977                1  \n",
              "10257612         -74.012543         40.702904                2  \n",
              "12578625           0.000000          0.000000                1  "
            ]
          },
          "execution_count": 82,
          "metadata": {},
          "output_type": "execute_result"
        }
      ]
    },
    {
      "cell_type": "code",
      "metadata": {
        "id": "c3f88f98",
        "outputId": "65f66dfa-4f9d-4425-f49a-3a9db06f5f68"
      },
      "source": [
        "train = train.drop(train[train['fare_amount']>500].index, axis=0).reset_index(drop=True)\n",
        "train['fare_amount'].describe()"
      ],
      "id": "c3f88f98",
      "execution_count": null,
      "outputs": [
        {
          "data": {
            "text/plain": [
              "count    1.385535e+07\n",
              "mean     1.133964e+01\n",
              "std      9.771327e+00\n",
              "min      0.000000e+00\n",
              "25%      6.000000e+00\n",
              "50%      8.500000e+00\n",
              "75%      1.250000e+01\n",
              "max      5.000000e+02\n",
              "Name: fare_amount, dtype: float64"
            ]
          },
          "execution_count": 83,
          "metadata": {},
          "output_type": "execute_result"
        }
      ]
    },
    {
      "cell_type": "markdown",
      "metadata": {
        "id": "e13d8e5d"
      },
      "source": [
        "### 데이터의 갯수가 너무많다.\n",
        "- 시각화에서 1000만개의 데이터를 모두 보여주기엔 데이터의 크기가 너무 큼\n",
        "- 표본을 추출해서 시각화를 해야함"
      ],
      "id": "e13d8e5d"
    },
    {
      "cell_type": "markdown",
      "metadata": {
        "id": "01c19ef7"
      },
      "source": [
        "- Passenger_Count를 그룹으로 하는것이 좋아보인다고 함\n",
        "- 여기서도 이상치 확인"
      ],
      "id": "01c19ef7"
    },
    {
      "cell_type": "code",
      "metadata": {
        "id": "f6880a65",
        "outputId": "81a08eed-bdf5-4ee6-ea9c-01ce133cc95b"
      },
      "source": [
        "train['passenger_count'].unique()"
      ],
      "id": "f6880a65",
      "execution_count": null,
      "outputs": [
        {
          "data": {
            "text/plain": [
              "array([  1,   3,   6,   2,   5,   4,   0, 208, 129,  51,   8,   9],\n",
              "      dtype=int64)"
            ]
          },
          "execution_count": 84,
          "metadata": {},
          "output_type": "execute_result"
        }
      ]
    },
    {
      "cell_type": "markdown",
      "metadata": {
        "id": "afec4e22"
      },
      "source": [
        "- 택시인데 0명, 208, 129, 51, 8, 9 명의 승객은 있을 없다고 판단 삭제\n",
        "- 먼저 6명이상 제거"
      ],
      "id": "afec4e22"
    },
    {
      "cell_type": "code",
      "metadata": {
        "id": "4d1597a1",
        "outputId": "53b9e8fa-6428-4082-9807-8a9ddbf32a9f"
      },
      "source": [
        "# 6이상 삭제\n",
        "train = train.drop(train[train['passenger_count']>6].index, axis=0).reset_index(drop=True)\n",
        "train['passenger_count'].unique()"
      ],
      "id": "4d1597a1",
      "execution_count": null,
      "outputs": [
        {
          "data": {
            "text/plain": [
              "array([1, 3, 6, 2, 5, 4, 0], dtype=int64)"
            ]
          },
          "execution_count": 85,
          "metadata": {},
          "output_type": "execute_result"
        }
      ]
    },
    {
      "cell_type": "code",
      "metadata": {
        "id": "4263cc0d",
        "outputId": "660d835f-bf58-4d67-d210-314aed3918a9"
      },
      "source": [
        "# 0삭제\n",
        "train = train.drop(train[train['passenger_count']==0].index, axis=0).reset_index(drop=True)\n",
        "train['passenger_count'].unique()"
      ],
      "id": "4263cc0d",
      "execution_count": null,
      "outputs": [
        {
          "data": {
            "text/plain": [
              "array([1, 3, 6, 2, 5, 4], dtype=int64)"
            ]
          },
          "execution_count": 86,
          "metadata": {},
          "output_type": "execute_result"
        }
      ]
    },
    {
      "cell_type": "markdown",
      "metadata": {
        "id": "3f7dcb67"
      },
      "source": [
        "- 이상치를 모두 제거한 Passenger_Counte의 비율을 확인"
      ],
      "id": "3f7dcb67"
    },
    {
      "cell_type": "code",
      "metadata": {
        "id": "2f6c6064",
        "outputId": "aebc5a01-f248-4a0f-b245-8a194fe5fb7b"
      },
      "source": [
        "train['passenger_count'].value_counts(normalize=True)"
      ],
      "id": "2f6c6064",
      "execution_count": null,
      "outputs": [
        {
          "data": {
            "text/plain": [
              "1    0.693959\n",
              "2    0.148144\n",
              "5    0.071225\n",
              "3    0.044029\n",
              "4    0.021383\n",
              "6    0.021260\n",
              "Name: passenger_count, dtype: float64"
            ]
          },
          "execution_count": 87,
          "metadata": {},
          "output_type": "execute_result"
        }
      ]
    },
    {
      "cell_type": "markdown",
      "metadata": {
        "id": "69ccde80"
      },
      "source": [
        "## 층화 표본 추출\n",
        "- Sklearn의 StratifiedShuffleSplit모듈로 층화 추출할 수 ㅇ맀음"
      ],
      "id": "69ccde80"
    },
    {
      "cell_type": "code",
      "metadata": {
        "id": "338000e3"
      },
      "source": [
        "from sklearn.model_selection import StratifiedShuffleSplit"
      ],
      "id": "338000e3",
      "execution_count": null,
      "outputs": []
    },
    {
      "cell_type": "code",
      "metadata": {
        "id": "b799861c",
        "outputId": "83a32189-7261-44c2-f47f-04fcfd1f957f"
      },
      "source": [
        "split = StratifiedShuffleSplit(n_splits=1, test_size=0.001, random_state=42)\n",
        "\n",
        "for large_index, sample_index in split.split(train, train['passenger_count']):\n",
        "    large_df = train.loc[large_index]\n",
        "    sample_df = train.loc[sample_index]\n",
        "    \n",
        "print(train['passenger_count'].value_counts(normalize=True), train.shape)\n",
        "print('='*50)\n",
        "print(sample_df['passenger_count'].value_counts(normalize=True), sample_df.shape)\n",
        "\n"
      ],
      "id": "b799861c",
      "execution_count": null,
      "outputs": [
        {
          "name": "stdout",
          "output_type": "stream",
          "text": [
            "1    0.693959\n",
            "2    0.148144\n",
            "5    0.071225\n",
            "3    0.044029\n",
            "4    0.021383\n",
            "6    0.021260\n",
            "Name: passenger_count, dtype: float64 (13806160, 8)\n",
            "==================================================\n",
            "1    0.693996\n",
            "2    0.148113\n",
            "5    0.071196\n",
            "3    0.044036\n",
            "4    0.021366\n",
            "6    0.021294\n",
            "Name: passenger_count, dtype: float64 (13807, 8)\n"
          ]
        }
      ]
    },
    {
      "cell_type": "markdown",
      "metadata": {
        "id": "d0e1b7c2"
      },
      "source": [
        "- 크기는 0.1로 줄었지만 비율은 그대로인것을 확인할 수 있었다.\n",
        "- 이제 시각화를 진행해보자"
      ],
      "id": "d0e1b7c2"
    },
    {
      "cell_type": "code",
      "metadata": {
        "id": "5e7b2965",
        "outputId": "64623888-a326-4ac3-d45d-96ccd6bca953"
      },
      "source": [
        "plt.hist(sample_df['fare_amount'])"
      ],
      "id": "5e7b2965",
      "execution_count": null,
      "outputs": [
        {
          "data": {
            "text/plain": [
              "(array([1.2256e+04, 1.1460e+03, 3.6100e+02, 3.2000e+01, 6.0000e+00,\n",
              "        4.0000e+00, 0.0000e+00, 0.0000e+00, 1.0000e+00, 1.0000e+00]),\n",
              " array([  0.   ,  19.533,  39.066,  58.599,  78.132,  97.665, 117.198,\n",
              "        136.731, 156.264, 175.797, 195.33 ]),\n",
              " <BarContainer object of 10 artists>)"
            ]
          },
          "execution_count": 95,
          "metadata": {},
          "output_type": "execute_result"
        },
        {
          "data": {
            "image/png": "[encoded data removed]",
            "text/plain": [
              "<Figure size 432x288 with 1 Axes>"
            ]
          },
          "metadata": {
            "needs_background": "light"
          },
          "output_type": "display_data"
        }
      ]
    },
    {
      "cell_type": "markdown",
      "metadata": {
        "id": "87bffe4d"
      },
      "source": [
        "- 전형적인 치우친 왜도의 그래프\n",
        "- 0~25달러구간이 압도적으로 많다.\n",
        "- 이러한 데이터는 로그를 취해 정규분포형태로 변환 해줘야함"
      ],
      "id": "87bffe4d"
    },
    {
      "cell_type": "code",
      "metadata": {
        "id": "4bfe0d5b"
      },
      "source": [
        ""
      ],
      "id": "4bfe0d5b",
      "execution_count": null,
      "outputs": []
    },
    {
      "cell_type": "code",
      "metadata": {
        "id": "0e858635",
        "outputId": "14ac6466-1750-4ffe-ad90-0753f531d17d"
      },
      "source": [
        "# 위도경도의 정상범위 위도(-90~90), 경도(-180~180)의 범위에서 벗어난 데이터 (이상치) 탐색\n",
        "Counter(train['pickup_latitude']<-90), Counter(train['pickup_latitude']>90)"
      ],
      "id": "0e858635",
      "execution_count": null,
      "outputs": [
        {
          "data": {
            "text/plain": [
              "(Counter({False: 13806091, True: 69}), Counter({False: 13805984, True: 176}))"
            ]
          },
          "execution_count": 97,
          "metadata": {},
          "output_type": "execute_result"
        }
      ]
    },
    {
      "cell_type": "code",
      "metadata": {
        "id": "dbb4ada8",
        "outputId": "ae301f3e-57f4-435e-e0d4-aec69866a292"
      },
      "source": [
        "Counter(train['pickup_longitude']<-180), Counter(train['pickup_longitude']>180)"
      ],
      "id": "dbb4ada8",
      "execution_count": null,
      "outputs": [
        {
          "data": {
            "text/plain": [
              "(Counter({False: 13805913, True: 247}), Counter({False: 13806104, True: 56}))"
            ]
          },
          "execution_count": 98,
          "metadata": {},
          "output_type": "execute_result"
        }
      ]
    },
    {
      "cell_type": "markdown",
      "metadata": {
        "id": "4fdfa83b"
      },
      "source": [
        "- 정상적인 위도 경도 범위에서 벗어나는 데이터가 존재\n",
        "- 해당 데이터는 삭제하도록"
      ],
      "id": "4fdfa83b"
    },
    {
      "cell_type": "code",
      "metadata": {
        "id": "038caa50",
        "outputId": "ab2221ea-b969-497b-8a80-7acaf4b3011c"
      },
      "source": [
        "train = train.drop(train[train['pickup_latitude']<-90].index, axis=0).reset_index(drop=True)\n",
        "train = train.drop(train[train['pickup_latitude']>90].index, axis=0).reset_index(drop=True)\n",
        "Counter(train['pickup_latitude']>90)"
      ],
      "id": "038caa50",
      "execution_count": null,
      "outputs": [
        {
          "data": {
            "text/plain": [
              "Counter({False: 13805915})"
            ]
          },
          "execution_count": 99,
          "metadata": {},
          "output_type": "execute_result"
        }
      ]
    },
    {
      "cell_type": "code",
      "metadata": {
        "id": "8d69252b",
        "outputId": "20461da4-5eab-4499-c748-366a87380bf0"
      },
      "source": [
        "train = train.drop(train[train['dropoff_latitude']<-90].index, axis=0).reset_index(drop=True)\n",
        "train = train.drop(train[train['dropoff_latitude']>90].index, axis=0).reset_index(drop=True)\n",
        "train = train.drop(train[train['pickup_longitude']<-180].index, axis=0).reset_index(drop=True)\n",
        "train = train.drop(train[train['pickup_longitude']>180].index, axis=0).reset_index(drop=True)\n",
        "train = train.drop(train[train['dropoff_longitude']<-180].index, axis=0).reset_index(drop=True)\n",
        "train = train.drop(train[train['dropoff_longitude']>180].index, axis=0).reset_index(drop=True)\n",
        "\n",
        "train.shape"
      ],
      "id": "8d69252b",
      "execution_count": null,
      "outputs": [
        {
          "data": {
            "text/plain": [
              "(13805499, 8)"
            ]
          },
          "execution_count": 100,
          "metadata": {},
          "output_type": "execute_result"
        }
      ]
    },
    {
      "cell_type": "markdown",
      "metadata": {
        "id": "b3e55f35"
      },
      "source": [
        "- 위도경도는 처리햇고\n",
        "- Key, Pickup_Datetime을 처리하도록 함"
      ],
      "id": "b3e55f35"
    },
    {
      "cell_type": "code",
      "metadata": {
        "id": "2528a1e8",
        "outputId": "b010e3e4-b548-46ef-8768-e4b3b093af64"
      },
      "source": [
        "train.iloc[:3, 2]"
      ],
      "id": "2528a1e8",
      "execution_count": null,
      "outputs": [
        {
          "data": {
            "text/plain": [
              "0   2012-04-21 04:30:42+00:00\n",
              "1   2012-01-04 17:22:00+00:00\n",
              "2   2012-12-24 11:24:00+00:00\n",
              "Name: pickup_datetime, dtype: datetime64[ns, UTC]"
            ]
          },
          "execution_count": 102,
          "metadata": {},
          "output_type": "execute_result"
        }
      ]
    },
    {
      "cell_type": "code",
      "metadata": {
        "id": "4d2e0896"
      },
      "source": [
        ""
      ],
      "id": "4d2e0896",
      "execution_count": null,
      "outputs": []
    }
  ]
}